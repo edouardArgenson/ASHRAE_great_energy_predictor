{
 "cells": [
  {
   "cell_type": "code",
   "execution_count": 90,
   "metadata": {},
   "outputs": [],
   "source": [
    "import numpy as np\n",
    "import pandas as pd\n",
    "from sklearn.feature_selection import SelectKBest\n",
    "\n",
    "from sklearn.base import BaseEstimator\n",
    "\n",
    "from sklearn.utils.validation import check_X_y, check_array, check_is_fitted, column_or_1d\n",
    "\n",
    "from tscv import GapKFold\n",
    "\n",
    "import matplotlib.pyplot as plt\n",
    "import matplotlib.ticker as ticker\n",
    "import matplotlib.pyplot as plt\n",
    "import matplotlib.dates as mdates\n",
    "import seaborn as sns\n",
    "\n",
    "from pandas.plotting import register_matplotlib_converters\n",
    "register_matplotlib_converters()\n",
    "\n",
    "%matplotlib inline"
   ]
  },
  {
   "cell_type": "markdown",
   "metadata": {},
   "source": [
    "The goal here is to build and evalutate simple models based on mean meter readings (per day of week, per hour)."
   ]
  },
  {
   "cell_type": "code",
   "execution_count": 19,
   "metadata": {},
   "outputs": [
    {
     "name": "stdout",
     "output_type": "stream",
     "text": [
      "<class 'pandas.core.frame.DataFrame'>\n",
      "DatetimeIndex: 26345 entries, 2016-01-01 00:00:00 to 2016-12-31 23:00:00\n",
      "Data columns (total 3 columns):\n",
      "building_id      26345 non-null int64\n",
      "meter            26345 non-null int64\n",
      "meter_reading    26345 non-null float64\n",
      "dtypes: float64(1), int64(2)\n",
      "memory usage: 823.3 KB\n"
     ]
    }
   ],
   "source": [
    "df_meters = pd.read_csv('../../data/intermediate/building_1176/train_and_building_meta_1176.csv',\n",
    "                        usecols=['timestamp', 'building_id', 'meter', 'meter_reading'],\n",
    "                        parse_dates=['timestamp'], index_col=['timestamp'])\n",
    "df_meters.info()"
   ]
  },
  {
   "cell_type": "code",
   "execution_count": 20,
   "metadata": {},
   "outputs": [
    {
     "data": {
      "text/html": [
       "<div>\n",
       "<style scoped>\n",
       "    .dataframe tbody tr th:only-of-type {\n",
       "        vertical-align: middle;\n",
       "    }\n",
       "\n",
       "    .dataframe tbody tr th {\n",
       "        vertical-align: top;\n",
       "    }\n",
       "\n",
       "    .dataframe thead th {\n",
       "        text-align: right;\n",
       "    }\n",
       "</style>\n",
       "<table border=\"1\" class=\"dataframe\">\n",
       "  <thead>\n",
       "    <tr style=\"text-align: right;\">\n",
       "      <th></th>\n",
       "      <th>building_id</th>\n",
       "      <th>meter</th>\n",
       "      <th>meter_reading</th>\n",
       "    </tr>\n",
       "    <tr>\n",
       "      <th>timestamp</th>\n",
       "      <th></th>\n",
       "      <th></th>\n",
       "      <th></th>\n",
       "    </tr>\n",
       "  </thead>\n",
       "  <tbody>\n",
       "    <tr>\n",
       "      <th>2016-01-01 00:00:00</th>\n",
       "      <td>1176</td>\n",
       "      <td>0</td>\n",
       "      <td>70.0620</td>\n",
       "    </tr>\n",
       "    <tr>\n",
       "      <th>2016-01-01 00:00:00</th>\n",
       "      <td>1176</td>\n",
       "      <td>1</td>\n",
       "      <td>13.6612</td>\n",
       "    </tr>\n",
       "    <tr>\n",
       "      <th>2016-01-01 00:00:00</th>\n",
       "      <td>1176</td>\n",
       "      <td>2</td>\n",
       "      <td>0.0000</td>\n",
       "    </tr>\n",
       "    <tr>\n",
       "      <th>2016-01-01 01:00:00</th>\n",
       "      <td>1176</td>\n",
       "      <td>0</td>\n",
       "      <td>70.0620</td>\n",
       "    </tr>\n",
       "    <tr>\n",
       "      <th>2016-01-01 01:00:00</th>\n",
       "      <td>1176</td>\n",
       "      <td>1</td>\n",
       "      <td>13.6612</td>\n",
       "    </tr>\n",
       "  </tbody>\n",
       "</table>\n",
       "</div>"
      ],
      "text/plain": [
       "                     building_id  meter  meter_reading\n",
       "timestamp                                             \n",
       "2016-01-01 00:00:00         1176      0        70.0620\n",
       "2016-01-01 00:00:00         1176      1        13.6612\n",
       "2016-01-01 00:00:00         1176      2         0.0000\n",
       "2016-01-01 01:00:00         1176      0        70.0620\n",
       "2016-01-01 01:00:00         1176      1        13.6612"
      ]
     },
     "execution_count": 20,
     "metadata": {},
     "output_type": "execute_result"
    }
   ],
   "source": [
    "df_meters.head()"
   ]
  },
  {
   "cell_type": "code",
   "execution_count": 21,
   "metadata": {},
   "outputs": [
    {
     "name": "stdout",
     "output_type": "stream",
     "text": [
      "building_id values : [1176]\n"
     ]
    },
    {
     "data": {
      "text/html": [
       "<div>\n",
       "<style scoped>\n",
       "    .dataframe tbody tr th:only-of-type {\n",
       "        vertical-align: middle;\n",
       "    }\n",
       "\n",
       "    .dataframe tbody tr th {\n",
       "        vertical-align: top;\n",
       "    }\n",
       "\n",
       "    .dataframe thead th {\n",
       "        text-align: right;\n",
       "    }\n",
       "</style>\n",
       "<table border=\"1\" class=\"dataframe\">\n",
       "  <thead>\n",
       "    <tr style=\"text-align: right;\">\n",
       "      <th></th>\n",
       "      <th>meter</th>\n",
       "      <th>meter_reading</th>\n",
       "    </tr>\n",
       "    <tr>\n",
       "      <th>timestamp</th>\n",
       "      <th></th>\n",
       "      <th></th>\n",
       "    </tr>\n",
       "  </thead>\n",
       "  <tbody>\n",
       "    <tr>\n",
       "      <th>2016-01-01 00:00:00</th>\n",
       "      <td>0</td>\n",
       "      <td>70.0620</td>\n",
       "    </tr>\n",
       "    <tr>\n",
       "      <th>2016-01-01 00:00:00</th>\n",
       "      <td>1</td>\n",
       "      <td>13.6612</td>\n",
       "    </tr>\n",
       "    <tr>\n",
       "      <th>2016-01-01 00:00:00</th>\n",
       "      <td>2</td>\n",
       "      <td>0.0000</td>\n",
       "    </tr>\n",
       "    <tr>\n",
       "      <th>2016-01-01 01:00:00</th>\n",
       "      <td>0</td>\n",
       "      <td>70.0620</td>\n",
       "    </tr>\n",
       "    <tr>\n",
       "      <th>2016-01-01 01:00:00</th>\n",
       "      <td>1</td>\n",
       "      <td>13.6612</td>\n",
       "    </tr>\n",
       "  </tbody>\n",
       "</table>\n",
       "</div>"
      ],
      "text/plain": [
       "                     meter  meter_reading\n",
       "timestamp                                \n",
       "2016-01-01 00:00:00      0        70.0620\n",
       "2016-01-01 00:00:00      1        13.6612\n",
       "2016-01-01 00:00:00      2         0.0000\n",
       "2016-01-01 01:00:00      0        70.0620\n",
       "2016-01-01 01:00:00      1        13.6612"
      ]
     },
     "execution_count": 21,
     "metadata": {},
     "output_type": "execute_result"
    }
   ],
   "source": [
    "# Check all building ids are 1176 then drop column 'building_id'\n",
    "print('building_id values : {}'.format(df_meters.building_id.unique()))\n",
    "df_meters.drop('building_id', axis=1, inplace=True)\n",
    "df_meters.head()"
   ]
  },
  {
   "cell_type": "code",
   "execution_count": 22,
   "metadata": {},
   "outputs": [
    {
     "data": {
      "text/html": [
       "<div>\n",
       "<style scoped>\n",
       "    .dataframe tbody tr th:only-of-type {\n",
       "        vertical-align: middle;\n",
       "    }\n",
       "\n",
       "    .dataframe tbody tr th {\n",
       "        vertical-align: top;\n",
       "    }\n",
       "\n",
       "    .dataframe thead th {\n",
       "        text-align: right;\n",
       "    }\n",
       "</style>\n",
       "<table border=\"1\" class=\"dataframe\">\n",
       "  <thead>\n",
       "    <tr style=\"text-align: right;\">\n",
       "      <th></th>\n",
       "      <th>meter_reading</th>\n",
       "    </tr>\n",
       "    <tr>\n",
       "      <th>timestamp</th>\n",
       "      <th></th>\n",
       "    </tr>\n",
       "  </thead>\n",
       "  <tbody>\n",
       "    <tr>\n",
       "      <th>2016-01-01 00:00:00</th>\n",
       "      <td>70.062</td>\n",
       "    </tr>\n",
       "    <tr>\n",
       "      <th>2016-01-01 01:00:00</th>\n",
       "      <td>70.062</td>\n",
       "    </tr>\n",
       "    <tr>\n",
       "      <th>2016-01-01 02:00:00</th>\n",
       "      <td>69.186</td>\n",
       "    </tr>\n",
       "    <tr>\n",
       "      <th>2016-01-01 03:00:00</th>\n",
       "      <td>68.678</td>\n",
       "    </tr>\n",
       "    <tr>\n",
       "      <th>2016-01-01 04:00:00</th>\n",
       "      <td>69.113</td>\n",
       "    </tr>\n",
       "  </tbody>\n",
       "</table>\n",
       "</div>"
      ],
      "text/plain": [
       "                     meter_reading\n",
       "timestamp                         \n",
       "2016-01-01 00:00:00         70.062\n",
       "2016-01-01 01:00:00         70.062\n",
       "2016-01-01 02:00:00         69.186\n",
       "2016-01-01 03:00:00         68.678\n",
       "2016-01-01 04:00:00         69.113"
      ]
     },
     "execution_count": 22,
     "metadata": {},
     "output_type": "execute_result"
    }
   ],
   "source": [
    "# keep only electricity meter\n",
    "\n",
    "df_meter = df_meters[df_meters['meter']==0][['meter_reading']]\n",
    "df_meter.head()"
   ]
  },
  {
   "cell_type": "code",
   "execution_count": 23,
   "metadata": {},
   "outputs": [
    {
     "data": {
      "text/plain": [
       "(8777, 1)"
      ]
     },
     "execution_count": 23,
     "metadata": {},
     "output_type": "execute_result"
    }
   ],
   "source": [
    "df_meter.shape"
   ]
  },
  {
   "cell_type": "markdown",
   "metadata": {},
   "source": [
    "An important and tricky point is how are we going to split the data between train and validation.<br>\n",
    "For time-serie data, usually we cannot do the usual random split, because of correlations.<br>\n",
    "Usually, some kind of walk-forward approach is used.<br>\n",
    "Here, we use hv-block cross validation : we keep a gap of unused data between train and validation, to avoid using correlated data between train and validation.<br>\n",
    "This method has been studied and described by Racine (2000) : http://citeseerx.ist.psu.edu/viewdoc/download?doi=10.1.1.30.6748&rep=rep1&type=pdf<br>\n",
    "We used an open-source implementation that extends scikit-learn : http://www.zhengwenjie.net/tscv/<br>\n",
    "See notebook 'test_tscv_lib.ipynb'"
   ]
  },
  {
   "cell_type": "code",
   "execution_count": null,
   "metadata": {},
   "outputs": [],
   "source": []
  },
  {
   "cell_type": "code",
   "execution_count": null,
   "metadata": {},
   "outputs": [],
   "source": []
  },
  {
   "cell_type": "markdown",
   "metadata": {},
   "source": [
    "Let's build a mean value estimator.\n",
    "\n",
    "From https://github.com/scikit-learn-contrib/project-template/blob/master/skltemplate/_template.py"
   ]
  },
  {
   "cell_type": "markdown",
   "metadata": {},
   "source": [
    "check_array and check_X_y\n",
    "\n",
    "https://github.com/scikit-learn/scikit-learn/blob/e5698bde9/sklearn/utils/validation.py#L904"
   ]
  },
  {
   "cell_type": "code",
   "execution_count": 24,
   "metadata": {},
   "outputs": [],
   "source": [
    "# Actually we don't need that because it already exists in sklearn, under the name 'dummyRegressor'\n",
    "# https://scikit-learn.org/stable/modules/generated/sklearn.dummy.DummyRegressor.html"
   ]
  },
  {
   "cell_type": "code",
   "execution_count": 25,
   "metadata": {},
   "outputs": [],
   "source": [
    "class MeanEstimator(BaseEstimator):\n",
    "    \"\"\" A template estimator to be used as a reference implementation.\n",
    "    For more information regarding how to build your own estimator, read more\n",
    "    in the :ref:`User Guide <user_guide>`.\n",
    "    Parameters\n",
    "    ----------\n",
    "    demo_param : str, default='demo_param'\n",
    "        A parameter used for demonstation of how to pass and store paramters.\n",
    "    \"\"\"\n",
    "    def __init__(self, demo_param='demo_param'):\n",
    "        self.demo_param = demo_param\n",
    "\n",
    "    def fit(self, X, y):\n",
    "        \"\"\"A reference implementation of a fitting function.\n",
    "        Parameters\n",
    "        ----------\n",
    "        X : {array-like, sparse matrix}, shape (n_samples, n_features)\n",
    "            The training input samples.\n",
    "        y : array-like, shape (n_samples,) or (n_samples, n_outputs)\n",
    "            The target values (class labels in classification, real numbers in\n",
    "            regression).\n",
    "        Returns\n",
    "        -------\n",
    "        self : object\n",
    "            Returns self.\n",
    "        \"\"\"\n",
    "        \n",
    "        X, y = check_X_y(X, y, accept_sparse=True)\n",
    "        \"\"\"Input validation for standard estimators.\n",
    "    Checks X and y for consistent length, enforces X to be 2D and y 1D. By\n",
    "    default, X is checked to be non-empty and containing only finite values.\n",
    "    Standard input checks are also applied to y, such as checking that y\n",
    "    does not have np.nan or np.inf targets. For multi-label y, set\n",
    "    multi_output=True to allow 2D and sparse y. If the dtype of X is\n",
    "    object, attempt converting to float, raising on failure.\n",
    "    \"\"\"\n",
    "        \n",
    "        \n",
    "        self.mean_value = y.mean()\n",
    "        \n",
    "        \n",
    "        self.is_fitted_ = True\n",
    "        # `fit` should always return `self`\n",
    "        return self\n",
    "\n",
    "    \n",
    "    \n",
    "    \n",
    "    def predict(self, X):\n",
    "        \"\"\" A reference implementation of a predicting function.\n",
    "        Parameters\n",
    "        ----------\n",
    "        X : {array-like, sparse matrix}, shape (n_samples, n_features)\n",
    "            The training input samples.\n",
    "        Returns\n",
    "        -------\n",
    "        y : ndarray, shape (n_samples,)\n",
    "            Returns an array of ones.\n",
    "        \"\"\"\n",
    "        \n",
    "        \n",
    "        X = check_array(X, accept_sparse=True)\n",
    "        \"\"\"Input validation on an array, list, sparse matrix or similar.\n",
    "    By default, the input is checked to be a non-empty 2D array containing\n",
    "    only finite values. If the dtype of the array is object, attempt\n",
    "    converting to float, raising on failure.\"\"\"\n",
    "        \n",
    "        check_is_fitted(self, 'is_fitted_')\n",
    "        \n",
    "        \n",
    "        return self.mean_value * np.ones(X.shape[0], dtype=np.int64)\n",
    "    \n",
    "    \n",
    "    \n",
    "    "
   ]
  },
  {
   "cell_type": "code",
   "execution_count": null,
   "metadata": {},
   "outputs": [],
   "source": []
  },
  {
   "cell_type": "code",
   "execution_count": 26,
   "metadata": {},
   "outputs": [
    {
     "ename": "NameError",
     "evalue": "name 'x_meter' is not defined",
     "output_type": "error",
     "traceback": [
      "\u001b[0;31m---------------------------------------------------------------------------\u001b[0m",
      "\u001b[0;31mNameError\u001b[0m                                 Traceback (most recent call last)",
      "\u001b[0;32m<ipython-input-26-3a82e713123b>\u001b[0m in \u001b[0;36m<module>\u001b[0;34m\u001b[0m\n\u001b[0;32m----> 1\u001b[0;31m \u001b[0mx_meter\u001b[0m\u001b[0;34m.\u001b[0m\u001b[0miloc\u001b[0m\u001b[0;34m[\u001b[0m\u001b[0;36m0\u001b[0m\u001b[0;34m]\u001b[0m\u001b[0;34m\u001b[0m\u001b[0;34m\u001b[0m\u001b[0m\n\u001b[0m",
      "\u001b[0;31mNameError\u001b[0m: name 'x_meter' is not defined"
     ]
    }
   ],
   "source": [
    "x_meter.iloc[0]"
   ]
  },
  {
   "cell_type": "code",
   "execution_count": null,
   "metadata": {},
   "outputs": [],
   "source": []
  },
  {
   "cell_type": "code",
   "execution_count": null,
   "metadata": {},
   "outputs": [],
   "source": [
    "y_meter.columns"
   ]
  },
  {
   "cell_type": "code",
   "execution_count": null,
   "metadata": {},
   "outputs": [],
   "source": []
  },
  {
   "cell_type": "code",
   "execution_count": null,
   "metadata": {},
   "outputs": [],
   "source": [
    "# Lets test our estimator\n",
    "\n",
    "mean_estimator = MeanEstimator()"
   ]
  },
  {
   "cell_type": "code",
   "execution_count": null,
   "metadata": {},
   "outputs": [],
   "source": [
    "x2 = np.array([[1],[2],[3]])"
   ]
  },
  {
   "cell_type": "code",
   "execution_count": null,
   "metadata": {},
   "outputs": [],
   "source": [
    "x2.shape"
   ]
  },
  {
   "cell_type": "code",
   "execution_count": null,
   "metadata": {},
   "outputs": [],
   "source": [
    "mean_estimator.fit(X=x2, y=[4,5,6])"
   ]
  },
  {
   "cell_type": "code",
   "execution_count": null,
   "metadata": {},
   "outputs": [],
   "source": []
  },
  {
   "cell_type": "code",
   "execution_count": null,
   "metadata": {},
   "outputs": [],
   "source": [
    "mean_estimator.fit(x_meter, y=y_meter['meter_reading'])"
   ]
  },
  {
   "cell_type": "code",
   "execution_count": null,
   "metadata": {},
   "outputs": [],
   "source": [
    "mean_estimator.predict([x_meter.iloc[0]])"
   ]
  },
  {
   "cell_type": "code",
   "execution_count": null,
   "metadata": {},
   "outputs": [],
   "source": []
  },
  {
   "cell_type": "code",
   "execution_count": 66,
   "metadata": {},
   "outputs": [
    {
     "data": {
      "text/plain": [
       "7751"
      ]
     },
     "execution_count": 66,
     "metadata": {},
     "output_type": "execute_result"
    }
   ],
   "source": [
    "y_meter['meter_reading'].shape[0]\n"
   ]
  },
  {
   "cell_type": "code",
   "execution_count": null,
   "metadata": {},
   "outputs": [],
   "source": []
  },
  {
   "cell_type": "code",
   "execution_count": 29,
   "metadata": {},
   "outputs": [],
   "source": [
    "from sklearn.dummy import DummyRegressor"
   ]
  },
  {
   "cell_type": "code",
   "execution_count": null,
   "metadata": {},
   "outputs": [],
   "source": []
  },
  {
   "cell_type": "code",
   "execution_count": 30,
   "metadata": {
    "scrolled": true
   },
   "outputs": [
    {
     "name": "stdout",
     "output_type": "stream",
     "text": [
      "<class 'pandas.core.frame.DataFrame'>\n",
      "DatetimeIndex: 7751 entries, 2016-01-04 02:00:00 to 2016-12-31 11:00:00\n",
      "Data columns (total 7 columns):\n",
      "day_of_week                     7751 non-null int64\n",
      "dew_temperature_ma_24H          7751 non-null float64\n",
      "air_temperature                 7751 non-null float64\n",
      "wind_speed_ma_24H               7751 non-null float64\n",
      "precip_depth_1_hr_ma_24H        7751 non-null float64\n",
      "sea_level_pressure_shift_10H    7751 non-null float64\n",
      "meter_reading_trend             7751 non-null float64\n",
      "dtypes: float64(6), int64(1)\n",
      "memory usage: 484.4 KB\n"
     ]
    }
   ],
   "source": [
    "df_features = pd.read_csv('../../data/intermediate/building_1176/features_clean_1176.csv',\n",
    "                        parse_dates=['timestamp'], index_col=['timestamp'])\n",
    "df_features.info()"
   ]
  },
  {
   "cell_type": "code",
   "execution_count": 31,
   "metadata": {},
   "outputs": [
    {
     "name": "stdout",
     "output_type": "stream",
     "text": [
      "<class 'pandas.core.frame.DataFrame'>\n",
      "DatetimeIndex: 7751 entries, 2016-01-04 02:00:00 to 2016-12-31 11:00:00\n",
      "Data columns (total 6 columns):\n",
      "day_of_week                     7751 non-null int64\n",
      "dew_temperature_ma_24H          7751 non-null float64\n",
      "air_temperature                 7751 non-null float64\n",
      "wind_speed_ma_24H               7751 non-null float64\n",
      "precip_depth_1_hr_ma_24H        7751 non-null float64\n",
      "sea_level_pressure_shift_10H    7751 non-null float64\n",
      "dtypes: float64(5), int64(1)\n",
      "memory usage: 423.9 KB\n"
     ]
    }
   ],
   "source": [
    "x_meter = df_features.drop('meter_reading_trend', axis=1, inplace=False)\n",
    "x_meter.info()"
   ]
  },
  {
   "cell_type": "code",
   "execution_count": 32,
   "metadata": {},
   "outputs": [
    {
     "data": {
      "text/plain": [
       "(8777, 1)"
      ]
     },
     "execution_count": 32,
     "metadata": {},
     "output_type": "execute_result"
    }
   ],
   "source": [
    "df_meter.shape"
   ]
  },
  {
   "cell_type": "code",
   "execution_count": 33,
   "metadata": {},
   "outputs": [
    {
     "name": "stdout",
     "output_type": "stream",
     "text": [
      "(7751, 1)\n",
      "n timestamps with no meter readings : meter_reading    0\n",
      "dtype: int64\n"
     ]
    }
   ],
   "source": [
    "# keep only meter_readings for timestamps in df_features index\n",
    "\n",
    "y_meter = df_meter.loc[df_features.index]\n",
    "print(y_meter.shape)\n",
    "\n",
    "# check that we have a meter reading for each of those timestamps\n",
    "print('n timestamps with no meter readings : {}'.format(y_meter.isna().sum()))"
   ]
  },
  {
   "cell_type": "code",
   "execution_count": 34,
   "metadata": {},
   "outputs": [
    {
     "data": {
      "text/html": [
       "<div>\n",
       "<style scoped>\n",
       "    .dataframe tbody tr th:only-of-type {\n",
       "        vertical-align: middle;\n",
       "    }\n",
       "\n",
       "    .dataframe tbody tr th {\n",
       "        vertical-align: top;\n",
       "    }\n",
       "\n",
       "    .dataframe thead th {\n",
       "        text-align: right;\n",
       "    }\n",
       "</style>\n",
       "<table border=\"1\" class=\"dataframe\">\n",
       "  <thead>\n",
       "    <tr style=\"text-align: right;\">\n",
       "      <th></th>\n",
       "      <th>meter_reading</th>\n",
       "    </tr>\n",
       "  </thead>\n",
       "  <tbody>\n",
       "    <tr>\n",
       "      <th>count</th>\n",
       "      <td>7751.000000</td>\n",
       "    </tr>\n",
       "    <tr>\n",
       "      <th>mean</th>\n",
       "      <td>112.440000</td>\n",
       "    </tr>\n",
       "    <tr>\n",
       "      <th>std</th>\n",
       "      <td>37.209764</td>\n",
       "    </tr>\n",
       "    <tr>\n",
       "      <th>min</th>\n",
       "      <td>34.855500</td>\n",
       "    </tr>\n",
       "    <tr>\n",
       "      <th>25%</th>\n",
       "      <td>79.405500</td>\n",
       "    </tr>\n",
       "    <tr>\n",
       "      <th>50%</th>\n",
       "      <td>102.886000</td>\n",
       "    </tr>\n",
       "    <tr>\n",
       "      <th>75%</th>\n",
       "      <td>141.533500</td>\n",
       "    </tr>\n",
       "    <tr>\n",
       "      <th>max</th>\n",
       "      <td>264.745000</td>\n",
       "    </tr>\n",
       "  </tbody>\n",
       "</table>\n",
       "</div>"
      ],
      "text/plain": [
       "       meter_reading\n",
       "count    7751.000000\n",
       "mean      112.440000\n",
       "std        37.209764\n",
       "min        34.855500\n",
       "25%        79.405500\n",
       "50%       102.886000\n",
       "75%       141.533500\n",
       "max       264.745000"
      ]
     },
     "execution_count": 34,
     "metadata": {},
     "output_type": "execute_result"
    }
   ],
   "source": [
    "y_meter.describe()"
   ]
  },
  {
   "cell_type": "code",
   "execution_count": 35,
   "metadata": {},
   "outputs": [
    {
     "data": {
      "text/plain": [
       "DummyRegressor(constant=None, quantile=None, strategy='mean')"
      ]
     },
     "execution_count": 35,
     "metadata": {},
     "output_type": "execute_result"
    }
   ],
   "source": [
    "dummy_regr = DummyRegressor(strategy=\"mean\")\n",
    "\n",
    "dummy_regr.fit(X=x_meter, y=y_meter)"
   ]
  },
  {
   "cell_type": "code",
   "execution_count": 36,
   "metadata": {},
   "outputs": [
    {
     "data": {
      "text/plain": [
       "DummyRegressor(constant=None, quantile=None, strategy='mean')"
      ]
     },
     "execution_count": 36,
     "metadata": {},
     "output_type": "execute_result"
    }
   ],
   "source": [
    "dummy_regr_2 = DummyRegressor(strategy=\"mean\")\n",
    "\n",
    "dummy_regr_2.fit(X=np.array([[1], [2]]), y=np.array([3,3.4]))"
   ]
  },
  {
   "cell_type": "code",
   "execution_count": 37,
   "metadata": {},
   "outputs": [
    {
     "data": {
      "text/plain": [
       "array([3.2])"
      ]
     },
     "execution_count": 37,
     "metadata": {},
     "output_type": "execute_result"
    }
   ],
   "source": [
    "dummy_regr_2.predict([3])"
   ]
  },
  {
   "cell_type": "code",
   "execution_count": null,
   "metadata": {},
   "outputs": [],
   "source": []
  },
  {
   "cell_type": "code",
   "execution_count": 38,
   "metadata": {},
   "outputs": [],
   "source": [
    "class MeanEstimator(BaseEstimator):\n",
    "    \"\"\" A template estimator to be used as a reference implementation.\n",
    "    For more information regarding how to build your own estimator, read more\n",
    "    in the :ref:`User Guide <user_guide>`.\n",
    "    Parameters\n",
    "    ----------\n",
    "    demo_param : str, default='demo_param'\n",
    "        A parameter used for demonstation of how to pass and store paramters.\n",
    "    \"\"\"\n",
    "    def __init__(self, demo_param='demo_param'):\n",
    "        self.demo_param = demo_param\n",
    "\n",
    "    def fit(self, X, y):\n",
    "        \"\"\"A reference implementation of a fitting function.\n",
    "        Parameters\n",
    "        ----------\n",
    "        X : {array-like, sparse matrix}, shape (n_samples, n_features)\n",
    "            The training input samples.\n",
    "        y : array-like, shape (n_samples,) or (n_samples, n_outputs)\n",
    "            The target values (class labels in classification, real numbers in\n",
    "            regression).\n",
    "        Returns\n",
    "        -------\n",
    "        self : object\n",
    "            Returns self.\n",
    "        \"\"\"\n",
    "        \n",
    "        X, y = check_X_y(X, y, accept_sparse=True)\n",
    "        \"\"\"Input validation for standard estimators.\n",
    "    Checks X and y for consistent length, enforces X to be 2D and y 1D. By\n",
    "    default, X is checked to be non-empty and containing only finite values.\n",
    "    Standard input checks are also applied to y, such as checking that y\n",
    "    does not have np.nan or np.inf targets. For multi-label y, set\n",
    "    multi_output=True to allow 2D and sparse y. If the dtype of X is\n",
    "    object, attempt converting to float, raising on failure.\n",
    "    \"\"\"\n",
    "        \n",
    "        \n",
    "        self.mean_value = y.mean()\n",
    "        \n",
    "        \n",
    "        self.is_fitted_ = True\n",
    "        # `fit` should always return `self`\n",
    "        return self\n",
    "\n",
    "    \n",
    "    \n",
    "    \n",
    "    def predict(self, X):\n",
    "        \"\"\" A reference implementation of a predicting function.\n",
    "        Parameters\n",
    "        ----------\n",
    "        X : {array-like, sparse matrix}, shape (n_samples, n_features)\n",
    "            The training input samples.\n",
    "        Returns\n",
    "        -------\n",
    "        y : ndarray, shape (n_samples,)\n",
    "            Returns an array of ones.\n",
    "        \"\"\"\n",
    "        \n",
    "        \n",
    "        X = check_array(X, accept_sparse=True)\n",
    "        \"\"\"Input validation on an array, list, sparse matrix or similar.\n",
    "    By default, the input is checked to be a non-empty 2D array containing\n",
    "    only finite values. If the dtype of the array is object, attempt\n",
    "    converting to float, raising on failure.\"\"\"\n",
    "        \n",
    "        check_is_fitted(self, 'is_fitted_')\n",
    "        \n",
    "        \n",
    "        return self.mean_value * np.ones(X.shape[0], dtype=np.int64)\n",
    "    \n",
    "    \n",
    "    \n",
    "    "
   ]
  },
  {
   "cell_type": "code",
   "execution_count": null,
   "metadata": {},
   "outputs": [],
   "source": []
  },
  {
   "cell_type": "code",
   "execution_count": 39,
   "metadata": {},
   "outputs": [
    {
     "data": {
      "text/plain": [
       "array([112.44000039])"
      ]
     },
     "execution_count": 39,
     "metadata": {},
     "output_type": "execute_result"
    }
   ],
   "source": [
    "dummy_regr.predict([1])"
   ]
  },
  {
   "cell_type": "code",
   "execution_count": 40,
   "metadata": {},
   "outputs": [],
   "source": [
    "from sklearn.model_selection import cross_val_score"
   ]
  },
  {
   "cell_type": "code",
   "execution_count": 41,
   "metadata": {},
   "outputs": [],
   "source": [
    "# GapKFold\n",
    "# gap ~ two weeks, train = 1 month (12 folds)\n",
    "\n",
    "gap = 24*7*2\n",
    "gap_kf = GapKFold(n_splits=12, gap_before=gap, gap_after=gap)"
   ]
  },
  {
   "cell_type": "code",
   "execution_count": 42,
   "metadata": {},
   "outputs": [
    {
     "data": {
      "text/plain": [
       "-0.10899875476610667"
      ]
     },
     "execution_count": 42,
     "metadata": {},
     "output_type": "execute_result"
    }
   ],
   "source": [
    "cross_val_score(\n",
    "    estimator=DummyRegressor(strategy=\"mean\"),\n",
    "    X=x_meter,\n",
    "    y=y_meter,\n",
    "    scoring='neg_mean_squared_log_error',\n",
    "    cv=gap_kf).mean()"
   ]
  },
  {
   "cell_type": "code",
   "execution_count": 43,
   "metadata": {},
   "outputs": [
    {
     "data": {
      "text/plain": [
       "-0.1073820404886998"
      ]
     },
     "execution_count": 43,
     "metadata": {},
     "output_type": "execute_result"
    }
   ],
   "source": [
    "cross_val_score(\n",
    "    estimator=DummyRegressor(strategy=\"median\"),\n",
    "    X=x_meter,\n",
    "    y=y_meter,\n",
    "    scoring='neg_mean_squared_log_error',\n",
    "    cv=gap_kf).mean()"
   ]
  },
  {
   "cell_type": "code",
   "execution_count": 44,
   "metadata": {},
   "outputs": [],
   "source": [
    "# note : this is not the RMSLE metric defined for the competition, it is not in sklearn, we must implement it."
   ]
  },
  {
   "cell_type": "code",
   "execution_count": null,
   "metadata": {},
   "outputs": [],
   "source": []
  },
  {
   "cell_type": "code",
   "execution_count": null,
   "metadata": {},
   "outputs": [],
   "source": []
  },
  {
   "cell_type": "code",
   "execution_count": null,
   "metadata": {},
   "outputs": [],
   "source": []
  },
  {
   "cell_type": "code",
   "execution_count": null,
   "metadata": {},
   "outputs": [],
   "source": []
  },
  {
   "cell_type": "code",
   "execution_count": null,
   "metadata": {},
   "outputs": [],
   "source": []
  },
  {
   "cell_type": "code",
   "execution_count": null,
   "metadata": {},
   "outputs": [],
   "source": []
  },
  {
   "cell_type": "code",
   "execution_count": null,
   "metadata": {},
   "outputs": [],
   "source": []
  },
  {
   "cell_type": "code",
   "execution_count": null,
   "metadata": {},
   "outputs": [],
   "source": []
  },
  {
   "cell_type": "code",
   "execution_count": 45,
   "metadata": {},
   "outputs": [],
   "source": [
    "# Now let's take the mean by hour"
   ]
  },
  {
   "cell_type": "code",
   "execution_count": null,
   "metadata": {},
   "outputs": [],
   "source": []
  },
  {
   "cell_type": "code",
   "execution_count": null,
   "metadata": {},
   "outputs": [],
   "source": []
  },
  {
   "cell_type": "code",
   "execution_count": null,
   "metadata": {},
   "outputs": [],
   "source": []
  },
  {
   "cell_type": "code",
   "execution_count": null,
   "metadata": {},
   "outputs": [],
   "source": []
  },
  {
   "cell_type": "code",
   "execution_count": 46,
   "metadata": {},
   "outputs": [
    {
     "data": {
      "text/html": [
       "<div>\n",
       "<style scoped>\n",
       "    .dataframe tbody tr th:only-of-type {\n",
       "        vertical-align: middle;\n",
       "    }\n",
       "\n",
       "    .dataframe tbody tr th {\n",
       "        vertical-align: top;\n",
       "    }\n",
       "\n",
       "    .dataframe thead th {\n",
       "        text-align: right;\n",
       "    }\n",
       "</style>\n",
       "<table border=\"1\" class=\"dataframe\">\n",
       "  <thead>\n",
       "    <tr style=\"text-align: right;\">\n",
       "      <th></th>\n",
       "      <th>day_of_week</th>\n",
       "      <th>dew_temperature_ma_24H</th>\n",
       "      <th>air_temperature</th>\n",
       "      <th>wind_speed_ma_24H</th>\n",
       "      <th>precip_depth_1_hr_ma_24H</th>\n",
       "      <th>sea_level_pressure_shift_10H</th>\n",
       "      <th>meter_reading_trend</th>\n",
       "    </tr>\n",
       "    <tr>\n",
       "      <th>timestamp</th>\n",
       "      <th></th>\n",
       "      <th></th>\n",
       "      <th></th>\n",
       "      <th></th>\n",
       "      <th></th>\n",
       "      <th></th>\n",
       "      <th></th>\n",
       "    </tr>\n",
       "  </thead>\n",
       "  <tbody>\n",
       "    <tr>\n",
       "      <th>2016-01-04 02:00:00</th>\n",
       "      <td>0</td>\n",
       "      <td>-7.483333</td>\n",
       "      <td>-5.0</td>\n",
       "      <td>5.166667</td>\n",
       "      <td>0.0</td>\n",
       "      <td>1027.2</td>\n",
       "      <td>89.470750</td>\n",
       "    </tr>\n",
       "    <tr>\n",
       "      <th>2016-01-04 03:00:00</th>\n",
       "      <td>0</td>\n",
       "      <td>-7.462500</td>\n",
       "      <td>-5.0</td>\n",
       "      <td>5.058333</td>\n",
       "      <td>0.0</td>\n",
       "      <td>1027.8</td>\n",
       "      <td>92.008917</td>\n",
       "    </tr>\n",
       "    <tr>\n",
       "      <th>2016-01-04 05:00:00</th>\n",
       "      <td>0</td>\n",
       "      <td>-7.512500</td>\n",
       "      <td>-6.1</td>\n",
       "      <td>4.800000</td>\n",
       "      <td>0.0</td>\n",
       "      <td>1027.1</td>\n",
       "      <td>97.074187</td>\n",
       "    </tr>\n",
       "    <tr>\n",
       "      <th>2016-01-04 06:00:00</th>\n",
       "      <td>0</td>\n",
       "      <td>-7.579167</td>\n",
       "      <td>-6.7</td>\n",
       "      <td>4.712500</td>\n",
       "      <td>0.0</td>\n",
       "      <td>1027.3</td>\n",
       "      <td>99.024417</td>\n",
       "    </tr>\n",
       "    <tr>\n",
       "      <th>2016-01-04 07:00:00</th>\n",
       "      <td>0</td>\n",
       "      <td>-7.670833</td>\n",
       "      <td>-7.2</td>\n",
       "      <td>4.541667</td>\n",
       "      <td>0.0</td>\n",
       "      <td>1027.5</td>\n",
       "      <td>100.466500</td>\n",
       "    </tr>\n",
       "  </tbody>\n",
       "</table>\n",
       "</div>"
      ],
      "text/plain": [
       "                     day_of_week  dew_temperature_ma_24H  air_temperature  \\\n",
       "timestamp                                                                   \n",
       "2016-01-04 02:00:00            0               -7.483333             -5.0   \n",
       "2016-01-04 03:00:00            0               -7.462500             -5.0   \n",
       "2016-01-04 05:00:00            0               -7.512500             -6.1   \n",
       "2016-01-04 06:00:00            0               -7.579167             -6.7   \n",
       "2016-01-04 07:00:00            0               -7.670833             -7.2   \n",
       "\n",
       "                     wind_speed_ma_24H  precip_depth_1_hr_ma_24H  \\\n",
       "timestamp                                                          \n",
       "2016-01-04 02:00:00           5.166667                       0.0   \n",
       "2016-01-04 03:00:00           5.058333                       0.0   \n",
       "2016-01-04 05:00:00           4.800000                       0.0   \n",
       "2016-01-04 06:00:00           4.712500                       0.0   \n",
       "2016-01-04 07:00:00           4.541667                       0.0   \n",
       "\n",
       "                     sea_level_pressure_shift_10H  meter_reading_trend  \n",
       "timestamp                                                               \n",
       "2016-01-04 02:00:00                        1027.2            89.470750  \n",
       "2016-01-04 03:00:00                        1027.8            92.008917  \n",
       "2016-01-04 05:00:00                        1027.1            97.074187  \n",
       "2016-01-04 06:00:00                        1027.3            99.024417  \n",
       "2016-01-04 07:00:00                        1027.5           100.466500  "
      ]
     },
     "execution_count": 46,
     "metadata": {},
     "output_type": "execute_result"
    }
   ],
   "source": [
    "df_features.head()"
   ]
  },
  {
   "cell_type": "code",
   "execution_count": null,
   "metadata": {},
   "outputs": [],
   "source": []
  },
  {
   "cell_type": "code",
   "execution_count": null,
   "metadata": {},
   "outputs": [],
   "source": []
  },
  {
   "cell_type": "code",
   "execution_count": 47,
   "metadata": {},
   "outputs": [
    {
     "data": {
      "text/html": [
       "<div>\n",
       "<style scoped>\n",
       "    .dataframe tbody tr th:only-of-type {\n",
       "        vertical-align: middle;\n",
       "    }\n",
       "\n",
       "    .dataframe tbody tr th {\n",
       "        vertical-align: top;\n",
       "    }\n",
       "\n",
       "    .dataframe thead th {\n",
       "        text-align: right;\n",
       "    }\n",
       "</style>\n",
       "<table border=\"1\" class=\"dataframe\">\n",
       "  <thead>\n",
       "    <tr style=\"text-align: right;\">\n",
       "      <th></th>\n",
       "      <th>day_hour</th>\n",
       "    </tr>\n",
       "    <tr>\n",
       "      <th>timestamp</th>\n",
       "      <th></th>\n",
       "    </tr>\n",
       "  </thead>\n",
       "  <tbody>\n",
       "    <tr>\n",
       "      <th>2016-01-04 02:00:00</th>\n",
       "      <td>2</td>\n",
       "    </tr>\n",
       "    <tr>\n",
       "      <th>2016-01-04 03:00:00</th>\n",
       "      <td>3</td>\n",
       "    </tr>\n",
       "    <tr>\n",
       "      <th>2016-01-04 05:00:00</th>\n",
       "      <td>5</td>\n",
       "    </tr>\n",
       "    <tr>\n",
       "      <th>2016-01-04 06:00:00</th>\n",
       "      <td>6</td>\n",
       "    </tr>\n",
       "    <tr>\n",
       "      <th>2016-01-04 07:00:00</th>\n",
       "      <td>7</td>\n",
       "    </tr>\n",
       "  </tbody>\n",
       "</table>\n",
       "</div>"
      ],
      "text/plain": [
       "                     day_hour\n",
       "timestamp                    \n",
       "2016-01-04 02:00:00         2\n",
       "2016-01-04 03:00:00         3\n",
       "2016-01-04 05:00:00         5\n",
       "2016-01-04 06:00:00         6\n",
       "2016-01-04 07:00:00         7"
      ]
     },
     "execution_count": 47,
     "metadata": {},
     "output_type": "execute_result"
    }
   ],
   "source": [
    "df_hours = pd.DataFrame(index=df_features.index)\n",
    "df_hours['day_hour'] = df_hours.index.to_series().dt.hour\n",
    "df_hours.head()"
   ]
  },
  {
   "cell_type": "code",
   "execution_count": null,
   "metadata": {},
   "outputs": [],
   "source": []
  },
  {
   "cell_type": "code",
   "execution_count": 48,
   "metadata": {},
   "outputs": [
    {
     "data": {
      "text/plain": [
       "DatetimeIndex(['2016-01-04 02:00:00', '2016-01-04 03:00:00',\n",
       "               '2016-01-04 05:00:00', '2016-01-04 06:00:00',\n",
       "               '2016-01-04 07:00:00', '2016-01-04 08:00:00',\n",
       "               '2016-01-04 10:00:00', '2016-01-04 11:00:00',\n",
       "               '2016-01-04 12:00:00', '2016-01-04 13:00:00',\n",
       "               ...\n",
       "               '2016-12-31 01:00:00', '2016-12-31 02:00:00',\n",
       "               '2016-12-31 04:00:00', '2016-12-31 05:00:00',\n",
       "               '2016-12-31 06:00:00', '2016-12-31 07:00:00',\n",
       "               '2016-12-31 08:00:00', '2016-12-31 09:00:00',\n",
       "               '2016-12-31 10:00:00', '2016-12-31 11:00:00'],\n",
       "              dtype='datetime64[ns]', name='timestamp', length=7751, freq=None)"
      ]
     },
     "execution_count": 48,
     "metadata": {},
     "output_type": "execute_result"
    }
   ],
   "source": [
    "df_hours.index"
   ]
  },
  {
   "cell_type": "code",
   "execution_count": null,
   "metadata": {},
   "outputs": [],
   "source": []
  },
  {
   "cell_type": "code",
   "execution_count": 49,
   "metadata": {},
   "outputs": [
    {
     "data": {
      "text/html": [
       "<div>\n",
       "<style scoped>\n",
       "    .dataframe tbody tr th:only-of-type {\n",
       "        vertical-align: middle;\n",
       "    }\n",
       "\n",
       "    .dataframe tbody tr th {\n",
       "        vertical-align: top;\n",
       "    }\n",
       "\n",
       "    .dataframe thead th {\n",
       "        text-align: right;\n",
       "    }\n",
       "</style>\n",
       "<table border=\"1\" class=\"dataframe\">\n",
       "  <thead>\n",
       "    <tr style=\"text-align: right;\">\n",
       "      <th></th>\n",
       "      <th>day_hour</th>\n",
       "    </tr>\n",
       "    <tr>\n",
       "      <th>timestamp</th>\n",
       "      <th></th>\n",
       "    </tr>\n",
       "  </thead>\n",
       "  <tbody>\n",
       "    <tr>\n",
       "      <th>2016-01-04 02:00:00</th>\n",
       "      <td>2</td>\n",
       "    </tr>\n",
       "    <tr>\n",
       "      <th>2016-01-04 03:00:00</th>\n",
       "      <td>3</td>\n",
       "    </tr>\n",
       "    <tr>\n",
       "      <th>2016-01-04 05:00:00</th>\n",
       "      <td>5</td>\n",
       "    </tr>\n",
       "    <tr>\n",
       "      <th>2016-01-04 06:00:00</th>\n",
       "      <td>6</td>\n",
       "    </tr>\n",
       "    <tr>\n",
       "      <th>2016-01-04 07:00:00</th>\n",
       "      <td>7</td>\n",
       "    </tr>\n",
       "  </tbody>\n",
       "</table>\n",
       "</div>"
      ],
      "text/plain": [
       "                     day_hour\n",
       "timestamp                    \n",
       "2016-01-04 02:00:00         2\n",
       "2016-01-04 03:00:00         3\n",
       "2016-01-04 05:00:00         5\n",
       "2016-01-04 06:00:00         6\n",
       "2016-01-04 07:00:00         7"
      ]
     },
     "execution_count": 49,
     "metadata": {},
     "output_type": "execute_result"
    }
   ],
   "source": [
    "df_hours.head()"
   ]
  },
  {
   "cell_type": "code",
   "execution_count": 50,
   "metadata": {},
   "outputs": [
    {
     "data": {
      "text/plain": [
       "timestamp\n",
       "2016-01-04 02:00:00    2\n",
       "2016-01-04 03:00:00    3\n",
       "2016-01-04 05:00:00    5\n",
       "2016-01-04 06:00:00    6\n",
       "2016-01-04 07:00:00    7\n",
       "Name: day_hour, dtype: int64"
      ]
     },
     "execution_count": 50,
     "metadata": {},
     "output_type": "execute_result"
    }
   ],
   "source": [
    "df_hours.iloc[:,0].head()"
   ]
  },
  {
   "cell_type": "code",
   "execution_count": null,
   "metadata": {},
   "outputs": [],
   "source": []
  },
  {
   "cell_type": "code",
   "execution_count": null,
   "metadata": {},
   "outputs": [],
   "source": []
  },
  {
   "cell_type": "code",
   "execution_count": 51,
   "metadata": {},
   "outputs": [
    {
     "data": {
      "text/plain": [
       "(2, 1)"
      ]
     },
     "execution_count": 51,
     "metadata": {},
     "output_type": "execute_result"
    }
   ],
   "source": [
    "np.array([[1],[2]]).shape"
   ]
  },
  {
   "cell_type": "code",
   "execution_count": 52,
   "metadata": {},
   "outputs": [
    {
     "data": {
      "text/plain": [
       "1.5"
      ]
     },
     "execution_count": 52,
     "metadata": {},
     "output_type": "execute_result"
    }
   ],
   "source": [
    "np.array([[1],[2]]).mean()"
   ]
  },
  {
   "cell_type": "code",
   "execution_count": null,
   "metadata": {},
   "outputs": [],
   "source": []
  },
  {
   "cell_type": "code",
   "execution_count": null,
   "metadata": {},
   "outputs": [],
   "source": []
  },
  {
   "cell_type": "code",
   "execution_count": null,
   "metadata": {},
   "outputs": [],
   "source": []
  },
  {
   "cell_type": "code",
   "execution_count": 53,
   "metadata": {},
   "outputs": [],
   "source": [
    "a=df_hours.iloc[:,0].to_numpy()"
   ]
  },
  {
   "cell_type": "code",
   "execution_count": 54,
   "metadata": {},
   "outputs": [
    {
     "data": {
      "text/plain": [
       "(7751,)"
      ]
     },
     "execution_count": 54,
     "metadata": {},
     "output_type": "execute_result"
    }
   ],
   "source": [
    "a.shape"
   ]
  },
  {
   "cell_type": "code",
   "execution_count": 55,
   "metadata": {},
   "outputs": [
    {
     "data": {
      "text/plain": [
       "array([ 2,  3,  5, ...,  9, 10, 11])"
      ]
     },
     "execution_count": 55,
     "metadata": {},
     "output_type": "execute_result"
    }
   ],
   "source": [
    "a"
   ]
  },
  {
   "cell_type": "code",
   "execution_count": null,
   "metadata": {},
   "outputs": [],
   "source": []
  },
  {
   "cell_type": "code",
   "execution_count": 56,
   "metadata": {},
   "outputs": [
    {
     "data": {
      "text/html": [
       "<div>\n",
       "<style scoped>\n",
       "    .dataframe tbody tr th:only-of-type {\n",
       "        vertical-align: middle;\n",
       "    }\n",
       "\n",
       "    .dataframe tbody tr th {\n",
       "        vertical-align: top;\n",
       "    }\n",
       "\n",
       "    .dataframe thead th {\n",
       "        text-align: right;\n",
       "    }\n",
       "</style>\n",
       "<table border=\"1\" class=\"dataframe\">\n",
       "  <thead>\n",
       "    <tr style=\"text-align: right;\">\n",
       "      <th></th>\n",
       "      <th>timestamp</th>\n",
       "      <th>day_hour</th>\n",
       "    </tr>\n",
       "  </thead>\n",
       "  <tbody>\n",
       "    <tr>\n",
       "      <th>0</th>\n",
       "      <td>2016-01-04 02:00:00</td>\n",
       "      <td>2</td>\n",
       "    </tr>\n",
       "    <tr>\n",
       "      <th>1</th>\n",
       "      <td>2016-01-04 03:00:00</td>\n",
       "      <td>3</td>\n",
       "    </tr>\n",
       "    <tr>\n",
       "      <th>2</th>\n",
       "      <td>2016-01-04 05:00:00</td>\n",
       "      <td>5</td>\n",
       "    </tr>\n",
       "    <tr>\n",
       "      <th>3</th>\n",
       "      <td>2016-01-04 06:00:00</td>\n",
       "      <td>6</td>\n",
       "    </tr>\n",
       "    <tr>\n",
       "      <th>4</th>\n",
       "      <td>2016-01-04 07:00:00</td>\n",
       "      <td>7</td>\n",
       "    </tr>\n",
       "  </tbody>\n",
       "</table>\n",
       "</div>"
      ],
      "text/plain": [
       "            timestamp  day_hour\n",
       "0 2016-01-04 02:00:00         2\n",
       "1 2016-01-04 03:00:00         3\n",
       "2 2016-01-04 05:00:00         5\n",
       "3 2016-01-04 06:00:00         6\n",
       "4 2016-01-04 07:00:00         7"
      ]
     },
     "execution_count": 56,
     "metadata": {},
     "output_type": "execute_result"
    }
   ],
   "source": [
    "b = df_hours.reset_index(inplace=False)\n",
    "b.head()"
   ]
  },
  {
   "cell_type": "code",
   "execution_count": 57,
   "metadata": {},
   "outputs": [
    {
     "data": {
      "text/plain": [
       "array([[Timestamp('2016-01-04 02:00:00'), 2],\n",
       "       [Timestamp('2016-01-04 03:00:00'), 3],\n",
       "       [Timestamp('2016-01-04 05:00:00'), 5],\n",
       "       ...,\n",
       "       [Timestamp('2016-12-31 09:00:00'), 9],\n",
       "       [Timestamp('2016-12-31 10:00:00'), 10],\n",
       "       [Timestamp('2016-12-31 11:00:00'), 11]], dtype=object)"
      ]
     },
     "execution_count": 57,
     "metadata": {},
     "output_type": "execute_result"
    }
   ],
   "source": [
    "b.to_numpy()"
   ]
  },
  {
   "cell_type": "code",
   "execution_count": 58,
   "metadata": {},
   "outputs": [
    {
     "ename": "AttributeError",
     "evalue": "'numpy.ndarray' object has no attribute 'shap'",
     "output_type": "error",
     "traceback": [
      "\u001b[0;31m---------------------------------------------------------------------------\u001b[0m",
      "\u001b[0;31mAttributeError\u001b[0m                            Traceback (most recent call last)",
      "\u001b[0;32m<ipython-input-58-b19482cd3c1c>\u001b[0m in \u001b[0;36m<module>\u001b[0;34m\u001b[0m\n\u001b[0;32m----> 1\u001b[0;31m \u001b[0mb\u001b[0m\u001b[0;34m.\u001b[0m\u001b[0mto_numpy\u001b[0m\u001b[0;34m(\u001b[0m\u001b[0;34m)\u001b[0m\u001b[0;34m.\u001b[0m\u001b[0mshap\u001b[0m\u001b[0;34m\u001b[0m\u001b[0;34m\u001b[0m\u001b[0m\n\u001b[0m",
      "\u001b[0;31mAttributeError\u001b[0m: 'numpy.ndarray' object has no attribute 'shap'"
     ]
    }
   ],
   "source": [
    "b.to_numpy().shap"
   ]
  },
  {
   "cell_type": "code",
   "execution_count": 59,
   "metadata": {},
   "outputs": [
    {
     "data": {
      "text/plain": [
       "array([Timestamp('2016-01-04 02:00:00'), 2], dtype=object)"
      ]
     },
     "execution_count": 59,
     "metadata": {},
     "output_type": "execute_result"
    }
   ],
   "source": [
    "b.to_numpy()[0,:]"
   ]
  },
  {
   "cell_type": "code",
   "execution_count": null,
   "metadata": {},
   "outputs": [],
   "source": []
  },
  {
   "cell_type": "code",
   "execution_count": 60,
   "metadata": {},
   "outputs": [
    {
     "data": {
      "text/plain": [
       "(7751,)"
      ]
     },
     "execution_count": 60,
     "metadata": {},
     "output_type": "execute_result"
    }
   ],
   "source": [
    "a.shape"
   ]
  },
  {
   "cell_type": "code",
   "execution_count": 61,
   "metadata": {},
   "outputs": [
    {
     "data": {
      "text/plain": [
       "(7751, 1)"
      ]
     },
     "execution_count": 61,
     "metadata": {},
     "output_type": "execute_result"
    }
   ],
   "source": [
    "x3 = np.reshape(a, (-1,1))\n",
    "x3.shape"
   ]
  },
  {
   "cell_type": "code",
   "execution_count": 69,
   "metadata": {},
   "outputs": [
    {
     "data": {
      "text/plain": [
       "3"
      ]
     },
     "execution_count": 69,
     "metadata": {},
     "output_type": "execute_result"
    }
   ],
   "source": [
    "np.unique(x3)"
   ]
  },
  {
   "cell_type": "code",
   "execution_count": null,
   "metadata": {},
   "outputs": [],
   "source": []
  },
  {
   "cell_type": "code",
   "execution_count": 105,
   "metadata": {},
   "outputs": [
    {
     "data": {
      "text/plain": [
       "array([Timestamp('2016-01-08 17:00:00'), 4, -1.025], dtype=object)"
      ]
     },
     "execution_count": 105,
     "metadata": {},
     "output_type": "execute_result"
    }
   ],
   "source": [
    "x_meter.reset_index(inplace=False).to_numpy()[100,0:3]"
   ]
  },
  {
   "cell_type": "code",
   "execution_count": 109,
   "metadata": {},
   "outputs": [
    {
     "data": {
      "text/plain": [
       "(7751, 1)"
      ]
     },
     "execution_count": 109,
     "metadata": {},
     "output_type": "execute_result"
    }
   ],
   "source": [
    "x3.shape"
   ]
  },
  {
   "cell_type": "code",
   "execution_count": null,
   "metadata": {},
   "outputs": [],
   "source": []
  },
  {
   "cell_type": "code",
   "execution_count": null,
   "metadata": {},
   "outputs": [],
   "source": []
  },
  {
   "cell_type": "code",
   "execution_count": 161,
   "metadata": {},
   "outputs": [],
   "source": [
    "class MeanByCatEstimator(BaseEstimator):\n",
    "    \"\"\" A template estimator to be used as a reference implementation.\n",
    "    For more information regarding how to build your own estimator, read more\n",
    "    in the :ref:`User Guide <user_guide>`.\n",
    "    Parameters\n",
    "    ----------\n",
    "    demo_param : str, default='demo_param'\n",
    "        A parameter used for demonstation of how to pass and store paramters.\n",
    "    \"\"\"\n",
    "    def __init__(self, cat_column_idx=0, demo_param='demo_param'):\n",
    "        self.demo_param = demo_param\n",
    "        self.cat_column_idx= cat_column_idx\n",
    "\n",
    "    def fit(self, X, y):\n",
    "        \"\"\"A reference implementation of a fitting function.\n",
    "        Parameters\n",
    "        ----------\n",
    "        X : {array-like, sparse matrix}, shape (n_samples, n_features)\n",
    "            The training input samples.\n",
    "        y : array-like, shape (n_samples,) or (n_samples, n_outputs)\n",
    "            The target values (class labels in classification, real numbers in\n",
    "            regression).\n",
    "        Returns\n",
    "        -------\n",
    "        self : object\n",
    "            Returns self.\n",
    "        \"\"\"\n",
    "        \n",
    "        X, y = check_X_y(X, y, accept_sparse=True)\n",
    "        \"\"\"Input validation for standard estimators.\n",
    "    Checks X and y for consistent length, enforces X to be 2D and y 1D. By\n",
    "    default, X is checked to be non-empty and containing only finite values.\n",
    "    Standard input checks are also applied to y, such as checking that y\n",
    "    does not have np.nan or np.inf targets. For multi-label y, set\n",
    "    multi_output=True to allow 2D and sparse y. If the dtype of X is\n",
    "    object, attempt converting to float, raising on failure.\n",
    "    \"\"\"\n",
    "        \n",
    "        if(self.cat_column_idx >= X.shape[1]):\n",
    "             raise ValueError(\"category column index should be < X.shape[1]\")\n",
    "        \n",
    "        categories = {}\n",
    "        self.means = {}\n",
    "        \n",
    "        self.mean = y.mean()\n",
    "        \n",
    "        for x_bin in np.unique(X[:, self.cat_column_idx]):\n",
    "            categories[x_bin] = []\n",
    "            \n",
    "        print('categories : {}'.format(categories.keys()))\n",
    "            \n",
    "        for k in range(X.shape[0]):\n",
    "            categories[X[k, self.cat_column_idx]].append(y[k])\n",
    "        \n",
    "        for k, v in categories.items():\n",
    "            self.means[k] = np.array(v).mean()\n",
    "        \n",
    "        self.is_fitted_ = True\n",
    "        # `fit` should always return `self`\n",
    "        \n",
    "        \n",
    "        for k, v in self.means.items():\n",
    "            print('({}, {})'.format(k, v))\n",
    "        \n",
    "        \n",
    "        return self\n",
    "\n",
    "    \n",
    "    \n",
    "    \n",
    "    def predict(self, X):\n",
    "        \"\"\" A reference implementation of a predicting function.\n",
    "        Parameters\n",
    "        ----------\n",
    "        X : {array-like, sparse matrix}, shape (n_samples, n_features)\n",
    "            The training input samples.\n",
    "        Returns\n",
    "        -------\n",
    "        y : ndarray, shape (n_samples,)\n",
    "            Returns an array of ones.\n",
    "        \"\"\"\n",
    "        \n",
    "        \n",
    "        X = check_array(X, accept_sparse=True)\n",
    "        \"\"\"Input validation on an array, list, sparse matrix or similar.\n",
    "    By default, the input is checked to be a non-empty 2D array containing\n",
    "    only finite values. If the dtype of the array is object, attempt\n",
    "    converting to float, raising on failure.\"\"\"\n",
    "        \n",
    "        check_is_fitted(self, 'is_fitted_')\n",
    "        \n",
    "        predictions = []\n",
    "        \n",
    "        for sample_cat in X[:, self.cat_column_idx]:\n",
    "            cat_mean = self.means.get(sample_cat)\n",
    "            if(cat_mean == None):\n",
    "                predictions.append(self.mean)\n",
    "            else:\n",
    "                predictions.append(cat_mean)\n",
    "            \n",
    "        \n",
    "        \n",
    "        return np.array(predictions)\n",
    "    \n",
    "    \n",
    "    \n",
    "    "
   ]
  },
  {
   "cell_type": "code",
   "execution_count": null,
   "metadata": {},
   "outputs": [],
   "source": []
  },
  {
   "cell_type": "code",
   "execution_count": 162,
   "metadata": {},
   "outputs": [
    {
     "data": {
      "text/plain": [
       "(7751,)"
      ]
     },
     "execution_count": 162,
     "metadata": {},
     "output_type": "execute_result"
    }
   ],
   "source": [
    "x_meter.index.shape"
   ]
  },
  {
   "cell_type": "code",
   "execution_count": 163,
   "metadata": {},
   "outputs": [
    {
     "data": {
      "text/plain": [
       "(7751, 1)"
      ]
     },
     "execution_count": 163,
     "metadata": {},
     "output_type": "execute_result"
    }
   ],
   "source": [
    "y_meter.shape"
   ]
  },
  {
   "cell_type": "code",
   "execution_count": 164,
   "metadata": {},
   "outputs": [
    {
     "data": {
      "text/plain": [
       "(7751, 1)"
      ]
     },
     "execution_count": 164,
     "metadata": {},
     "output_type": "execute_result"
    }
   ],
   "source": [
    "x3.shape"
   ]
  },
  {
   "cell_type": "code",
   "execution_count": null,
   "metadata": {},
   "outputs": [],
   "source": []
  },
  {
   "cell_type": "code",
   "execution_count": null,
   "metadata": {},
   "outputs": [],
   "source": []
  },
  {
   "cell_type": "code",
   "execution_count": 165,
   "metadata": {},
   "outputs": [
    {
     "data": {
      "text/html": [
       "<div>\n",
       "<style scoped>\n",
       "    .dataframe tbody tr th:only-of-type {\n",
       "        vertical-align: middle;\n",
       "    }\n",
       "\n",
       "    .dataframe tbody tr th {\n",
       "        vertical-align: top;\n",
       "    }\n",
       "\n",
       "    .dataframe thead th {\n",
       "        text-align: right;\n",
       "    }\n",
       "</style>\n",
       "<table border=\"1\" class=\"dataframe\">\n",
       "  <thead>\n",
       "    <tr style=\"text-align: right;\">\n",
       "      <th></th>\n",
       "      <th>day_of_week</th>\n",
       "      <th>dew_temperature_ma_24H</th>\n",
       "      <th>air_temperature</th>\n",
       "      <th>wind_speed_ma_24H</th>\n",
       "      <th>precip_depth_1_hr_ma_24H</th>\n",
       "      <th>sea_level_pressure_shift_10H</th>\n",
       "      <th>h</th>\n",
       "    </tr>\n",
       "    <tr>\n",
       "      <th>timestamp</th>\n",
       "      <th></th>\n",
       "      <th></th>\n",
       "      <th></th>\n",
       "      <th></th>\n",
       "      <th></th>\n",
       "      <th></th>\n",
       "      <th></th>\n",
       "    </tr>\n",
       "  </thead>\n",
       "  <tbody>\n",
       "    <tr>\n",
       "      <th>2016-01-04 02:00:00</th>\n",
       "      <td>0</td>\n",
       "      <td>-7.483333</td>\n",
       "      <td>-5.0</td>\n",
       "      <td>5.166667</td>\n",
       "      <td>0.0</td>\n",
       "      <td>1027.2</td>\n",
       "      <td>2</td>\n",
       "    </tr>\n",
       "    <tr>\n",
       "      <th>2016-01-04 03:00:00</th>\n",
       "      <td>0</td>\n",
       "      <td>-7.462500</td>\n",
       "      <td>-5.0</td>\n",
       "      <td>5.058333</td>\n",
       "      <td>0.0</td>\n",
       "      <td>1027.8</td>\n",
       "      <td>3</td>\n",
       "    </tr>\n",
       "    <tr>\n",
       "      <th>2016-01-04 05:00:00</th>\n",
       "      <td>0</td>\n",
       "      <td>-7.512500</td>\n",
       "      <td>-6.1</td>\n",
       "      <td>4.800000</td>\n",
       "      <td>0.0</td>\n",
       "      <td>1027.1</td>\n",
       "      <td>5</td>\n",
       "    </tr>\n",
       "    <tr>\n",
       "      <th>2016-01-04 06:00:00</th>\n",
       "      <td>0</td>\n",
       "      <td>-7.579167</td>\n",
       "      <td>-6.7</td>\n",
       "      <td>4.712500</td>\n",
       "      <td>0.0</td>\n",
       "      <td>1027.3</td>\n",
       "      <td>6</td>\n",
       "    </tr>\n",
       "    <tr>\n",
       "      <th>2016-01-04 07:00:00</th>\n",
       "      <td>0</td>\n",
       "      <td>-7.670833</td>\n",
       "      <td>-7.2</td>\n",
       "      <td>4.541667</td>\n",
       "      <td>0.0</td>\n",
       "      <td>1027.5</td>\n",
       "      <td>7</td>\n",
       "    </tr>\n",
       "  </tbody>\n",
       "</table>\n",
       "</div>"
      ],
      "text/plain": [
       "                     day_of_week  dew_temperature_ma_24H  air_temperature  \\\n",
       "timestamp                                                                   \n",
       "2016-01-04 02:00:00            0               -7.483333             -5.0   \n",
       "2016-01-04 03:00:00            0               -7.462500             -5.0   \n",
       "2016-01-04 05:00:00            0               -7.512500             -6.1   \n",
       "2016-01-04 06:00:00            0               -7.579167             -6.7   \n",
       "2016-01-04 07:00:00            0               -7.670833             -7.2   \n",
       "\n",
       "                     wind_speed_ma_24H  precip_depth_1_hr_ma_24H  \\\n",
       "timestamp                                                          \n",
       "2016-01-04 02:00:00           5.166667                       0.0   \n",
       "2016-01-04 03:00:00           5.058333                       0.0   \n",
       "2016-01-04 05:00:00           4.800000                       0.0   \n",
       "2016-01-04 06:00:00           4.712500                       0.0   \n",
       "2016-01-04 07:00:00           4.541667                       0.0   \n",
       "\n",
       "                     sea_level_pressure_shift_10H  h  \n",
       "timestamp                                             \n",
       "2016-01-04 02:00:00                        1027.2  2  \n",
       "2016-01-04 03:00:00                        1027.8  3  \n",
       "2016-01-04 05:00:00                        1027.1  5  \n",
       "2016-01-04 06:00:00                        1027.3  6  \n",
       "2016-01-04 07:00:00                        1027.5  7  "
      ]
     },
     "execution_count": 165,
     "metadata": {},
     "output_type": "execute_result"
    }
   ],
   "source": [
    "x_with_hours = x_meter.copy()\n",
    "x_with_hours['h'] = x3\n",
    "x_with_hours.head()"
   ]
  },
  {
   "cell_type": "code",
   "execution_count": null,
   "metadata": {},
   "outputs": [],
   "source": []
  },
  {
   "cell_type": "code",
   "execution_count": 166,
   "metadata": {},
   "outputs": [],
   "source": [
    "myEst = MeanByCatEstimator(cat_column_idx=6)"
   ]
  },
  {
   "cell_type": "code",
   "execution_count": 167,
   "metadata": {},
   "outputs": [
    {
     "data": {
      "text/plain": [
       "(7751, 7)"
      ]
     },
     "execution_count": 167,
     "metadata": {},
     "output_type": "execute_result"
    }
   ],
   "source": [
    "x_with_hours.to_numpy().shape"
   ]
  },
  {
   "cell_type": "code",
   "execution_count": null,
   "metadata": {},
   "outputs": [],
   "source": []
  },
  {
   "cell_type": "code",
   "execution_count": null,
   "metadata": {},
   "outputs": [],
   "source": []
  },
  {
   "cell_type": "code",
   "execution_count": 187,
   "metadata": {},
   "outputs": [
    {
     "name": "stdout",
     "output_type": "stream",
     "text": [
      "categories : dict_keys([0.0, 1.0, 2.0, 3.0, 4.0, 5.0, 6.0, 7.0, 8.0, 9.0, 10.0, 11.0, 12.0, 13.0, 14.0, 15.0, 16.0, 17.0, 18.0, 19.0, 20.0, 21.0, 22.0, 23.0])\n",
      "(0.0, 85.44913230769231)\n",
      "(1.0, 80.9057106918239)\n",
      "(2.0, 77.24749242424242)\n",
      "(3.0, 75.8257921875)\n",
      "(4.0, 75.43799386503068)\n",
      "(5.0, 75.71224702380952)\n",
      "(6.0, 76.16310946745563)\n",
      "(7.0, 89.09952071005917)\n",
      "(8.0, 101.37205325443787)\n",
      "(9.0, 121.24868484848484)\n",
      "(10.0, 134.5447002967359)\n",
      "(11.0, 141.08189969604862)\n",
      "(12.0, 144.13435757575758)\n",
      "(13.0, 146.5302950310559)\n",
      "(14.0, 147.8204025157233)\n",
      "(15.0, 147.98294788273614)\n",
      "(16.0, 148.03377096774193)\n",
      "(17.0, 144.4900734824281)\n",
      "(18.0, 133.85397411003234)\n",
      "(19.0, 125.90178456591639)\n",
      "(20.0, 119.86309904153353)\n",
      "(21.0, 114.30286666666666)\n",
      "(22.0, 107.99530959752322)\n",
      "(23.0, 92.44874603174603)\n"
     ]
    },
    {
     "name": "stderr",
     "output_type": "stream",
     "text": [
      "/home/edouard/anaconda3/lib/python3.7/site-packages/sklearn/utils/validation.py:724: DataConversionWarning: A column-vector y was passed when a 1d array was expected. Please change the shape of y to (n_samples, ), for example using ravel().\n",
      "  y = column_or_1d(y, warn=True)\n"
     ]
    },
    {
     "data": {
      "text/plain": [
       "MeanByCatEstimator(cat_column_idx=6, demo_param='demo_param')"
      ]
     },
     "execution_count": 187,
     "metadata": {},
     "output_type": "execute_result"
    }
   ],
   "source": [
    "myEst.fit(x_with_hours, y_meter)"
   ]
  },
  {
   "cell_type": "code",
   "execution_count": 174,
   "metadata": {},
   "outputs": [],
   "source": [
    "t_6 = np.array([0,3,5,6,8,10,15,2,5,7,22,27])\n"
   ]
  },
  {
   "cell_type": "code",
   "execution_count": 185,
   "metadata": {},
   "outputs": [],
   "source": [
    "t = np.transpose(np.array([np.ones(12, dtype=np.int64),\n",
    "          np.ones(12, dtype=np.int64),\n",
    "          np.ones(12, dtype=np.int64),\n",
    "          np.ones(12, dtype=np.int64),\n",
    "          np.ones(12, dtype=np.int64),\n",
    "          np.ones(12, dtype=np.int64),\n",
    "          t_6,\n",
    "          np.ones(12, dtype=np.int64)]))"
   ]
  },
  {
   "cell_type": "code",
   "execution_count": null,
   "metadata": {},
   "outputs": [],
   "source": []
  },
  {
   "cell_type": "code",
   "execution_count": null,
   "metadata": {},
   "outputs": [],
   "source": []
  },
  {
   "cell_type": "code",
   "execution_count": null,
   "metadata": {},
   "outputs": [],
   "source": []
  },
  {
   "cell_type": "code",
   "execution_count": null,
   "metadata": {},
   "outputs": [],
   "source": []
  },
  {
   "cell_type": "code",
   "execution_count": 186,
   "metadata": {},
   "outputs": [
    {
     "data": {
      "text/plain": [
       "array([ 85.44913231,  75.82579219,  75.71224702,  76.16310947,\n",
       "       101.37205325, 134.5447003 , 147.98294788,  77.24749242,\n",
       "        75.71224702,  89.09952071, 107.9953096 , 112.44000039])"
      ]
     },
     "execution_count": 186,
     "metadata": {},
     "output_type": "execute_result"
    }
   ],
   "source": [
    "myEst.predict(t)"
   ]
  },
  {
   "cell_type": "code",
   "execution_count": null,
   "metadata": {},
   "outputs": [],
   "source": []
  },
  {
   "cell_type": "code",
   "execution_count": null,
   "metadata": {},
   "outputs": [],
   "source": []
  },
  {
   "cell_type": "code",
   "execution_count": null,
   "metadata": {},
   "outputs": [],
   "source": []
  },
  {
   "cell_type": "code",
   "execution_count": null,
   "metadata": {},
   "outputs": [],
   "source": []
  },
  {
   "cell_type": "code",
   "execution_count": 188,
   "metadata": {
    "scrolled": false
   },
   "outputs": [
    {
     "name": "stderr",
     "output_type": "stream",
     "text": [
      "/home/edouard/anaconda3/lib/python3.7/site-packages/sklearn/utils/validation.py:724: DataConversionWarning: A column-vector y was passed when a 1d array was expected. Please change the shape of y to (n_samples, ), for example using ravel().\n",
      "  y = column_or_1d(y, warn=True)\n",
      "/home/edouard/anaconda3/lib/python3.7/site-packages/sklearn/utils/validation.py:724: DataConversionWarning: A column-vector y was passed when a 1d array was expected. Please change the shape of y to (n_samples, ), for example using ravel().\n",
      "  y = column_or_1d(y, warn=True)\n"
     ]
    },
    {
     "name": "stdout",
     "output_type": "stream",
     "text": [
      "categories : dict_keys([0.0, 1.0, 2.0, 3.0, 4.0, 5.0, 6.0, 7.0, 8.0, 9.0, 10.0, 11.0, 12.0, 13.0, 14.0, 15.0, 16.0, 17.0, 18.0, 19.0, 20.0, 21.0, 22.0, 23.0])\n",
      "(0.0, 84.8521170212766)\n",
      "(1.0, 80.7324784172662)\n",
      "(2.0, 77.03253859649124)\n",
      "(3.0, 75.58823646209386)\n",
      "(4.0, 75.27731578947369)\n",
      "(5.0, 75.56354607508533)\n",
      "(6.0, 76.06978305084746)\n",
      "(7.0, 88.2856)\n",
      "(8.0, 100.86652027027026)\n",
      "(9.0, 121.0012896551724)\n",
      "(10.0, 134.53331506849315)\n",
      "(11.0, 141.3168780487805)\n",
      "(12.0, 144.32095189003437)\n",
      "(13.0, 146.75153521126762)\n",
      "(14.0, 147.78677857142858)\n",
      "(15.0, 148.10698148148145)\n",
      "(16.0, 148.23752205882352)\n",
      "(17.0, 144.03957299270073)\n",
      "(18.0, 133.48166911764704)\n",
      "(19.0, 125.38708921933086)\n",
      "(20.0, 119.7651208791209)\n",
      "(21.0, 114.10951824817518)\n",
      "(22.0, 107.64665714285715)\n",
      "(23.0, 91.59703272727273)\n",
      "categories : dict_keys([0.0, 1.0, 2.0, 3.0, 4.0, 5.0, 6.0, 7.0, 8.0, 9.0, 10.0, 11.0, 12.0, 13.0, 14.0, 15.0, 16.0, 17.0, 18.0, 19.0, 20.0, 21.0, 22.0, 23.0])\n",
      "(0.0, 83.97857249070631)\n",
      "(1.0, 79.52764503816795)\n",
      "(2.0, 76.15156363636363)\n",
      "(3.0, 74.76120454545455)\n",
      "(4.0, 74.36787407407408)\n",
      "(5.0, 74.74591397849461)\n",
      "(6.0, 75.25563928571428)\n",
      "(7.0, 87.62344483985765)\n",
      "(8.0, 100.31451601423488)\n",
      "(9.0, 120.357)\n",
      "(10.0, 133.60464259927798)\n",
      "(11.0, 140.295036900369)\n",
      "(12.0, 143.0413868613139)\n",
      "(13.0, 145.16927407407405)\n",
      "(14.0, 145.80279925650558)\n",
      "(15.0, 145.69046692607003)\n",
      "(16.0, 146.0545)\n",
      "(17.0, 141.6097829457364)\n",
      "(18.0, 131.76050193050193)\n",
      "(19.0, 123.75368093385215)\n",
      "(20.0, 117.58732421874998)\n",
      "(21.0, 112.07513793103449)\n",
      "(22.0, 105.99790601503759)\n",
      "(23.0, 90.43749049429657)\n"
     ]
    },
    {
     "name": "stderr",
     "output_type": "stream",
     "text": [
      "/home/edouard/anaconda3/lib/python3.7/site-packages/sklearn/utils/validation.py:724: DataConversionWarning: A column-vector y was passed when a 1d array was expected. Please change the shape of y to (n_samples, ), for example using ravel().\n",
      "  y = column_or_1d(y, warn=True)\n",
      "/home/edouard/anaconda3/lib/python3.7/site-packages/sklearn/utils/validation.py:724: DataConversionWarning: A column-vector y was passed when a 1d array was expected. Please change the shape of y to (n_samples, ), for example using ravel().\n",
      "  y = column_or_1d(y, warn=True)\n"
     ]
    },
    {
     "name": "stdout",
     "output_type": "stream",
     "text": [
      "categories : dict_keys([0.0, 1.0, 2.0, 3.0, 4.0, 5.0, 6.0, 7.0, 8.0, 9.0, 10.0, 11.0, 12.0, 13.0, 14.0, 15.0, 16.0, 17.0, 18.0, 19.0, 20.0, 21.0, 22.0, 23.0])\n",
      "(0.0, 84.28818014705882)\n",
      "(1.0, 79.88532061068703)\n",
      "(2.0, 76.67683032490974)\n",
      "(3.0, 75.27683396226415)\n",
      "(4.0, 74.79980669144982)\n",
      "(5.0, 75.16579285714285)\n",
      "(6.0, 75.63232974910393)\n",
      "(7.0, 88.29065357142858)\n",
      "(8.0, 100.27755395683454)\n",
      "(9.0, 119.69134317343173)\n",
      "(10.0, 132.81567985611514)\n",
      "(11.0, 139.2428081180812)\n",
      "(12.0, 142.2189594095941)\n",
      "(13.0, 143.88465413533834)\n",
      "(14.0, 144.72415849056605)\n",
      "(15.0, 144.74577343750002)\n",
      "(16.0, 145.1279233716475)\n",
      "(17.0, 141.15151538461538)\n",
      "(18.0, 131.0910772200772)\n",
      "(19.0, 124.12422433460077)\n",
      "(20.0, 116.8417859922179)\n",
      "(21.0, 111.78218939393939)\n",
      "(22.0, 105.54095522388059)\n",
      "(23.0, 90.64873180076629)\n",
      "categories : dict_keys([0.0, 1.0, 2.0, 3.0, 4.0, 5.0, 6.0, 7.0, 8.0, 9.0, 10.0, 11.0, 12.0, 13.0, 14.0, 15.0, 16.0, 17.0, 18.0, 19.0, 20.0, 21.0, 22.0, 23.0])\n",
      "(0.0, 84.39905185185185)\n",
      "(1.0, 80.60708778625954)\n",
      "(2.0, 77.20464781021897)\n",
      "(3.0, 75.88407677902622)\n",
      "(4.0, 75.57920446096657)\n",
      "(5.0, 75.86370357142857)\n",
      "(6.0, 76.28101785714284)\n",
      "(7.0, 88.67912544802869)\n",
      "(8.0, 100.54095)\n",
      "(9.0, 119.62077372262775)\n",
      "(10.0, 132.67104285714285)\n",
      "(11.0, 138.5571544117647)\n",
      "(12.0, 141.61060294117647)\n",
      "(13.0, 143.3674022556391)\n",
      "(14.0, 144.7495946969697)\n",
      "(15.0, 144.9961653543307)\n",
      "(16.0, 144.90030501930502)\n",
      "(17.0, 141.17913409961687)\n",
      "(18.0, 130.66325968992248)\n",
      "(19.0, 123.64665384615384)\n",
      "(20.0, 117.20662934362933)\n",
      "(21.0, 112.43401901140683)\n",
      "(22.0, 105.50842750929368)\n",
      "(23.0, 90.85578927203065)\n"
     ]
    },
    {
     "name": "stderr",
     "output_type": "stream",
     "text": [
      "/home/edouard/anaconda3/lib/python3.7/site-packages/sklearn/utils/validation.py:724: DataConversionWarning: A column-vector y was passed when a 1d array was expected. Please change the shape of y to (n_samples, ), for example using ravel().\n",
      "  y = column_or_1d(y, warn=True)\n",
      "/home/edouard/anaconda3/lib/python3.7/site-packages/sklearn/utils/validation.py:724: DataConversionWarning: A column-vector y was passed when a 1d array was expected. Please change the shape of y to (n_samples, ), for example using ravel().\n",
      "  y = column_or_1d(y, warn=True)\n"
     ]
    },
    {
     "name": "stdout",
     "output_type": "stream",
     "text": [
      "categories : dict_keys([0.0, 1.0, 2.0, 3.0, 4.0, 5.0, 6.0, 7.0, 8.0, 9.0, 10.0, 11.0, 12.0, 13.0, 14.0, 15.0, 16.0, 17.0, 18.0, 19.0, 20.0, 21.0, 22.0, 23.0])\n",
      "(0.0, 86.06858208955222)\n",
      "(1.0, 81.45657735849058)\n",
      "(2.0, 77.88552372262774)\n",
      "(3.0, 76.39129400749064)\n",
      "(4.0, 76.03379104477612)\n",
      "(5.0, 76.27347670250894)\n",
      "(6.0, 76.68779715302492)\n",
      "(7.0, 89.83426164874552)\n",
      "(8.0, 101.87463571428572)\n",
      "(9.0, 121.93102930402931)\n",
      "(10.0, 135.2524306049822)\n",
      "(11.0, 141.98615693430656)\n",
      "(12.0, 145.12358241758244)\n",
      "(13.0, 147.76184905660378)\n",
      "(14.0, 149.20395785440613)\n",
      "(15.0, 149.00169411764705)\n",
      "(16.0, 149.35080308880308)\n",
      "(17.0, 145.97366795366793)\n",
      "(18.0, 135.21138431372552)\n",
      "(19.0, 126.49393436293437)\n",
      "(20.0, 120.8544030418251)\n",
      "(21.0, 115.76451515151516)\n",
      "(22.0, 108.55618587360595)\n",
      "(23.0, 93.06261450381679)\n",
      "categories : dict_keys([0.0, 1.0, 2.0, 3.0, 4.0, 5.0, 6.0, 7.0, 8.0, 9.0, 10.0, 11.0, 12.0, 13.0, 14.0, 15.0, 16.0, 17.0, 18.0, 19.0, 20.0, 21.0, 22.0, 23.0])\n",
      "(0.0, 86.8269925093633)\n",
      "(1.0, 81.6539097744361)\n",
      "(2.0, 77.8393717948718)\n",
      "(3.0, 76.36428867924529)\n",
      "(4.0, 75.74257303370787)\n",
      "(5.0, 75.80082608695652)\n",
      "(6.0, 76.40444285714285)\n",
      "(7.0, 89.67753900709221)\n",
      "(8.0, 101.30587455197133)\n",
      "(9.0, 121.01217647058826)\n",
      "(10.0, 135.38268214285713)\n",
      "(11.0, 142.91811272727273)\n",
      "(12.0, 146.25126545454546)\n",
      "(13.0, 149.68223484848485)\n",
      "(14.0, 151.37404615384617)\n",
      "(15.0, 151.51171764705882)\n",
      "(16.0, 152.01914785992219)\n",
      "(17.0, 148.85695075757576)\n",
      "(18.0, 137.9777587548638)\n",
      "(19.0, 129.12692452830188)\n",
      "(20.0, 123.71162213740458)\n",
      "(21.0, 117.9816398467433)\n",
      "(22.0, 110.9948996282528)\n",
      "(23.0, 94.24147709923665)\n"
     ]
    },
    {
     "name": "stderr",
     "output_type": "stream",
     "text": [
      "/home/edouard/anaconda3/lib/python3.7/site-packages/sklearn/utils/validation.py:724: DataConversionWarning: A column-vector y was passed when a 1d array was expected. Please change the shape of y to (n_samples, ), for example using ravel().\n",
      "  y = column_or_1d(y, warn=True)\n",
      "/home/edouard/anaconda3/lib/python3.7/site-packages/sklearn/utils/validation.py:724: DataConversionWarning: A column-vector y was passed when a 1d array was expected. Please change the shape of y to (n_samples, ), for example using ravel().\n",
      "  y = column_or_1d(y, warn=True)\n"
     ]
    },
    {
     "name": "stdout",
     "output_type": "stream",
     "text": [
      "categories : dict_keys([0.0, 1.0, 2.0, 3.0, 4.0, 5.0, 6.0, 7.0, 8.0, 9.0, 10.0, 11.0, 12.0, 13.0, 14.0, 15.0, 16.0, 17.0, 18.0, 19.0, 20.0, 21.0, 22.0, 23.0])\n",
      "(0.0, 87.215202247191)\n",
      "(1.0, 82.1500977443609)\n",
      "(2.0, 78.13490398550725)\n",
      "(3.0, 76.78411132075472)\n",
      "(4.0, 76.14877859778599)\n",
      "(5.0, 76.27542391304348)\n",
      "(6.0, 76.83519285714286)\n",
      "(7.0, 89.1458480565371)\n",
      "(8.0, 100.2249)\n",
      "(9.0, 118.66325641025642)\n",
      "(10.0, 133.38415412186382)\n",
      "(11.0, 141.18148175182483)\n",
      "(12.0, 144.365615942029)\n",
      "(13.0, 147.71204887218045)\n",
      "(14.0, 149.72218631178706)\n",
      "(15.0, 150.86533333333333)\n",
      "(16.0, 150.72833858267714)\n",
      "(17.0, 147.71010687022903)\n",
      "(18.0, 136.87817578125)\n",
      "(19.0, 128.5808)\n",
      "(20.0, 123.2565534351145)\n",
      "(21.0, 117.15835741444866)\n",
      "(22.0, 110.75423880597015)\n",
      "(23.0, 94.38047126436781)\n",
      "categories : dict_keys([0.0, 1.0, 2.0, 3.0, 4.0, 5.0, 6.0, 7.0, 8.0, 9.0, 10.0, 11.0, 12.0, 13.0, 14.0, 15.0, 16.0, 17.0, 18.0, 19.0, 20.0, 21.0, 22.0, 23.0])\n",
      "(0.0, 87.96362081784386)\n",
      "(1.0, 83.07769029850746)\n",
      "(2.0, 79.11370833333334)\n",
      "(3.0, 77.68267366412213)\n",
      "(4.0, 77.14804044117648)\n",
      "(5.0, 77.45498201438849)\n",
      "(6.0, 77.75744285714286)\n",
      "(7.0, 90.51323131672598)\n",
      "(8.0, 101.81380575539569)\n",
      "(9.0, 120.1975672727273)\n",
      "(10.0, 133.63672597864772)\n",
      "(11.0, 141.0649306569343)\n",
      "(12.0, 144.44505147058825)\n",
      "(13.0, 147.56554166666666)\n",
      "(14.0, 149.47090530303032)\n",
      "(15.0, 150.02020078740156)\n",
      "(16.0, 149.84046484375)\n",
      "(17.0, 147.4150617760618)\n",
      "(18.0, 136.78936470588235)\n",
      "(19.0, 129.0860852713178)\n",
      "(20.0, 123.12344696969696)\n",
      "(21.0, 117.2200340909091)\n",
      "(22.0, 111.4277265917603)\n",
      "(23.0, 95.4786679389313)\n"
     ]
    },
    {
     "name": "stderr",
     "output_type": "stream",
     "text": [
      "/home/edouard/anaconda3/lib/python3.7/site-packages/sklearn/utils/validation.py:724: DataConversionWarning: A column-vector y was passed when a 1d array was expected. Please change the shape of y to (n_samples, ), for example using ravel().\n",
      "  y = column_or_1d(y, warn=True)\n",
      "/home/edouard/anaconda3/lib/python3.7/site-packages/sklearn/utils/validation.py:724: DataConversionWarning: A column-vector y was passed when a 1d array was expected. Please change the shape of y to (n_samples, ), for example using ravel().\n",
      "  y = column_or_1d(y, warn=True)\n"
     ]
    },
    {
     "name": "stdout",
     "output_type": "stream",
     "text": [
      "categories : dict_keys([0.0, 1.0, 2.0, 3.0, 4.0, 5.0, 6.0, 7.0, 8.0, 9.0, 10.0, 11.0, 12.0, 13.0, 14.0, 15.0, 16.0, 17.0, 18.0, 19.0, 20.0, 21.0, 22.0, 23.0])\n",
      "(0.0, 85.83220295202953)\n",
      "(1.0, 81.28649056603773)\n",
      "(2.0, 77.56749267399266)\n",
      "(3.0, 76.05267748091603)\n",
      "(4.0, 75.63852205882353)\n",
      "(5.0, 75.94116606498196)\n",
      "(6.0, 76.24322222222223)\n",
      "(7.0, 90.05270106761566)\n",
      "(8.0, 102.57718411552347)\n",
      "(9.0, 122.20444043321301)\n",
      "(10.0, 134.62888380281692)\n",
      "(11.0, 140.30622463768117)\n",
      "(12.0, 143.78757246376813)\n",
      "(13.0, 146.26403007518797)\n",
      "(14.0, 147.4942067669173)\n",
      "(15.0, 148.10289763779528)\n",
      "(16.0, 147.87780859375)\n",
      "(17.0, 144.92461627906977)\n",
      "(18.0, 133.8583098039216)\n",
      "(19.0, 126.5448671875)\n",
      "(20.0, 120.4405938697318)\n",
      "(21.0, 115.07181609195402)\n",
      "(22.0, 109.2811086142322)\n",
      "(23.0, 93.48106463878325)\n",
      "categories : dict_keys([0.0, 1.0, 2.0, 3.0, 4.0, 5.0, 6.0, 7.0, 8.0, 9.0, 10.0, 11.0, 12.0, 13.0, 14.0, 15.0, 16.0, 17.0, 18.0, 19.0, 20.0, 21.0, 22.0, 23.0])\n",
      "(0.0, 84.4010036900369)\n",
      "(1.0, 79.92446183206107)\n",
      "(2.0, 76.14113003663003)\n",
      "(3.0, 74.92234150943396)\n",
      "(4.0, 74.72750183150183)\n",
      "(5.0, 75.03948214285714)\n",
      "(6.0, 75.39812455516014)\n",
      "(7.0, 89.38882269503546)\n",
      "(8.0, 102.40159219858155)\n",
      "(9.0, 122.81964130434784)\n",
      "(10.0, 134.8135300353357)\n",
      "(11.0, 139.98056204379563)\n",
      "(12.0, 143.19115217391305)\n",
      "(13.0, 145.2021119402985)\n",
      "(14.0, 145.7516287878788)\n",
      "(15.0, 146.28730078125)\n",
      "(16.0, 146.0817874015748)\n",
      "(17.0, 142.21649218750002)\n",
      "(18.0, 131.25820866141734)\n",
      "(19.0, 123.71906640625)\n",
      "(20.0, 118.1588030888031)\n",
      "(21.0, 112.31181467181466)\n",
      "(22.0, 106.73139325842696)\n",
      "(23.0, 91.71753435114503)\n",
      "categories : dict_keys([0.0, 1.0, 2.0, 3.0, 4.0, 5.0, 6.0, 7.0, 8.0, 9.0, 10.0, 11.0, 12.0, 13.0, 14.0, 15.0, 16.0, 17.0, 18.0, 19.0, 20.0, 21.0, 22.0, 23.0])\n",
      "(0.0, 84.19022344322345)\n",
      "(1.0, 79.71853639846744)\n",
      "(2.0, 76.08859523809524)\n",
      "(3.0, 74.84519516728624)\n",
      "(4.0, 74.69961904761904)\n",
      "(5.0, 75.0724184397163)\n",
      "(6.0, 75.53087588652481)\n",
      "(7.0, 89.32757500000001)\n",
      "(8.0, 102.46700349650351)\n",
      "(9.0, 123.50519413919416)\n",
      "(10.0, 135.61320503597125)\n",
      "(11.0, 141.34862361623615)\n",
      "(12.0, 143.9647306273063)\n",
      "(13.0, 145.96181784386616)\n",
      "(14.0, 146.7519771863118)\n",
      "(15.0, 146.11651361867706)\n",
      "(16.0, 146.11908560311284)\n",
      "(17.0, 142.12183783783786)\n",
      "(18.0, 131.82184313725492)\n",
      "(19.0, 123.52869411764706)\n",
      "(20.0, 117.52202723735408)\n",
      "(21.0, 111.6564031007752)\n",
      "(22.0, 105.8810594795539)\n",
      "(23.0, 91.28351526717559)\n",
      "categories : dict_keys([0.0, 1.0, 2.0, 3.0, 4.0, 5.0, 6.0, 7.0, 8.0, 9.0, 10.0, 11.0, 12.0, 13.0, 14.0, 15.0, 16.0, 17.0, 18.0, 19.0, 20.0, 21.0, 22.0, 23.0])\n",
      "(0.0, 85.11787062937064)\n",
      "(1.0, 80.54693478260872)\n",
      "(2.0, 76.97524912891986)\n",
      "(3.0, 75.4181073943662)\n",
      "(4.0, 75.14518181818183)\n",
      "(5.0, 75.46766101694915)\n",
      "(6.0, 75.93830976430976)\n",
      "(7.0, 88.90211224489795)\n",
      "(8.0, 101.82224496644297)\n",
      "(9.0, 122.85213986013986)\n",
      "(10.0, 136.24997602739728)\n",
      "(11.0, 142.4955174825175)\n",
      "(12.0, 145.18402787456446)\n",
      "(13.0, 147.00100704225355)\n",
      "(14.0, 148.59706859205775)\n",
      "(15.0, 148.32972659176028)\n",
      "(16.0, 148.08129151291513)\n",
      "(17.0, 144.4858)\n",
      "(18.0, 133.8279591078067)\n",
      "(19.0, 125.2362052238806)\n",
      "(20.0, 118.72946494464945)\n",
      "(21.0, 113.25318613138687)\n",
      "(22.0, 106.97372280701754)\n",
      "(23.0, 91.90501818181818)\n"
     ]
    },
    {
     "name": "stderr",
     "output_type": "stream",
     "text": [
      "/home/edouard/anaconda3/lib/python3.7/site-packages/sklearn/utils/validation.py:724: DataConversionWarning: A column-vector y was passed when a 1d array was expected. Please change the shape of y to (n_samples, ), for example using ravel().\n",
      "  y = column_or_1d(y, warn=True)\n",
      "/home/edouard/anaconda3/lib/python3.7/site-packages/sklearn/utils/validation.py:724: DataConversionWarning: A column-vector y was passed when a 1d array was expected. Please change the shape of y to (n_samples, ), for example using ravel().\n",
      "  y = column_or_1d(y, warn=True)\n"
     ]
    },
    {
     "data": {
      "text/plain": [
       "-0.044998170800415856"
      ]
     },
     "execution_count": 188,
     "metadata": {},
     "output_type": "execute_result"
    }
   ],
   "source": [
    "cross_val_score(\n",
    "    estimator=MeanByCatEstimator(cat_column_idx=6),\n",
    "    X=x_with_hours,\n",
    "    y=y_meter,\n",
    "    scoring='neg_mean_squared_log_error',\n",
    "    cv=gap_kf).mean()"
   ]
  },
  {
   "cell_type": "code",
   "execution_count": null,
   "metadata": {},
   "outputs": [],
   "source": []
  },
  {
   "cell_type": "code",
   "execution_count": null,
   "metadata": {},
   "outputs": [],
   "source": []
  }
 ],
 "metadata": {
  "kernelspec": {
   "display_name": "Python 3",
   "language": "python",
   "name": "python3"
  },
  "language_info": {
   "codemirror_mode": {
    "name": "ipython",
    "version": 3
   },
   "file_extension": ".py",
   "mimetype": "text/x-python",
   "name": "python",
   "nbconvert_exporter": "python",
   "pygments_lexer": "ipython3",
   "version": "3.7.3"
  }
 },
 "nbformat": 4,
 "nbformat_minor": 2
}
