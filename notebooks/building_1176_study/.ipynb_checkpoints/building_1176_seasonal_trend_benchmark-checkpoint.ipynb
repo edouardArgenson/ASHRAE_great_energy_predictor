{
 "cells": [
  {
   "cell_type": "code",
   "execution_count": 2,
   "metadata": {},
   "outputs": [],
   "source": [
    "import numpy as np\n",
    "import pandas as pd\n",
    "\n",
    "from sklearn.base import BaseEstimator\n",
    "from sklearn.utils.validation import check_X_y, check_array, check_is_fitted, column_or_1d\n",
    "from sklearn.dummy import DummyRegressor\n",
    "from sklearn.model_selection import cross_val_score\n",
    "\n",
    "from tscv import GapKFold\n",
    "\n",
    "import matplotlib.pyplot as plt\n",
    "import matplotlib.ticker as ticker\n",
    "import matplotlib.pyplot as plt\n",
    "import matplotlib.dates as mdates\n",
    "import seaborn as sns\n",
    "\n",
    "from pandas.plotting import register_matplotlib_converters\n",
    "register_matplotlib_converters()\n",
    "\n",
    "%matplotlib inline"
   ]
  },
  {
   "cell_type": "markdown",
   "metadata": {},
   "source": [
    "The goal here is to build and evalutate simple models based on mean meter readings (per day of week, per hour)."
   ]
  },
  {
   "cell_type": "markdown",
   "metadata": {},
   "source": [
    "An important and tricky point is how are we going to split the data between train and validation.<br>\n",
    "For time-serie data, usually we cannot do the usual random split, because of correlations.<br>\n",
    "Usually, some kind of walk-forward approach is used.<br>\n",
    "Here, we use hv-block cross validation : we keep a gap of unused data between train and validation, to avoid using correlated data between train and validation.<br>\n",
    "This method has been studied and described by Racine (2000) : http://citeseerx.ist.psu.edu/viewdoc/download?doi=10.1.1.30.6748&rep=rep1&type=pdf<br>\n",
    "We used an open-source implementation that extends scikit-learn : http://www.zhengwenjie.net/tscv/<br>\n",
    "See notebook 'test_tscv_lib.ipynb'"
   ]
  },
  {
   "cell_type": "code",
   "execution_count": 3,
   "metadata": {},
   "outputs": [
    {
     "name": "stdout",
     "output_type": "stream",
     "text": [
      "<class 'pandas.core.frame.DataFrame'>\n",
      "DatetimeIndex: 8512 entries, 2016-01-02 00:00:00 to 2016-12-31 11:00:00\n",
      "Data columns (total 11 columns):\n",
      "day_of_week                     8512 non-null int64\n",
      "day_hour                        8512 non-null int64\n",
      "dew_temperature_ma_24H          8512 non-null float64\n",
      "air_temperature                 8512 non-null float64\n",
      "wind_speed_ma_24H               8512 non-null float64\n",
      "precip_depth_1_hr_ma_24H        8512 non-null float64\n",
      "sea_level_pressure_shift_10H    8512 non-null float64\n",
      "meter_reading                   8512 non-null float64\n",
      "meter_reading_trend             8512 non-null float64\n",
      "meter_reading_seasonal          8512 non-null float64\n",
      "meter_reading_deseasoned        8512 non-null float64\n",
      "dtypes: float64(9), int64(2)\n",
      "memory usage: 798.0 KB\n"
     ]
    }
   ],
   "source": [
    "filepath = '../../data/intermediate/experimentation_train_sets/'\n",
    "\n",
    "filename = 'train_b_1176_m_0_t_20200118_214925.csv'\n",
    "\n",
    "df_features = pd.read_csv(filepath + filename, parse_dates=['timestamp'], index_col=['timestamp'])\n",
    "df_features.info()"
   ]
  },
  {
   "cell_type": "code",
   "execution_count": 4,
   "metadata": {},
   "outputs": [
    {
     "data": {
      "text/html": [
       "<div>\n",
       "<style scoped>\n",
       "    .dataframe tbody tr th:only-of-type {\n",
       "        vertical-align: middle;\n",
       "    }\n",
       "\n",
       "    .dataframe tbody tr th {\n",
       "        vertical-align: top;\n",
       "    }\n",
       "\n",
       "    .dataframe thead th {\n",
       "        text-align: right;\n",
       "    }\n",
       "</style>\n",
       "<table border=\"1\" class=\"dataframe\">\n",
       "  <thead>\n",
       "    <tr style=\"text-align: right;\">\n",
       "      <th></th>\n",
       "      <th>day_of_week</th>\n",
       "      <th>day_hour</th>\n",
       "      <th>dew_temperature_ma_24H</th>\n",
       "      <th>air_temperature</th>\n",
       "      <th>wind_speed_ma_24H</th>\n",
       "      <th>precip_depth_1_hr_ma_24H</th>\n",
       "      <th>sea_level_pressure_shift_10H</th>\n",
       "      <th>meter_reading</th>\n",
       "      <th>meter_reading_trend</th>\n",
       "      <th>meter_reading_seasonal</th>\n",
       "      <th>meter_reading_deseasoned</th>\n",
       "    </tr>\n",
       "    <tr>\n",
       "      <th>timestamp</th>\n",
       "      <th></th>\n",
       "      <th></th>\n",
       "      <th></th>\n",
       "      <th></th>\n",
       "      <th></th>\n",
       "      <th></th>\n",
       "      <th></th>\n",
       "      <th></th>\n",
       "      <th></th>\n",
       "      <th></th>\n",
       "      <th></th>\n",
       "    </tr>\n",
       "  </thead>\n",
       "  <tbody>\n",
       "    <tr>\n",
       "      <th>2016-01-02 00:00:00</th>\n",
       "      <td>5</td>\n",
       "      <td>0</td>\n",
       "      <td>-10.120833</td>\n",
       "      <td>-3.3</td>\n",
       "      <td>4.737500</td>\n",
       "      <td>-0.208333</td>\n",
       "      <td>1019.4</td>\n",
       "      <td>73.866</td>\n",
       "      <td>82.076000</td>\n",
       "      <td>-26.759415</td>\n",
       "      <td>100.625415</td>\n",
       "    </tr>\n",
       "    <tr>\n",
       "      <th>2016-01-02 01:00:00</th>\n",
       "      <td>5</td>\n",
       "      <td>1</td>\n",
       "      <td>-9.979167</td>\n",
       "      <td>-3.9</td>\n",
       "      <td>4.779167</td>\n",
       "      <td>-0.166667</td>\n",
       "      <td>1018.9</td>\n",
       "      <td>69.788</td>\n",
       "      <td>82.069396</td>\n",
       "      <td>-32.469222</td>\n",
       "      <td>102.257222</td>\n",
       "    </tr>\n",
       "    <tr>\n",
       "      <th>2016-01-02 02:00:00</th>\n",
       "      <td>5</td>\n",
       "      <td>2</td>\n",
       "      <td>-9.887500</td>\n",
       "      <td>-5.0</td>\n",
       "      <td>4.862500</td>\n",
       "      <td>-0.125000</td>\n",
       "      <td>1017.9</td>\n",
       "      <td>68.563</td>\n",
       "      <td>82.132312</td>\n",
       "      <td>-35.705572</td>\n",
       "      <td>104.268572</td>\n",
       "    </tr>\n",
       "    <tr>\n",
       "      <th>2016-01-02 03:00:00</th>\n",
       "      <td>5</td>\n",
       "      <td>3</td>\n",
       "      <td>-9.816667</td>\n",
       "      <td>-5.6</td>\n",
       "      <td>4.883333</td>\n",
       "      <td>-0.083333</td>\n",
       "      <td>1017.4</td>\n",
       "      <td>69.133</td>\n",
       "      <td>81.996854</td>\n",
       "      <td>-36.882202</td>\n",
       "      <td>106.015202</td>\n",
       "    </tr>\n",
       "    <tr>\n",
       "      <th>2016-01-02 04:00:00</th>\n",
       "      <td>5</td>\n",
       "      <td>4</td>\n",
       "      <td>-9.766667</td>\n",
       "      <td>-6.1</td>\n",
       "      <td>4.862500</td>\n",
       "      <td>-0.083333</td>\n",
       "      <td>1017.1</td>\n",
       "      <td>69.085</td>\n",
       "      <td>81.552562</td>\n",
       "      <td>-37.362799</td>\n",
       "      <td>106.447799</td>\n",
       "    </tr>\n",
       "  </tbody>\n",
       "</table>\n",
       "</div>"
      ],
      "text/plain": [
       "                     day_of_week  day_hour  dew_temperature_ma_24H  \\\n",
       "timestamp                                                            \n",
       "2016-01-02 00:00:00            5         0              -10.120833   \n",
       "2016-01-02 01:00:00            5         1               -9.979167   \n",
       "2016-01-02 02:00:00            5         2               -9.887500   \n",
       "2016-01-02 03:00:00            5         3               -9.816667   \n",
       "2016-01-02 04:00:00            5         4               -9.766667   \n",
       "\n",
       "                     air_temperature  wind_speed_ma_24H  \\\n",
       "timestamp                                                 \n",
       "2016-01-02 00:00:00             -3.3           4.737500   \n",
       "2016-01-02 01:00:00             -3.9           4.779167   \n",
       "2016-01-02 02:00:00             -5.0           4.862500   \n",
       "2016-01-02 03:00:00             -5.6           4.883333   \n",
       "2016-01-02 04:00:00             -6.1           4.862500   \n",
       "\n",
       "                     precip_depth_1_hr_ma_24H  sea_level_pressure_shift_10H  \\\n",
       "timestamp                                                                     \n",
       "2016-01-02 00:00:00                 -0.208333                        1019.4   \n",
       "2016-01-02 01:00:00                 -0.166667                        1018.9   \n",
       "2016-01-02 02:00:00                 -0.125000                        1017.9   \n",
       "2016-01-02 03:00:00                 -0.083333                        1017.4   \n",
       "2016-01-02 04:00:00                 -0.083333                        1017.1   \n",
       "\n",
       "                     meter_reading  meter_reading_trend  \\\n",
       "timestamp                                                 \n",
       "2016-01-02 00:00:00         73.866            82.076000   \n",
       "2016-01-02 01:00:00         69.788            82.069396   \n",
       "2016-01-02 02:00:00         68.563            82.132312   \n",
       "2016-01-02 03:00:00         69.133            81.996854   \n",
       "2016-01-02 04:00:00         69.085            81.552562   \n",
       "\n",
       "                     meter_reading_seasonal  meter_reading_deseasoned  \n",
       "timestamp                                                              \n",
       "2016-01-02 00:00:00              -26.759415                100.625415  \n",
       "2016-01-02 01:00:00              -32.469222                102.257222  \n",
       "2016-01-02 02:00:00              -35.705572                104.268572  \n",
       "2016-01-02 03:00:00              -36.882202                106.015202  \n",
       "2016-01-02 04:00:00              -37.362799                106.447799  "
      ]
     },
     "execution_count": 4,
     "metadata": {},
     "output_type": "execute_result"
    }
   ],
   "source": [
    "df_features.head()"
   ]
  },
  {
   "cell_type": "code",
   "execution_count": 23,
   "metadata": {},
   "outputs": [
    {
     "name": "stdout",
     "output_type": "stream",
     "text": [
      "{'air_temperature', 'precip_depth_1_hr_ma_24H', 'dew_temperature_ma_24H', 'sea_level_pressure_shift_10H', 'wind_speed_ma_24H'}\n"
     ]
    }
   ],
   "source": [
    "target_variables = set(['meter_reading', 'meter_reading_trend', 'meter_reading_seasonal', 'meter_reading_deseasoned'])\n",
    "features_variables = set(df_features.columns.to_list())-target_variables-set([''])\n",
    "meteorological_variables = features_variables - set(['day_hour', 'day_of_week'])\n",
    "print(meteorological_variables)"
   ]
  },
  {
   "cell_type": "code",
   "execution_count": 27,
   "metadata": {
    "scrolled": true
   },
   "outputs": [
    {
     "name": "stdout",
     "output_type": "stream",
     "text": [
      "X_meter.shape = (8512, 7), Ys_meter.shape = (8512, 4)\n"
     ]
    }
   ],
   "source": [
    "#y_meter_trend = df_features['meter_reading']\n",
    "#y_meter_seasonal = df_features['meter_reading_seasonal']\n",
    "#y_meter_deseasoned = df_features['meter_reading_deseasoned']\n",
    "Ys_meter = df_features[target_variables]\n",
    "\n",
    "X_meter = df_features.loc[:, set(df_features.columns.to_list())-set(target_variables)]\n",
    "print('X_meter.shape = {}, Ys_meter.shape = {}'.format(X_meter.shape, Ys_meter.shape))"
   ]
  },
  {
   "cell_type": "code",
   "execution_count": null,
   "metadata": {},
   "outputs": [],
   "source": []
  },
  {
   "cell_type": "code",
   "execution_count": 28,
   "metadata": {},
   "outputs": [],
   "source": [
    "# GapKFold\n",
    "# gap ~ two weeks, train = 1 month (12 folds)\n",
    "\n",
    "gap = 24*7*2\n",
    "gap_kf = GapKFold(n_splits=12, gap_before=gap, gap_after=gap)"
   ]
  },
  {
   "cell_type": "code",
   "execution_count": null,
   "metadata": {},
   "outputs": [],
   "source": []
  },
  {
   "cell_type": "code",
   "execution_count": null,
   "metadata": {},
   "outputs": [],
   "source": []
  },
  {
   "cell_type": "markdown",
   "metadata": {},
   "source": [
    "Let's build a mean value estimator.\n",
    "\n",
    "From https://github.com/scikit-learn-contrib/project-template/blob/master/skltemplate/_template.py"
   ]
  },
  {
   "cell_type": "markdown",
   "metadata": {},
   "source": [
    "check_array and check_X_y\n",
    "\n",
    "https://github.com/scikit-learn/scikit-learn/blob/e5698bde9/sklearn/utils/validation.py#L904"
   ]
  },
  {
   "cell_type": "code",
   "execution_count": 29,
   "metadata": {},
   "outputs": [],
   "source": [
    "# Actually we don't need that because it already exists in sklearn, under the name 'dummyRegressor'\n",
    "# https://scikit-learn.org/stable/modules/generated/sklearn.dummy.DummyRegressor.html"
   ]
  },
  {
   "cell_type": "code",
   "execution_count": null,
   "metadata": {},
   "outputs": [],
   "source": []
  },
  {
   "cell_type": "code",
   "execution_count": null,
   "metadata": {},
   "outputs": [],
   "source": []
  },
  {
   "cell_type": "code",
   "execution_count": 30,
   "metadata": {},
   "outputs": [
    {
     "data": {
      "text/plain": [
       "-0.10972135653366528"
      ]
     },
     "execution_count": 30,
     "metadata": {},
     "output_type": "execute_result"
    }
   ],
   "source": [
    "cross_val_score(\n",
    "    estimator=DummyRegressor(strategy=\"mean\"),\n",
    "    X=X_meter,\n",
    "    y=y_meter,\n",
    "    scoring='neg_mean_squared_log_error',\n",
    "    cv=gap_kf).mean()"
   ]
  },
  {
   "cell_type": "code",
   "execution_count": 31,
   "metadata": {},
   "outputs": [
    {
     "data": {
      "text/plain": [
       "-0.10826417581945569"
      ]
     },
     "execution_count": 31,
     "metadata": {},
     "output_type": "execute_result"
    }
   ],
   "source": [
    "cross_val_score(\n",
    "    estimator=DummyRegressor(strategy=\"median\"),\n",
    "    X=X_meter,\n",
    "    y=y_meter,\n",
    "    scoring='neg_mean_squared_log_error',\n",
    "    cv=gap_kf).mean()"
   ]
  },
  {
   "cell_type": "code",
   "execution_count": 32,
   "metadata": {},
   "outputs": [],
   "source": [
    "# note : this is not the RMSLE metric defined for the competition, it is not in sklearn, we must implement it."
   ]
  },
  {
   "cell_type": "code",
   "execution_count": null,
   "metadata": {},
   "outputs": [],
   "source": []
  },
  {
   "cell_type": "code",
   "execution_count": 33,
   "metadata": {},
   "outputs": [],
   "source": [
    "# Now let's take the mean by hour"
   ]
  },
  {
   "cell_type": "code",
   "execution_count": 34,
   "metadata": {},
   "outputs": [],
   "source": [
    "class MeanByCatEstimator(BaseEstimator):\n",
    "    \"\"\" A template estimator to be used as a reference implementation.\n",
    "    For more information regarding how to build your own estimator, read more\n",
    "    in the :ref:`User Guide <user_guide>`.\n",
    "    Parameters\n",
    "    ----------\n",
    "    demo_param : str, default='demo_param'\n",
    "        A parameter used for demonstation of how to pass and store paramters.\n",
    "    \"\"\"\n",
    "    def __init__(self, cat_column_idx=0, verbose=False):\n",
    "        self.verbose = verbose\n",
    "        self.cat_column_idx= cat_column_idx\n",
    "\n",
    "    def fit(self, X, y):\n",
    "        \"\"\"A reference implementation of a fitting function.\n",
    "        Parameters\n",
    "        ----------\n",
    "        X : {array-like, sparse matrix}, shape (n_samples, n_features)\n",
    "            The training input samples.\n",
    "        y : array-like, shape (n_samples,) or (n_samples, n_outputs)\n",
    "            The target values (class labels in classification, real numbers in\n",
    "            regression).\n",
    "        Returns\n",
    "        -------\n",
    "        self : object\n",
    "            Returns self.\n",
    "        \"\"\"\n",
    "        \n",
    "        X, y = check_X_y(X, y, accept_sparse=True)\n",
    "        \"\"\"Input validation for standard estimators.\n",
    "        Checks X and y for consistent length, enforces X to be 2D and y 1D. By\n",
    "        default, X is checked to be non-empty and containing only finite values.\n",
    "        Standard input checks are also applied to y, such as checking that y\n",
    "        does not have np.nan or np.inf targets. For multi-label y, set\n",
    "        multi_output=True to allow 2D and sparse y. If the dtype of X is\n",
    "        object, attempt converting to float, raising on failure.\n",
    "        \"\"\"\n",
    "        \n",
    "        if(self.cat_column_idx >= X.shape[1]):\n",
    "             raise ValueError(\"category column index should be < X.shape[1]\")\n",
    "        \n",
    "        categories = {}\n",
    "        self.means = {}\n",
    "        \n",
    "        self.mean = y.mean()\n",
    "        \n",
    "        for x_bin in np.unique(X[:, self.cat_column_idx]):\n",
    "            categories[x_bin] = []\n",
    "            \n",
    "        if self.verbose:    \n",
    "            print('categories : {}'.format(categories.keys()))\n",
    "            \n",
    "        for k in range(X.shape[0]):\n",
    "            categories[X[k, self.cat_column_idx]].append(y[k])\n",
    "        \n",
    "        for k, v in categories.items():\n",
    "            self.means[k] = np.array(v).mean()\n",
    "        \n",
    "        self.is_fitted_ = True\n",
    "        # `fit` should always return `self`\n",
    "        \n",
    "        if self.verbose:\n",
    "            for k, v in self.means.items():\n",
    "                print('({}, {})'.format(k, v))\n",
    "        \n",
    "        return self\n",
    "\n",
    "    \n",
    "    \n",
    "    def predict(self, X):\n",
    "        \"\"\" A reference implementation of a predicting function.\n",
    "        Parameters\n",
    "        ----------\n",
    "        X : {array-like, sparse matrix}, shape (n_samples, n_features)\n",
    "            The training input samples.\n",
    "        Returns\n",
    "        -------\n",
    "        y : ndarray, shape (n_samples,)\n",
    "            Returns an array of ones.\n",
    "        \"\"\"\n",
    "        \n",
    "        \n",
    "        X = check_array(X, accept_sparse=True)\n",
    "        \"\"\"Input validation on an array, list, sparse matrix or similar.\n",
    "        By default, the input is checked to be a non-empty 2D array containing\n",
    "        only finite values. If the dtype of the array is object, attempt\n",
    "        converting to float, raising on failure.\"\"\"\n",
    "        \n",
    "        check_is_fitted(self, 'is_fitted_')\n",
    "        \n",
    "        predictions = []\n",
    "        \n",
    "        for sample_cat in X[:, self.cat_column_idx]:\n",
    "            cat_mean = self.means.get(sample_cat)\n",
    "            if(cat_mean == None):\n",
    "                predictions.append(self.mean)\n",
    "            else:\n",
    "                predictions.append(cat_mean)\n",
    "            \n",
    "        \n",
    "        \n",
    "        return np.array(predictions)"
   ]
  },
  {
   "cell_type": "code",
   "execution_count": null,
   "metadata": {},
   "outputs": [],
   "source": []
  },
  {
   "cell_type": "code",
   "execution_count": 35,
   "metadata": {},
   "outputs": [],
   "source": [
    "day_hour_col_idx = X_meter.columns.to_list().index('day_hour')\n",
    "\n",
    "myEst = MeanByCatEstimator(cat_column_idx=day_hour_col_idx)"
   ]
  },
  {
   "cell_type": "code",
   "execution_count": 36,
   "metadata": {
    "scrolled": true
   },
   "outputs": [
    {
     "data": {
      "text/plain": [
       "MeanByCatEstimator(cat_column_idx=5, verbose=False)"
      ]
     },
     "execution_count": 36,
     "metadata": {},
     "output_type": "execute_result"
    }
   ],
   "source": [
    "myEst.fit(X_meter, y_meter)"
   ]
  },
  {
   "cell_type": "code",
   "execution_count": 37,
   "metadata": {},
   "outputs": [
    {
     "data": {
      "text/plain": [
       "(8512, 7)"
      ]
     },
     "execution_count": 37,
     "metadata": {},
     "output_type": "execute_result"
    }
   ],
   "source": [
    "\n",
    "X_meter.shape"
   ]
  },
  {
   "cell_type": "code",
   "execution_count": 38,
   "metadata": {},
   "outputs": [
    {
     "name": "stdout",
     "output_type": "stream",
     "text": [
      "[[ 1  0  1  1  1  1  1  1]\n",
      " [ 1  3  1  1  1  1  1  1]\n",
      " [ 1  5  1  1  1  1  1  1]\n",
      " [ 1  6  1  1  1  1  1  1]\n",
      " [ 1  8  1  1  1  1  1  1]\n",
      " [ 1 10  1  1  1  1  1  1]\n",
      " [ 1 15  1  1  1  1  1  1]\n",
      " [ 1  2  1  1  1  1  1  1]\n",
      " [ 1  5  1  1  1  1  1  1]\n",
      " [ 1  7  1  1  1  1  1  1]\n",
      " [ 1 22  1  1  1  1  1  1]\n",
      " [ 1 27  1  1  1  1  1  1]]\n"
     ]
    },
    {
     "data": {
      "text/plain": [
       "array([80.58139886, 80.58139886, 80.58139886, 80.58139886, 80.58139886,\n",
       "       80.58139886, 80.58139886, 80.58139886, 80.58139886, 80.58139886,\n",
       "       80.58139886, 80.58139886])"
      ]
     },
     "execution_count": 38,
     "metadata": {},
     "output_type": "execute_result"
    }
   ],
   "source": [
    "t_6 = np.array([0,3,5,6,8,10,15,2,5,7,22,27])\n",
    "\n",
    "t = np.transpose(np.array([\n",
    "    np.ones(12, dtype=np.int64),\n",
    "    t_6,\n",
    "    np.ones(12, dtype=np.int64), \n",
    "    np.ones(12, dtype=np.int64),\n",
    "    np.ones(12, dtype=np.int64),\n",
    "    np.ones(12, dtype=np.int64),\n",
    "    np.ones(12, dtype=np.int64),\n",
    "    np.ones(12, dtype=np.int64)\n",
    "]))\n",
    "\n",
    "\n",
    "print(t)\n",
    "\n",
    "myEst.predict(t)"
   ]
  },
  {
   "cell_type": "code",
   "execution_count": null,
   "metadata": {},
   "outputs": [],
   "source": []
  },
  {
   "cell_type": "code",
   "execution_count": null,
   "metadata": {},
   "outputs": [],
   "source": []
  },
  {
   "cell_type": "code",
   "execution_count": null,
   "metadata": {},
   "outputs": [],
   "source": []
  },
  {
   "cell_type": "code",
   "execution_count": null,
   "metadata": {},
   "outputs": [],
   "source": []
  },
  {
   "cell_type": "code",
   "execution_count": 39,
   "metadata": {
    "scrolled": false
   },
   "outputs": [
    {
     "data": {
      "text/plain": [
       "-0.04645937314320131"
      ]
     },
     "execution_count": 39,
     "metadata": {},
     "output_type": "execute_result"
    }
   ],
   "source": [
    "day_hour_col_idx = X_meter.columns.to_list().index('day_hour')\n",
    "\n",
    "cross_val_score(\n",
    "    estimator=MeanByCatEstimator(cat_column_idx=day_hour_col_idx),\n",
    "    X=X_meter,\n",
    "    y=y_meter,\n",
    "    scoring='neg_mean_squared_log_error',\n",
    "    cv=gap_kf).mean()"
   ]
  },
  {
   "cell_type": "code",
   "execution_count": null,
   "metadata": {},
   "outputs": [],
   "source": []
  },
  {
   "cell_type": "code",
   "execution_count": null,
   "metadata": {},
   "outputs": [],
   "source": []
  },
  {
   "cell_type": "code",
   "execution_count": null,
   "metadata": {},
   "outputs": [],
   "source": []
  },
  {
   "cell_type": "code",
   "execution_count": null,
   "metadata": {},
   "outputs": [],
   "source": []
  },
  {
   "cell_type": "code",
   "execution_count": null,
   "metadata": {},
   "outputs": [],
   "source": []
  },
  {
   "cell_type": "code",
   "execution_count": 40,
   "metadata": {},
   "outputs": [],
   "source": [
    "class MeanByMultiCatEstimator(BaseEstimator):\n",
    "    \"\"\" A template estimator to be used as a reference implementation.\n",
    "    For more information regarding how to build your own estimator, read more\n",
    "    in the :ref:`User Guide <user_guide>`.\n",
    "    Parameters\n",
    "    ----------\n",
    "    demo_param : str, default='demo_param'\n",
    "        A parameter used for demonstation of how to pass and store paramters.\n",
    "    \"\"\"\n",
    "    def __init__(self, cat_column_indexes=[0], verbose=False):\n",
    "        self.verbose = verbose\n",
    "        self.cat_column_indexes = cat_column_indexes\n",
    "\n",
    "    def fit(self, X, y):\n",
    "        \"\"\"A reference implementation of a fitting function.\n",
    "        Parameters\n",
    "        ----------\n",
    "        X : {array-like, sparse matrix}, shape (n_samples, n_features)\n",
    "            The training input samples.\n",
    "        y : array-like, shape (n_samples,) or (n_samples, n_outputs)\n",
    "            The target values (class labels in classification, real numbers in\n",
    "            regression).\n",
    "        Returns\n",
    "        -------\n",
    "        self : object\n",
    "            Returns self.\n",
    "        \"\"\"\n",
    "        \n",
    "        X, y = check_X_y(X, y, accept_sparse=True)\n",
    "        \"\"\"Input validation for standard estimators.\n",
    "        Checks X and y for consistent length, enforces X to be 2D and y 1D. By\n",
    "        default, X is checked to be non-empty and containing only finite values.\n",
    "        Standard input checks are also applied to y, such as checking that y\n",
    "        does not have np.nan or np.inf targets. For multi-label y, set\n",
    "        multi_output=True to allow 2D and sparse y. If the dtype of X is\n",
    "        object, attempt converting to float, raising on failure.\n",
    "        \"\"\"\n",
    "        \n",
    "        \n",
    "        cat_columns = []\n",
    "        \n",
    "        for col_idx in self.cat_column_indexes:\n",
    "            if(col_idx >= X.shape[1]):\n",
    "                raise ValueError(\"category column indexes should be < X.shape[1]\")\n",
    "            cat_columns.append(X[:, col_idx])\n",
    "            \n",
    "        cat_tuples = set(zip(*cat_columns))\n",
    "        \n",
    "        categories = {}\n",
    "        self.means = {}\n",
    "        \n",
    "        self.mean = y.mean()\n",
    "        \n",
    "        for x_bin in cat_tuples:\n",
    "            categories[x_bin] = []\n",
    "            \n",
    "        if self.verbose:    \n",
    "            print('categories : {}'.format(categories.keys()))\n",
    "            \n",
    "        for k in range(X.shape[0]):\n",
    "            sample_bin = tuple(X[k, self.cat_column_indexes])\n",
    "            categories[sample_bin].append(y[k])\n",
    "        \n",
    "        for k, v in categories.items():\n",
    "            self.means[k] = np.array(v).mean()\n",
    "        \n",
    "        self.is_fitted_ = True\n",
    "        # `fit` should always return `self`\n",
    "        \n",
    "        if self.verbose:\n",
    "            for k, v in self.means.items():\n",
    "                print('({}, {})'.format(k, v))\n",
    "        \n",
    "        return self\n",
    "\n",
    "    \n",
    "    \n",
    "    def predict(self, X):\n",
    "        \"\"\" A reference implementation of a predicting function.\n",
    "        Parameters\n",
    "        ----------\n",
    "        X : {array-like, sparse matrix}, shape (n_samples, n_features)\n",
    "            The training input samples.\n",
    "        Returns\n",
    "        -------\n",
    "        y : ndarray, shape (n_samples,)\n",
    "            Returns an array of ones.\n",
    "        \"\"\"\n",
    "        \n",
    "        \n",
    "        X = check_array(X, accept_sparse=True)\n",
    "        \"\"\"Input validation on an array, list, sparse matrix or similar.\n",
    "        By default, the input is checked to be a non-empty 2D array containing\n",
    "        only finite values. If the dtype of the array is object, attempt\n",
    "        converting to float, raising on failure.\"\"\"\n",
    "        \n",
    "        check_is_fitted(self, 'is_fitted_')\n",
    "        \n",
    "        predictions = []\n",
    "        \n",
    "        \n",
    "        cat_columns=[]\n",
    "        for col in self.cat_column_indexes:\n",
    "            cat_columns.append(X[:, col])\n",
    "            \n",
    "        cat_tuples = list(zip(*cat_columns))\n",
    "        \n",
    "        \n",
    "        \n",
    "        for sample_cat in cat_tuples:\n",
    "            cat_mean = self.means.get(sample_cat)\n",
    "            if(cat_mean == None):\n",
    "                predictions.append(self.mean)\n",
    "            else:\n",
    "                predictions.append(cat_mean)\n",
    "            \n",
    "        \n",
    "        \n",
    "        return np.array(predictions)"
   ]
  },
  {
   "cell_type": "code",
   "execution_count": 41,
   "metadata": {},
   "outputs": [
    {
     "data": {
      "text/plain": [
       "Index(['air_temperature', 'day_of_week', 'precip_depth_1_hr_ma_24H',\n",
       "       'dew_temperature_ma_24H', 'sea_level_pressure_shift_10H', 'day_hour',\n",
       "       'wind_speed_ma_24H'],\n",
       "      dtype='object')"
      ]
     },
     "execution_count": 41,
     "metadata": {},
     "output_type": "execute_result"
    }
   ],
   "source": [
    "X_meter.columns"
   ]
  },
  {
   "cell_type": "code",
   "execution_count": null,
   "metadata": {},
   "outputs": [],
   "source": []
  },
  {
   "cell_type": "code",
   "execution_count": null,
   "metadata": {},
   "outputs": [],
   "source": []
  },
  {
   "cell_type": "code",
   "execution_count": null,
   "metadata": {},
   "outputs": [],
   "source": []
  },
  {
   "cell_type": "code",
   "execution_count": 42,
   "metadata": {},
   "outputs": [
    {
     "data": {
      "text/plain": [
       "-0.10820027661686792"
      ]
     },
     "execution_count": 42,
     "metadata": {},
     "output_type": "execute_result"
    }
   ],
   "source": [
    "cross_val_score(\n",
    "    estimator=MeanByMultiCatEstimator([0,1]),\n",
    "    X=X_meter,\n",
    "    y=y_meter,\n",
    "    scoring='neg_mean_squared_log_error',\n",
    "    cv=gap_kf).mean()"
   ]
  },
  {
   "cell_type": "code",
   "execution_count": null,
   "metadata": {},
   "outputs": [],
   "source": []
  },
  {
   "cell_type": "code",
   "execution_count": null,
   "metadata": {},
   "outputs": [],
   "source": []
  },
  {
   "cell_type": "code",
   "execution_count": null,
   "metadata": {},
   "outputs": [],
   "source": []
  },
  {
   "cell_type": "code",
   "execution_count": 43,
   "metadata": {},
   "outputs": [],
   "source": [
    "# Let's try a linear regression"
   ]
  },
  {
   "cell_type": "code",
   "execution_count": 44,
   "metadata": {},
   "outputs": [],
   "source": [
    "from sklearn.linear_model import LinearRegression"
   ]
  },
  {
   "cell_type": "code",
   "execution_count": 45,
   "metadata": {},
   "outputs": [
    {
     "data": {
      "text/plain": [
       "LinearRegression(copy_X=True, fit_intercept=True, n_jobs=None, normalize=False)"
      ]
     },
     "execution_count": 45,
     "metadata": {},
     "output_type": "execute_result"
    }
   ],
   "source": [
    "linReg = LinearRegression()\n",
    "\n",
    "linReg.fit(X_meter, y_meter)"
   ]
  },
  {
   "cell_type": "code",
   "execution_count": 46,
   "metadata": {},
   "outputs": [
    {
     "data": {
      "text/plain": [
       "-0.07293833763629023"
      ]
     },
     "execution_count": 46,
     "metadata": {},
     "output_type": "execute_result"
    }
   ],
   "source": [
    "cross_val_score(\n",
    "    estimator=LinearRegression(),\n",
    "    X=X_meter,\n",
    "    y=y_meter,\n",
    "    scoring='neg_mean_squared_log_error',\n",
    "    cv=gap_kf).mean()"
   ]
  },
  {
   "cell_type": "code",
   "execution_count": null,
   "metadata": {},
   "outputs": [],
   "source": []
  },
  {
   "cell_type": "code",
   "execution_count": null,
   "metadata": {},
   "outputs": [],
   "source": []
  },
  {
   "cell_type": "code",
   "execution_count": null,
   "metadata": {},
   "outputs": [],
   "source": []
  },
  {
   "cell_type": "code",
   "execution_count": null,
   "metadata": {},
   "outputs": [],
   "source": []
  },
  {
   "cell_type": "code",
   "execution_count": 47,
   "metadata": {},
   "outputs": [],
   "source": [
    "# Try a k nearest-neighbours.\n",
    "# We need to scale, so to use a scaler with cross-validation, we need to set a pipeline."
   ]
  },
  {
   "cell_type": "code",
   "execution_count": null,
   "metadata": {},
   "outputs": [],
   "source": []
  },
  {
   "cell_type": "code",
   "execution_count": 48,
   "metadata": {},
   "outputs": [
    {
     "data": {
      "text/html": [
       "<div>\n",
       "<style scoped>\n",
       "    .dataframe tbody tr th:only-of-type {\n",
       "        vertical-align: middle;\n",
       "    }\n",
       "\n",
       "    .dataframe tbody tr th {\n",
       "        vertical-align: top;\n",
       "    }\n",
       "\n",
       "    .dataframe thead th {\n",
       "        text-align: right;\n",
       "    }\n",
       "</style>\n",
       "<table border=\"1\" class=\"dataframe\">\n",
       "  <thead>\n",
       "    <tr style=\"text-align: right;\">\n",
       "      <th></th>\n",
       "      <th>air_temperature</th>\n",
       "      <th>day_of_week</th>\n",
       "      <th>precip_depth_1_hr_ma_24H</th>\n",
       "      <th>dew_temperature_ma_24H</th>\n",
       "      <th>sea_level_pressure_shift_10H</th>\n",
       "      <th>day_hour</th>\n",
       "      <th>wind_speed_ma_24H</th>\n",
       "    </tr>\n",
       "    <tr>\n",
       "      <th>timestamp</th>\n",
       "      <th></th>\n",
       "      <th></th>\n",
       "      <th></th>\n",
       "      <th></th>\n",
       "      <th></th>\n",
       "      <th></th>\n",
       "      <th></th>\n",
       "    </tr>\n",
       "  </thead>\n",
       "  <tbody>\n",
       "    <tr>\n",
       "      <th>2016-01-02 00:00:00</th>\n",
       "      <td>-3.3</td>\n",
       "      <td>5</td>\n",
       "      <td>-0.208333</td>\n",
       "      <td>-10.120833</td>\n",
       "      <td>1019.4</td>\n",
       "      <td>0</td>\n",
       "      <td>4.737500</td>\n",
       "    </tr>\n",
       "    <tr>\n",
       "      <th>2016-01-02 01:00:00</th>\n",
       "      <td>-3.9</td>\n",
       "      <td>5</td>\n",
       "      <td>-0.166667</td>\n",
       "      <td>-9.979167</td>\n",
       "      <td>1018.9</td>\n",
       "      <td>1</td>\n",
       "      <td>4.779167</td>\n",
       "    </tr>\n",
       "    <tr>\n",
       "      <th>2016-01-02 02:00:00</th>\n",
       "      <td>-5.0</td>\n",
       "      <td>5</td>\n",
       "      <td>-0.125000</td>\n",
       "      <td>-9.887500</td>\n",
       "      <td>1017.9</td>\n",
       "      <td>2</td>\n",
       "      <td>4.862500</td>\n",
       "    </tr>\n",
       "    <tr>\n",
       "      <th>2016-01-02 03:00:00</th>\n",
       "      <td>-5.6</td>\n",
       "      <td>5</td>\n",
       "      <td>-0.083333</td>\n",
       "      <td>-9.816667</td>\n",
       "      <td>1017.4</td>\n",
       "      <td>3</td>\n",
       "      <td>4.883333</td>\n",
       "    </tr>\n",
       "    <tr>\n",
       "      <th>2016-01-02 04:00:00</th>\n",
       "      <td>-6.1</td>\n",
       "      <td>5</td>\n",
       "      <td>-0.083333</td>\n",
       "      <td>-9.766667</td>\n",
       "      <td>1017.1</td>\n",
       "      <td>4</td>\n",
       "      <td>4.862500</td>\n",
       "    </tr>\n",
       "  </tbody>\n",
       "</table>\n",
       "</div>"
      ],
      "text/plain": [
       "                     air_temperature  day_of_week  precip_depth_1_hr_ma_24H  \\\n",
       "timestamp                                                                     \n",
       "2016-01-02 00:00:00             -3.3            5                 -0.208333   \n",
       "2016-01-02 01:00:00             -3.9            5                 -0.166667   \n",
       "2016-01-02 02:00:00             -5.0            5                 -0.125000   \n",
       "2016-01-02 03:00:00             -5.6            5                 -0.083333   \n",
       "2016-01-02 04:00:00             -6.1            5                 -0.083333   \n",
       "\n",
       "                     dew_temperature_ma_24H  sea_level_pressure_shift_10H  \\\n",
       "timestamp                                                                   \n",
       "2016-01-02 00:00:00              -10.120833                        1019.4   \n",
       "2016-01-02 01:00:00               -9.979167                        1018.9   \n",
       "2016-01-02 02:00:00               -9.887500                        1017.9   \n",
       "2016-01-02 03:00:00               -9.816667                        1017.4   \n",
       "2016-01-02 04:00:00               -9.766667                        1017.1   \n",
       "\n",
       "                     day_hour  wind_speed_ma_24H  \n",
       "timestamp                                         \n",
       "2016-01-02 00:00:00         0           4.737500  \n",
       "2016-01-02 01:00:00         1           4.779167  \n",
       "2016-01-02 02:00:00         2           4.862500  \n",
       "2016-01-02 03:00:00         3           4.883333  \n",
       "2016-01-02 04:00:00         4           4.862500  "
      ]
     },
     "execution_count": 48,
     "metadata": {},
     "output_type": "execute_result"
    }
   ],
   "source": [
    "X_meter.head()"
   ]
  },
  {
   "cell_type": "code",
   "execution_count": null,
   "metadata": {},
   "outputs": [],
   "source": []
  },
  {
   "cell_type": "code",
   "execution_count": null,
   "metadata": {},
   "outputs": [],
   "source": []
  },
  {
   "cell_type": "code",
   "execution_count": 49,
   "metadata": {},
   "outputs": [],
   "source": [
    "from sklearn.preprocessing import StandardScaler\n",
    "from sklearn.pipeline import Pipeline"
   ]
  },
  {
   "cell_type": "code",
   "execution_count": 50,
   "metadata": {},
   "outputs": [],
   "source": [
    "\n",
    "transformers = [('scaler', StandardScaler()), ('estimator', LinearRegression())]\n",
    "\n",
    "my_first_pipe = Pipeline(transformers)\n",
    "\n",
    "\n"
   ]
  },
  {
   "cell_type": "code",
   "execution_count": 51,
   "metadata": {},
   "outputs": [
    {
     "data": {
      "text/plain": [
       "array([-0.09796662, -0.06398672, -0.06379792, -0.09599391, -0.07103132,\n",
       "       -0.0845807 , -0.07904463, -0.08699917, -0.06445765, -0.04719854,\n",
       "       -0.05903246, -0.0611704 ])"
      ]
     },
     "execution_count": 51,
     "metadata": {},
     "output_type": "execute_result"
    }
   ],
   "source": [
    "cross_val_score(my_first_pipe, X_meter, y_meter,  scoring='neg_mean_squared_log_error',\n",
    "    cv=gap_kf)"
   ]
  },
  {
   "cell_type": "code",
   "execution_count": null,
   "metadata": {},
   "outputs": [],
   "source": []
  },
  {
   "cell_type": "code",
   "execution_count": null,
   "metadata": {},
   "outputs": [],
   "source": []
  },
  {
   "cell_type": "code",
   "execution_count": 52,
   "metadata": {},
   "outputs": [],
   "source": [
    "from sklearn.neighbors import KNeighborsRegressor\n",
    "from sklearn.pipeline import make_pipeline\n",
    "from sklearn.model_selection import GridSearchCV"
   ]
  },
  {
   "cell_type": "code",
   "execution_count": 53,
   "metadata": {
    "scrolled": false
   },
   "outputs": [
    {
     "data": {
      "text/plain": [
       "-0.05704436300275637"
      ]
     },
     "execution_count": 53,
     "metadata": {},
     "output_type": "execute_result"
    }
   ],
   "source": [
    "pipe = make_pipeline(StandardScaler(), KNeighborsRegressor())\n",
    "cross_val_score(pipe, X_meter, y_meter, scoring='neg_mean_squared_log_error', cv=gap_kf).mean()"
   ]
  },
  {
   "cell_type": "code",
   "execution_count": 54,
   "metadata": {},
   "outputs": [
    {
     "data": {
      "text/plain": [
       "dict_keys(['memory', 'steps', 'verbose', 'standardscaler', 'kneighborsregressor', 'standardscaler__copy', 'standardscaler__with_mean', 'standardscaler__with_std', 'kneighborsregressor__algorithm', 'kneighborsregressor__leaf_size', 'kneighborsregressor__metric', 'kneighborsregressor__metric_params', 'kneighborsregressor__n_jobs', 'kneighborsregressor__n_neighbors', 'kneighborsregressor__p', 'kneighborsregressor__weights'])"
      ]
     },
     "execution_count": 54,
     "metadata": {},
     "output_type": "execute_result"
    }
   ],
   "source": [
    "pipe.get_params().keys()"
   ]
  },
  {
   "cell_type": "code",
   "execution_count": 55,
   "metadata": {
    "scrolled": false
   },
   "outputs": [
    {
     "data": {
      "text/plain": [
       "GridSearchCV(cv=GapKFold(gap_after=336, gap_before=336, n_splits=12),\n",
       "             error_score='raise-deprecating',\n",
       "             estimator=Pipeline(memory=None,\n",
       "                                steps=[('standardscaler',\n",
       "                                        StandardScaler(copy=True,\n",
       "                                                       with_mean=True,\n",
       "                                                       with_std=True)),\n",
       "                                       ('kneighborsregressor',\n",
       "                                        KNeighborsRegressor(algorithm='auto',\n",
       "                                                            leaf_size=30,\n",
       "                                                            metric='minkowski',\n",
       "                                                            metric_params=None,\n",
       "                                                            n_jobs=None,\n",
       "                                                            n_neighbors=5, p=2,\n",
       "                                                            weights='uniform'))],\n",
       "                                verbose=False),\n",
       "             iid='warn', n_jobs=None,\n",
       "             param_grid={'kneighborsregressor__n_neighbors': [5, 10, 15, 20, 25,\n",
       "                                                              30, 35, 40, 45,\n",
       "                                                              50, 60, 70],\n",
       "                         'kneighborsregressor__p': [1, 2, 3, 4]},\n",
       "             pre_dispatch='2*n_jobs', refit=True, return_train_score=False,\n",
       "             scoring='neg_mean_squared_log_error', verbose=0)"
      ]
     },
     "execution_count": 55,
     "metadata": {},
     "output_type": "execute_result"
    }
   ],
   "source": [
    "pipe = make_pipeline(StandardScaler(), KNeighborsRegressor())\n",
    "\n",
    "knn_grid_params = {\n",
    "    'kneighborsregressor__n_neighbors' : [5, 10, 15, 20, 25, 30, 35, 40, 45, 50, 60, 70],\n",
    "    'kneighborsregressor__p' : [1, 2, 3, 4]\n",
    "}\n",
    "\n",
    "knn_CV = GridSearchCV(\n",
    "    estimator=pipe, \n",
    "    param_grid=knn_grid_params,\n",
    "    scoring='neg_mean_squared_log_error',\n",
    "    cv=gap_kf\n",
    ")\n",
    "\n",
    "knn_CV.fit(X_meter, y_meter)"
   ]
  },
  {
   "cell_type": "code",
   "execution_count": 56,
   "metadata": {},
   "outputs": [
    {
     "data": {
      "text/plain": [
       "{'mean_fit_time': array([0.00907431, 0.00906595, 0.00956583, 0.00924706, 0.00905933,\n",
       "        0.00915203, 0.00945429, 0.00925905, 0.00909917, 0.0090907 ,\n",
       "        0.00926975, 0.00931327, 0.00906517, 0.01098557, 0.00953527,\n",
       "        0.00953162, 0.0091147 , 0.00917468, 0.01005393, 0.00987609,\n",
       "        0.01055231, 0.01071147, 0.00969889, 0.00999039, 0.00943601,\n",
       "        0.00949981, 0.00934782, 0.00969885, 0.00941432, 0.00914168,\n",
       "        0.0096099 , 0.00943118, 0.00939141, 0.00953019, 0.00935215,\n",
       "        0.00933045, 0.0091451 , 0.00928698, 0.00930512, 0.00938596,\n",
       "        0.00920514, 0.00919368, 0.00947704, 0.00951183, 0.00929187,\n",
       "        0.00930796, 0.00944126, 0.00944253]),\n",
       " 'std_fit_time': array([0.00082405, 0.00075596, 0.00114457, 0.00075913, 0.00077006,\n",
       "        0.00081727, 0.00075853, 0.00075708, 0.00075254, 0.00076851,\n",
       "        0.00075292, 0.00082973, 0.00072943, 0.00183227, 0.00107672,\n",
       "        0.00097065, 0.0007684 , 0.00079237, 0.00121796, 0.00110467,\n",
       "        0.0016609 , 0.00189433, 0.00091303, 0.00114054, 0.0005499 ,\n",
       "        0.00121651, 0.00073058, 0.00116457, 0.00098843, 0.00078851,\n",
       "        0.00111205, 0.00075457, 0.00081013, 0.00112259, 0.00074512,\n",
       "        0.00078792, 0.00083323, 0.00058574, 0.00077176, 0.00078526,\n",
       "        0.00081294, 0.0007727 , 0.00078728, 0.00090019, 0.00076356,\n",
       "        0.00067427, 0.00073568, 0.00080105]),\n",
       " 'mean_score_time': array([0.01848827, 0.01157324, 0.20691566, 0.19118828, 0.02175162,\n",
       "        0.01378528, 0.25375434, 0.22927143, 0.02413062, 0.01583876,\n",
       "        0.27868164, 0.25793242, 0.02614274, 0.01967096, 0.30796127,\n",
       "        0.28457675, 0.02780865, 0.01822935, 0.33948835, 0.30800609,\n",
       "        0.03046819, 0.02190952, 0.35297561, 0.33248099, 0.03127011,\n",
       "        0.02145205, 0.37251977, 0.34442614, 0.03309985, 0.0222526 ,\n",
       "        0.39362172, 0.36059682, 0.03495508, 0.02337495, 0.40530572,\n",
       "        0.37516441, 0.03508143, 0.02440685, 0.42112001, 0.3913096 ,\n",
       "        0.03735058, 0.0268595 , 0.45260704, 0.42139373, 0.03975479,\n",
       "        0.02885793, 0.48227769, 0.44957501]),\n",
       " 'std_score_time': array([0.00236582, 0.00136195, 0.0290821 , 0.02590395, 0.00282332,\n",
       "        0.00153888, 0.03791863, 0.03238111, 0.00317287, 0.00210509,\n",
       "        0.04015268, 0.03641176, 0.00345264, 0.00268314, 0.04289479,\n",
       "        0.04150121, 0.00340747, 0.00202636, 0.0479278 , 0.04305319,\n",
       "        0.00335687, 0.00338302, 0.04865033, 0.04743303, 0.00365065,\n",
       "        0.00285446, 0.04758492, 0.045968  , 0.00412861, 0.00240857,\n",
       "        0.05193124, 0.0472656 , 0.00355559, 0.00254301, 0.05241139,\n",
       "        0.04822838, 0.00428787, 0.00242803, 0.05288994, 0.04930125,\n",
       "        0.00390333, 0.00267202, 0.05468033, 0.05112798, 0.00386285,\n",
       "        0.00270151, 0.05656642, 0.0529077 ]),\n",
       " 'param_kneighborsregressor__n_neighbors': masked_array(data=[5, 5, 5, 5, 10, 10, 10, 10, 15, 15, 15, 15, 20, 20, 20,\n",
       "                    20, 25, 25, 25, 25, 30, 30, 30, 30, 35, 35, 35, 35, 40,\n",
       "                    40, 40, 40, 45, 45, 45, 45, 50, 50, 50, 50, 60, 60, 60,\n",
       "                    60, 70, 70, 70, 70],\n",
       "              mask=[False, False, False, False, False, False, False, False,\n",
       "                    False, False, False, False, False, False, False, False,\n",
       "                    False, False, False, False, False, False, False, False,\n",
       "                    False, False, False, False, False, False, False, False,\n",
       "                    False, False, False, False, False, False, False, False,\n",
       "                    False, False, False, False, False, False, False, False],\n",
       "        fill_value='?',\n",
       "             dtype=object),\n",
       " 'param_kneighborsregressor__p': masked_array(data=[1, 2, 3, 4, 1, 2, 3, 4, 1, 2, 3, 4, 1, 2, 3, 4, 1, 2,\n",
       "                    3, 4, 1, 2, 3, 4, 1, 2, 3, 4, 1, 2, 3, 4, 1, 2, 3, 4,\n",
       "                    1, 2, 3, 4, 1, 2, 3, 4, 1, 2, 3, 4],\n",
       "              mask=[False, False, False, False, False, False, False, False,\n",
       "                    False, False, False, False, False, False, False, False,\n",
       "                    False, False, False, False, False, False, False, False,\n",
       "                    False, False, False, False, False, False, False, False,\n",
       "                    False, False, False, False, False, False, False, False,\n",
       "                    False, False, False, False, False, False, False, False],\n",
       "        fill_value='?',\n",
       "             dtype=object),\n",
       " 'params': [{'kneighborsregressor__n_neighbors': 5,\n",
       "   'kneighborsregressor__p': 1},\n",
       "  {'kneighborsregressor__n_neighbors': 5, 'kneighborsregressor__p': 2},\n",
       "  {'kneighborsregressor__n_neighbors': 5, 'kneighborsregressor__p': 3},\n",
       "  {'kneighborsregressor__n_neighbors': 5, 'kneighborsregressor__p': 4},\n",
       "  {'kneighborsregressor__n_neighbors': 10, 'kneighborsregressor__p': 1},\n",
       "  {'kneighborsregressor__n_neighbors': 10, 'kneighborsregressor__p': 2},\n",
       "  {'kneighborsregressor__n_neighbors': 10, 'kneighborsregressor__p': 3},\n",
       "  {'kneighborsregressor__n_neighbors': 10, 'kneighborsregressor__p': 4},\n",
       "  {'kneighborsregressor__n_neighbors': 15, 'kneighborsregressor__p': 1},\n",
       "  {'kneighborsregressor__n_neighbors': 15, 'kneighborsregressor__p': 2},\n",
       "  {'kneighborsregressor__n_neighbors': 15, 'kneighborsregressor__p': 3},\n",
       "  {'kneighborsregressor__n_neighbors': 15, 'kneighborsregressor__p': 4},\n",
       "  {'kneighborsregressor__n_neighbors': 20, 'kneighborsregressor__p': 1},\n",
       "  {'kneighborsregressor__n_neighbors': 20, 'kneighborsregressor__p': 2},\n",
       "  {'kneighborsregressor__n_neighbors': 20, 'kneighborsregressor__p': 3},\n",
       "  {'kneighborsregressor__n_neighbors': 20, 'kneighborsregressor__p': 4},\n",
       "  {'kneighborsregressor__n_neighbors': 25, 'kneighborsregressor__p': 1},\n",
       "  {'kneighborsregressor__n_neighbors': 25, 'kneighborsregressor__p': 2},\n",
       "  {'kneighborsregressor__n_neighbors': 25, 'kneighborsregressor__p': 3},\n",
       "  {'kneighborsregressor__n_neighbors': 25, 'kneighborsregressor__p': 4},\n",
       "  {'kneighborsregressor__n_neighbors': 30, 'kneighborsregressor__p': 1},\n",
       "  {'kneighborsregressor__n_neighbors': 30, 'kneighborsregressor__p': 2},\n",
       "  {'kneighborsregressor__n_neighbors': 30, 'kneighborsregressor__p': 3},\n",
       "  {'kneighborsregressor__n_neighbors': 30, 'kneighborsregressor__p': 4},\n",
       "  {'kneighborsregressor__n_neighbors': 35, 'kneighborsregressor__p': 1},\n",
       "  {'kneighborsregressor__n_neighbors': 35, 'kneighborsregressor__p': 2},\n",
       "  {'kneighborsregressor__n_neighbors': 35, 'kneighborsregressor__p': 3},\n",
       "  {'kneighborsregressor__n_neighbors': 35, 'kneighborsregressor__p': 4},\n",
       "  {'kneighborsregressor__n_neighbors': 40, 'kneighborsregressor__p': 1},\n",
       "  {'kneighborsregressor__n_neighbors': 40, 'kneighborsregressor__p': 2},\n",
       "  {'kneighborsregressor__n_neighbors': 40, 'kneighborsregressor__p': 3},\n",
       "  {'kneighborsregressor__n_neighbors': 40, 'kneighborsregressor__p': 4},\n",
       "  {'kneighborsregressor__n_neighbors': 45, 'kneighborsregressor__p': 1},\n",
       "  {'kneighborsregressor__n_neighbors': 45, 'kneighborsregressor__p': 2},\n",
       "  {'kneighborsregressor__n_neighbors': 45, 'kneighborsregressor__p': 3},\n",
       "  {'kneighborsregressor__n_neighbors': 45, 'kneighborsregressor__p': 4},\n",
       "  {'kneighborsregressor__n_neighbors': 50, 'kneighborsregressor__p': 1},\n",
       "  {'kneighborsregressor__n_neighbors': 50, 'kneighborsregressor__p': 2},\n",
       "  {'kneighborsregressor__n_neighbors': 50, 'kneighborsregressor__p': 3},\n",
       "  {'kneighborsregressor__n_neighbors': 50, 'kneighborsregressor__p': 4},\n",
       "  {'kneighborsregressor__n_neighbors': 60, 'kneighborsregressor__p': 1},\n",
       "  {'kneighborsregressor__n_neighbors': 60, 'kneighborsregressor__p': 2},\n",
       "  {'kneighborsregressor__n_neighbors': 60, 'kneighborsregressor__p': 3},\n",
       "  {'kneighborsregressor__n_neighbors': 60, 'kneighborsregressor__p': 4},\n",
       "  {'kneighborsregressor__n_neighbors': 70, 'kneighborsregressor__p': 1},\n",
       "  {'kneighborsregressor__n_neighbors': 70, 'kneighborsregressor__p': 2},\n",
       "  {'kneighborsregressor__n_neighbors': 70, 'kneighborsregressor__p': 3},\n",
       "  {'kneighborsregressor__n_neighbors': 70, 'kneighborsregressor__p': 4}],\n",
       " 'split0_test_score': array([-0.05227588, -0.06189666, -0.06674456, -0.0686609 , -0.05039473,\n",
       "        -0.05781961, -0.05953285, -0.06145485, -0.05144638, -0.05784477,\n",
       "        -0.05932289, -0.06017079, -0.0531012 , -0.0587126 , -0.05972349,\n",
       "        -0.06051742, -0.05476874, -0.05905257, -0.06044978, -0.06108545,\n",
       "        -0.05524051, -0.05875449, -0.06069022, -0.06159983, -0.05629009,\n",
       "        -0.05894474, -0.0607849 , -0.06192295, -0.05680898, -0.05974783,\n",
       "        -0.06167083, -0.06283895, -0.05715635, -0.06086742, -0.06227399,\n",
       "        -0.06372691, -0.05837603, -0.06190603, -0.06340478, -0.06495787,\n",
       "        -0.06013611, -0.06413814, -0.0658685 , -0.06722571, -0.06197501,\n",
       "        -0.06588737, -0.06772231, -0.068711  ]),\n",
       " 'split1_test_score': array([-0.0657635 , -0.06382045, -0.06431967, -0.06531639, -0.0595137 ,\n",
       "        -0.05865441, -0.05797273, -0.05824358, -0.05741388, -0.05686126,\n",
       "        -0.05604269, -0.05661768, -0.05726017, -0.05596142, -0.05560266,\n",
       "        -0.05564742, -0.05666015, -0.05587549, -0.05573993, -0.05590257,\n",
       "        -0.05719369, -0.05598774, -0.05522177, -0.05570204, -0.05800675,\n",
       "        -0.05611454, -0.05548187, -0.05521949, -0.05792167, -0.0566673 ,\n",
       "        -0.05500981, -0.05493541, -0.05801547, -0.05686845, -0.05560612,\n",
       "        -0.05529541, -0.05772194, -0.05707971, -0.05582065, -0.05540501,\n",
       "        -0.05731868, -0.05762066, -0.05644647, -0.05603642, -0.05667961,\n",
       "        -0.05765253, -0.05683405, -0.05687664]),\n",
       " 'split2_test_score': array([-0.04594563, -0.04672401, -0.04745553, -0.04838429, -0.04258341,\n",
       "        -0.04094721, -0.04125788, -0.04212286, -0.04055313, -0.03903131,\n",
       "        -0.03963198, -0.04049395, -0.03912498, -0.0383131 , -0.03903121,\n",
       "        -0.03946699, -0.03832301, -0.03863928, -0.03964666, -0.040461  ,\n",
       "        -0.03766358, -0.03908712, -0.04086685, -0.04136708, -0.03769435,\n",
       "        -0.03966768, -0.04139625, -0.04220482, -0.03821774, -0.0401638 ,\n",
       "        -0.04167874, -0.04260563, -0.03872948, -0.04066936, -0.04167222,\n",
       "        -0.04259654, -0.03895332, -0.04111634, -0.04182525, -0.04292202,\n",
       "        -0.03921114, -0.04150399, -0.0421983 , -0.04304257, -0.03936574,\n",
       "        -0.0416296 , -0.04260183, -0.0432877 ]),\n",
       " 'split3_test_score': array([-0.04584629, -0.04701713, -0.04832989, -0.04960205, -0.03978192,\n",
       "        -0.03938   , -0.04072175, -0.04148319, -0.03867589, -0.03811558,\n",
       "        -0.03960909, -0.04014371, -0.0376593 , -0.03866853, -0.03938983,\n",
       "        -0.04081512, -0.03696089, -0.03882567, -0.04047791, -0.04116867,\n",
       "        -0.03670829, -0.03944772, -0.04072191, -0.04196157, -0.03694313,\n",
       "        -0.04006456, -0.04112099, -0.0422587 , -0.03737469, -0.04015219,\n",
       "        -0.04134737, -0.04236154, -0.03798525, -0.04067741, -0.04163287,\n",
       "        -0.04269067, -0.03866213, -0.04103645, -0.04185585, -0.04307832,\n",
       "        -0.04005501, -0.04166887, -0.04271129, -0.04372106, -0.04078778,\n",
       "        -0.04220526, -0.04358352, -0.04423125]),\n",
       " 'split4_test_score': array([-0.04749154, -0.05573113, -0.05642938, -0.05764425, -0.04330176,\n",
       "        -0.04726056, -0.04897115, -0.04964926, -0.0408224 , -0.04396815,\n",
       "        -0.04464616, -0.04627938, -0.03970616, -0.04292218, -0.0449022 ,\n",
       "        -0.04529129, -0.03978354, -0.04249329, -0.04465065, -0.0452603 ,\n",
       "        -0.04002058, -0.04187565, -0.04416217, -0.0449242 , -0.03979414,\n",
       "        -0.0418321 , -0.04384801, -0.04465769, -0.03985532, -0.0415611 ,\n",
       "        -0.04300329, -0.04417407, -0.03982033, -0.0414172 , -0.04235272,\n",
       "        -0.04334672, -0.03994581, -0.04082285, -0.04178799, -0.04311049,\n",
       "        -0.03998764, -0.04051971, -0.04135346, -0.04254398, -0.04037854,\n",
       "        -0.04046212, -0.04162591, -0.04256918]),\n",
       " 'split5_test_score': array([-0.07666867, -0.0769923 , -0.08040175, -0.08176204, -0.07030834,\n",
       "        -0.07184021, -0.07482731, -0.07534754, -0.06410405, -0.06626134,\n",
       "        -0.06815592, -0.06951557, -0.06135394, -0.06299986, -0.06413706,\n",
       "        -0.06617529, -0.05946883, -0.06229164, -0.06303439, -0.06445967,\n",
       "        -0.05832298, -0.06160264, -0.0621819 , -0.06311965, -0.05732068,\n",
       "        -0.06104574, -0.06218147, -0.06303984, -0.05670309, -0.0608657 ,\n",
       "        -0.06235943, -0.06305055, -0.05571557, -0.06065184, -0.06243862,\n",
       "        -0.06350631, -0.05510882, -0.06063141, -0.0630297 , -0.0639343 ,\n",
       "        -0.05490516, -0.06070928, -0.06319974, -0.06400335, -0.05470534,\n",
       "        -0.06086987, -0.06313268, -0.06402146]),\n",
       " 'split6_test_score': array([-0.04356521, -0.05018857, -0.05591048, -0.0567689 , -0.04417442,\n",
       "        -0.04615729, -0.04955561, -0.05091084, -0.04404976, -0.04519487,\n",
       "        -0.0469794 , -0.04933151, -0.04430831, -0.04511474, -0.04770523,\n",
       "        -0.04929906, -0.04459473, -0.04632617, -0.04765777, -0.04901986,\n",
       "        -0.04510473, -0.04694698, -0.04863115, -0.0495857 , -0.04526944,\n",
       "        -0.04788461, -0.04956429, -0.05055249, -0.045112  , -0.04771477,\n",
       "        -0.04982929, -0.05119972, -0.04536665, -0.04815146, -0.05002095,\n",
       "        -0.05156648, -0.04575081, -0.0488644 , -0.05029309, -0.05171279,\n",
       "        -0.04629645, -0.04924398, -0.05056697, -0.05196211, -0.04711132,\n",
       "        -0.04950351, -0.05113915, -0.05240619]),\n",
       " 'split7_test_score': array([-0.06658009, -0.07077807, -0.07382545, -0.07501336, -0.06028694,\n",
       "        -0.06237322, -0.06546605, -0.0670312 , -0.05779755, -0.06164101,\n",
       "        -0.06165494, -0.06364582, -0.05557808, -0.05815943, -0.05983423,\n",
       "        -0.06146204, -0.05445716, -0.05757104, -0.05894607, -0.06010544,\n",
       "        -0.05462208, -0.05687919, -0.05819398, -0.05931511, -0.05451189,\n",
       "        -0.05649201, -0.05780509, -0.05922937, -0.05448367, -0.05620017,\n",
       "        -0.05762864, -0.05925371, -0.05507242, -0.05598907, -0.05762325,\n",
       "        -0.05936255, -0.05502745, -0.0560671 , -0.05765999, -0.05982174,\n",
       "        -0.05547206, -0.05656064, -0.05812798, -0.06096824, -0.05516106,\n",
       "        -0.05720632, -0.05972666, -0.06215922]),\n",
       " 'split8_test_score': array([-0.05810975, -0.06588448, -0.06669246, -0.0665188 , -0.04939087,\n",
       "        -0.05351747, -0.05510122, -0.0562554 , -0.04466829, -0.04699163,\n",
       "        -0.04995962, -0.05068715, -0.04341385, -0.04337152, -0.0457514 ,\n",
       "        -0.04703552, -0.04279053, -0.04196866, -0.04375947, -0.04500742,\n",
       "        -0.04270752, -0.04154867, -0.04249323, -0.04425352, -0.0419933 ,\n",
       "        -0.0418377 , -0.04228277, -0.04385231, -0.04175513, -0.0414567 ,\n",
       "        -0.04256002, -0.04357063, -0.04132876, -0.04150286, -0.04236883,\n",
       "        -0.04391003, -0.04109747, -0.04139253, -0.04195232, -0.04354307,\n",
       "        -0.04052921, -0.0407931 , -0.04196686, -0.04276482, -0.04012777,\n",
       "        -0.0408813 , -0.04225612, -0.0433274 ]),\n",
       " 'split9_test_score': array([-0.03658442, -0.04259176, -0.04573168, -0.04686426, -0.02970822,\n",
       "        -0.03250711, -0.03533296, -0.0364845 , -0.02719661, -0.03003471,\n",
       "        -0.03176723, -0.03352767, -0.02613578, -0.02804077, -0.03031048,\n",
       "        -0.03243222, -0.02540639, -0.02639427, -0.02873981, -0.03081297,\n",
       "        -0.02495676, -0.0258733 , -0.02747681, -0.02934387, -0.02423195,\n",
       "        -0.02537706, -0.02715211, -0.02870367, -0.02382826, -0.02470001,\n",
       "        -0.02638541, -0.02762928, -0.02349151, -0.02438301, -0.02584286,\n",
       "        -0.02717567, -0.02316   , -0.02444669, -0.02551538, -0.02668549,\n",
       "        -0.02321506, -0.02390603, -0.02526948, -0.02638348, -0.02307414,\n",
       "        -0.02424004, -0.02551469, -0.02634879]),\n",
       " 'split10_test_score': array([-0.04991671, -0.05264018, -0.05763817, -0.05906097, -0.04541321,\n",
       "        -0.04670516, -0.04847753, -0.04967857, -0.04264016, -0.04460395,\n",
       "        -0.04563076, -0.04700687, -0.04144132, -0.04371475, -0.04493208,\n",
       "        -0.04537488, -0.04055884, -0.04317416, -0.04410797, -0.04538145,\n",
       "        -0.03947889, -0.04233858, -0.04395393, -0.04541139, -0.03889559,\n",
       "        -0.04157545, -0.04354087, -0.04454145, -0.03861645, -0.04107373,\n",
       "        -0.04331865, -0.04442705, -0.03826981, -0.04106975, -0.04333659,\n",
       "        -0.04467632, -0.03826294, -0.04065148, -0.04310745, -0.04464084,\n",
       "        -0.03817402, -0.04027623, -0.04256079, -0.04432251, -0.03829775,\n",
       "        -0.0404673 , -0.04278759, -0.04439283]),\n",
       " 'split11_test_score': array([-0.04734614, -0.05026762, -0.05093033, -0.05177636, -0.04214501,\n",
       "        -0.04445285, -0.04451214, -0.04486096, -0.04077754, -0.0439299 ,\n",
       "        -0.04360714, -0.0432301 , -0.04102763, -0.04408908, -0.04362249,\n",
       "        -0.04349173, -0.04199609, -0.04366012, -0.04410364, -0.04325687,\n",
       "        -0.04288047, -0.0439789 , -0.04458301, -0.04343452, -0.04311453,\n",
       "        -0.04458474, -0.04492923, -0.04445209, -0.04390961, -0.04508175,\n",
       "        -0.04542257, -0.045003  , -0.04482033, -0.04526305, -0.04624536,\n",
       "        -0.04603922, -0.04528357, -0.0458992 , -0.04664564, -0.04662704,\n",
       "        -0.04613046, -0.04653381, -0.04735067, -0.04776691, -0.04683585,\n",
       "        -0.04728936, -0.0479618 , -0.04852992]),\n",
       " 'mean_test_score': array([-0.05300756, -0.05704334, -0.05953279, -0.06061315, -0.04808354,\n",
       "        -0.05013415, -0.05180985, -0.05279264, -0.04584602, -0.04787325,\n",
       "        -0.04891719, -0.05005386, -0.04501006, -0.04667291, -0.04791211,\n",
       "        -0.04891751, -0.04464836, -0.04635685, -0.0476102 , -0.04849402,\n",
       "        -0.04457601, -0.04619441, -0.04743233, -0.04833573, -0.04450677,\n",
       "        -0.04628621, -0.04750835, -0.04838718, -0.04455031, -0.04628345,\n",
       "        -0.04751897, -0.04842186, -0.04464922, -0.0464608 , -0.04761912,\n",
       "        -0.04865887, -0.04478091, -0.04666122, -0.04774291, -0.04887119,\n",
       "        -0.04512116, -0.04695821, -0.04813677, -0.04922997, -0.04537703,\n",
       "        -0.04735999, -0.04874238, -0.04974013]),\n",
       " 'std_test_score': array([0.01104948, 0.01026287, 0.01051991, 0.010568  , 0.01039892,\n",
       "        0.01057814, 0.01083143, 0.01088482, 0.00972209, 0.01020149,\n",
       "        0.01008457, 0.01017578, 0.00956958, 0.00980496, 0.00960201,\n",
       "        0.00966326, 0.00949905, 0.00999078, 0.00964299, 0.0095478 ,\n",
       "        0.0096213 , 0.00989419, 0.00963002, 0.00949374, 0.00984321,\n",
       "        0.00985623, 0.00966499, 0.00955129, 0.00984151, 0.01007124,\n",
       "        0.0098739 , 0.00983761, 0.00986962, 0.01018901, 0.01010313,\n",
       "        0.01009068, 0.00993094, 0.01034335, 0.01042604, 0.01041606,\n",
       "        0.01006525, 0.01083504, 0.01087604, 0.01094281, 0.0101999 ,\n",
       "        0.01104649, 0.01114978, 0.01124659]),\n",
       " 'rank_test_score': array([45, 46, 47, 48, 28, 42, 43, 44, 10, 26, 37, 41,  7, 17, 27, 38,  4,\n",
       "        14, 23, 33,  3, 11, 20, 30,  1, 13, 21, 31,  2, 12, 22, 32,  5, 15,\n",
       "        24, 34,  6, 16, 25, 36,  8, 18, 29, 39,  9, 19, 35, 40],\n",
       "       dtype=int32)}"
      ]
     },
     "execution_count": 56,
     "metadata": {},
     "output_type": "execute_result"
    }
   ],
   "source": [
    "knn_CV.cv_results_"
   ]
  },
  {
   "cell_type": "code",
   "execution_count": 57,
   "metadata": {},
   "outputs": [
    {
     "name": "stdout",
     "output_type": "stream",
     "text": [
      "best_params : {'kneighborsregressor__n_neighbors': 35, 'kneighborsregressor__p': 1}\n",
      "best_score : -0.04450676899920729\n"
     ]
    }
   ],
   "source": [
    "print('best_params : {}'.format(knn_CV.best_params_))\n",
    "print('best_score : {}'.format(knn_CV.best_score_))"
   ]
  },
  {
   "cell_type": "code",
   "execution_count": null,
   "metadata": {},
   "outputs": [],
   "source": []
  },
  {
   "cell_type": "code",
   "execution_count": null,
   "metadata": {},
   "outputs": [],
   "source": []
  },
  {
   "cell_type": "code",
   "execution_count": null,
   "metadata": {},
   "outputs": [],
   "source": []
  },
  {
   "cell_type": "code",
   "execution_count": null,
   "metadata": {},
   "outputs": [],
   "source": []
  },
  {
   "cell_type": "code",
   "execution_count": null,
   "metadata": {},
   "outputs": [],
   "source": []
  },
  {
   "cell_type": "code",
   "execution_count": null,
   "metadata": {},
   "outputs": [],
   "source": []
  },
  {
   "cell_type": "code",
   "execution_count": null,
   "metadata": {},
   "outputs": [],
   "source": []
  },
  {
   "cell_type": "code",
   "execution_count": null,
   "metadata": {},
   "outputs": [],
   "source": [
    "pipe_MLPRegressor = Pipeline([('scaler',  StandardScaler()),\n",
    "            ('MLPRegressor', MLPRegressor(random_state = 42))])\n",
    "\n",
    "\n",
    "grid_params_MLPRegressor = [{\n",
    "    'MLPRegressor__solver': ['lbfgs'],\n",
    "    'MLPRegressor__max_iter': [100,200,300,500],\n",
    "    'MLPRegressor__activation' : ['relu','logistic','tanh'],\n",
    "    'MLPRegressor__hidden_layer_sizes':[(2,), (4,),(2,2),(4,4),(4,2),(10,10),(2,2,2)],\n",
    "}]\n",
    "\n",
    "\n",
    "CV_mlpregressor = GridSearchCV (estimator = pipe_MLPRegressor,\n",
    "                               param_grid = grid_params_MLPRegressor,\n",
    "                               cv = 5,return_train_score=True, verbose=0)\n",
    "\n",
    "CV_mlpregressor.fit(x_train, y_train)\n",
    "\n",
    "CV_mlpregressor.predict(x_test)"
   ]
  },
  {
   "cell_type": "code",
   "execution_count": null,
   "metadata": {},
   "outputs": [],
   "source": []
  },
  {
   "cell_type": "code",
   "execution_count": null,
   "metadata": {},
   "outputs": [],
   "source": []
  },
  {
   "cell_type": "code",
   "execution_count": 58,
   "metadata": {},
   "outputs": [
    {
     "data": {
      "text/plain": [
       "Index(['meter_reading_deseasoned', 'meter_reading', 'meter_reading_seasonal',\n",
       "       'meter_reading_trend'],\n",
       "      dtype='object')"
      ]
     },
     "execution_count": 58,
     "metadata": {},
     "output_type": "execute_result"
    }
   ],
   "source": [
    "Ys_meter.columns"
   ]
  },
  {
   "cell_type": "code",
   "execution_count": null,
   "metadata": {},
   "outputs": [],
   "source": []
  },
  {
   "cell_type": "code",
   "execution_count": null,
   "metadata": {},
   "outputs": [],
   "source": []
  },
  {
   "cell_type": "code",
   "execution_count": null,
   "metadata": {},
   "outputs": [],
   "source": []
  },
  {
   "cell_type": "code",
   "execution_count": null,
   "metadata": {},
   "outputs": [],
   "source": []
  },
  {
   "cell_type": "code",
   "execution_count": null,
   "metadata": {},
   "outputs": [],
   "source": []
  },
  {
   "cell_type": "code",
   "execution_count": null,
   "metadata": {},
   "outputs": [],
   "source": []
  },
  {
   "cell_type": "code",
   "execution_count": null,
   "metadata": {},
   "outputs": [],
   "source": [
    "# Build an estimator which is the sum of an estimator + the seasonal component.\n",
    "\n",
    "\n",
    "\n",
    "\n"
   ]
  },
  {
   "cell_type": "code",
   "execution_count": 158,
   "metadata": {},
   "outputs": [],
   "source": [
    "# TODO plus simple : faire  def __init__(self, trend_estimator, seasonal_component_col_idx)\n",
    "# et mettre y_seasonal dans X\n",
    "\n",
    "class TrendEstimator(BaseEstimator):\n",
    "    \"\"\" A template estimator to be used as a reference implementation.\n",
    "    For more information regarding how to build your own estimator, read more\n",
    "    in the :ref:`User Guide <user_guide>`.\n",
    "    Parameters\n",
    "    ----------\n",
    "    demo_param : str, default='demo_param'\n",
    "        A parameter used for demonstation of how to pass and store paramters.\n",
    "    \"\"\"\n",
    "    def __init__(self, trend_estimator, seasonal_component_function, seasonal_column_idxs):\n",
    "        self.trend_estimator = trend_estimator\n",
    "        self.seasonal_component_function = seasonal_component_function\n",
    "        self.seasonal_column_idxs = seasonal_column_idxs\n",
    "\n",
    "    def fit(self, X, y):\n",
    "        \"\"\"A reference implementation of a fitting function.\n",
    "        Parameters\n",
    "        ----------\n",
    "        X : {array-like, sparse matrix}, shape (n_samples, n_features)\n",
    "            The training input samples.\n",
    "        y : array-like, shape (n_samples,) or (n_samples, n_outputs)\n",
    "            The target values (class labels in classification, real numbers in\n",
    "            regression).\n",
    "        Returns\n",
    "        -------\n",
    "        self : object\n",
    "            Returns self.\n",
    "        \"\"\"\n",
    "        X, y = check_X_y(X, y, accept_sparse=True)\n",
    "        \n",
    "        print('X.shape = {}'.format(X.shape))\n",
    "        \n",
    "        self.features_idxs = list(set(range(X.shape[1])) - set(seasonal_column_idxs))\n",
    "        print('self.features_idxs = {}'.format(self.features_idxs))\n",
    "        \n",
    "        # fit only on trend features\n",
    "        \n",
    "        #X_trend = np.delete(np.copy(X), seasonal_column_idxs, axis=1)\n",
    "        X_trend = X[:, self.features_idxs]\n",
    "        print('X_trend.shape = {}'.format(X_trend.shape))\n",
    "        \n",
    "        self.trend_estimator.fit(X_trend, y)\n",
    "        \n",
    "        self.is_fitted_ = True\n",
    "        # `fit` should always return `self`\n",
    "        return self\n",
    "\n",
    "    def predict(self, X):\n",
    "        \"\"\" A reference implementation of a predicting function.\n",
    "        Parameters\n",
    "        ----------\n",
    "        X : {array-like, sparse matrix}, shape (n_samples, n_features)\n",
    "            The training input samples.\n",
    "        Returns\n",
    "        -------\n",
    "        y : ndarray, shape (n_samples,)\n",
    "            Returns an array of ones.\n",
    "        \"\"\"\n",
    "        \n",
    "        X = check_array(X, accept_sparse=True)\n",
    "        check_is_fitted(self, 'is_fitted_')\n",
    "        \n",
    "        X_trend = X[self.features_idxs]\n",
    "        predicted_trend = self.trend_estimator.predict(X_trend)\n",
    "        \n",
    "        X_season = X[:, seasonal_column_idxs]\n",
    "        \n",
    "        predictions = []\n",
    "        for k in range(X.shape[0]):\n",
    "            season_args_k = X_season[k, :]\n",
    "            predictions.append(predicted_trend[k] + self.seasonal_component_function(season_args_k))\n",
    "        \n",
    "      \n",
    "        return np.array(predictions)"
   ]
  },
  {
   "cell_type": "code",
   "execution_count": null,
   "metadata": {},
   "outputs": [],
   "source": []
  },
  {
   "cell_type": "code",
   "execution_count": 159,
   "metadata": {},
   "outputs": [],
   "source": [
    "def seasonal_function(t_list):\n",
    "    day_of_week = t_list[0]\n",
    "    day_hour = t_list[1]\n",
    "    t = datetime.datetime(2016, 1, 8+day_of_week, day_hour)\n",
    "    return Ys_meter.loc[t, 'meter_reading_trend']"
   ]
  },
  {
   "cell_type": "code",
   "execution_count": 160,
   "metadata": {},
   "outputs": [
    {
     "data": {
      "text/plain": [
       "Index(['air_temperature', 'day_of_week', 'precip_depth_1_hr_ma_24H',\n",
       "       'dew_temperature_ma_24H', 'sea_level_pressure_shift_10H', 'day_hour',\n",
       "       'wind_speed_ma_24H'],\n",
       "      dtype='object')"
      ]
     },
     "execution_count": 160,
     "metadata": {},
     "output_type": "execute_result"
    }
   ],
   "source": [
    "# time cols = [1, 5]\n",
    "X_meter.columns"
   ]
  },
  {
   "cell_type": "code",
   "execution_count": null,
   "metadata": {},
   "outputs": [],
   "source": []
  },
  {
   "cell_type": "code",
   "execution_count": null,
   "metadata": {},
   "outputs": [],
   "source": []
  },
  {
   "cell_type": "code",
   "execution_count": 161,
   "metadata": {},
   "outputs": [
    {
     "name": "stdout",
     "output_type": "stream",
     "text": [
      "X.shape = (8512, 7)\n",
      "self.features_idxs = [0, 1, 4, 5, 6]\n",
      "X_trend.shape = (8512, 5)\n"
     ]
    },
    {
     "data": {
      "text/plain": [
       "TrendEstimator(seasonal_column_idxs=[1, 5],\n",
       "               seasonal_component_function=<function seasonal_function at 0x7f651c22a158>,\n",
       "               trend_estimator=LinearRegression(copy_X=True, fit_intercept=True,\n",
       "                                                n_jobs=None, normalize=False))"
      ]
     },
     "execution_count": 161,
     "metadata": {},
     "output_type": "execute_result"
    }
   ],
   "source": [
    "trendLinReg = LinearRegression()\n",
    "\n",
    "\n",
    "full_est = TrendEstimator(trendLinReg, seasonal_function, [1,5])\n",
    "\n",
    "full_est.fit(X=X_meter, y=Ys_meter['meter_reading_trend'])"
   ]
  },
  {
   "cell_type": "code",
   "execution_count": null,
   "metadata": {},
   "outputs": [],
   "source": []
  },
  {
   "cell_type": "code",
   "execution_count": null,
   "metadata": {},
   "outputs": [],
   "source": []
  },
  {
   "cell_type": "code",
   "execution_count": null,
   "metadata": {},
   "outputs": [],
   "source": []
  },
  {
   "cell_type": "code",
   "execution_count": null,
   "metadata": {},
   "outputs": [],
   "source": []
  },
  {
   "cell_type": "code",
   "execution_count": null,
   "metadata": {},
   "outputs": [],
   "source": []
  },
  {
   "cell_type": "code",
   "execution_count": null,
   "metadata": {},
   "outputs": [],
   "source": []
  },
  {
   "cell_type": "code",
   "execution_count": 46,
   "metadata": {},
   "outputs": [
    {
     "data": {
      "text/plain": [
       "-0.07293833763629023"
      ]
     },
     "execution_count": 46,
     "metadata": {},
     "output_type": "execute_result"
    }
   ],
   "source": [
    "cross_val_score(\n",
    "    estimator=full_est,\n",
    "    X=X_meter,\n",
    "    y=y_meter,\n",
    "    scoring='neg_mean_squared_log_error',\n",
    "    cv=gap_kf).mean()"
   ]
  },
  {
   "cell_type": "code",
   "execution_count": null,
   "metadata": {},
   "outputs": [],
   "source": []
  },
  {
   "cell_type": "code",
   "execution_count": 74,
   "metadata": {},
   "outputs": [],
   "source": [
    "seasonal_column_idxs = [2,3]"
   ]
  },
  {
   "cell_type": "code",
   "execution_count": 77,
   "metadata": {},
   "outputs": [],
   "source": [
    "features_idxs = list(set(range(X_meter.shape[1])) - set(seasonal_column_idxs))"
   ]
  },
  {
   "cell_type": "code",
   "execution_count": 78,
   "metadata": {},
   "outputs": [
    {
     "data": {
      "text/plain": [
       "[0, 1, 4, 5, 6]"
      ]
     },
     "execution_count": 78,
     "metadata": {},
     "output_type": "execute_result"
    }
   ],
   "source": [
    "features_idxs"
   ]
  },
  {
   "cell_type": "code",
   "execution_count": 68,
   "metadata": {},
   "outputs": [],
   "source": [
    "a = X_meter.to_numpy()"
   ]
  },
  {
   "cell_type": "code",
   "execution_count": 71,
   "metadata": {},
   "outputs": [],
   "source": [
    "b = np.delete(a, [2,3], axis=1)"
   ]
  },
  {
   "cell_type": "code",
   "execution_count": 70,
   "metadata": {},
   "outputs": [
    {
     "data": {
      "text/plain": [
       "(8512, 7)"
      ]
     },
     "execution_count": 70,
     "metadata": {},
     "output_type": "execute_result"
    }
   ],
   "source": [
    "a.shape"
   ]
  },
  {
   "cell_type": "code",
   "execution_count": 72,
   "metadata": {},
   "outputs": [
    {
     "data": {
      "text/plain": [
       "(8512, 5)"
      ]
     },
     "execution_count": 72,
     "metadata": {},
     "output_type": "execute_result"
    }
   ],
   "source": [
    "b.shape"
   ]
  },
  {
   "cell_type": "code",
   "execution_count": null,
   "metadata": {},
   "outputs": [],
   "source": []
  },
  {
   "cell_type": "code",
   "execution_count": 130,
   "metadata": {},
   "outputs": [
    {
     "data": {
      "text/plain": [
       "array([0, 1, 2, 3, 4, 5, 6])"
      ]
     },
     "execution_count": 130,
     "metadata": {},
     "output_type": "execute_result"
    }
   ],
   "source": [
    "np.unique(X_meter.day_of_week.values)"
   ]
  },
  {
   "cell_type": "code",
   "execution_count": 123,
   "metadata": {},
   "outputs": [
    {
     "data": {
      "text/plain": [
       "'2016-0-2:00:00'"
      ]
     },
     "execution_count": 123,
     "metadata": {},
     "output_type": "execute_result"
    }
   ],
   "source": [
    "\n",
    "day_of_week = 0\n",
    "day_hour = 2\n",
    "\n"
   ]
  },
  {
   "cell_type": "code",
   "execution_count": 108,
   "metadata": {},
   "outputs": [],
   "source": [
    "from datetime import datetime"
   ]
  },
  {
   "cell_type": "code",
   "execution_count": 134,
   "metadata": {},
   "outputs": [],
   "source": [
    "t = datetime.datetime(2016, 1, 8+day_of_week, day_hour)"
   ]
  },
  {
   "cell_type": "code",
   "execution_count": 135,
   "metadata": {},
   "outputs": [
    {
     "data": {
      "text/plain": [
       "Timestamp('2016-01-02 00:00:00')"
      ]
     },
     "execution_count": 135,
     "metadata": {},
     "output_type": "execute_result"
    }
   ],
   "source": [
    "Ys_meter.index.min()"
   ]
  },
  {
   "cell_type": "code",
   "execution_count": 136,
   "metadata": {},
   "outputs": [
    {
     "data": {
      "text/plain": [
       "105.38227083333334"
      ]
     },
     "execution_count": 136,
     "metadata": {},
     "output_type": "execute_result"
    }
   ],
   "source": [
    "Ys_meter.loc[t, 'meter_reading_trend']"
   ]
  },
  {
   "cell_type": "code",
   "execution_count": 111,
   "metadata": {},
   "outputs": [
    {
     "ename": "NameError",
     "evalue": "name 'fromisocalendar' is not defined",
     "output_type": "error",
     "traceback": [
      "\u001b[0;31m---------------------------------------------------------------------------\u001b[0m",
      "\u001b[0;31mNameError\u001b[0m                                 Traceback (most recent call last)",
      "\u001b[0;32m<ipython-input-111-2fedac279048>\u001b[0m in \u001b[0;36m<module>\u001b[0;34m\u001b[0m\n\u001b[0;32m----> 1\u001b[0;31m \u001b[0mfromisocalendar\u001b[0m\u001b[0;34m(\u001b[0m\u001b[0;36m2016\u001b[0m\u001b[0;34m,\u001b[0m\u001b[0;36m0\u001b[0m\u001b[0;34m,\u001b[0m\u001b[0mday_of_week\u001b[0m\u001b[0;34m)\u001b[0m\u001b[0;34m\u001b[0m\u001b[0;34m\u001b[0m\u001b[0m\n\u001b[0m",
      "\u001b[0;31mNameError\u001b[0m: name 'fromisocalendar' is not defined"
     ]
    }
   ],
   "source": [
    "fromisocalendar(2016,0,day_of_week)"
   ]
  },
  {
   "cell_type": "code",
   "execution_count": 112,
   "metadata": {},
   "outputs": [
    {
     "data": {
      "text/plain": [
       "pandas._libs.tslibs.timestamps.Timestamp"
      ]
     },
     "execution_count": 112,
     "metadata": {},
     "output_type": "execute_result"
    }
   ],
   "source": [
    "type(X_meter.index[0])"
   ]
  },
  {
   "cell_type": "code",
   "execution_count": null,
   "metadata": {},
   "outputs": [],
   "source": []
  },
  {
   "cell_type": "code",
   "execution_count": 101,
   "metadata": {},
   "outputs": [
    {
     "data": {
      "text/plain": [
       "timestamp\n",
       "2016-01-02 00:00:00    False\n",
       "2016-01-02 01:00:00     True\n",
       "2016-01-02 02:00:00    False\n",
       "2016-01-02 03:00:00    False\n",
       "2016-01-02 04:00:00    False\n",
       "2016-01-02 05:00:00    False\n",
       "2016-01-02 06:00:00    False\n",
       "2016-01-02 07:00:00    False\n",
       "2016-01-02 08:00:00    False\n",
       "2016-01-02 09:00:00    False\n",
       "2016-01-02 10:00:00    False\n",
       "2016-01-02 11:00:00    False\n",
       "2016-01-02 12:00:00    False\n",
       "2016-01-02 13:00:00    False\n",
       "2016-01-02 14:00:00    False\n",
       "2016-01-02 15:00:00    False\n",
       "2016-01-02 16:00:00    False\n",
       "2016-01-02 17:00:00    False\n",
       "2016-01-02 18:00:00    False\n",
       "2016-01-02 19:00:00    False\n",
       "2016-01-02 20:00:00    False\n",
       "2016-01-02 21:00:00    False\n",
       "2016-01-02 22:00:00    False\n",
       "2016-01-02 23:00:00    False\n",
       "2016-01-03 00:00:00    False\n",
       "2016-01-03 01:00:00    False\n",
       "2016-01-03 02:00:00    False\n",
       "2016-01-03 03:00:00    False\n",
       "2016-01-03 04:00:00    False\n",
       "2016-01-03 05:00:00    False\n",
       "                       ...  \n",
       "2016-12-30 06:00:00    False\n",
       "2016-12-30 07:00:00    False\n",
       "2016-12-30 08:00:00    False\n",
       "2016-12-30 09:00:00    False\n",
       "2016-12-30 10:00:00    False\n",
       "2016-12-30 11:00:00    False\n",
       "2016-12-30 12:00:00    False\n",
       "2016-12-30 13:00:00    False\n",
       "2016-12-30 14:00:00    False\n",
       "2016-12-30 15:00:00    False\n",
       "2016-12-30 16:00:00    False\n",
       "2016-12-30 17:00:00    False\n",
       "2016-12-30 18:00:00    False\n",
       "2016-12-30 19:00:00    False\n",
       "2016-12-30 20:00:00    False\n",
       "2016-12-30 21:00:00    False\n",
       "2016-12-30 22:00:00    False\n",
       "2016-12-30 23:00:00    False\n",
       "2016-12-31 00:00:00    False\n",
       "2016-12-31 01:00:00     True\n",
       "2016-12-31 02:00:00    False\n",
       "2016-12-31 03:00:00    False\n",
       "2016-12-31 04:00:00    False\n",
       "2016-12-31 05:00:00    False\n",
       "2016-12-31 06:00:00    False\n",
       "2016-12-31 07:00:00    False\n",
       "2016-12-31 08:00:00    False\n",
       "2016-12-31 09:00:00    False\n",
       "2016-12-31 10:00:00    False\n",
       "2016-12-31 11:00:00    False\n",
       "Length: 8512, dtype: bool"
      ]
     },
     "execution_count": 101,
     "metadata": {},
     "output_type": "execute_result"
    }
   ],
   "source": [
    "(X_meter['day_of_week'] == 5) & (X_meter['day_hour'] == 1)"
   ]
  },
  {
   "cell_type": "code",
   "execution_count": null,
   "metadata": {},
   "outputs": [],
   "source": []
  },
  {
   "cell_type": "code",
   "execution_count": null,
   "metadata": {},
   "outputs": [],
   "source": []
  },
  {
   "cell_type": "code",
   "execution_count": null,
   "metadata": {},
   "outputs": [],
   "source": []
  },
  {
   "cell_type": "code",
   "execution_count": 84,
   "metadata": {},
   "outputs": [
    {
     "data": {
      "text/html": [
       "<div>\n",
       "<style scoped>\n",
       "    .dataframe tbody tr th:only-of-type {\n",
       "        vertical-align: middle;\n",
       "    }\n",
       "\n",
       "    .dataframe tbody tr th {\n",
       "        vertical-align: top;\n",
       "    }\n",
       "\n",
       "    .dataframe thead th {\n",
       "        text-align: right;\n",
       "    }\n",
       "</style>\n",
       "<table border=\"1\" class=\"dataframe\">\n",
       "  <thead>\n",
       "    <tr style=\"text-align: right;\">\n",
       "      <th></th>\n",
       "      <th>meter_reading_deseasoned</th>\n",
       "      <th>meter_reading</th>\n",
       "      <th>meter_reading_seasonal</th>\n",
       "      <th>meter_reading_trend</th>\n",
       "    </tr>\n",
       "    <tr>\n",
       "      <th>timestamp</th>\n",
       "      <th></th>\n",
       "      <th></th>\n",
       "      <th></th>\n",
       "      <th></th>\n",
       "    </tr>\n",
       "  </thead>\n",
       "  <tbody>\n",
       "    <tr>\n",
       "      <th>2016-01-02 00:00:00</th>\n",
       "      <td>100.625415</td>\n",
       "      <td>73.866</td>\n",
       "      <td>-26.759415</td>\n",
       "      <td>82.076000</td>\n",
       "    </tr>\n",
       "    <tr>\n",
       "      <th>2016-01-02 01:00:00</th>\n",
       "      <td>102.257222</td>\n",
       "      <td>69.788</td>\n",
       "      <td>-32.469222</td>\n",
       "      <td>82.069396</td>\n",
       "    </tr>\n",
       "    <tr>\n",
       "      <th>2016-01-02 02:00:00</th>\n",
       "      <td>104.268572</td>\n",
       "      <td>68.563</td>\n",
       "      <td>-35.705572</td>\n",
       "      <td>82.132312</td>\n",
       "    </tr>\n",
       "    <tr>\n",
       "      <th>2016-01-02 03:00:00</th>\n",
       "      <td>106.015202</td>\n",
       "      <td>69.133</td>\n",
       "      <td>-36.882202</td>\n",
       "      <td>81.996854</td>\n",
       "    </tr>\n",
       "    <tr>\n",
       "      <th>2016-01-02 04:00:00</th>\n",
       "      <td>106.447799</td>\n",
       "      <td>69.085</td>\n",
       "      <td>-37.362799</td>\n",
       "      <td>81.552562</td>\n",
       "    </tr>\n",
       "  </tbody>\n",
       "</table>\n",
       "</div>"
      ],
      "text/plain": [
       "                     meter_reading_deseasoned  meter_reading  \\\n",
       "timestamp                                                      \n",
       "2016-01-02 00:00:00                100.625415         73.866   \n",
       "2016-01-02 01:00:00                102.257222         69.788   \n",
       "2016-01-02 02:00:00                104.268572         68.563   \n",
       "2016-01-02 03:00:00                106.015202         69.133   \n",
       "2016-01-02 04:00:00                106.447799         69.085   \n",
       "\n",
       "                     meter_reading_seasonal  meter_reading_trend  \n",
       "timestamp                                                         \n",
       "2016-01-02 00:00:00              -26.759415            82.076000  \n",
       "2016-01-02 01:00:00              -32.469222            82.069396  \n",
       "2016-01-02 02:00:00              -35.705572            82.132312  \n",
       "2016-01-02 03:00:00              -36.882202            81.996854  \n",
       "2016-01-02 04:00:00              -37.362799            81.552562  "
      ]
     },
     "execution_count": 84,
     "metadata": {},
     "output_type": "execute_result"
    }
   ],
   "source": [
    "Ys_meter.head()"
   ]
  },
  {
   "cell_type": "code",
   "execution_count": 83,
   "metadata": {},
   "outputs": [
    {
     "data": {
      "text/plain": [
       "82.1323125"
      ]
     },
     "execution_count": 83,
     "metadata": {},
     "output_type": "execute_result"
    }
   ],
   "source": [
    "Ys_meter.loc['2016-01-02 02:00:00', 'meter_reading_trend']"
   ]
  },
  {
   "cell_type": "code",
   "execution_count": null,
   "metadata": {},
   "outputs": [],
   "source": []
  }
 ],
 "metadata": {
  "kernelspec": {
   "display_name": "Python 3",
   "language": "python",
   "name": "python3"
  },
  "language_info": {
   "codemirror_mode": {
    "name": "ipython",
    "version": 3
   },
   "file_extension": ".py",
   "mimetype": "text/x-python",
   "name": "python",
   "nbconvert_exporter": "python",
   "pygments_lexer": "ipython3",
   "version": "3.7.3"
  }
 },
 "nbformat": 4,
 "nbformat_minor": 2
}
