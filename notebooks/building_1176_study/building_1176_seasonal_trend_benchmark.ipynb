{
 "cells": [
  {
   "cell_type": "code",
   "execution_count": 1,
   "metadata": {},
   "outputs": [],
   "source": [
    "import numpy as np\n",
    "import pandas as pd\n",
    "\n",
    "from sklearn.base import BaseEstimator\n",
    "from sklearn.utils.validation import check_X_y, check_array, check_is_fitted, column_or_1d\n",
    "from sklearn.dummy import DummyRegressor\n",
    "from sklearn.model_selection import cross_val_score\n",
    "\n",
    "from tscv import GapKFold\n",
    "\n",
    "import matplotlib.pyplot as plt\n",
    "import matplotlib.ticker as ticker\n",
    "import matplotlib.pyplot as plt\n",
    "import matplotlib.dates as mdates\n",
    "import seaborn as sns\n",
    "\n",
    "from pandas.plotting import register_matplotlib_converters\n",
    "register_matplotlib_converters()\n",
    "\n",
    "%matplotlib inline"
   ]
  },
  {
   "cell_type": "markdown",
   "metadata": {},
   "source": [
    "The goal here is to build and evalutate simple models based on mean meter readings (per day of week, per hour)."
   ]
  },
  {
   "cell_type": "markdown",
   "metadata": {},
   "source": [
    "An important and tricky point is how are we going to split the data between train and validation.<br>\n",
    "For time-serie data, usually we cannot do the usual random split, because of correlations.<br>\n",
    "Usually, some kind of walk-forward approach is used.<br>\n",
    "Here, we use hv-block cross validation : we keep a gap of unused data between train and validation, to avoid using correlated data between train and validation.<br>\n",
    "This method has been studied and described by Racine (2000) : http://citeseerx.ist.psu.edu/viewdoc/download?doi=10.1.1.30.6748&rep=rep1&type=pdf<br>\n",
    "We used an open-source implementation that extends scikit-learn : http://www.zhengwenjie.net/tscv/<br>\n",
    "See notebook 'test_tscv_lib.ipynb'"
   ]
  },
  {
   "cell_type": "code",
   "execution_count": 102,
   "metadata": {},
   "outputs": [
    {
     "name": "stdout",
     "output_type": "stream",
     "text": [
      "<class 'pandas.core.frame.DataFrame'>\n",
      "DatetimeIndex: 8512 entries, 2016-01-02 00:00:00 to 2016-12-31 11:00:00\n",
      "Data columns (total 12 columns):\n",
      "day_of_week                     8512 non-null int64\n",
      "day_hour                        8512 non-null int64\n",
      "dew_temperature_ma_24H          8512 non-null float64\n",
      "air_temperature                 8512 non-null float64\n",
      "wind_speed_ma_24H               8512 non-null float64\n",
      "precip_depth_1_hr_ma_24H        8512 non-null float64\n",
      "sea_level_pressure_shift_10H    8512 non-null float64\n",
      "meter_reading                   8512 non-null float64\n",
      "meter_reading_trend             8512 non-null float64\n",
      "meter_reading_seasonal          8512 non-null float64\n",
      "meter_reading_deseasoned        8512 non-null float64\n",
      "meter_reading_resid             8512 non-null float64\n",
      "dtypes: float64(10), int64(2)\n",
      "memory usage: 864.5 KB\n"
     ]
    }
   ],
   "source": [
    "filepath = '../../data/intermediate/experimentation_train_sets/'\n",
    "\n",
    "filename = 'train_b_1176_m_0_t_20200119_132059.csv'\n",
    "\n",
    "df_features = pd.read_csv(filepath + filename, parse_dates=['timestamp'], index_col=['timestamp'])\n",
    "df_features.info()"
   ]
  },
  {
   "cell_type": "code",
   "execution_count": 103,
   "metadata": {},
   "outputs": [
    {
     "data": {
      "text/html": [
       "<div>\n",
       "<style scoped>\n",
       "    .dataframe tbody tr th:only-of-type {\n",
       "        vertical-align: middle;\n",
       "    }\n",
       "\n",
       "    .dataframe tbody tr th {\n",
       "        vertical-align: top;\n",
       "    }\n",
       "\n",
       "    .dataframe thead th {\n",
       "        text-align: right;\n",
       "    }\n",
       "</style>\n",
       "<table border=\"1\" class=\"dataframe\">\n",
       "  <thead>\n",
       "    <tr style=\"text-align: right;\">\n",
       "      <th></th>\n",
       "      <th>day_of_week</th>\n",
       "      <th>day_hour</th>\n",
       "      <th>dew_temperature_ma_24H</th>\n",
       "      <th>air_temperature</th>\n",
       "      <th>wind_speed_ma_24H</th>\n",
       "      <th>precip_depth_1_hr_ma_24H</th>\n",
       "      <th>sea_level_pressure_shift_10H</th>\n",
       "      <th>meter_reading</th>\n",
       "      <th>meter_reading_trend</th>\n",
       "      <th>meter_reading_seasonal</th>\n",
       "      <th>meter_reading_deseasoned</th>\n",
       "      <th>meter_reading_resid</th>\n",
       "    </tr>\n",
       "    <tr>\n",
       "      <th>timestamp</th>\n",
       "      <th></th>\n",
       "      <th></th>\n",
       "      <th></th>\n",
       "      <th></th>\n",
       "      <th></th>\n",
       "      <th></th>\n",
       "      <th></th>\n",
       "      <th></th>\n",
       "      <th></th>\n",
       "      <th></th>\n",
       "      <th></th>\n",
       "      <th></th>\n",
       "    </tr>\n",
       "  </thead>\n",
       "  <tbody>\n",
       "    <tr>\n",
       "      <th>2016-01-02 00:00:00</th>\n",
       "      <td>5</td>\n",
       "      <td>0</td>\n",
       "      <td>-10.120833</td>\n",
       "      <td>-3.3</td>\n",
       "      <td>4.737500</td>\n",
       "      <td>-0.208333</td>\n",
       "      <td>1019.4</td>\n",
       "      <td>73.866</td>\n",
       "      <td>82.076000</td>\n",
       "      <td>-26.759415</td>\n",
       "      <td>100.625415</td>\n",
       "      <td>18.549415</td>\n",
       "    </tr>\n",
       "    <tr>\n",
       "      <th>2016-01-02 01:00:00</th>\n",
       "      <td>5</td>\n",
       "      <td>1</td>\n",
       "      <td>-9.979167</td>\n",
       "      <td>-3.9</td>\n",
       "      <td>4.779167</td>\n",
       "      <td>-0.166667</td>\n",
       "      <td>1018.9</td>\n",
       "      <td>69.788</td>\n",
       "      <td>82.069396</td>\n",
       "      <td>-32.469222</td>\n",
       "      <td>102.257222</td>\n",
       "      <td>20.187826</td>\n",
       "    </tr>\n",
       "    <tr>\n",
       "      <th>2016-01-02 02:00:00</th>\n",
       "      <td>5</td>\n",
       "      <td>2</td>\n",
       "      <td>-9.887500</td>\n",
       "      <td>-5.0</td>\n",
       "      <td>4.862500</td>\n",
       "      <td>-0.125000</td>\n",
       "      <td>1017.9</td>\n",
       "      <td>68.563</td>\n",
       "      <td>82.132312</td>\n",
       "      <td>-35.705572</td>\n",
       "      <td>104.268572</td>\n",
       "      <td>22.136259</td>\n",
       "    </tr>\n",
       "    <tr>\n",
       "      <th>2016-01-02 03:00:00</th>\n",
       "      <td>5</td>\n",
       "      <td>3</td>\n",
       "      <td>-9.816667</td>\n",
       "      <td>-5.6</td>\n",
       "      <td>4.883333</td>\n",
       "      <td>-0.083333</td>\n",
       "      <td>1017.4</td>\n",
       "      <td>69.133</td>\n",
       "      <td>81.996854</td>\n",
       "      <td>-36.882202</td>\n",
       "      <td>106.015202</td>\n",
       "      <td>24.018348</td>\n",
       "    </tr>\n",
       "    <tr>\n",
       "      <th>2016-01-02 04:00:00</th>\n",
       "      <td>5</td>\n",
       "      <td>4</td>\n",
       "      <td>-9.766667</td>\n",
       "      <td>-6.1</td>\n",
       "      <td>4.862500</td>\n",
       "      <td>-0.083333</td>\n",
       "      <td>1017.1</td>\n",
       "      <td>69.085</td>\n",
       "      <td>81.552562</td>\n",
       "      <td>-37.362799</td>\n",
       "      <td>106.447799</td>\n",
       "      <td>24.895237</td>\n",
       "    </tr>\n",
       "  </tbody>\n",
       "</table>\n",
       "</div>"
      ],
      "text/plain": [
       "                     day_of_week  day_hour  dew_temperature_ma_24H  \\\n",
       "timestamp                                                            \n",
       "2016-01-02 00:00:00            5         0              -10.120833   \n",
       "2016-01-02 01:00:00            5         1               -9.979167   \n",
       "2016-01-02 02:00:00            5         2               -9.887500   \n",
       "2016-01-02 03:00:00            5         3               -9.816667   \n",
       "2016-01-02 04:00:00            5         4               -9.766667   \n",
       "\n",
       "                     air_temperature  wind_speed_ma_24H  \\\n",
       "timestamp                                                 \n",
       "2016-01-02 00:00:00             -3.3           4.737500   \n",
       "2016-01-02 01:00:00             -3.9           4.779167   \n",
       "2016-01-02 02:00:00             -5.0           4.862500   \n",
       "2016-01-02 03:00:00             -5.6           4.883333   \n",
       "2016-01-02 04:00:00             -6.1           4.862500   \n",
       "\n",
       "                     precip_depth_1_hr_ma_24H  sea_level_pressure_shift_10H  \\\n",
       "timestamp                                                                     \n",
       "2016-01-02 00:00:00                 -0.208333                        1019.4   \n",
       "2016-01-02 01:00:00                 -0.166667                        1018.9   \n",
       "2016-01-02 02:00:00                 -0.125000                        1017.9   \n",
       "2016-01-02 03:00:00                 -0.083333                        1017.4   \n",
       "2016-01-02 04:00:00                 -0.083333                        1017.1   \n",
       "\n",
       "                     meter_reading  meter_reading_trend  \\\n",
       "timestamp                                                 \n",
       "2016-01-02 00:00:00         73.866            82.076000   \n",
       "2016-01-02 01:00:00         69.788            82.069396   \n",
       "2016-01-02 02:00:00         68.563            82.132312   \n",
       "2016-01-02 03:00:00         69.133            81.996854   \n",
       "2016-01-02 04:00:00         69.085            81.552562   \n",
       "\n",
       "                     meter_reading_seasonal  meter_reading_deseasoned  \\\n",
       "timestamp                                                               \n",
       "2016-01-02 00:00:00              -26.759415                100.625415   \n",
       "2016-01-02 01:00:00              -32.469222                102.257222   \n",
       "2016-01-02 02:00:00              -35.705572                104.268572   \n",
       "2016-01-02 03:00:00              -36.882202                106.015202   \n",
       "2016-01-02 04:00:00              -37.362799                106.447799   \n",
       "\n",
       "                     meter_reading_resid  \n",
       "timestamp                                 \n",
       "2016-01-02 00:00:00            18.549415  \n",
       "2016-01-02 01:00:00            20.187826  \n",
       "2016-01-02 02:00:00            22.136259  \n",
       "2016-01-02 03:00:00            24.018348  \n",
       "2016-01-02 04:00:00            24.895237  "
      ]
     },
     "execution_count": 103,
     "metadata": {},
     "output_type": "execute_result"
    }
   ],
   "source": [
    "df_features.head()"
   ]
  },
  {
   "cell_type": "code",
   "execution_count": 108,
   "metadata": {},
   "outputs": [
    {
     "name": "stdout",
     "output_type": "stream",
     "text": [
      "{'meter_reading_seasonal', 'day_of_week', 'wind_speed_ma_24H', 'dew_temperature_ma_24H', 'air_temperature', 'meter_reading_resid', 'sea_level_pressure_shift_10H', 'precip_depth_1_hr_ma_24H'}\n"
     ]
    }
   ],
   "source": [
    "target_variables = set(['meter_reading', 'meter_reading_trend', 'meter_reading_deseasoned'])\n",
    "features_variables = set(df_features.columns.to_list())-target_variables\n",
    "meteorological_variables = features_variables - set(['day_hour'])\n",
    "print(meteorological_variables)"
   ]
  },
  {
   "cell_type": "code",
   "execution_count": null,
   "metadata": {},
   "outputs": [],
   "source": []
  },
  {
   "cell_type": "code",
   "execution_count": 109,
   "metadata": {
    "scrolled": true
   },
   "outputs": [
    {
     "name": "stdout",
     "output_type": "stream",
     "text": [
      "X_meter.shape = (8512, 8), Ys_meter.shape = (8512, 3)\n"
     ]
    }
   ],
   "source": [
    "#y_meter_trend = df_features['meter_reading']\n",
    "#y_meter_seasonal = df_features['meter_reading_seasonal']\n",
    "#y_meter_deseasoned = df_features['meter_reading_deseasoned']\n",
    "Ys_meter = df_features[target_variables]\n",
    "\n",
    "X_meter = df_features.loc[:, meteorological_variables]\n",
    "print('X_meter.shape = {}, Ys_meter.shape = {}'.format(X_meter.shape, Ys_meter.shape))"
   ]
  },
  {
   "cell_type": "code",
   "execution_count": 110,
   "metadata": {},
   "outputs": [
    {
     "data": {
      "text/plain": [
       "Index(['meter_reading_seasonal', 'day_of_week', 'wind_speed_ma_24H',\n",
       "       'dew_temperature_ma_24H', 'air_temperature', 'meter_reading_resid',\n",
       "       'sea_level_pressure_shift_10H', 'precip_depth_1_hr_ma_24H'],\n",
       "      dtype='object')"
      ]
     },
     "execution_count": 110,
     "metadata": {},
     "output_type": "execute_result"
    }
   ],
   "source": [
    "X_meter.columns"
   ]
  },
  {
   "cell_type": "code",
   "execution_count": 93,
   "metadata": {},
   "outputs": [],
   "source": [
    "# GapKFold\n",
    "# gap ~ two weeks, train = 1 month (12 folds)\n",
    "\n",
    "gap = 24*7*2\n",
    "gap_kf = GapKFold(n_splits=12, gap_before=gap, gap_after=gap)"
   ]
  },
  {
   "cell_type": "code",
   "execution_count": null,
   "metadata": {},
   "outputs": [],
   "source": []
  },
  {
   "cell_type": "code",
   "execution_count": null,
   "metadata": {},
   "outputs": [],
   "source": []
  },
  {
   "cell_type": "markdown",
   "metadata": {},
   "source": [
    "Let's build a mean value estimator.\n",
    "\n",
    "From https://github.com/scikit-learn-contrib/project-template/blob/master/skltemplate/_template.py"
   ]
  },
  {
   "cell_type": "markdown",
   "metadata": {},
   "source": [
    "check_array and check_X_y\n",
    "\n",
    "https://github.com/scikit-learn/scikit-learn/blob/e5698bde9/sklearn/utils/validation.py#L904"
   ]
  },
  {
   "cell_type": "code",
   "execution_count": 7,
   "metadata": {},
   "outputs": [],
   "source": [
    "# Actually we don't need that because it already exists in sklearn, under the name 'dummyRegressor'\n",
    "# https://scikit-learn.org/stable/modules/generated/sklearn.dummy.DummyRegressor.html"
   ]
  },
  {
   "cell_type": "code",
   "execution_count": null,
   "metadata": {},
   "outputs": [],
   "source": []
  },
  {
   "cell_type": "code",
   "execution_count": null,
   "metadata": {},
   "outputs": [],
   "source": []
  },
  {
   "cell_type": "code",
   "execution_count": 8,
   "metadata": {},
   "outputs": [
    {
     "ename": "NameError",
     "evalue": "name 'y_meter' is not defined",
     "output_type": "error",
     "traceback": [
      "\u001b[0;31m---------------------------------------------------------------------------\u001b[0m",
      "\u001b[0;31mNameError\u001b[0m                                 Traceback (most recent call last)",
      "\u001b[0;32m<ipython-input-8-03f6d332b457>\u001b[0m in \u001b[0;36m<module>\u001b[0;34m\u001b[0m\n\u001b[1;32m      2\u001b[0m     \u001b[0mestimator\u001b[0m\u001b[0;34m=\u001b[0m\u001b[0mDummyRegressor\u001b[0m\u001b[0;34m(\u001b[0m\u001b[0mstrategy\u001b[0m\u001b[0;34m=\u001b[0m\u001b[0;34m\"mean\"\u001b[0m\u001b[0;34m)\u001b[0m\u001b[0;34m,\u001b[0m\u001b[0;34m\u001b[0m\u001b[0;34m\u001b[0m\u001b[0m\n\u001b[1;32m      3\u001b[0m     \u001b[0mX\u001b[0m\u001b[0;34m=\u001b[0m\u001b[0mX_meter\u001b[0m\u001b[0;34m,\u001b[0m\u001b[0;34m\u001b[0m\u001b[0;34m\u001b[0m\u001b[0m\n\u001b[0;32m----> 4\u001b[0;31m     \u001b[0my\u001b[0m\u001b[0;34m=\u001b[0m\u001b[0my_meter\u001b[0m\u001b[0;34m,\u001b[0m\u001b[0;34m\u001b[0m\u001b[0;34m\u001b[0m\u001b[0m\n\u001b[0m\u001b[1;32m      5\u001b[0m     \u001b[0mscoring\u001b[0m\u001b[0;34m=\u001b[0m\u001b[0;34m'neg_mean_squared_log_error'\u001b[0m\u001b[0;34m,\u001b[0m\u001b[0;34m\u001b[0m\u001b[0;34m\u001b[0m\u001b[0m\n\u001b[1;32m      6\u001b[0m     cv=gap_kf).mean()\n",
      "\u001b[0;31mNameError\u001b[0m: name 'y_meter' is not defined"
     ]
    }
   ],
   "source": [
    "cross_val_score(\n",
    "    estimator=DummyRegressor(strategy=\"mean\"),\n",
    "    X=X_meter,\n",
    "    y=y_meter,\n",
    "    scoring='neg_mean_squared_log_error',\n",
    "    cv=gap_kf).mean()"
   ]
  },
  {
   "cell_type": "code",
   "execution_count": null,
   "metadata": {},
   "outputs": [],
   "source": [
    "cross_val_score(\n",
    "    estimator=DummyRegressor(strategy=\"median\"),\n",
    "    X=X_meter,\n",
    "    y=y_meter,\n",
    "    scoring='neg_mean_squared_log_error',\n",
    "    cv=gap_kf).mean()"
   ]
  },
  {
   "cell_type": "code",
   "execution_count": 9,
   "metadata": {},
   "outputs": [],
   "source": [
    "# note : this is not the RMSLE metric defined for the competition, it is not in sklearn, we must implement it."
   ]
  },
  {
   "cell_type": "code",
   "execution_count": null,
   "metadata": {},
   "outputs": [],
   "source": []
  },
  {
   "cell_type": "code",
   "execution_count": 10,
   "metadata": {},
   "outputs": [],
   "source": [
    "# Now let's take the mean by hour"
   ]
  },
  {
   "cell_type": "code",
   "execution_count": 11,
   "metadata": {},
   "outputs": [],
   "source": [
    "class MeanByCatEstimator(BaseEstimator):\n",
    "    \"\"\" A template estimator to be used as a reference implementation.\n",
    "    For more information regarding how to build your own estimator, read more\n",
    "    in the :ref:`User Guide <user_guide>`.\n",
    "    Parameters\n",
    "    ----------\n",
    "    demo_param : str, default='demo_param'\n",
    "        A parameter used for demonstation of how to pass and store paramters.\n",
    "    \"\"\"\n",
    "    def __init__(self, cat_column_idx=0, verbose=False):\n",
    "        self.verbose = verbose\n",
    "        self.cat_column_idx= cat_column_idx\n",
    "\n",
    "    def fit(self, X, y):\n",
    "        \"\"\"A reference implementation of a fitting function.\n",
    "        Parameters\n",
    "        ----------\n",
    "        X : {array-like, sparse matrix}, shape (n_samples, n_features)\n",
    "            The training input samples.\n",
    "        y : array-like, shape (n_samples,) or (n_samples, n_outputs)\n",
    "            The target values (class labels in classification, real numbers in\n",
    "            regression).\n",
    "        Returns\n",
    "        -------\n",
    "        self : object\n",
    "            Returns self.\n",
    "        \"\"\"\n",
    "        \n",
    "        X, y = check_X_y(X, y, accept_sparse=True)\n",
    "        \"\"\"Input validation for standard estimators.\n",
    "        Checks X and y for consistent length, enforces X to be 2D and y 1D. By\n",
    "        default, X is checked to be non-empty and containing only finite values.\n",
    "        Standard input checks are also applied to y, such as checking that y\n",
    "        does not have np.nan or np.inf targets. For multi-label y, set\n",
    "        multi_output=True to allow 2D and sparse y. If the dtype of X is\n",
    "        object, attempt converting to float, raising on failure.\n",
    "        \"\"\"\n",
    "        \n",
    "        if(self.cat_column_idx >= X.shape[1]):\n",
    "             raise ValueError(\"category column index should be < X.shape[1]\")\n",
    "        \n",
    "        categories = {}\n",
    "        self.means = {}\n",
    "        \n",
    "        self.mean = y.mean()\n",
    "        \n",
    "        for x_bin in np.unique(X[:, self.cat_column_idx]):\n",
    "            categories[x_bin] = []\n",
    "            \n",
    "        if self.verbose:    \n",
    "            print('categories : {}'.format(categories.keys()))\n",
    "            \n",
    "        for k in range(X.shape[0]):\n",
    "            categories[X[k, self.cat_column_idx]].append(y[k])\n",
    "        \n",
    "        for k, v in categories.items():\n",
    "            self.means[k] = np.array(v).mean()\n",
    "        \n",
    "        self.is_fitted_ = True\n",
    "        # `fit` should always return `self`\n",
    "        \n",
    "        if self.verbose:\n",
    "            for k, v in self.means.items():\n",
    "                print('({}, {})'.format(k, v))\n",
    "        \n",
    "        return self\n",
    "\n",
    "    \n",
    "    \n",
    "    def predict(self, X):\n",
    "        \"\"\" A reference implementation of a predicting function.\n",
    "        Parameters\n",
    "        ----------\n",
    "        X : {array-like, sparse matrix}, shape (n_samples, n_features)\n",
    "            The training input samples.\n",
    "        Returns\n",
    "        -------\n",
    "        y : ndarray, shape (n_samples,)\n",
    "            Returns an array of ones.\n",
    "        \"\"\"\n",
    "        \n",
    "        \n",
    "        X = check_array(X, accept_sparse=True)\n",
    "        \"\"\"Input validation on an array, list, sparse matrix or similar.\n",
    "        By default, the input is checked to be a non-empty 2D array containing\n",
    "        only finite values. If the dtype of the array is object, attempt\n",
    "        converting to float, raising on failure.\"\"\"\n",
    "        \n",
    "        check_is_fitted(self, 'is_fitted_')\n",
    "        \n",
    "        predictions = []\n",
    "        \n",
    "        for sample_cat in X[:, self.cat_column_idx]:\n",
    "            cat_mean = self.means.get(sample_cat)\n",
    "            if(cat_mean == None):\n",
    "                predictions.append(self.mean)\n",
    "            else:\n",
    "                predictions.append(cat_mean)\n",
    "            \n",
    "        \n",
    "        \n",
    "        return np.array(predictions)"
   ]
  },
  {
   "cell_type": "code",
   "execution_count": null,
   "metadata": {},
   "outputs": [],
   "source": []
  },
  {
   "cell_type": "code",
   "execution_count": 12,
   "metadata": {},
   "outputs": [],
   "source": [
    "day_hour_col_idx = X_meter.columns.to_list().index('day_hour')\n",
    "\n",
    "myEst = MeanByCatEstimator(cat_column_idx=day_hour_col_idx)"
   ]
  },
  {
   "cell_type": "code",
   "execution_count": 13,
   "metadata": {
    "scrolled": true
   },
   "outputs": [
    {
     "ename": "NameError",
     "evalue": "name 'y_meter' is not defined",
     "output_type": "error",
     "traceback": [
      "\u001b[0;31m---------------------------------------------------------------------------\u001b[0m",
      "\u001b[0;31mNameError\u001b[0m                                 Traceback (most recent call last)",
      "\u001b[0;32m<ipython-input-13-af41f2446297>\u001b[0m in \u001b[0;36m<module>\u001b[0;34m\u001b[0m\n\u001b[0;32m----> 1\u001b[0;31m \u001b[0mmyEst\u001b[0m\u001b[0;34m.\u001b[0m\u001b[0mfit\u001b[0m\u001b[0;34m(\u001b[0m\u001b[0mX_meter\u001b[0m\u001b[0;34m,\u001b[0m \u001b[0my_meter\u001b[0m\u001b[0;34m)\u001b[0m\u001b[0;34m\u001b[0m\u001b[0;34m\u001b[0m\u001b[0m\n\u001b[0m",
      "\u001b[0;31mNameError\u001b[0m: name 'y_meter' is not defined"
     ]
    }
   ],
   "source": [
    "myEst.fit(X_meter, y_meter)"
   ]
  },
  {
   "cell_type": "code",
   "execution_count": 14,
   "metadata": {},
   "outputs": [
    {
     "data": {
      "text/plain": [
       "(8512, 7)"
      ]
     },
     "execution_count": 14,
     "metadata": {},
     "output_type": "execute_result"
    }
   ],
   "source": [
    "\n",
    "X_meter.shape"
   ]
  },
  {
   "cell_type": "code",
   "execution_count": 15,
   "metadata": {},
   "outputs": [
    {
     "name": "stdout",
     "output_type": "stream",
     "text": [
      "[[ 1  0  1  1  1  1  1  1]\n",
      " [ 1  3  1  1  1  1  1  1]\n",
      " [ 1  5  1  1  1  1  1  1]\n",
      " [ 1  6  1  1  1  1  1  1]\n",
      " [ 1  8  1  1  1  1  1  1]\n",
      " [ 1 10  1  1  1  1  1  1]\n",
      " [ 1 15  1  1  1  1  1  1]\n",
      " [ 1  2  1  1  1  1  1  1]\n",
      " [ 1  5  1  1  1  1  1  1]\n",
      " [ 1  7  1  1  1  1  1  1]\n",
      " [ 1 22  1  1  1  1  1  1]\n",
      " [ 1 27  1  1  1  1  1  1]]\n"
     ]
    },
    {
     "ename": "NotFittedError",
     "evalue": "This MeanByCatEstimator instance is not fitted yet. Call 'fit' with appropriate arguments before using this method.",
     "output_type": "error",
     "traceback": [
      "\u001b[0;31m---------------------------------------------------------------------------\u001b[0m",
      "\u001b[0;31mNotFittedError\u001b[0m                            Traceback (most recent call last)",
      "\u001b[0;32m<ipython-input-15-819a668dd906>\u001b[0m in \u001b[0;36m<module>\u001b[0;34m\u001b[0m\n\u001b[1;32m     15\u001b[0m \u001b[0mprint\u001b[0m\u001b[0;34m(\u001b[0m\u001b[0mt\u001b[0m\u001b[0;34m)\u001b[0m\u001b[0;34m\u001b[0m\u001b[0;34m\u001b[0m\u001b[0m\n\u001b[1;32m     16\u001b[0m \u001b[0;34m\u001b[0m\u001b[0m\n\u001b[0;32m---> 17\u001b[0;31m \u001b[0mmyEst\u001b[0m\u001b[0;34m.\u001b[0m\u001b[0mpredict\u001b[0m\u001b[0;34m(\u001b[0m\u001b[0mt\u001b[0m\u001b[0;34m)\u001b[0m\u001b[0;34m\u001b[0m\u001b[0;34m\u001b[0m\u001b[0m\n\u001b[0m",
      "\u001b[0;32m<ipython-input-11-e321f5a0773c>\u001b[0m in \u001b[0;36mpredict\u001b[0;34m(self, X)\u001b[0m\n\u001b[1;32m     87\u001b[0m         converting to float, raising on failure.\"\"\"\n\u001b[1;32m     88\u001b[0m \u001b[0;34m\u001b[0m\u001b[0m\n\u001b[0;32m---> 89\u001b[0;31m         \u001b[0mcheck_is_fitted\u001b[0m\u001b[0;34m(\u001b[0m\u001b[0mself\u001b[0m\u001b[0;34m,\u001b[0m \u001b[0;34m'is_fitted_'\u001b[0m\u001b[0;34m)\u001b[0m\u001b[0;34m\u001b[0m\u001b[0;34m\u001b[0m\u001b[0m\n\u001b[0m\u001b[1;32m     90\u001b[0m \u001b[0;34m\u001b[0m\u001b[0m\n\u001b[1;32m     91\u001b[0m         \u001b[0mpredictions\u001b[0m \u001b[0;34m=\u001b[0m \u001b[0;34m[\u001b[0m\u001b[0;34m]\u001b[0m\u001b[0;34m\u001b[0m\u001b[0;34m\u001b[0m\u001b[0m\n",
      "\u001b[0;32m~/anaconda3/lib/python3.7/site-packages/sklearn/utils/validation.py\u001b[0m in \u001b[0;36mcheck_is_fitted\u001b[0;34m(estimator, attributes, msg, all_or_any)\u001b[0m\n\u001b[1;32m    912\u001b[0m \u001b[0;34m\u001b[0m\u001b[0m\n\u001b[1;32m    913\u001b[0m     \u001b[0;32mif\u001b[0m \u001b[0;32mnot\u001b[0m \u001b[0mall_or_any\u001b[0m\u001b[0;34m(\u001b[0m\u001b[0;34m[\u001b[0m\u001b[0mhasattr\u001b[0m\u001b[0;34m(\u001b[0m\u001b[0mestimator\u001b[0m\u001b[0;34m,\u001b[0m \u001b[0mattr\u001b[0m\u001b[0;34m)\u001b[0m \u001b[0;32mfor\u001b[0m \u001b[0mattr\u001b[0m \u001b[0;32min\u001b[0m \u001b[0mattributes\u001b[0m\u001b[0;34m]\u001b[0m\u001b[0;34m)\u001b[0m\u001b[0;34m:\u001b[0m\u001b[0;34m\u001b[0m\u001b[0;34m\u001b[0m\u001b[0m\n\u001b[0;32m--> 914\u001b[0;31m         \u001b[0;32mraise\u001b[0m \u001b[0mNotFittedError\u001b[0m\u001b[0;34m(\u001b[0m\u001b[0mmsg\u001b[0m \u001b[0;34m%\u001b[0m \u001b[0;34m{\u001b[0m\u001b[0;34m'name'\u001b[0m\u001b[0;34m:\u001b[0m \u001b[0mtype\u001b[0m\u001b[0;34m(\u001b[0m\u001b[0mestimator\u001b[0m\u001b[0;34m)\u001b[0m\u001b[0;34m.\u001b[0m\u001b[0m__name__\u001b[0m\u001b[0;34m}\u001b[0m\u001b[0;34m)\u001b[0m\u001b[0;34m\u001b[0m\u001b[0;34m\u001b[0m\u001b[0m\n\u001b[0m\u001b[1;32m    915\u001b[0m \u001b[0;34m\u001b[0m\u001b[0m\n\u001b[1;32m    916\u001b[0m \u001b[0;34m\u001b[0m\u001b[0m\n",
      "\u001b[0;31mNotFittedError\u001b[0m: This MeanByCatEstimator instance is not fitted yet. Call 'fit' with appropriate arguments before using this method."
     ]
    }
   ],
   "source": [
    "t_6 = np.array([0,3,5,6,8,10,15,2,5,7,22,27])\n",
    "\n",
    "t = np.transpose(np.array([\n",
    "    np.ones(12, dtype=np.int64),\n",
    "    t_6,\n",
    "    np.ones(12, dtype=np.int64), \n",
    "    np.ones(12, dtype=np.int64),\n",
    "    np.ones(12, dtype=np.int64),\n",
    "    np.ones(12, dtype=np.int64),\n",
    "    np.ones(12, dtype=np.int64),\n",
    "    np.ones(12, dtype=np.int64)\n",
    "]))\n",
    "\n",
    "\n",
    "print(t)\n",
    "\n",
    "myEst.predict(t)"
   ]
  },
  {
   "cell_type": "code",
   "execution_count": null,
   "metadata": {},
   "outputs": [],
   "source": []
  },
  {
   "cell_type": "code",
   "execution_count": null,
   "metadata": {},
   "outputs": [],
   "source": []
  },
  {
   "cell_type": "code",
   "execution_count": null,
   "metadata": {},
   "outputs": [],
   "source": []
  },
  {
   "cell_type": "code",
   "execution_count": null,
   "metadata": {},
   "outputs": [],
   "source": []
  },
  {
   "cell_type": "code",
   "execution_count": 16,
   "metadata": {
    "scrolled": false
   },
   "outputs": [
    {
     "ename": "NameError",
     "evalue": "name 'y_meter' is not defined",
     "output_type": "error",
     "traceback": [
      "\u001b[0;31m---------------------------------------------------------------------------\u001b[0m",
      "\u001b[0;31mNameError\u001b[0m                                 Traceback (most recent call last)",
      "\u001b[0;32m<ipython-input-16-6e774e06b9b5>\u001b[0m in \u001b[0;36m<module>\u001b[0;34m\u001b[0m\n\u001b[1;32m      4\u001b[0m     \u001b[0mestimator\u001b[0m\u001b[0;34m=\u001b[0m\u001b[0mMeanByCatEstimator\u001b[0m\u001b[0;34m(\u001b[0m\u001b[0mcat_column_idx\u001b[0m\u001b[0;34m=\u001b[0m\u001b[0mday_hour_col_idx\u001b[0m\u001b[0;34m)\u001b[0m\u001b[0;34m,\u001b[0m\u001b[0;34m\u001b[0m\u001b[0;34m\u001b[0m\u001b[0m\n\u001b[1;32m      5\u001b[0m     \u001b[0mX\u001b[0m\u001b[0;34m=\u001b[0m\u001b[0mX_meter\u001b[0m\u001b[0;34m,\u001b[0m\u001b[0;34m\u001b[0m\u001b[0;34m\u001b[0m\u001b[0m\n\u001b[0;32m----> 6\u001b[0;31m     \u001b[0my\u001b[0m\u001b[0;34m=\u001b[0m\u001b[0my_meter\u001b[0m\u001b[0;34m,\u001b[0m\u001b[0;34m\u001b[0m\u001b[0;34m\u001b[0m\u001b[0m\n\u001b[0m\u001b[1;32m      7\u001b[0m     \u001b[0mscoring\u001b[0m\u001b[0;34m=\u001b[0m\u001b[0;34m'neg_mean_squared_log_error'\u001b[0m\u001b[0;34m,\u001b[0m\u001b[0;34m\u001b[0m\u001b[0;34m\u001b[0m\u001b[0m\n\u001b[1;32m      8\u001b[0m     cv=gap_kf).mean()\n",
      "\u001b[0;31mNameError\u001b[0m: name 'y_meter' is not defined"
     ]
    }
   ],
   "source": [
    "day_hour_col_idx = X_meter.columns.to_list().index('day_hour')\n",
    "\n",
    "cross_val_score(\n",
    "    estimator=MeanByCatEstimator(cat_column_idx=day_hour_col_idx),\n",
    "    X=X_meter,\n",
    "    y=y_meter,\n",
    "    scoring='neg_mean_squared_log_error',\n",
    "    cv=gap_kf).mean()"
   ]
  },
  {
   "cell_type": "code",
   "execution_count": null,
   "metadata": {},
   "outputs": [],
   "source": []
  },
  {
   "cell_type": "code",
   "execution_count": null,
   "metadata": {},
   "outputs": [],
   "source": []
  },
  {
   "cell_type": "code",
   "execution_count": null,
   "metadata": {},
   "outputs": [],
   "source": []
  },
  {
   "cell_type": "code",
   "execution_count": null,
   "metadata": {},
   "outputs": [],
   "source": []
  },
  {
   "cell_type": "code",
   "execution_count": null,
   "metadata": {},
   "outputs": [],
   "source": []
  },
  {
   "cell_type": "code",
   "execution_count": 17,
   "metadata": {},
   "outputs": [],
   "source": [
    "class MeanByMultiCatEstimator(BaseEstimator):\n",
    "    \"\"\" A template estimator to be used as a reference implementation.\n",
    "    For more information regarding how to build your own estimator, read more\n",
    "    in the :ref:`User Guide <user_guide>`.\n",
    "    Parameters\n",
    "    ----------\n",
    "    demo_param : str, default='demo_param'\n",
    "        A parameter used for demonstation of how to pass and store paramters.\n",
    "    \"\"\"\n",
    "    def __init__(self, cat_column_indexes=[0], verbose=False):\n",
    "        self.verbose = verbose\n",
    "        self.cat_column_indexes = cat_column_indexes\n",
    "\n",
    "    def fit(self, X, y):\n",
    "        \"\"\"A reference implementation of a fitting function.\n",
    "        Parameters\n",
    "        ----------\n",
    "        X : {array-like, sparse matrix}, shape (n_samples, n_features)\n",
    "            The training input samples.\n",
    "        y : array-like, shape (n_samples,) or (n_samples, n_outputs)\n",
    "            The target values (class labels in classification, real numbers in\n",
    "            regression).\n",
    "        Returns\n",
    "        -------\n",
    "        self : object\n",
    "            Returns self.\n",
    "        \"\"\"\n",
    "        \n",
    "        X, y = check_X_y(X, y, accept_sparse=True)\n",
    "        \"\"\"Input validation for standard estimators.\n",
    "        Checks X and y for consistent length, enforces X to be 2D and y 1D. By\n",
    "        default, X is checked to be non-empty and containing only finite values.\n",
    "        Standard input checks are also applied to y, such as checking that y\n",
    "        does not have np.nan or np.inf targets. For multi-label y, set\n",
    "        multi_output=True to allow 2D and sparse y. If the dtype of X is\n",
    "        object, attempt converting to float, raising on failure.\n",
    "        \"\"\"\n",
    "        \n",
    "        \n",
    "        cat_columns = []\n",
    "        \n",
    "        for col_idx in self.cat_column_indexes:\n",
    "            if(col_idx >= X.shape[1]):\n",
    "                raise ValueError(\"category column indexes should be < X.shape[1]\")\n",
    "            cat_columns.append(X[:, col_idx])\n",
    "            \n",
    "        cat_tuples = set(zip(*cat_columns))\n",
    "        \n",
    "        categories = {}\n",
    "        self.means = {}\n",
    "        \n",
    "        self.mean = y.mean()\n",
    "        \n",
    "        for x_bin in cat_tuples:\n",
    "            categories[x_bin] = []\n",
    "            \n",
    "        if self.verbose:    \n",
    "            print('categories : {}'.format(categories.keys()))\n",
    "            \n",
    "        for k in range(X.shape[0]):\n",
    "            sample_bin = tuple(X[k, self.cat_column_indexes])\n",
    "            categories[sample_bin].append(y[k])\n",
    "        \n",
    "        for k, v in categories.items():\n",
    "            self.means[k] = np.array(v).mean()\n",
    "        \n",
    "        self.is_fitted_ = True\n",
    "        # `fit` should always return `self`\n",
    "        \n",
    "        if self.verbose:\n",
    "            for k, v in self.means.items():\n",
    "                print('({}, {})'.format(k, v))\n",
    "        \n",
    "        return self\n",
    "\n",
    "    \n",
    "    \n",
    "    def predict(self, X):\n",
    "        \"\"\" A reference implementation of a predicting function.\n",
    "        Parameters\n",
    "        ----------\n",
    "        X : {array-like, sparse matrix}, shape (n_samples, n_features)\n",
    "            The training input samples.\n",
    "        Returns\n",
    "        -------\n",
    "        y : ndarray, shape (n_samples,)\n",
    "            Returns an array of ones.\n",
    "        \"\"\"\n",
    "        \n",
    "        \n",
    "        X = check_array(X, accept_sparse=True)\n",
    "        \"\"\"Input validation on an array, list, sparse matrix or similar.\n",
    "        By default, the input is checked to be a non-empty 2D array containing\n",
    "        only finite values. If the dtype of the array is object, attempt\n",
    "        converting to float, raising on failure.\"\"\"\n",
    "        \n",
    "        check_is_fitted(self, 'is_fitted_')\n",
    "        \n",
    "        predictions = []\n",
    "        \n",
    "        \n",
    "        cat_columns=[]\n",
    "        for col in self.cat_column_indexes:\n",
    "            cat_columns.append(X[:, col])\n",
    "            \n",
    "        cat_tuples = list(zip(*cat_columns))\n",
    "        \n",
    "        \n",
    "        \n",
    "        for sample_cat in cat_tuples:\n",
    "            cat_mean = self.means.get(sample_cat)\n",
    "            if(cat_mean == None):\n",
    "                predictions.append(self.mean)\n",
    "            else:\n",
    "                predictions.append(cat_mean)\n",
    "            \n",
    "        \n",
    "        \n",
    "        return np.array(predictions)"
   ]
  },
  {
   "cell_type": "code",
   "execution_count": 18,
   "metadata": {},
   "outputs": [
    {
     "data": {
      "text/plain": [
       "Index(['day_of_week', 'wind_speed_ma_24H', 'day_hour',\n",
       "       'dew_temperature_ma_24H', 'air_temperature',\n",
       "       'sea_level_pressure_shift_10H', 'precip_depth_1_hr_ma_24H'],\n",
       "      dtype='object')"
      ]
     },
     "execution_count": 18,
     "metadata": {},
     "output_type": "execute_result"
    }
   ],
   "source": [
    "X_meter.columns"
   ]
  },
  {
   "cell_type": "code",
   "execution_count": null,
   "metadata": {},
   "outputs": [],
   "source": []
  },
  {
   "cell_type": "code",
   "execution_count": null,
   "metadata": {},
   "outputs": [],
   "source": []
  },
  {
   "cell_type": "code",
   "execution_count": null,
   "metadata": {},
   "outputs": [],
   "source": []
  },
  {
   "cell_type": "code",
   "execution_count": 19,
   "metadata": {},
   "outputs": [
    {
     "ename": "NameError",
     "evalue": "name 'y_meter' is not defined",
     "output_type": "error",
     "traceback": [
      "\u001b[0;31m---------------------------------------------------------------------------\u001b[0m",
      "\u001b[0;31mNameError\u001b[0m                                 Traceback (most recent call last)",
      "\u001b[0;32m<ipython-input-19-578a21239c49>\u001b[0m in \u001b[0;36m<module>\u001b[0;34m\u001b[0m\n\u001b[1;32m      2\u001b[0m     \u001b[0mestimator\u001b[0m\u001b[0;34m=\u001b[0m\u001b[0mMeanByMultiCatEstimator\u001b[0m\u001b[0;34m(\u001b[0m\u001b[0;34m[\u001b[0m\u001b[0;36m0\u001b[0m\u001b[0;34m,\u001b[0m\u001b[0;36m1\u001b[0m\u001b[0;34m]\u001b[0m\u001b[0;34m)\u001b[0m\u001b[0;34m,\u001b[0m\u001b[0;34m\u001b[0m\u001b[0;34m\u001b[0m\u001b[0m\n\u001b[1;32m      3\u001b[0m     \u001b[0mX\u001b[0m\u001b[0;34m=\u001b[0m\u001b[0mX_meter\u001b[0m\u001b[0;34m,\u001b[0m\u001b[0;34m\u001b[0m\u001b[0;34m\u001b[0m\u001b[0m\n\u001b[0;32m----> 4\u001b[0;31m     \u001b[0my\u001b[0m\u001b[0;34m=\u001b[0m\u001b[0my_meter\u001b[0m\u001b[0;34m,\u001b[0m\u001b[0;34m\u001b[0m\u001b[0;34m\u001b[0m\u001b[0m\n\u001b[0m\u001b[1;32m      5\u001b[0m     \u001b[0mscoring\u001b[0m\u001b[0;34m=\u001b[0m\u001b[0;34m'neg_mean_squared_log_error'\u001b[0m\u001b[0;34m,\u001b[0m\u001b[0;34m\u001b[0m\u001b[0;34m\u001b[0m\u001b[0m\n\u001b[1;32m      6\u001b[0m     cv=gap_kf).mean()\n",
      "\u001b[0;31mNameError\u001b[0m: name 'y_meter' is not defined"
     ]
    }
   ],
   "source": [
    "cross_val_score(\n",
    "    estimator=MeanByMultiCatEstimator([0,1]),\n",
    "    X=X_meter,\n",
    "    y=y_meter,\n",
    "    scoring='neg_mean_squared_log_error',\n",
    "    cv=gap_kf).mean()"
   ]
  },
  {
   "cell_type": "code",
   "execution_count": null,
   "metadata": {},
   "outputs": [],
   "source": []
  },
  {
   "cell_type": "code",
   "execution_count": null,
   "metadata": {},
   "outputs": [],
   "source": []
  },
  {
   "cell_type": "code",
   "execution_count": null,
   "metadata": {},
   "outputs": [],
   "source": []
  },
  {
   "cell_type": "code",
   "execution_count": 20,
   "metadata": {},
   "outputs": [],
   "source": [
    "# Let's try a linear regression"
   ]
  },
  {
   "cell_type": "code",
   "execution_count": 21,
   "metadata": {},
   "outputs": [],
   "source": [
    "from sklearn.linear_model import LinearRegression"
   ]
  },
  {
   "cell_type": "code",
   "execution_count": 22,
   "metadata": {},
   "outputs": [
    {
     "ename": "NameError",
     "evalue": "name 'y_meter' is not defined",
     "output_type": "error",
     "traceback": [
      "\u001b[0;31m---------------------------------------------------------------------------\u001b[0m",
      "\u001b[0;31mNameError\u001b[0m                                 Traceback (most recent call last)",
      "\u001b[0;32m<ipython-input-22-872b9b54d7c5>\u001b[0m in \u001b[0;36m<module>\u001b[0;34m\u001b[0m\n\u001b[1;32m      1\u001b[0m \u001b[0mlinReg\u001b[0m \u001b[0;34m=\u001b[0m \u001b[0mLinearRegression\u001b[0m\u001b[0;34m(\u001b[0m\u001b[0;34m)\u001b[0m\u001b[0;34m\u001b[0m\u001b[0;34m\u001b[0m\u001b[0m\n\u001b[1;32m      2\u001b[0m \u001b[0;34m\u001b[0m\u001b[0m\n\u001b[0;32m----> 3\u001b[0;31m \u001b[0mlinReg\u001b[0m\u001b[0;34m.\u001b[0m\u001b[0mfit\u001b[0m\u001b[0;34m(\u001b[0m\u001b[0mX_meter\u001b[0m\u001b[0;34m,\u001b[0m \u001b[0my_meter\u001b[0m\u001b[0;34m)\u001b[0m\u001b[0;34m\u001b[0m\u001b[0;34m\u001b[0m\u001b[0m\n\u001b[0m",
      "\u001b[0;31mNameError\u001b[0m: name 'y_meter' is not defined"
     ]
    }
   ],
   "source": [
    "linReg = LinearRegression()\n",
    "\n",
    "linReg.fit(X_meter, y_meter)"
   ]
  },
  {
   "cell_type": "code",
   "execution_count": 23,
   "metadata": {},
   "outputs": [
    {
     "ename": "NameError",
     "evalue": "name 'y_meter' is not defined",
     "output_type": "error",
     "traceback": [
      "\u001b[0;31m---------------------------------------------------------------------------\u001b[0m",
      "\u001b[0;31mNameError\u001b[0m                                 Traceback (most recent call last)",
      "\u001b[0;32m<ipython-input-23-c3f9c398ea8b>\u001b[0m in \u001b[0;36m<module>\u001b[0;34m\u001b[0m\n\u001b[1;32m      2\u001b[0m     \u001b[0mestimator\u001b[0m\u001b[0;34m=\u001b[0m\u001b[0mLinearRegression\u001b[0m\u001b[0;34m(\u001b[0m\u001b[0;34m)\u001b[0m\u001b[0;34m,\u001b[0m\u001b[0;34m\u001b[0m\u001b[0;34m\u001b[0m\u001b[0m\n\u001b[1;32m      3\u001b[0m     \u001b[0mX\u001b[0m\u001b[0;34m=\u001b[0m\u001b[0mX_meter\u001b[0m\u001b[0;34m,\u001b[0m\u001b[0;34m\u001b[0m\u001b[0;34m\u001b[0m\u001b[0m\n\u001b[0;32m----> 4\u001b[0;31m     \u001b[0my\u001b[0m\u001b[0;34m=\u001b[0m\u001b[0my_meter\u001b[0m\u001b[0;34m,\u001b[0m\u001b[0;34m\u001b[0m\u001b[0;34m\u001b[0m\u001b[0m\n\u001b[0m\u001b[1;32m      5\u001b[0m     \u001b[0mscoring\u001b[0m\u001b[0;34m=\u001b[0m\u001b[0;34m'neg_mean_squared_log_error'\u001b[0m\u001b[0;34m,\u001b[0m\u001b[0;34m\u001b[0m\u001b[0;34m\u001b[0m\u001b[0m\n\u001b[1;32m      6\u001b[0m     cv=gap_kf).mean()\n",
      "\u001b[0;31mNameError\u001b[0m: name 'y_meter' is not defined"
     ]
    }
   ],
   "source": [
    "cross_val_score(\n",
    "    estimator=LinearRegression(),\n",
    "    X=X_meter,\n",
    "    y=y_meter,\n",
    "    scoring='neg_mean_squared_log_error',\n",
    "    cv=gap_kf).mean()"
   ]
  },
  {
   "cell_type": "code",
   "execution_count": null,
   "metadata": {},
   "outputs": [],
   "source": []
  },
  {
   "cell_type": "code",
   "execution_count": null,
   "metadata": {},
   "outputs": [],
   "source": []
  },
  {
   "cell_type": "code",
   "execution_count": null,
   "metadata": {},
   "outputs": [],
   "source": []
  },
  {
   "cell_type": "code",
   "execution_count": null,
   "metadata": {},
   "outputs": [],
   "source": []
  },
  {
   "cell_type": "code",
   "execution_count": 24,
   "metadata": {},
   "outputs": [],
   "source": [
    "# Try a k nearest-neighbours.\n",
    "# We need to scale, so to use a scaler with cross-validation, we need to set a pipeline."
   ]
  },
  {
   "cell_type": "code",
   "execution_count": null,
   "metadata": {},
   "outputs": [],
   "source": []
  },
  {
   "cell_type": "code",
   "execution_count": 25,
   "metadata": {},
   "outputs": [
    {
     "data": {
      "text/html": [
       "<div>\n",
       "<style scoped>\n",
       "    .dataframe tbody tr th:only-of-type {\n",
       "        vertical-align: middle;\n",
       "    }\n",
       "\n",
       "    .dataframe tbody tr th {\n",
       "        vertical-align: top;\n",
       "    }\n",
       "\n",
       "    .dataframe thead th {\n",
       "        text-align: right;\n",
       "    }\n",
       "</style>\n",
       "<table border=\"1\" class=\"dataframe\">\n",
       "  <thead>\n",
       "    <tr style=\"text-align: right;\">\n",
       "      <th></th>\n",
       "      <th>day_of_week</th>\n",
       "      <th>wind_speed_ma_24H</th>\n",
       "      <th>day_hour</th>\n",
       "      <th>dew_temperature_ma_24H</th>\n",
       "      <th>air_temperature</th>\n",
       "      <th>sea_level_pressure_shift_10H</th>\n",
       "      <th>precip_depth_1_hr_ma_24H</th>\n",
       "    </tr>\n",
       "    <tr>\n",
       "      <th>timestamp</th>\n",
       "      <th></th>\n",
       "      <th></th>\n",
       "      <th></th>\n",
       "      <th></th>\n",
       "      <th></th>\n",
       "      <th></th>\n",
       "      <th></th>\n",
       "    </tr>\n",
       "  </thead>\n",
       "  <tbody>\n",
       "    <tr>\n",
       "      <th>2016-01-02 00:00:00</th>\n",
       "      <td>5</td>\n",
       "      <td>4.737500</td>\n",
       "      <td>0</td>\n",
       "      <td>-10.120833</td>\n",
       "      <td>-3.3</td>\n",
       "      <td>1019.4</td>\n",
       "      <td>-0.208333</td>\n",
       "    </tr>\n",
       "    <tr>\n",
       "      <th>2016-01-02 01:00:00</th>\n",
       "      <td>5</td>\n",
       "      <td>4.779167</td>\n",
       "      <td>1</td>\n",
       "      <td>-9.979167</td>\n",
       "      <td>-3.9</td>\n",
       "      <td>1018.9</td>\n",
       "      <td>-0.166667</td>\n",
       "    </tr>\n",
       "    <tr>\n",
       "      <th>2016-01-02 02:00:00</th>\n",
       "      <td>5</td>\n",
       "      <td>4.862500</td>\n",
       "      <td>2</td>\n",
       "      <td>-9.887500</td>\n",
       "      <td>-5.0</td>\n",
       "      <td>1017.9</td>\n",
       "      <td>-0.125000</td>\n",
       "    </tr>\n",
       "    <tr>\n",
       "      <th>2016-01-02 03:00:00</th>\n",
       "      <td>5</td>\n",
       "      <td>4.883333</td>\n",
       "      <td>3</td>\n",
       "      <td>-9.816667</td>\n",
       "      <td>-5.6</td>\n",
       "      <td>1017.4</td>\n",
       "      <td>-0.083333</td>\n",
       "    </tr>\n",
       "    <tr>\n",
       "      <th>2016-01-02 04:00:00</th>\n",
       "      <td>5</td>\n",
       "      <td>4.862500</td>\n",
       "      <td>4</td>\n",
       "      <td>-9.766667</td>\n",
       "      <td>-6.1</td>\n",
       "      <td>1017.1</td>\n",
       "      <td>-0.083333</td>\n",
       "    </tr>\n",
       "  </tbody>\n",
       "</table>\n",
       "</div>"
      ],
      "text/plain": [
       "                     day_of_week  wind_speed_ma_24H  day_hour  \\\n",
       "timestamp                                                       \n",
       "2016-01-02 00:00:00            5           4.737500         0   \n",
       "2016-01-02 01:00:00            5           4.779167         1   \n",
       "2016-01-02 02:00:00            5           4.862500         2   \n",
       "2016-01-02 03:00:00            5           4.883333         3   \n",
       "2016-01-02 04:00:00            5           4.862500         4   \n",
       "\n",
       "                     dew_temperature_ma_24H  air_temperature  \\\n",
       "timestamp                                                      \n",
       "2016-01-02 00:00:00              -10.120833             -3.3   \n",
       "2016-01-02 01:00:00               -9.979167             -3.9   \n",
       "2016-01-02 02:00:00               -9.887500             -5.0   \n",
       "2016-01-02 03:00:00               -9.816667             -5.6   \n",
       "2016-01-02 04:00:00               -9.766667             -6.1   \n",
       "\n",
       "                     sea_level_pressure_shift_10H  precip_depth_1_hr_ma_24H  \n",
       "timestamp                                                                    \n",
       "2016-01-02 00:00:00                        1019.4                 -0.208333  \n",
       "2016-01-02 01:00:00                        1018.9                 -0.166667  \n",
       "2016-01-02 02:00:00                        1017.9                 -0.125000  \n",
       "2016-01-02 03:00:00                        1017.4                 -0.083333  \n",
       "2016-01-02 04:00:00                        1017.1                 -0.083333  "
      ]
     },
     "execution_count": 25,
     "metadata": {},
     "output_type": "execute_result"
    }
   ],
   "source": [
    "X_meter.head()"
   ]
  },
  {
   "cell_type": "code",
   "execution_count": null,
   "metadata": {},
   "outputs": [],
   "source": []
  },
  {
   "cell_type": "code",
   "execution_count": null,
   "metadata": {},
   "outputs": [],
   "source": []
  },
  {
   "cell_type": "code",
   "execution_count": 26,
   "metadata": {},
   "outputs": [],
   "source": [
    "from sklearn.preprocessing import StandardScaler\n",
    "from sklearn.pipeline import Pipeline"
   ]
  },
  {
   "cell_type": "code",
   "execution_count": 27,
   "metadata": {},
   "outputs": [],
   "source": [
    "\n",
    "transformers = [('scaler', StandardScaler()), ('estimator', LinearRegression())]\n",
    "\n",
    "my_first_pipe = Pipeline(transformers)\n",
    "\n",
    "\n"
   ]
  },
  {
   "cell_type": "code",
   "execution_count": 28,
   "metadata": {},
   "outputs": [
    {
     "ename": "NameError",
     "evalue": "name 'y_meter' is not defined",
     "output_type": "error",
     "traceback": [
      "\u001b[0;31m---------------------------------------------------------------------------\u001b[0m",
      "\u001b[0;31mNameError\u001b[0m                                 Traceback (most recent call last)",
      "\u001b[0;32m<ipython-input-28-71e614294417>\u001b[0m in \u001b[0;36m<module>\u001b[0;34m\u001b[0m\n\u001b[0;32m----> 1\u001b[0;31m cross_val_score(my_first_pipe, X_meter, y_meter,  scoring='neg_mean_squared_log_error',\n\u001b[0m\u001b[1;32m      2\u001b[0m     cv=gap_kf)\n",
      "\u001b[0;31mNameError\u001b[0m: name 'y_meter' is not defined"
     ]
    }
   ],
   "source": [
    "cross_val_score(my_first_pipe, X_meter, y_meter,  scoring='neg_mean_squared_log_error',\n",
    "    cv=gap_kf)"
   ]
  },
  {
   "cell_type": "code",
   "execution_count": null,
   "metadata": {},
   "outputs": [],
   "source": []
  },
  {
   "cell_type": "code",
   "execution_count": null,
   "metadata": {},
   "outputs": [],
   "source": []
  },
  {
   "cell_type": "code",
   "execution_count": 29,
   "metadata": {},
   "outputs": [],
   "source": [
    "from sklearn.neighbors import KNeighborsRegressor\n",
    "from sklearn.pipeline import make_pipeline\n",
    "from sklearn.model_selection import GridSearchCV"
   ]
  },
  {
   "cell_type": "code",
   "execution_count": 30,
   "metadata": {
    "scrolled": false
   },
   "outputs": [
    {
     "ename": "NameError",
     "evalue": "name 'y_meter' is not defined",
     "output_type": "error",
     "traceback": [
      "\u001b[0;31m---------------------------------------------------------------------------\u001b[0m",
      "\u001b[0;31mNameError\u001b[0m                                 Traceback (most recent call last)",
      "\u001b[0;32m<ipython-input-30-d8043807d658>\u001b[0m in \u001b[0;36m<module>\u001b[0;34m\u001b[0m\n\u001b[1;32m      1\u001b[0m \u001b[0mpipe\u001b[0m \u001b[0;34m=\u001b[0m \u001b[0mmake_pipeline\u001b[0m\u001b[0;34m(\u001b[0m\u001b[0mStandardScaler\u001b[0m\u001b[0;34m(\u001b[0m\u001b[0;34m)\u001b[0m\u001b[0;34m,\u001b[0m \u001b[0mKNeighborsRegressor\u001b[0m\u001b[0;34m(\u001b[0m\u001b[0;34m)\u001b[0m\u001b[0;34m)\u001b[0m\u001b[0;34m\u001b[0m\u001b[0;34m\u001b[0m\u001b[0m\n\u001b[0;32m----> 2\u001b[0;31m \u001b[0mcross_val_score\u001b[0m\u001b[0;34m(\u001b[0m\u001b[0mpipe\u001b[0m\u001b[0;34m,\u001b[0m \u001b[0mX_meter\u001b[0m\u001b[0;34m,\u001b[0m \u001b[0my_meter\u001b[0m\u001b[0;34m,\u001b[0m \u001b[0mscoring\u001b[0m\u001b[0;34m=\u001b[0m\u001b[0;34m'neg_mean_squared_log_error'\u001b[0m\u001b[0;34m,\u001b[0m \u001b[0mcv\u001b[0m\u001b[0;34m=\u001b[0m\u001b[0mgap_kf\u001b[0m\u001b[0;34m)\u001b[0m\u001b[0;34m.\u001b[0m\u001b[0mmean\u001b[0m\u001b[0;34m(\u001b[0m\u001b[0;34m)\u001b[0m\u001b[0;34m\u001b[0m\u001b[0;34m\u001b[0m\u001b[0m\n\u001b[0m",
      "\u001b[0;31mNameError\u001b[0m: name 'y_meter' is not defined"
     ]
    }
   ],
   "source": [
    "pipe = make_pipeline(StandardScaler(), KNeighborsRegressor())\n",
    "cross_val_score(pipe, X_meter, y_meter, scoring='neg_mean_squared_log_error', cv=gap_kf).mean()"
   ]
  },
  {
   "cell_type": "code",
   "execution_count": 31,
   "metadata": {},
   "outputs": [
    {
     "data": {
      "text/plain": [
       "dict_keys(['memory', 'steps', 'verbose', 'standardscaler', 'kneighborsregressor', 'standardscaler__copy', 'standardscaler__with_mean', 'standardscaler__with_std', 'kneighborsregressor__algorithm', 'kneighborsregressor__leaf_size', 'kneighborsregressor__metric', 'kneighborsregressor__metric_params', 'kneighborsregressor__n_jobs', 'kneighborsregressor__n_neighbors', 'kneighborsregressor__p', 'kneighborsregressor__weights'])"
      ]
     },
     "execution_count": 31,
     "metadata": {},
     "output_type": "execute_result"
    }
   ],
   "source": [
    "pipe.get_params().keys()"
   ]
  },
  {
   "cell_type": "code",
   "execution_count": 32,
   "metadata": {
    "scrolled": false
   },
   "outputs": [
    {
     "ename": "NameError",
     "evalue": "name 'y_meter' is not defined",
     "output_type": "error",
     "traceback": [
      "\u001b[0;31m---------------------------------------------------------------------------\u001b[0m",
      "\u001b[0;31mNameError\u001b[0m                                 Traceback (most recent call last)",
      "\u001b[0;32m<ipython-input-32-dd0c961914eb>\u001b[0m in \u001b[0;36m<module>\u001b[0;34m\u001b[0m\n\u001b[1;32m     13\u001b[0m )\n\u001b[1;32m     14\u001b[0m \u001b[0;34m\u001b[0m\u001b[0m\n\u001b[0;32m---> 15\u001b[0;31m \u001b[0mknn_CV\u001b[0m\u001b[0;34m.\u001b[0m\u001b[0mfit\u001b[0m\u001b[0;34m(\u001b[0m\u001b[0mX_meter\u001b[0m\u001b[0;34m,\u001b[0m \u001b[0my_meter\u001b[0m\u001b[0;34m)\u001b[0m\u001b[0;34m\u001b[0m\u001b[0;34m\u001b[0m\u001b[0m\n\u001b[0m",
      "\u001b[0;31mNameError\u001b[0m: name 'y_meter' is not defined"
     ]
    }
   ],
   "source": [
    "pipe = make_pipeline(StandardScaler(), KNeighborsRegressor())\n",
    "\n",
    "knn_grid_params = {\n",
    "    'kneighborsregressor__n_neighbors' : [5, 10, 15, 20, 25, 30, 35, 40, 45, 50, 60, 70],\n",
    "    'kneighborsregressor__p' : [1, 2, 3, 4]\n",
    "}\n",
    "\n",
    "knn_CV = GridSearchCV(\n",
    "    estimator=pipe, \n",
    "    param_grid=knn_grid_params,\n",
    "    scoring='neg_mean_squared_log_error',\n",
    "    cv=gap_kf\n",
    ")\n",
    "\n",
    "knn_CV.fit(X_meter, y_meter)"
   ]
  },
  {
   "cell_type": "code",
   "execution_count": 33,
   "metadata": {},
   "outputs": [
    {
     "ename": "AttributeError",
     "evalue": "'GridSearchCV' object has no attribute 'cv_results_'",
     "output_type": "error",
     "traceback": [
      "\u001b[0;31m---------------------------------------------------------------------------\u001b[0m",
      "\u001b[0;31mAttributeError\u001b[0m                            Traceback (most recent call last)",
      "\u001b[0;32m<ipython-input-33-4098f0ec6f94>\u001b[0m in \u001b[0;36m<module>\u001b[0;34m\u001b[0m\n\u001b[0;32m----> 1\u001b[0;31m \u001b[0mknn_CV\u001b[0m\u001b[0;34m.\u001b[0m\u001b[0mcv_results_\u001b[0m\u001b[0;34m\u001b[0m\u001b[0;34m\u001b[0m\u001b[0m\n\u001b[0m",
      "\u001b[0;31mAttributeError\u001b[0m: 'GridSearchCV' object has no attribute 'cv_results_'"
     ]
    }
   ],
   "source": [
    "knn_CV.cv_results_"
   ]
  },
  {
   "cell_type": "code",
   "execution_count": null,
   "metadata": {},
   "outputs": [],
   "source": [
    "print('best_params : {}'.format(knn_CV.best_params_))\n",
    "print('best_score : {}'.format(knn_CV.best_score_))"
   ]
  },
  {
   "cell_type": "code",
   "execution_count": null,
   "metadata": {},
   "outputs": [],
   "source": []
  },
  {
   "cell_type": "code",
   "execution_count": null,
   "metadata": {},
   "outputs": [],
   "source": []
  },
  {
   "cell_type": "code",
   "execution_count": null,
   "metadata": {},
   "outputs": [],
   "source": []
  },
  {
   "cell_type": "code",
   "execution_count": null,
   "metadata": {},
   "outputs": [],
   "source": []
  },
  {
   "cell_type": "code",
   "execution_count": null,
   "metadata": {},
   "outputs": [],
   "source": []
  },
  {
   "cell_type": "code",
   "execution_count": null,
   "metadata": {},
   "outputs": [],
   "source": []
  },
  {
   "cell_type": "code",
   "execution_count": null,
   "metadata": {},
   "outputs": [],
   "source": []
  },
  {
   "cell_type": "code",
   "execution_count": 34,
   "metadata": {},
   "outputs": [
    {
     "ename": "NameError",
     "evalue": "name 'MLPRegressor' is not defined",
     "output_type": "error",
     "traceback": [
      "\u001b[0;31m---------------------------------------------------------------------------\u001b[0m",
      "\u001b[0;31mNameError\u001b[0m                                 Traceback (most recent call last)",
      "\u001b[0;32m<ipython-input-34-cb80feef6410>\u001b[0m in \u001b[0;36m<module>\u001b[0;34m\u001b[0m\n\u001b[1;32m      1\u001b[0m pipe_MLPRegressor = Pipeline([('scaler',  StandardScaler()),\n\u001b[0;32m----> 2\u001b[0;31m             ('MLPRegressor', MLPRegressor(random_state = 42))])\n\u001b[0m\u001b[1;32m      3\u001b[0m \u001b[0;34m\u001b[0m\u001b[0m\n\u001b[1;32m      4\u001b[0m \u001b[0;34m\u001b[0m\u001b[0m\n\u001b[1;32m      5\u001b[0m grid_params_MLPRegressor = [{\n",
      "\u001b[0;31mNameError\u001b[0m: name 'MLPRegressor' is not defined"
     ]
    }
   ],
   "source": [
    "pipe_MLPRegressor = Pipeline([('scaler',  StandardScaler()),\n",
    "            ('MLPRegressor', MLPRegressor(random_state = 42))])\n",
    "\n",
    "\n",
    "grid_params_MLPRegressor = [{\n",
    "    'MLPRegressor__solver': ['lbfgs'],\n",
    "    'MLPRegressor__max_iter': [100,200,300,500],\n",
    "    'MLPRegressor__activation' : ['relu','logistic','tanh'],\n",
    "    'MLPRegressor__hidden_layer_sizes':[(2,), (4,),(2,2),(4,4),(4,2),(10,10),(2,2,2)],\n",
    "}]\n",
    "\n",
    "\n",
    "CV_mlpregressor = GridSearchCV (estimator = pipe_MLPRegressor,\n",
    "                               param_grid = grid_params_MLPRegressor,\n",
    "                               cv = 5,return_train_score=True, verbose=0)\n",
    "\n",
    "CV_mlpregressor.fit(x_train, y_train)\n",
    "\n",
    "CV_mlpregressor.predict(x_test)"
   ]
  },
  {
   "cell_type": "code",
   "execution_count": null,
   "metadata": {},
   "outputs": [],
   "source": []
  },
  {
   "cell_type": "code",
   "execution_count": null,
   "metadata": {},
   "outputs": [],
   "source": []
  },
  {
   "cell_type": "code",
   "execution_count": 35,
   "metadata": {},
   "outputs": [
    {
     "data": {
      "text/plain": [
       "Index(['meter_reading_seasonal', 'meter_reading', 'meter_reading_trend',\n",
       "       'meter_reading_deseasoned'],\n",
       "      dtype='object')"
      ]
     },
     "execution_count": 35,
     "metadata": {},
     "output_type": "execute_result"
    }
   ],
   "source": [
    "Ys_meter.columns"
   ]
  },
  {
   "cell_type": "code",
   "execution_count": null,
   "metadata": {},
   "outputs": [],
   "source": []
  },
  {
   "cell_type": "code",
   "execution_count": null,
   "metadata": {},
   "outputs": [],
   "source": []
  },
  {
   "cell_type": "code",
   "execution_count": null,
   "metadata": {},
   "outputs": [],
   "source": []
  },
  {
   "cell_type": "code",
   "execution_count": null,
   "metadata": {},
   "outputs": [],
   "source": []
  },
  {
   "cell_type": "code",
   "execution_count": null,
   "metadata": {},
   "outputs": [],
   "source": []
  },
  {
   "cell_type": "code",
   "execution_count": 36,
   "metadata": {},
   "outputs": [],
   "source": [
    "# Build an estimator which is the sum of an estimator + the seasonal component.\n",
    "\n",
    "\n",
    "\n",
    "\n"
   ]
  },
  {
   "cell_type": "code",
   "execution_count": 128,
   "metadata": {},
   "outputs": [],
   "source": [
    "# TODO plus simple : faire  def __init__(self, trend_estimator, seasonal_component_col_idx)\n",
    "# et mettre y_seasonal dans X\n",
    "\n",
    "class TrendEstimator(BaseEstimator):\n",
    "    \"\"\" A template estimator to be used as a reference implementation.\n",
    "    For more information regarding how to build your own estimator, read more\n",
    "    in the :ref:`User Guide <user_guide>`.\n",
    "    Parameters\n",
    "    ----------\n",
    "    demo_param : str, default='demo_param'\n",
    "        A parameter used for demonstation of how to pass and store paramters.\n",
    "    \"\"\"\n",
    "    def __init__(self, trend_estimator, seasonal_component_idx, resid_idx):\n",
    "        self.trend_estimator = trend_estimator\n",
    "        self.seasonal_component_idx = seasonal_component_idx\n",
    "        self.resid_idx = resid_idx\n",
    "\n",
    "    def fit(self, X, y):\n",
    "        \"\"\"A reference implementation of a fitting function.\n",
    "        Parameters\n",
    "        ----------\n",
    "        X : {array-like, sparse matrix}, shape (n_samples, n_features)\n",
    "            The training input samples.\n",
    "        y : array-like, shape (n_samples,) or (n_samples, n_outputs)\n",
    "            The target values (class labels in classification, real numbers in\n",
    "            regression).\n",
    "        Returns\n",
    "        -------\n",
    "        self : object\n",
    "            Returns self.\n",
    "        \"\"\"\n",
    "        X, y = check_X_y(X, y, accept_sparse=True)\n",
    "        \n",
    "        self.features_idxs = list(set(range(X.shape[1])) - set([self.seasonal_component_idx, self.resid_idx]))\n",
    "        \n",
    "        # fit only on trend features\n",
    "        X_trend = X[:, self.features_idxs]\n",
    "        \n",
    "        \n",
    "        # Substract trend to target\n",
    "        y_trend = y - X[:, self.seasonal_component_idx] - X[:, self.resid_idx]\n",
    "        \n",
    "        \n",
    "        self.trend_estimator.fit(X_trend, y_trend)\n",
    "        \n",
    "        self.is_fitted_ = True\n",
    "        # `fit` should always return `self`\n",
    "        return self\n",
    "\n",
    "    def predict(self, X):\n",
    "        \"\"\" A reference implementation of a predicting function.\n",
    "        Parameters\n",
    "        ----------\n",
    "        X : {array-like, sparse matrix}, shape (n_samples, n_features)\n",
    "            The training input samples.\n",
    "        Returns\n",
    "        -------\n",
    "        y : ndarray, shape (n_samples,)\n",
    "            Returns an array of ones.\n",
    "        \"\"\"\n",
    "        \n",
    "        X = check_array(X, accept_sparse=True)\n",
    "        check_is_fitted(self, 'is_fitted_')\n",
    "        \n",
    "        # fit only on trend features\n",
    "        X_trend = X[:, self.features_idxs]\n",
    "        \n",
    "        predicted_trend = self.trend_estimator.predict(X_trend)\n",
    "        \n",
    "        y_season = X[:, self.seasonal_component_idx]\n",
    "             \n",
    "        return predicted_trend + y_season"
   ]
  },
  {
   "cell_type": "code",
   "execution_count": null,
   "metadata": {},
   "outputs": [],
   "source": []
  },
  {
   "cell_type": "code",
   "execution_count": 112,
   "metadata": {},
   "outputs": [],
   "source": [
    "def seasonal_function(t_list):\n",
    "    day_of_week = t_list[0]\n",
    "    day_hour = t_list[1]\n",
    "    t = datetime.datetime(2016, 1, 8+day_of_week, day_hour)\n",
    "    return Ys_meter.loc[t, 'meter_reading_trend']"
   ]
  },
  {
   "cell_type": "code",
   "execution_count": 114,
   "metadata": {},
   "outputs": [
    {
     "data": {
      "text/plain": [
       "Index(['meter_reading_seasonal', 'day_of_week', 'wind_speed_ma_24H',\n",
       "       'dew_temperature_ma_24H', 'air_temperature', 'meter_reading_resid',\n",
       "       'sea_level_pressure_shift_10H', 'precip_depth_1_hr_ma_24H'],\n",
       "      dtype='object')"
      ]
     },
     "execution_count": 114,
     "metadata": {},
     "output_type": "execute_result"
    }
   ],
   "source": [
    "# time cols = [0, 5]\n",
    "X_meter.columns"
   ]
  },
  {
   "cell_type": "code",
   "execution_count": null,
   "metadata": {},
   "outputs": [],
   "source": []
  },
  {
   "cell_type": "code",
   "execution_count": null,
   "metadata": {},
   "outputs": [],
   "source": []
  },
  {
   "cell_type": "code",
   "execution_count": 144,
   "metadata": {},
   "outputs": [
    {
     "data": {
      "text/plain": [
       "TrendEstimator(resid_idx=5, seasonal_component_idx=0,\n",
       "               trend_estimator=LinearRegression(copy_X=True, fit_intercept=True,\n",
       "                                                n_jobs=None, normalize=False))"
      ]
     },
     "execution_count": 144,
     "metadata": {},
     "output_type": "execute_result"
    }
   ],
   "source": [
    "\n",
    "\n"
   ]
  },
  {
   "cell_type": "code",
   "execution_count": 147,
   "metadata": {},
   "outputs": [
    {
     "data": {
      "text/plain": [
       "-0.038793118528045865"
      ]
     },
     "execution_count": 147,
     "metadata": {},
     "output_type": "execute_result"
    }
   ],
   "source": [
    "trendLinReg = LinearRegression()\n",
    "full_est = TrendEstimator(trendLinReg, 0, 5)\n",
    "\n",
    "cross_val_score(\n",
    "    estimator=full_est,\n",
    "    X=X_meter,\n",
    "    y=Ys_meter['meter_reading'],\n",
    "    scoring='neg_mean_squared_log_error',\n",
    "    cv=gap_kf).mean()"
   ]
  },
  {
   "cell_type": "code",
   "execution_count": 149,
   "metadata": {},
   "outputs": [
    {
     "data": {
      "text/plain": [
       "-0.04494475285915462"
      ]
     },
     "execution_count": 149,
     "metadata": {},
     "output_type": "execute_result"
    }
   ],
   "source": [
    "trendLinReg =  KNeighborsRegressor(n_neighbors=50, p=1)\n",
    "full_est = TrendEstimator(trendLinReg, 0, 5)\n",
    "\n",
    "cross_val_score(\n",
    "    estimator=full_est,\n",
    "    X=X_meter,\n",
    "    y=Ys_meter['meter_reading'],\n",
    "    scoring='neg_mean_squared_log_error',\n",
    "    cv=gap_kf).mean()"
   ]
  },
  {
   "cell_type": "code",
   "execution_count": null,
   "metadata": {},
   "outputs": [],
   "source": []
  },
  {
   "cell_type": "code",
   "execution_count": null,
   "metadata": {},
   "outputs": [],
   "source": []
  },
  {
   "cell_type": "code",
   "execution_count": null,
   "metadata": {},
   "outputs": [],
   "source": []
  },
  {
   "cell_type": "code",
   "execution_count": 124,
   "metadata": {},
   "outputs": [],
   "source": [
    "trendLinReg = LinearRegression()\n",
    "full_est = TrendEstimator(trendLinReg, 0, 5)"
   ]
  },
  {
   "cell_type": "code",
   "execution_count": null,
   "metadata": {},
   "outputs": [],
   "source": []
  },
  {
   "cell_type": "code",
   "execution_count": 125,
   "metadata": {
    "scrolled": false
   },
   "outputs": [
    {
     "name": "stdout",
     "output_type": "stream",
     "text": [
      "fit - X_trend.shape = (7466, 6)\n",
      "predict - X_trend.shape = (710, 6)\n",
      "fit - X_trend.shape = (7130, 6)\n",
      "predict - X_trend.shape = (710, 6)\n",
      "fit - X_trend.shape = (7130, 6)\n",
      "predict - X_trend.shape = (710, 6)\n",
      "fit - X_trend.shape = (7130, 6)\n",
      "predict - X_trend.shape = (710, 6)\n",
      "fit - X_trend.shape = (7131, 6)\n",
      "predict - X_trend.shape = (709, 6)\n",
      "fit - X_trend.shape = (7131, 6)\n",
      "predict - X_trend.shape = (709, 6)\n",
      "fit - X_trend.shape = (7131, 6)\n",
      "predict - X_trend.shape = (709, 6)\n",
      "fit - X_trend.shape = (7131, 6)\n",
      "predict - X_trend.shape = (709, 6)\n",
      "fit - X_trend.shape = (7131, 6)\n",
      "predict - X_trend.shape = (709, 6)\n",
      "fit - X_trend.shape = (7131, 6)\n",
      "predict - X_trend.shape = (709, 6)\n",
      "fit - X_trend.shape = (7131, 6)\n",
      "predict - X_trend.shape = (709, 6)\n",
      "fit - X_trend.shape = (7467, 6)\n",
      "predict - X_trend.shape = (709, 6)\n"
     ]
    },
    {
     "data": {
      "text/plain": [
       "-0.038793118528045865"
      ]
     },
     "execution_count": 125,
     "metadata": {},
     "output_type": "execute_result"
    }
   ],
   "source": [
    "cross_val_score(\n",
    "    estimator=full_est,\n",
    "    X=X_meter,\n",
    "    y=Ys_meter['meter_reading'],\n",
    "    scoring='neg_mean_squared_log_error',\n",
    "    cv=gap_kf).mean()"
   ]
  },
  {
   "cell_type": "code",
   "execution_count": null,
   "metadata": {},
   "outputs": [],
   "source": []
  },
  {
   "cell_type": "code",
   "execution_count": null,
   "metadata": {},
   "outputs": [],
   "source": []
  },
  {
   "cell_type": "code",
   "execution_count": 86,
   "metadata": {},
   "outputs": [
    {
     "data": {
      "text/plain": [
       "Index(['meter_reading_seasonal', 'day_of_week', 'wind_speed_ma_24H',\n",
       "       'day_hour', 'dew_temperature_ma_24H', 'air_temperature',\n",
       "       'sea_level_pressure_shift_10H', 'precip_depth_1_hr_ma_24H'],\n",
       "      dtype='object')"
      ]
     },
     "execution_count": 86,
     "metadata": {},
     "output_type": "execute_result"
    }
   ],
   "source": [
    "X_meter.columns"
   ]
  },
  {
   "cell_type": "code",
   "execution_count": null,
   "metadata": {},
   "outputs": [],
   "source": []
  },
  {
   "cell_type": "code",
   "execution_count": null,
   "metadata": {},
   "outputs": [],
   "source": []
  },
  {
   "cell_type": "code",
   "execution_count": 140,
   "metadata": {},
   "outputs": [
    {
     "data": {
      "text/plain": [
       "dict_keys(['memory', 'steps', 'verbose', 'standardscaler', 'trendestimator', 'standardscaler__copy', 'standardscaler__with_mean', 'standardscaler__with_std', 'trendestimator__resid_idx', 'trendestimator__seasonal_component_idx', 'trendestimator__trend_estimator__algorithm', 'trendestimator__trend_estimator__leaf_size', 'trendestimator__trend_estimator__metric', 'trendestimator__trend_estimator__metric_params', 'trendestimator__trend_estimator__n_jobs', 'trendestimator__trend_estimator__n_neighbors', 'trendestimator__trend_estimator__p', 'trendestimator__trend_estimator__weights', 'trendestimator__trend_estimator'])"
      ]
     },
     "execution_count": 140,
     "metadata": {},
     "output_type": "execute_result"
    }
   ],
   "source": [
    "trendKNR = KNeighborsRegressor()\n",
    "full_est = TrendEstimator(trendKNR, 0, 5)\n",
    "\n",
    "pipe = make_pipeline(StandardScaler(), full_est)\n",
    "\n",
    "pipe.get_params().keys()"
   ]
  },
  {
   "cell_type": "code",
   "execution_count": null,
   "metadata": {},
   "outputs": [],
   "source": []
  },
  {
   "cell_type": "code",
   "execution_count": null,
   "metadata": {},
   "outputs": [],
   "source": []
  },
  {
   "cell_type": "code",
   "execution_count": 141,
   "metadata": {
    "scrolled": false
   },
   "outputs": [
    {
     "data": {
      "text/plain": [
       "GridSearchCV(cv=GapKFold(gap_after=336, gap_before=336, n_splits=12),\n",
       "             error_score='raise-deprecating',\n",
       "             estimator=Pipeline(memory=None,\n",
       "                                steps=[('standardscaler',\n",
       "                                        StandardScaler(copy=True,\n",
       "                                                       with_mean=True,\n",
       "                                                       with_std=True)),\n",
       "                                       ('trendestimator',\n",
       "                                        TrendEstimator(resid_idx=5,\n",
       "                                                       seasonal_component_idx=0,\n",
       "                                                       trend_estimator=KNeighborsRegressor(algorithm='auto',\n",
       "                                                                                           leaf_size=30,\n",
       "                                                                                           met...inkowski',\n",
       "                                                                                           metric_params=None,\n",
       "                                                                                           n_jobs=None,\n",
       "                                                                                           n_neighbors=5,\n",
       "                                                                                           p=2,\n",
       "                                                                                           weights='uniform')))],\n",
       "                                verbose=False),\n",
       "             iid='warn', n_jobs=None,\n",
       "             param_grid={'trendestimator__trend_estimator__n_neighbors': [20,\n",
       "                                                                          50,\n",
       "                                                                          70,\n",
       "                                                                          80,\n",
       "                                                                          90,\n",
       "                                                                          100],\n",
       "                         'trendestimator__trend_estimator__p': [1, 2]},\n",
       "             pre_dispatch='2*n_jobs', refit=True, return_train_score=False,\n",
       "             scoring='neg_mean_squared_log_error', verbose=0)"
      ]
     },
     "execution_count": 141,
     "metadata": {},
     "output_type": "execute_result"
    }
   ],
   "source": [
    "trendKNR = KNeighborsRegressor()\n",
    "full_est = TrendEstimator(trendKNR, 0, 5)\n",
    "\n",
    "pipe = make_pipeline(StandardScaler(), full_est)\n",
    "\n",
    "knn_grid_params = {\n",
    "    'trendestimator__trend_estimator__n_neighbors' : [20, 50, 70, 80, 90, 100],\n",
    "    'trendestimator__trend_estimator__p' : [1, 2]\n",
    "}\n",
    "\n",
    "knn_CV = GridSearchCV(\n",
    "    estimator=pipe, \n",
    "    param_grid=knn_grid_params,\n",
    "    scoring='neg_mean_squared_log_error',\n",
    "    cv=gap_kf\n",
    ")\n",
    "\n",
    "knn_CV.fit(X_meter, Ys_meter['meter_reading'])"
   ]
  },
  {
   "cell_type": "code",
   "execution_count": 142,
   "metadata": {},
   "outputs": [
    {
     "name": "stdout",
     "output_type": "stream",
     "text": [
      "best_params : {'trendestimator__trend_estimator__n_neighbors': 100, 'trendestimator__trend_estimator__p': 1}\n",
      "best_score : -0.0952670607190063\n"
     ]
    }
   ],
   "source": [
    "print('best_params : {}'.format(knn_CV.best_params_))\n",
    "print('best_score : {}'.format(knn_CV.best_score_))"
   ]
  },
  {
   "cell_type": "code",
   "execution_count": null,
   "metadata": {},
   "outputs": [],
   "source": []
  },
  {
   "cell_type": "code",
   "execution_count": null,
   "metadata": {},
   "outputs": [],
   "source": []
  },
  {
   "cell_type": "code",
   "execution_count": 133,
   "metadata": {},
   "outputs": [],
   "source": [
    "from sklearn.ensemble import RandomForestRegressor\n",
    "from sklearn.datasets import make_regression"
   ]
  },
  {
   "cell_type": "code",
   "execution_count": 154,
   "metadata": {},
   "outputs": [
    {
     "data": {
      "text/plain": [
       "dict_keys(['memory', 'steps', 'verbose', 'standardscaler', 'trendestimator', 'standardscaler__copy', 'standardscaler__with_mean', 'standardscaler__with_std', 'trendestimator__resid_idx', 'trendestimator__seasonal_component_idx', 'trendestimator__trend_estimator__bootstrap', 'trendestimator__trend_estimator__criterion', 'trendestimator__trend_estimator__max_depth', 'trendestimator__trend_estimator__max_features', 'trendestimator__trend_estimator__max_leaf_nodes', 'trendestimator__trend_estimator__min_impurity_decrease', 'trendestimator__trend_estimator__min_impurity_split', 'trendestimator__trend_estimator__min_samples_leaf', 'trendestimator__trend_estimator__min_samples_split', 'trendestimator__trend_estimator__min_weight_fraction_leaf', 'trendestimator__trend_estimator__n_estimators', 'trendestimator__trend_estimator__n_jobs', 'trendestimator__trend_estimator__oob_score', 'trendestimator__trend_estimator__random_state', 'trendestimator__trend_estimator__verbose', 'trendestimator__trend_estimator__warm_start', 'trendestimator__trend_estimator'])"
      ]
     },
     "execution_count": 154,
     "metadata": {},
     "output_type": "execute_result"
    }
   ],
   "source": [
    "trendRFR = RandomForestRegressor()\n",
    "full_est = TrendEstimator(trendRFR, 0, 5)\n",
    "\n",
    "pipe = make_pipeline(StandardScaler(), full_est)\n",
    "pipe.get_params().keys()"
   ]
  },
  {
   "cell_type": "code",
   "execution_count": 155,
   "metadata": {
    "scrolled": false
   },
   "outputs": [
    {
     "data": {
      "text/plain": [
       "GridSearchCV(cv=GapKFold(gap_after=336, gap_before=336, n_splits=12),\n",
       "             error_score='raise-deprecating',\n",
       "             estimator=Pipeline(memory=None,\n",
       "                                steps=[('standardscaler',\n",
       "                                        StandardScaler(copy=True,\n",
       "                                                       with_mean=True,\n",
       "                                                       with_std=True)),\n",
       "                                       ('trendestimator',\n",
       "                                        TrendEstimator(resid_idx=5,\n",
       "                                                       seasonal_component_idx=0,\n",
       "                                                       trend_estimator=RandomForestRegressor(bootstrap=True,\n",
       "                                                                                             criterion='mse',...\n",
       "                                                                                             n_jobs=None,\n",
       "                                                                                             oob_score=False,\n",
       "                                                                                             random_state=None,\n",
       "                                                                                             verbose=0,\n",
       "                                                                                             warm_start=False)))],\n",
       "                                verbose=False),\n",
       "             iid='warn', n_jobs=None,\n",
       "             param_grid={'trendestimator__trend_estimator__max_features': ['auto',\n",
       "                                                                           'sqrt'],\n",
       "                         'trendestimator__trend_estimator__n_estimators': [50,\n",
       "                                                                           100]},\n",
       "             pre_dispatch='2*n_jobs', refit=True, return_train_score=False,\n",
       "             scoring='neg_mean_squared_log_error', verbose=0)"
      ]
     },
     "execution_count": 155,
     "metadata": {},
     "output_type": "execute_result"
    }
   ],
   "source": [
    "trendRFR = RandomForestRegressor()\n",
    "full_est = TrendEstimator(trendRFR, 0, 5)\n",
    "\n",
    "pipe = make_pipeline(StandardScaler(), full_est)\n",
    "\n",
    "knn_grid_params = {\n",
    "    'trendestimator__trend_estimator__n_estimators' : [50, 100],\n",
    "    'trendestimator__trend_estimator__max_features' : ['auto', 'sqrt']\n",
    "    \n",
    "}\n",
    "\n",
    "knn_CV = GridSearchCV(\n",
    "    estimator=pipe, \n",
    "    param_grid=knn_grid_params,\n",
    "    scoring='neg_mean_squared_log_error',\n",
    "    cv=gap_kf\n",
    ")\n",
    "\n",
    "knn_CV.fit(X_meter, Ys_meter['meter_reading'])"
   ]
  },
  {
   "cell_type": "code",
   "execution_count": 156,
   "metadata": {},
   "outputs": [
    {
     "name": "stdout",
     "output_type": "stream",
     "text": [
      "best_params : {'trendestimator__trend_estimator__max_features': 'sqrt', 'trendestimator__trend_estimator__n_estimators': 100}\n",
      "best_score : -0.09635018031040087\n"
     ]
    }
   ],
   "source": [
    "print('best_params : {}'.format(knn_CV.best_params_))\n",
    "print('best_score : {}'.format(knn_CV.best_score_))"
   ]
  },
  {
   "cell_type": "code",
   "execution_count": null,
   "metadata": {},
   "outputs": [],
   "source": []
  },
  {
   "cell_type": "code",
   "execution_count": null,
   "metadata": {},
   "outputs": [],
   "source": []
  },
  {
   "cell_type": "code",
   "execution_count": null,
   "metadata": {},
   "outputs": [],
   "source": []
  },
  {
   "cell_type": "code",
   "execution_count": 163,
   "metadata": {},
   "outputs": [],
   "source": [
    "trendRFR = RandomForestRegressor(n_estimators=50, max_features='sqrt')\n",
    "full_est = TrendEstimator(trendRFR, 0, 5)"
   ]
  },
  {
   "cell_type": "code",
   "execution_count": 164,
   "metadata": {},
   "outputs": [
    {
     "data": {
      "text/plain": [
       "-0.04037517681564388"
      ]
     },
     "execution_count": 164,
     "metadata": {},
     "output_type": "execute_result"
    }
   ],
   "source": [
    "cross_val_score(\n",
    "    estimator=full_est,\n",
    "    X=X_meter,\n",
    "    y=Ys_meter['meter_reading'],\n",
    "    scoring='neg_mean_squared_log_error',\n",
    "    cv=gap_kf).mean()"
   ]
  },
  {
   "cell_type": "code",
   "execution_count": null,
   "metadata": {},
   "outputs": [],
   "source": []
  },
  {
   "cell_type": "code",
   "execution_count": null,
   "metadata": {},
   "outputs": [],
   "source": []
  }
 ],
 "metadata": {
  "kernelspec": {
   "display_name": "Python 3",
   "language": "python",
   "name": "python3"
  },
  "language_info": {
   "codemirror_mode": {
    "name": "ipython",
    "version": 3
   },
   "file_extension": ".py",
   "mimetype": "text/x-python",
   "name": "python",
   "nbconvert_exporter": "python",
   "pygments_lexer": "ipython3",
   "version": "3.7.3"
  }
 },
 "nbformat": 4,
 "nbformat_minor": 2
}
