{
 "cells": [
  {
   "cell_type": "code",
   "execution_count": 3,
   "metadata": {},
   "outputs": [],
   "source": [
    "import numpy as np\n",
    "import pandas as pd\n",
    "\n",
    "from sklearn.base import BaseEstimator\n",
    "from sklearn.utils.validation import check_X_y, check_array, check_is_fitted, column_or_1d\n",
    "from sklearn.dummy import DummyRegressor\n",
    "from sklearn.model_selection import cross_val_score\n",
    "\n",
    "from tscv import GapKFold\n",
    "\n",
    "import matplotlib.pyplot as plt\n",
    "import matplotlib.ticker as ticker\n",
    "import matplotlib.pyplot as plt\n",
    "import matplotlib.dates as mdates\n",
    "import seaborn as sns\n",
    "\n",
    "from pandas.plotting import register_matplotlib_converters\n",
    "register_matplotlib_converters()\n",
    "\n",
    "%matplotlib inline"
   ]
  },
  {
   "cell_type": "markdown",
   "metadata": {},
   "source": [
    "The goal here is to build and evalutate simple models based on mean meter readings (per day of week, per hour)."
   ]
  },
  {
   "cell_type": "markdown",
   "metadata": {},
   "source": [
    "An important and tricky point is how are we going to split the data between train and validation.<br>\n",
    "For time-serie data, usually we cannot do the usual random split, because of correlations.<br>\n",
    "Usually, some kind of walk-forward approach is used.<br>\n",
    "Here, we use hv-block cross validation : we keep a gap of unused data between train and validation, to avoid using correlated data between train and validation.<br>\n",
    "This method has been studied and described by Racine (2000) : http://citeseerx.ist.psu.edu/viewdoc/download?doi=10.1.1.30.6748&rep=rep1&type=pdf<br>\n",
    "We used an open-source implementation that extends scikit-learn : http://www.zhengwenjie.net/tscv/<br>\n",
    "See notebook 'test_tscv_lib.ipynb'"
   ]
  },
  {
   "cell_type": "code",
   "execution_count": 4,
   "metadata": {},
   "outputs": [
    {
     "name": "stdout",
     "output_type": "stream",
     "text": [
      "<class 'pandas.core.frame.DataFrame'>\n",
      "DatetimeIndex: 8524 entries, 2016-01-02 00:00:00 to 2016-12-31 23:00:00\n",
      "Data columns (total 8 columns):\n",
      "day_of_week                     8524 non-null int64\n",
      "day_hour                        8524 non-null int64\n",
      "dew_temperature_ma_24H          8524 non-null float64\n",
      "air_temperature                 8524 non-null float64\n",
      "wind_speed_ma_24H               8524 non-null float64\n",
      "precip_depth_1_hr_ma_24H        8524 non-null float64\n",
      "sea_level_pressure_shift_10H    8524 non-null float64\n",
      "meter_reading                   8524 non-null float64\n",
      "dtypes: float64(6), int64(2)\n",
      "memory usage: 599.3 KB\n"
     ]
    }
   ],
   "source": [
    "filepath = '../../data/intermediate/experimentation_train_sets/'\n",
    "\n",
    "filename = 'train_b_1176_m_0_t_20200111_195028.csv'\n",
    "\n",
    "df_features = pd.read_csv(filepath + filename, parse_dates=['timestamp'], index_col=['timestamp'])\n",
    "df_features.info()"
   ]
  },
  {
   "cell_type": "code",
   "execution_count": 4,
   "metadata": {},
   "outputs": [
    {
     "data": {
      "text/html": [
       "<div>\n",
       "<style scoped>\n",
       "    .dataframe tbody tr th:only-of-type {\n",
       "        vertical-align: middle;\n",
       "    }\n",
       "\n",
       "    .dataframe tbody tr th {\n",
       "        vertical-align: top;\n",
       "    }\n",
       "\n",
       "    .dataframe thead th {\n",
       "        text-align: right;\n",
       "    }\n",
       "</style>\n",
       "<table border=\"1\" class=\"dataframe\">\n",
       "  <thead>\n",
       "    <tr style=\"text-align: right;\">\n",
       "      <th></th>\n",
       "      <th>day_of_week</th>\n",
       "      <th>day_hour</th>\n",
       "      <th>dew_temperature_ma_24H</th>\n",
       "      <th>air_temperature</th>\n",
       "      <th>wind_speed_ma_24H</th>\n",
       "      <th>precip_depth_1_hr_ma_24H</th>\n",
       "      <th>sea_level_pressure_shift_10H</th>\n",
       "      <th>meter_reading</th>\n",
       "      <th>meter_reading_trend</th>\n",
       "      <th>meter_reading_seasonal</th>\n",
       "      <th>meter_reading_deseasoned</th>\n",
       "    </tr>\n",
       "    <tr>\n",
       "      <th>timestamp</th>\n",
       "      <th></th>\n",
       "      <th></th>\n",
       "      <th></th>\n",
       "      <th></th>\n",
       "      <th></th>\n",
       "      <th></th>\n",
       "      <th></th>\n",
       "      <th></th>\n",
       "      <th></th>\n",
       "      <th></th>\n",
       "      <th></th>\n",
       "    </tr>\n",
       "  </thead>\n",
       "  <tbody>\n",
       "    <tr>\n",
       "      <th>2016-01-02 00:00:00</th>\n",
       "      <td>5</td>\n",
       "      <td>0</td>\n",
       "      <td>-10.120833</td>\n",
       "      <td>-3.3</td>\n",
       "      <td>4.737500</td>\n",
       "      <td>-0.208333</td>\n",
       "      <td>1019.4</td>\n",
       "      <td>73.866</td>\n",
       "      <td>82.076000</td>\n",
       "      <td>-26.759415</td>\n",
       "      <td>100.625415</td>\n",
       "    </tr>\n",
       "    <tr>\n",
       "      <th>2016-01-02 01:00:00</th>\n",
       "      <td>5</td>\n",
       "      <td>1</td>\n",
       "      <td>-9.979167</td>\n",
       "      <td>-3.9</td>\n",
       "      <td>4.779167</td>\n",
       "      <td>-0.166667</td>\n",
       "      <td>1018.9</td>\n",
       "      <td>69.788</td>\n",
       "      <td>82.069396</td>\n",
       "      <td>-32.469222</td>\n",
       "      <td>102.257222</td>\n",
       "    </tr>\n",
       "    <tr>\n",
       "      <th>2016-01-02 02:00:00</th>\n",
       "      <td>5</td>\n",
       "      <td>2</td>\n",
       "      <td>-9.887500</td>\n",
       "      <td>-5.0</td>\n",
       "      <td>4.862500</td>\n",
       "      <td>-0.125000</td>\n",
       "      <td>1017.9</td>\n",
       "      <td>68.563</td>\n",
       "      <td>82.132312</td>\n",
       "      <td>-35.705572</td>\n",
       "      <td>104.268572</td>\n",
       "    </tr>\n",
       "    <tr>\n",
       "      <th>2016-01-02 03:00:00</th>\n",
       "      <td>5</td>\n",
       "      <td>3</td>\n",
       "      <td>-9.816667</td>\n",
       "      <td>-5.6</td>\n",
       "      <td>4.883333</td>\n",
       "      <td>-0.083333</td>\n",
       "      <td>1017.4</td>\n",
       "      <td>69.133</td>\n",
       "      <td>81.996854</td>\n",
       "      <td>-36.882202</td>\n",
       "      <td>106.015202</td>\n",
       "    </tr>\n",
       "    <tr>\n",
       "      <th>2016-01-02 04:00:00</th>\n",
       "      <td>5</td>\n",
       "      <td>4</td>\n",
       "      <td>-9.766667</td>\n",
       "      <td>-6.1</td>\n",
       "      <td>4.862500</td>\n",
       "      <td>-0.083333</td>\n",
       "      <td>1017.1</td>\n",
       "      <td>69.085</td>\n",
       "      <td>81.552562</td>\n",
       "      <td>-37.362799</td>\n",
       "      <td>106.447799</td>\n",
       "    </tr>\n",
       "  </tbody>\n",
       "</table>\n",
       "</div>"
      ],
      "text/plain": [
       "                     day_of_week  day_hour  dew_temperature_ma_24H  \\\n",
       "timestamp                                                            \n",
       "2016-01-02 00:00:00            5         0              -10.120833   \n",
       "2016-01-02 01:00:00            5         1               -9.979167   \n",
       "2016-01-02 02:00:00            5         2               -9.887500   \n",
       "2016-01-02 03:00:00            5         3               -9.816667   \n",
       "2016-01-02 04:00:00            5         4               -9.766667   \n",
       "\n",
       "                     air_temperature  wind_speed_ma_24H  \\\n",
       "timestamp                                                 \n",
       "2016-01-02 00:00:00             -3.3           4.737500   \n",
       "2016-01-02 01:00:00             -3.9           4.779167   \n",
       "2016-01-02 02:00:00             -5.0           4.862500   \n",
       "2016-01-02 03:00:00             -5.6           4.883333   \n",
       "2016-01-02 04:00:00             -6.1           4.862500   \n",
       "\n",
       "                     precip_depth_1_hr_ma_24H  sea_level_pressure_shift_10H  \\\n",
       "timestamp                                                                     \n",
       "2016-01-02 00:00:00                 -0.208333                        1019.4   \n",
       "2016-01-02 01:00:00                 -0.166667                        1018.9   \n",
       "2016-01-02 02:00:00                 -0.125000                        1017.9   \n",
       "2016-01-02 03:00:00                 -0.083333                        1017.4   \n",
       "2016-01-02 04:00:00                 -0.083333                        1017.1   \n",
       "\n",
       "                     meter_reading  meter_reading_trend  \\\n",
       "timestamp                                                 \n",
       "2016-01-02 00:00:00         73.866            82.076000   \n",
       "2016-01-02 01:00:00         69.788            82.069396   \n",
       "2016-01-02 02:00:00         68.563            82.132312   \n",
       "2016-01-02 03:00:00         69.133            81.996854   \n",
       "2016-01-02 04:00:00         69.085            81.552562   \n",
       "\n",
       "                     meter_reading_seasonal  meter_reading_deseasoned  \n",
       "timestamp                                                              \n",
       "2016-01-02 00:00:00              -26.759415                100.625415  \n",
       "2016-01-02 01:00:00              -32.469222                102.257222  \n",
       "2016-01-02 02:00:00              -35.705572                104.268572  \n",
       "2016-01-02 03:00:00              -36.882202                106.015202  \n",
       "2016-01-02 04:00:00              -37.362799                106.447799  "
      ]
     },
     "execution_count": 4,
     "metadata": {},
     "output_type": "execute_result"
    }
   ],
   "source": [
    "df_features.head()"
   ]
  },
  {
   "cell_type": "code",
   "execution_count": 5,
   "metadata": {},
   "outputs": [
    {
     "name": "stdout",
     "output_type": "stream",
     "text": [
      "X_meter.shape = (8512, 10), y_meter.shape = (8512,)\n"
     ]
    }
   ],
   "source": [
    "y_meter = df_features['meter_reading']\n",
    "X_meter = df_features.loc[:, df_features.columns != 'meter_reading']\n",
    "print('X_meter.shape = {}, y_meter.shape = {}'.format(X_meter.shape, y_meter.shape))"
   ]
  },
  {
   "cell_type": "code",
   "execution_count": 5,
   "metadata": {},
   "outputs": [],
   "source": [
    "# GapKFold\n",
    "# gap ~ two weeks, train = 1 month (12 folds)\n",
    "\n",
    "gap = 24*7*2\n",
    "gap_kf = GapKFold(n_splits=12, gap_before=gap, gap_after=gap)"
   ]
  },
  {
   "cell_type": "code",
   "execution_count": null,
   "metadata": {},
   "outputs": [],
   "source": []
  },
  {
   "cell_type": "code",
   "execution_count": null,
   "metadata": {},
   "outputs": [],
   "source": []
  },
  {
   "cell_type": "markdown",
   "metadata": {},
   "source": [
    "Let's build a mean value estimator.\n",
    "\n",
    "From https://github.com/scikit-learn-contrib/project-template/blob/master/skltemplate/_template.py"
   ]
  },
  {
   "cell_type": "markdown",
   "metadata": {},
   "source": [
    "check_array and check_X_y\n",
    "\n",
    "https://github.com/scikit-learn/scikit-learn/blob/e5698bde9/sklearn/utils/validation.py#L904"
   ]
  },
  {
   "cell_type": "code",
   "execution_count": 6,
   "metadata": {},
   "outputs": [],
   "source": [
    "# Actually we don't need that because it already exists in sklearn, under the name 'dummyRegressor'\n",
    "# https://scikit-learn.org/stable/modules/generated/sklearn.dummy.DummyRegressor.html"
   ]
  },
  {
   "cell_type": "code",
   "execution_count": null,
   "metadata": {},
   "outputs": [],
   "source": []
  },
  {
   "cell_type": "code",
   "execution_count": null,
   "metadata": {},
   "outputs": [],
   "source": []
  },
  {
   "cell_type": "code",
   "execution_count": 7,
   "metadata": {},
   "outputs": [
    {
     "data": {
      "text/plain": [
       "-0.10966881921925091"
      ]
     },
     "execution_count": 7,
     "metadata": {},
     "output_type": "execute_result"
    }
   ],
   "source": [
    "cross_val_score(\n",
    "    estimator=DummyRegressor(strategy=\"mean\"),\n",
    "    X=X_meter,\n",
    "    y=y_meter,\n",
    "    scoring='neg_mean_squared_log_error',\n",
    "    cv=gap_kf).mean()"
   ]
  },
  {
   "cell_type": "code",
   "execution_count": 8,
   "metadata": {},
   "outputs": [
    {
     "data": {
      "text/plain": [
       "-0.10827571289521588"
      ]
     },
     "execution_count": 8,
     "metadata": {},
     "output_type": "execute_result"
    }
   ],
   "source": [
    "cross_val_score(\n",
    "    estimator=DummyRegressor(strategy=\"median\"),\n",
    "    X=X_meter,\n",
    "    y=y_meter,\n",
    "    scoring='neg_mean_squared_log_error',\n",
    "    cv=gap_kf).mean()"
   ]
  },
  {
   "cell_type": "code",
   "execution_count": 9,
   "metadata": {},
   "outputs": [],
   "source": [
    "# note : this is not the RMSLE metric defined for the competition, it is not in sklearn, we must implement it."
   ]
  },
  {
   "cell_type": "code",
   "execution_count": null,
   "metadata": {},
   "outputs": [],
   "source": []
  },
  {
   "cell_type": "code",
   "execution_count": 10,
   "metadata": {},
   "outputs": [],
   "source": [
    "# Now let's take the mean by hour"
   ]
  },
  {
   "cell_type": "code",
   "execution_count": 11,
   "metadata": {},
   "outputs": [],
   "source": [
    "class MeanByCatEstimator(BaseEstimator):\n",
    "    \"\"\" A template estimator to be used as a reference implementation.\n",
    "    For more information regarding how to build your own estimator, read more\n",
    "    in the :ref:`User Guide <user_guide>`.\n",
    "    Parameters\n",
    "    ----------\n",
    "    demo_param : str, default='demo_param'\n",
    "        A parameter used for demonstation of how to pass and store paramters.\n",
    "    \"\"\"\n",
    "    def __init__(self, cat_column_idx=0, verbose=False):\n",
    "        self.verbose = verbose\n",
    "        self.cat_column_idx= cat_column_idx\n",
    "\n",
    "    def fit(self, X, y):\n",
    "        \"\"\"A reference implementation of a fitting function.\n",
    "        Parameters\n",
    "        ----------\n",
    "        X : {array-like, sparse matrix}, shape (n_samples, n_features)\n",
    "            The training input samples.\n",
    "        y : array-like, shape (n_samples,) or (n_samples, n_outputs)\n",
    "            The target values (class labels in classification, real numbers in\n",
    "            regression).\n",
    "        Returns\n",
    "        -------\n",
    "        self : object\n",
    "            Returns self.\n",
    "        \"\"\"\n",
    "        \n",
    "        X, y = check_X_y(X, y, accept_sparse=True)\n",
    "        \"\"\"Input validation for standard estimators.\n",
    "        Checks X and y for consistent length, enforces X to be 2D and y 1D. By\n",
    "        default, X is checked to be non-empty and containing only finite values.\n",
    "        Standard input checks are also applied to y, such as checking that y\n",
    "        does not have np.nan or np.inf targets. For multi-label y, set\n",
    "        multi_output=True to allow 2D and sparse y. If the dtype of X is\n",
    "        object, attempt converting to float, raising on failure.\n",
    "        \"\"\"\n",
    "        \n",
    "        if(self.cat_column_idx >= X.shape[1]):\n",
    "             raise ValueError(\"category column index should be < X.shape[1]\")\n",
    "        \n",
    "        categories = {}\n",
    "        self.means = {}\n",
    "        \n",
    "        self.mean = y.mean()\n",
    "        \n",
    "        for x_bin in np.unique(X[:, self.cat_column_idx]):\n",
    "            categories[x_bin] = []\n",
    "            \n",
    "        if self.verbose:    \n",
    "            print('categories : {}'.format(categories.keys()))\n",
    "            \n",
    "        for k in range(X.shape[0]):\n",
    "            categories[X[k, self.cat_column_idx]].append(y[k])\n",
    "        \n",
    "        for k, v in categories.items():\n",
    "            self.means[k] = np.array(v).mean()\n",
    "        \n",
    "        self.is_fitted_ = True\n",
    "        # `fit` should always return `self`\n",
    "        \n",
    "        if self.verbose:\n",
    "            for k, v in self.means.items():\n",
    "                print('({}, {})'.format(k, v))\n",
    "        \n",
    "        return self\n",
    "\n",
    "    \n",
    "    \n",
    "    def predict(self, X):\n",
    "        \"\"\" A reference implementation of a predicting function.\n",
    "        Parameters\n",
    "        ----------\n",
    "        X : {array-like, sparse matrix}, shape (n_samples, n_features)\n",
    "            The training input samples.\n",
    "        Returns\n",
    "        -------\n",
    "        y : ndarray, shape (n_samples,)\n",
    "            Returns an array of ones.\n",
    "        \"\"\"\n",
    "        \n",
    "        \n",
    "        X = check_array(X, accept_sparse=True)\n",
    "        \"\"\"Input validation on an array, list, sparse matrix or similar.\n",
    "        By default, the input is checked to be a non-empty 2D array containing\n",
    "        only finite values. If the dtype of the array is object, attempt\n",
    "        converting to float, raising on failure.\"\"\"\n",
    "        \n",
    "        check_is_fitted(self, 'is_fitted_')\n",
    "        \n",
    "        predictions = []\n",
    "        \n",
    "        for sample_cat in X[:, self.cat_column_idx]:\n",
    "            cat_mean = self.means.get(sample_cat)\n",
    "            if(cat_mean == None):\n",
    "                predictions.append(self.mean)\n",
    "            else:\n",
    "                predictions.append(cat_mean)\n",
    "            \n",
    "        \n",
    "        \n",
    "        return np.array(predictions)"
   ]
  },
  {
   "cell_type": "code",
   "execution_count": null,
   "metadata": {},
   "outputs": [],
   "source": []
  },
  {
   "cell_type": "code",
   "execution_count": 12,
   "metadata": {},
   "outputs": [],
   "source": [
    "day_hour_col_idx = X_meter.columns.to_list().index('day_hour')\n",
    "\n",
    "myEst = MeanByCatEstimator(cat_column_idx=day_hour_col_idx)"
   ]
  },
  {
   "cell_type": "code",
   "execution_count": 13,
   "metadata": {
    "scrolled": true
   },
   "outputs": [
    {
     "data": {
      "text/plain": [
       "MeanByCatEstimator(cat_column_idx=1, verbose=False)"
      ]
     },
     "execution_count": 13,
     "metadata": {},
     "output_type": "execute_result"
    }
   ],
   "source": [
    "myEst.fit(X_meter, y_meter)"
   ]
  },
  {
   "cell_type": "code",
   "execution_count": 14,
   "metadata": {},
   "outputs": [
    {
     "data": {
      "text/plain": [
       "(8524, 7)"
      ]
     },
     "execution_count": 14,
     "metadata": {},
     "output_type": "execute_result"
    }
   ],
   "source": [
    "\n",
    "X_meter.shape"
   ]
  },
  {
   "cell_type": "code",
   "execution_count": 15,
   "metadata": {},
   "outputs": [
    {
     "name": "stdout",
     "output_type": "stream",
     "text": [
      "[[ 1  0  1  1  1  1  1  1]\n",
      " [ 1  3  1  1  1  1  1  1]\n",
      " [ 1  5  1  1  1  1  1  1]\n",
      " [ 1  6  1  1  1  1  1  1]\n",
      " [ 1  8  1  1  1  1  1  1]\n",
      " [ 1 10  1  1  1  1  1  1]\n",
      " [ 1 15  1  1  1  1  1  1]\n",
      " [ 1  2  1  1  1  1  1  1]\n",
      " [ 1  5  1  1  1  1  1  1]\n",
      " [ 1  7  1  1  1  1  1  1]\n",
      " [ 1 22  1  1  1  1  1  1]\n",
      " [ 1 27  1  1  1  1  1  1]]\n"
     ]
    },
    {
     "data": {
      "text/plain": [
       "array([ 85.67500568,  76.00959687,  75.88157423,  76.47674302,\n",
       "       101.06289014, 134.37695014, 147.80155211,  77.40017938,\n",
       "        75.88157423,  89.0337563 , 108.73477222, 112.84224061])"
      ]
     },
     "execution_count": 15,
     "metadata": {},
     "output_type": "execute_result"
    }
   ],
   "source": [
    "t_6 = np.array([0,3,5,6,8,10,15,2,5,7,22,27])\n",
    "\n",
    "t = np.transpose(np.array([\n",
    "    np.ones(12, dtype=np.int64),\n",
    "    t_6,\n",
    "    np.ones(12, dtype=np.int64), \n",
    "    np.ones(12, dtype=np.int64),\n",
    "    np.ones(12, dtype=np.int64),\n",
    "    np.ones(12, dtype=np.int64),\n",
    "    np.ones(12, dtype=np.int64),\n",
    "    np.ones(12, dtype=np.int64)\n",
    "]))\n",
    "\n",
    "\n",
    "print(t)\n",
    "\n",
    "myEst.predict(t)"
   ]
  },
  {
   "cell_type": "code",
   "execution_count": null,
   "metadata": {},
   "outputs": [],
   "source": []
  },
  {
   "cell_type": "code",
   "execution_count": null,
   "metadata": {},
   "outputs": [],
   "source": []
  },
  {
   "cell_type": "code",
   "execution_count": null,
   "metadata": {},
   "outputs": [],
   "source": []
  },
  {
   "cell_type": "code",
   "execution_count": null,
   "metadata": {},
   "outputs": [],
   "source": []
  },
  {
   "cell_type": "code",
   "execution_count": 16,
   "metadata": {
    "scrolled": false
   },
   "outputs": [
    {
     "data": {
      "text/plain": [
       "-0.04666112104598815"
      ]
     },
     "execution_count": 16,
     "metadata": {},
     "output_type": "execute_result"
    }
   ],
   "source": [
    "day_hour_col_idx = X_meter.columns.to_list().index('day_hour')\n",
    "\n",
    "cross_val_score(\n",
    "    estimator=MeanByCatEstimator(cat_column_idx=day_hour_col_idx),\n",
    "    X=X_meter,\n",
    "    y=y_meter,\n",
    "    scoring='neg_mean_squared_log_error',\n",
    "    cv=gap_kf).mean()"
   ]
  },
  {
   "cell_type": "code",
   "execution_count": null,
   "metadata": {},
   "outputs": [],
   "source": []
  },
  {
   "cell_type": "code",
   "execution_count": null,
   "metadata": {},
   "outputs": [],
   "source": []
  },
  {
   "cell_type": "code",
   "execution_count": null,
   "metadata": {},
   "outputs": [],
   "source": []
  },
  {
   "cell_type": "code",
   "execution_count": null,
   "metadata": {},
   "outputs": [],
   "source": []
  },
  {
   "cell_type": "code",
   "execution_count": null,
   "metadata": {},
   "outputs": [],
   "source": []
  },
  {
   "cell_type": "code",
   "execution_count": 17,
   "metadata": {},
   "outputs": [],
   "source": [
    "class MeanByMultiCatEstimator(BaseEstimator):\n",
    "    \"\"\" A template estimator to be used as a reference implementation.\n",
    "    For more information regarding how to build your own estimator, read more\n",
    "    in the :ref:`User Guide <user_guide>`.\n",
    "    Parameters\n",
    "    ----------\n",
    "    demo_param : str, default='demo_param'\n",
    "        A parameter used for demonstation of how to pass and store paramters.\n",
    "    \"\"\"\n",
    "    def __init__(self, cat_column_indexes=[0], verbose=False):\n",
    "        self.verbose = verbose\n",
    "        self.cat_column_indexes = cat_column_indexes\n",
    "\n",
    "    def fit(self, X, y):\n",
    "        \"\"\"A reference implementation of a fitting function.\n",
    "        Parameters\n",
    "        ----------\n",
    "        X : {array-like, sparse matrix}, shape (n_samples, n_features)\n",
    "            The training input samples.\n",
    "        y : array-like, shape (n_samples,) or (n_samples, n_outputs)\n",
    "            The target values (class labels in classification, real numbers in\n",
    "            regression).\n",
    "        Returns\n",
    "        -------\n",
    "        self : object\n",
    "            Returns self.\n",
    "        \"\"\"\n",
    "        \n",
    "        X, y = check_X_y(X, y, accept_sparse=True)\n",
    "        \"\"\"Input validation for standard estimators.\n",
    "        Checks X and y for consistent length, enforces X to be 2D and y 1D. By\n",
    "        default, X is checked to be non-empty and containing only finite values.\n",
    "        Standard input checks are also applied to y, such as checking that y\n",
    "        does not have np.nan or np.inf targets. For multi-label y, set\n",
    "        multi_output=True to allow 2D and sparse y. If the dtype of X is\n",
    "        object, attempt converting to float, raising on failure.\n",
    "        \"\"\"\n",
    "        \n",
    "        \n",
    "        cat_columns = []\n",
    "        \n",
    "        for col_idx in self.cat_column_indexes:\n",
    "            if(col_idx >= X.shape[1]):\n",
    "                raise ValueError(\"category column indexes should be < X.shape[1]\")\n",
    "            cat_columns.append(X[:, col_idx])\n",
    "            \n",
    "        cat_tuples = set(zip(*cat_columns))\n",
    "        \n",
    "        categories = {}\n",
    "        self.means = {}\n",
    "        \n",
    "        self.mean = y.mean()\n",
    "        \n",
    "        for x_bin in cat_tuples:\n",
    "            categories[x_bin] = []\n",
    "            \n",
    "        if self.verbose:    \n",
    "            print('categories : {}'.format(categories.keys()))\n",
    "            \n",
    "        for k in range(X.shape[0]):\n",
    "            sample_bin = tuple(X[k, self.cat_column_indexes])\n",
    "            categories[sample_bin].append(y[k])\n",
    "        \n",
    "        for k, v in categories.items():\n",
    "            self.means[k] = np.array(v).mean()\n",
    "        \n",
    "        self.is_fitted_ = True\n",
    "        # `fit` should always return `self`\n",
    "        \n",
    "        if self.verbose:\n",
    "            for k, v in self.means.items():\n",
    "                print('({}, {})'.format(k, v))\n",
    "        \n",
    "        return self\n",
    "\n",
    "    \n",
    "    \n",
    "    def predict(self, X):\n",
    "        \"\"\" A reference implementation of a predicting function.\n",
    "        Parameters\n",
    "        ----------\n",
    "        X : {array-like, sparse matrix}, shape (n_samples, n_features)\n",
    "            The training input samples.\n",
    "        Returns\n",
    "        -------\n",
    "        y : ndarray, shape (n_samples,)\n",
    "            Returns an array of ones.\n",
    "        \"\"\"\n",
    "        \n",
    "        \n",
    "        X = check_array(X, accept_sparse=True)\n",
    "        \"\"\"Input validation on an array, list, sparse matrix or similar.\n",
    "        By default, the input is checked to be a non-empty 2D array containing\n",
    "        only finite values. If the dtype of the array is object, attempt\n",
    "        converting to float, raising on failure.\"\"\"\n",
    "        \n",
    "        check_is_fitted(self, 'is_fitted_')\n",
    "        \n",
    "        predictions = []\n",
    "        \n",
    "        \n",
    "        cat_columns=[]\n",
    "        for col in self.cat_column_indexes:\n",
    "            cat_columns.append(X[:, col])\n",
    "            \n",
    "        cat_tuples = list(zip(*cat_columns))\n",
    "        \n",
    "        \n",
    "        \n",
    "        for sample_cat in cat_tuples:\n",
    "            cat_mean = self.means.get(sample_cat)\n",
    "            if(cat_mean == None):\n",
    "                predictions.append(self.mean)\n",
    "            else:\n",
    "                predictions.append(cat_mean)\n",
    "            \n",
    "        \n",
    "        \n",
    "        return np.array(predictions)"
   ]
  },
  {
   "cell_type": "code",
   "execution_count": 18,
   "metadata": {},
   "outputs": [
    {
     "data": {
      "text/plain": [
       "Index(['day_of_week', 'day_hour', 'dew_temperature_ma_24H', 'air_temperature',\n",
       "       'wind_speed_ma_24H', 'precip_depth_1_hr_ma_24H',\n",
       "       'sea_level_pressure_shift_10H'],\n",
       "      dtype='object')"
      ]
     },
     "execution_count": 18,
     "metadata": {},
     "output_type": "execute_result"
    }
   ],
   "source": [
    "X_meter.columns"
   ]
  },
  {
   "cell_type": "code",
   "execution_count": null,
   "metadata": {},
   "outputs": [],
   "source": []
  },
  {
   "cell_type": "code",
   "execution_count": null,
   "metadata": {},
   "outputs": [],
   "source": []
  },
  {
   "cell_type": "code",
   "execution_count": null,
   "metadata": {},
   "outputs": [],
   "source": []
  },
  {
   "cell_type": "code",
   "execution_count": 19,
   "metadata": {},
   "outputs": [
    {
     "data": {
      "text/plain": [
       "-0.026519821080049997"
      ]
     },
     "execution_count": 19,
     "metadata": {},
     "output_type": "execute_result"
    }
   ],
   "source": [
    "cross_val_score(\n",
    "    estimator=MeanByMultiCatEstimator([0,1]),\n",
    "    X=X_meter,\n",
    "    y=y_meter,\n",
    "    scoring='neg_mean_squared_log_error',\n",
    "    cv=gap_kf).mean()"
   ]
  },
  {
   "cell_type": "code",
   "execution_count": null,
   "metadata": {},
   "outputs": [],
   "source": []
  },
  {
   "cell_type": "code",
   "execution_count": null,
   "metadata": {},
   "outputs": [],
   "source": []
  },
  {
   "cell_type": "code",
   "execution_count": null,
   "metadata": {},
   "outputs": [],
   "source": []
  },
  {
   "cell_type": "code",
   "execution_count": 20,
   "metadata": {},
   "outputs": [],
   "source": [
    "# Let's try a linear regression"
   ]
  },
  {
   "cell_type": "code",
   "execution_count": 27,
   "metadata": {},
   "outputs": [],
   "source": [
    "from sklearn.linear_model import LinearRegression"
   ]
  },
  {
   "cell_type": "code",
   "execution_count": 28,
   "metadata": {},
   "outputs": [
    {
     "data": {
      "text/plain": [
       "LinearRegression(copy_X=True, fit_intercept=True, n_jobs=None, normalize=False)"
      ]
     },
     "execution_count": 28,
     "metadata": {},
     "output_type": "execute_result"
    }
   ],
   "source": [
    "linReg = LinearRegression()\n",
    "\n",
    "linReg.fit(X_meter, y_meter)"
   ]
  },
  {
   "cell_type": "code",
   "execution_count": 30,
   "metadata": {},
   "outputs": [
    {
     "data": {
      "text/plain": [
       "-0.07311530678677933"
      ]
     },
     "execution_count": 30,
     "metadata": {},
     "output_type": "execute_result"
    }
   ],
   "source": [
    "cross_val_score(\n",
    "    estimator=LinearRegression(),\n",
    "    X=X_meter,\n",
    "    y=y_meter,\n",
    "    scoring='neg_mean_squared_log_error',\n",
    "    cv=gap_kf).mean()"
   ]
  },
  {
   "cell_type": "code",
   "execution_count": null,
   "metadata": {},
   "outputs": [],
   "source": []
  },
  {
   "cell_type": "code",
   "execution_count": null,
   "metadata": {},
   "outputs": [],
   "source": []
  },
  {
   "cell_type": "code",
   "execution_count": null,
   "metadata": {},
   "outputs": [],
   "source": []
  },
  {
   "cell_type": "code",
   "execution_count": null,
   "metadata": {},
   "outputs": [],
   "source": []
  },
  {
   "cell_type": "code",
   "execution_count": null,
   "metadata": {},
   "outputs": [],
   "source": [
    "# Try a k nearest-neighbours.\n",
    "# We need to scale, so to use a scaler with cross-validation, we need to set a pipeline."
   ]
  },
  {
   "cell_type": "code",
   "execution_count": null,
   "metadata": {},
   "outputs": [],
   "source": []
  },
  {
   "cell_type": "code",
   "execution_count": 31,
   "metadata": {},
   "outputs": [
    {
     "data": {
      "text/html": [
       "<div>\n",
       "<style scoped>\n",
       "    .dataframe tbody tr th:only-of-type {\n",
       "        vertical-align: middle;\n",
       "    }\n",
       "\n",
       "    .dataframe tbody tr th {\n",
       "        vertical-align: top;\n",
       "    }\n",
       "\n",
       "    .dataframe thead th {\n",
       "        text-align: right;\n",
       "    }\n",
       "</style>\n",
       "<table border=\"1\" class=\"dataframe\">\n",
       "  <thead>\n",
       "    <tr style=\"text-align: right;\">\n",
       "      <th></th>\n",
       "      <th>day_of_week</th>\n",
       "      <th>day_hour</th>\n",
       "      <th>dew_temperature_ma_24H</th>\n",
       "      <th>air_temperature</th>\n",
       "      <th>wind_speed_ma_24H</th>\n",
       "      <th>precip_depth_1_hr_ma_24H</th>\n",
       "      <th>sea_level_pressure_shift_10H</th>\n",
       "    </tr>\n",
       "    <tr>\n",
       "      <th>timestamp</th>\n",
       "      <th></th>\n",
       "      <th></th>\n",
       "      <th></th>\n",
       "      <th></th>\n",
       "      <th></th>\n",
       "      <th></th>\n",
       "      <th></th>\n",
       "    </tr>\n",
       "  </thead>\n",
       "  <tbody>\n",
       "    <tr>\n",
       "      <th>2016-01-02 00:00:00</th>\n",
       "      <td>5</td>\n",
       "      <td>0</td>\n",
       "      <td>-10.120833</td>\n",
       "      <td>-3.3</td>\n",
       "      <td>4.737500</td>\n",
       "      <td>-0.208333</td>\n",
       "      <td>1019.4</td>\n",
       "    </tr>\n",
       "    <tr>\n",
       "      <th>2016-01-02 01:00:00</th>\n",
       "      <td>5</td>\n",
       "      <td>1</td>\n",
       "      <td>-9.979167</td>\n",
       "      <td>-3.9</td>\n",
       "      <td>4.779167</td>\n",
       "      <td>-0.166667</td>\n",
       "      <td>1018.9</td>\n",
       "    </tr>\n",
       "    <tr>\n",
       "      <th>2016-01-02 02:00:00</th>\n",
       "      <td>5</td>\n",
       "      <td>2</td>\n",
       "      <td>-9.887500</td>\n",
       "      <td>-5.0</td>\n",
       "      <td>4.862500</td>\n",
       "      <td>-0.125000</td>\n",
       "      <td>1017.9</td>\n",
       "    </tr>\n",
       "    <tr>\n",
       "      <th>2016-01-02 03:00:00</th>\n",
       "      <td>5</td>\n",
       "      <td>3</td>\n",
       "      <td>-9.816667</td>\n",
       "      <td>-5.6</td>\n",
       "      <td>4.883333</td>\n",
       "      <td>-0.083333</td>\n",
       "      <td>1017.4</td>\n",
       "    </tr>\n",
       "    <tr>\n",
       "      <th>2016-01-02 04:00:00</th>\n",
       "      <td>5</td>\n",
       "      <td>4</td>\n",
       "      <td>-9.766667</td>\n",
       "      <td>-6.1</td>\n",
       "      <td>4.862500</td>\n",
       "      <td>-0.083333</td>\n",
       "      <td>1017.1</td>\n",
       "    </tr>\n",
       "  </tbody>\n",
       "</table>\n",
       "</div>"
      ],
      "text/plain": [
       "                     day_of_week  day_hour  dew_temperature_ma_24H  \\\n",
       "timestamp                                                            \n",
       "2016-01-02 00:00:00            5         0              -10.120833   \n",
       "2016-01-02 01:00:00            5         1               -9.979167   \n",
       "2016-01-02 02:00:00            5         2               -9.887500   \n",
       "2016-01-02 03:00:00            5         3               -9.816667   \n",
       "2016-01-02 04:00:00            5         4               -9.766667   \n",
       "\n",
       "                     air_temperature  wind_speed_ma_24H  \\\n",
       "timestamp                                                 \n",
       "2016-01-02 00:00:00             -3.3           4.737500   \n",
       "2016-01-02 01:00:00             -3.9           4.779167   \n",
       "2016-01-02 02:00:00             -5.0           4.862500   \n",
       "2016-01-02 03:00:00             -5.6           4.883333   \n",
       "2016-01-02 04:00:00             -6.1           4.862500   \n",
       "\n",
       "                     precip_depth_1_hr_ma_24H  sea_level_pressure_shift_10H  \n",
       "timestamp                                                                    \n",
       "2016-01-02 00:00:00                 -0.208333                        1019.4  \n",
       "2016-01-02 01:00:00                 -0.166667                        1018.9  \n",
       "2016-01-02 02:00:00                 -0.125000                        1017.9  \n",
       "2016-01-02 03:00:00                 -0.083333                        1017.4  \n",
       "2016-01-02 04:00:00                 -0.083333                        1017.1  "
      ]
     },
     "execution_count": 31,
     "metadata": {},
     "output_type": "execute_result"
    }
   ],
   "source": [
    "X_meter.head()"
   ]
  },
  {
   "cell_type": "code",
   "execution_count": null,
   "metadata": {},
   "outputs": [],
   "source": []
  },
  {
   "cell_type": "code",
   "execution_count": null,
   "metadata": {},
   "outputs": [],
   "source": []
  },
  {
   "cell_type": "code",
   "execution_count": 35,
   "metadata": {},
   "outputs": [],
   "source": [
    "from sklearn.preprocessing import StandardScaler\n",
    "from sklearn.pipeline import Pipeline"
   ]
  },
  {
   "cell_type": "code",
   "execution_count": 36,
   "metadata": {},
   "outputs": [],
   "source": [
    "\n",
    "transformers = [('scaler', StandardScaler()), ('estimator', LinearRegression())]\n",
    "\n",
    "my_first_pipe = Pipeline(transformers)\n",
    "\n",
    "\n"
   ]
  },
  {
   "cell_type": "code",
   "execution_count": 39,
   "metadata": {},
   "outputs": [
    {
     "data": {
      "text/plain": [
       "array([-0.09708762, -0.06440777, -0.0635013 , -0.09648987, -0.07148461,\n",
       "       -0.0849274 , -0.0781588 , -0.08727196, -0.06406895, -0.04812883,\n",
       "       -0.05898298, -0.0628736 ])"
      ]
     },
     "execution_count": 39,
     "metadata": {},
     "output_type": "execute_result"
    }
   ],
   "source": [
    "cross_val_score(my_first_pipe, X_meter, y_meter,  scoring='neg_mean_squared_log_error',\n",
    "    cv=gap_kf)"
   ]
  },
  {
   "cell_type": "code",
   "execution_count": null,
   "metadata": {},
   "outputs": [],
   "source": []
  },
  {
   "cell_type": "code",
   "execution_count": null,
   "metadata": {},
   "outputs": [],
   "source": []
  },
  {
   "cell_type": "code",
   "execution_count": 51,
   "metadata": {},
   "outputs": [],
   "source": [
    "from sklearn.neighbors import KNeighborsRegressor\n",
    "from sklearn.pipeline import make_pipeline\n",
    "from sklearn.model_selection import GridSearchCV"
   ]
  },
  {
   "cell_type": "code",
   "execution_count": 49,
   "metadata": {
    "scrolled": false
   },
   "outputs": [
    {
     "data": {
      "text/plain": [
       "-0.05755449783308345"
      ]
     },
     "execution_count": 49,
     "metadata": {},
     "output_type": "execute_result"
    }
   ],
   "source": [
    "pipe = make_pipeline(StandardScaler(), KNeighborsRegressor())\n",
    "cross_val_score(pipe, X_meter, y_meter, scoring='neg_mean_squared_log_error', cv=gap_kf).mean()"
   ]
  },
  {
   "cell_type": "code",
   "execution_count": 55,
   "metadata": {},
   "outputs": [
    {
     "data": {
      "text/plain": [
       "dict_keys(['memory', 'steps', 'verbose', 'standardscaler', 'kneighborsregressor', 'standardscaler__copy', 'standardscaler__with_mean', 'standardscaler__with_std', 'kneighborsregressor__algorithm', 'kneighborsregressor__leaf_size', 'kneighborsregressor__metric', 'kneighborsregressor__metric_params', 'kneighborsregressor__n_jobs', 'kneighborsregressor__n_neighbors', 'kneighborsregressor__p', 'kneighborsregressor__weights'])"
      ]
     },
     "execution_count": 55,
     "metadata": {},
     "output_type": "execute_result"
    }
   ],
   "source": [
    "pipe.get_params().keys()"
   ]
  },
  {
   "cell_type": "code",
   "execution_count": 66,
   "metadata": {
    "scrolled": false
   },
   "outputs": [
    {
     "data": {
      "text/plain": [
       "GridSearchCV(cv=GapKFold(gap_after=336, gap_before=336, n_splits=12),\n",
       "             error_score='raise-deprecating',\n",
       "             estimator=Pipeline(memory=None,\n",
       "                                steps=[('standardscaler',\n",
       "                                        StandardScaler(copy=True,\n",
       "                                                       with_mean=True,\n",
       "                                                       with_std=True)),\n",
       "                                       ('kneighborsregressor',\n",
       "                                        KNeighborsRegressor(algorithm='auto',\n",
       "                                                            leaf_size=30,\n",
       "                                                            metric='minkowski',\n",
       "                                                            metric_params=None,\n",
       "                                                            n_jobs=None,\n",
       "                                                            n_neighbors=5, p=2,\n",
       "                                                            weights='uniform'))],\n",
       "                                verbose=False),\n",
       "             iid='warn', n_jobs=None,\n",
       "             param_grid={'kneighborsregressor__n_neighbors': [5, 10, 15, 20, 25,\n",
       "                                                              30, 35, 40, 45,\n",
       "                                                              50, 60, 70],\n",
       "                         'kneighborsregressor__p': [1, 2, 3, 4]},\n",
       "             pre_dispatch='2*n_jobs', refit=True, return_train_score=False,\n",
       "             scoring='neg_mean_squared_log_error', verbose=0)"
      ]
     },
     "execution_count": 66,
     "metadata": {},
     "output_type": "execute_result"
    }
   ],
   "source": [
    "pipe = make_pipeline(StandardScaler(), KNeighborsRegressor())\n",
    "\n",
    "knn_grid_params = {\n",
    "    'kneighborsregressor__n_neighbors' : [5, 10, 15, 20, 25, 30, 35, 40, 45, 50, 60, 70],\n",
    "    'kneighborsregressor__p' : [1, 2, 3, 4]\n",
    "}\n",
    "\n",
    "knn_CV = GridSearchCV(\n",
    "    estimator=pipe, \n",
    "    param_grid=knn_grid_params,\n",
    "    scoring='neg_mean_squared_log_error',\n",
    "    cv=gap_kf\n",
    ")\n",
    "\n",
    "knn_CV.fit(X_meter, y_meter)"
   ]
  },
  {
   "cell_type": "code",
   "execution_count": 67,
   "metadata": {},
   "outputs": [
    {
     "data": {
      "text/plain": [
       "{'mean_fit_time': array([0.00922585, 0.00921408, 0.0094644 , 0.00953732, 0.00921456,\n",
       "        0.00918233, 0.00940826, 0.00945028, 0.0092899 , 0.00953794,\n",
       "        0.01007732, 0.00932533, 0.00919813, 0.00930423, 0.00943915,\n",
       "        0.00938272, 0.0091782 , 0.00933683, 0.00937017, 0.00935783,\n",
       "        0.00929403, 0.00956376, 0.00963567, 0.00964165, 0.00934651,\n",
       "        0.00927456, 0.00941743, 0.00947599, 0.00952327, 0.00914154,\n",
       "        0.00944515, 0.00938632, 0.00926761, 0.00923057, 0.00943698,\n",
       "        0.00936399, 0.00919908, 0.00922378, 0.00951137, 0.00953295,\n",
       "        0.00919654, 0.00921822, 0.00979551, 0.00938567, 0.00921114,\n",
       "        0.0092723 , 0.00955057, 0.00968349]),\n",
       " 'std_fit_time': array([0.00081679, 0.00081715, 0.00100496, 0.00103594, 0.0007984 ,\n",
       "        0.00079365, 0.00081202, 0.00077912, 0.00079669, 0.00121737,\n",
       "        0.00200431, 0.00082367, 0.00080223, 0.00089526, 0.00069163,\n",
       "        0.00093829, 0.00084046, 0.00096766, 0.00079379, 0.00077942,\n",
       "        0.00091441, 0.00133303, 0.00114293, 0.00152599, 0.00074225,\n",
       "        0.00088991, 0.00079257, 0.00083743, 0.00130386, 0.00079294,\n",
       "        0.0008049 , 0.00077861, 0.0008107 , 0.0008059 , 0.0007928 ,\n",
       "        0.00080257, 0.00078984, 0.00078659, 0.00080151, 0.00084814,\n",
       "        0.00081657, 0.00085435, 0.00135301, 0.00077832, 0.00076821,\n",
       "        0.00071917, 0.00079504, 0.00127253]),\n",
       " 'mean_score_time': array([0.01884127, 0.0117015 , 0.20940218, 0.19349106, 0.02220543,\n",
       "        0.01391681, 0.2513232 , 0.233133  , 0.02463822, 0.01611894,\n",
       "        0.28314481, 0.26015963, 0.0262928 , 0.01704675, 0.30769843,\n",
       "        0.28330841, 0.02787358, 0.01854606, 0.33147417, 0.30565051,\n",
       "        0.02954066, 0.01977177, 0.35319239, 0.3247564 , 0.03108158,\n",
       "        0.02114518, 0.37437509, 0.34315765, 0.03307732, 0.02215   ,\n",
       "        0.39154909, 0.36028375, 0.03387022, 0.02346297, 0.40981142,\n",
       "        0.37709683, 0.03521987, 0.02459298, 0.4262982 , 0.39396167,\n",
       "        0.03747833, 0.02679652, 0.45740805, 0.423582  , 0.03978632,\n",
       "        0.02914572, 0.48720779, 0.4575989 ]),\n",
       " 'std_score_time': array([0.00238179, 0.00128465, 0.03069173, 0.02832369, 0.00290924,\n",
       "        0.0016095 , 0.03749197, 0.03462751, 0.00313841, 0.00223894,\n",
       "        0.0414125 , 0.03896144, 0.00334259, 0.00195186, 0.04549067,\n",
       "        0.04227502, 0.0034521 , 0.00211114, 0.04806086, 0.04573989,\n",
       "        0.00356382, 0.00221659, 0.0504133 , 0.04699479, 0.00362561,\n",
       "        0.00227748, 0.05279367, 0.0486466 , 0.003749  , 0.00237029,\n",
       "        0.05386102, 0.05035952, 0.0037757 , 0.00256667, 0.05508455,\n",
       "        0.05139139, 0.00396587, 0.00254173, 0.05613373, 0.05320963,\n",
       "        0.00397826, 0.0027284 , 0.05823076, 0.05488347, 0.00385968,\n",
       "        0.00302616, 0.06057947, 0.06213897]),\n",
       " 'param_kneighborsregressor__n_neighbors': masked_array(data=[5, 5, 5, 5, 10, 10, 10, 10, 15, 15, 15, 15, 20, 20, 20,\n",
       "                    20, 25, 25, 25, 25, 30, 30, 30, 30, 35, 35, 35, 35, 40,\n",
       "                    40, 40, 40, 45, 45, 45, 45, 50, 50, 50, 50, 60, 60, 60,\n",
       "                    60, 70, 70, 70, 70],\n",
       "              mask=[False, False, False, False, False, False, False, False,\n",
       "                    False, False, False, False, False, False, False, False,\n",
       "                    False, False, False, False, False, False, False, False,\n",
       "                    False, False, False, False, False, False, False, False,\n",
       "                    False, False, False, False, False, False, False, False,\n",
       "                    False, False, False, False, False, False, False, False],\n",
       "        fill_value='?',\n",
       "             dtype=object),\n",
       " 'param_kneighborsregressor__p': masked_array(data=[1, 2, 3, 4, 1, 2, 3, 4, 1, 2, 3, 4, 1, 2, 3, 4, 1, 2,\n",
       "                    3, 4, 1, 2, 3, 4, 1, 2, 3, 4, 1, 2, 3, 4, 1, 2, 3, 4,\n",
       "                    1, 2, 3, 4, 1, 2, 3, 4, 1, 2, 3, 4],\n",
       "              mask=[False, False, False, False, False, False, False, False,\n",
       "                    False, False, False, False, False, False, False, False,\n",
       "                    False, False, False, False, False, False, False, False,\n",
       "                    False, False, False, False, False, False, False, False,\n",
       "                    False, False, False, False, False, False, False, False,\n",
       "                    False, False, False, False, False, False, False, False],\n",
       "        fill_value='?',\n",
       "             dtype=object),\n",
       " 'params': [{'kneighborsregressor__n_neighbors': 5,\n",
       "   'kneighborsregressor__p': 1},\n",
       "  {'kneighborsregressor__n_neighbors': 5, 'kneighborsregressor__p': 2},\n",
       "  {'kneighborsregressor__n_neighbors': 5, 'kneighborsregressor__p': 3},\n",
       "  {'kneighborsregressor__n_neighbors': 5, 'kneighborsregressor__p': 4},\n",
       "  {'kneighborsregressor__n_neighbors': 10, 'kneighborsregressor__p': 1},\n",
       "  {'kneighborsregressor__n_neighbors': 10, 'kneighborsregressor__p': 2},\n",
       "  {'kneighborsregressor__n_neighbors': 10, 'kneighborsregressor__p': 3},\n",
       "  {'kneighborsregressor__n_neighbors': 10, 'kneighborsregressor__p': 4},\n",
       "  {'kneighborsregressor__n_neighbors': 15, 'kneighborsregressor__p': 1},\n",
       "  {'kneighborsregressor__n_neighbors': 15, 'kneighborsregressor__p': 2},\n",
       "  {'kneighborsregressor__n_neighbors': 15, 'kneighborsregressor__p': 3},\n",
       "  {'kneighborsregressor__n_neighbors': 15, 'kneighborsregressor__p': 4},\n",
       "  {'kneighborsregressor__n_neighbors': 20, 'kneighborsregressor__p': 1},\n",
       "  {'kneighborsregressor__n_neighbors': 20, 'kneighborsregressor__p': 2},\n",
       "  {'kneighborsregressor__n_neighbors': 20, 'kneighborsregressor__p': 3},\n",
       "  {'kneighborsregressor__n_neighbors': 20, 'kneighborsregressor__p': 4},\n",
       "  {'kneighborsregressor__n_neighbors': 25, 'kneighborsregressor__p': 1},\n",
       "  {'kneighborsregressor__n_neighbors': 25, 'kneighborsregressor__p': 2},\n",
       "  {'kneighborsregressor__n_neighbors': 25, 'kneighborsregressor__p': 3},\n",
       "  {'kneighborsregressor__n_neighbors': 25, 'kneighborsregressor__p': 4},\n",
       "  {'kneighborsregressor__n_neighbors': 30, 'kneighborsregressor__p': 1},\n",
       "  {'kneighborsregressor__n_neighbors': 30, 'kneighborsregressor__p': 2},\n",
       "  {'kneighborsregressor__n_neighbors': 30, 'kneighborsregressor__p': 3},\n",
       "  {'kneighborsregressor__n_neighbors': 30, 'kneighborsregressor__p': 4},\n",
       "  {'kneighborsregressor__n_neighbors': 35, 'kneighborsregressor__p': 1},\n",
       "  {'kneighborsregressor__n_neighbors': 35, 'kneighborsregressor__p': 2},\n",
       "  {'kneighborsregressor__n_neighbors': 35, 'kneighborsregressor__p': 3},\n",
       "  {'kneighborsregressor__n_neighbors': 35, 'kneighborsregressor__p': 4},\n",
       "  {'kneighborsregressor__n_neighbors': 40, 'kneighborsregressor__p': 1},\n",
       "  {'kneighborsregressor__n_neighbors': 40, 'kneighborsregressor__p': 2},\n",
       "  {'kneighborsregressor__n_neighbors': 40, 'kneighborsregressor__p': 3},\n",
       "  {'kneighborsregressor__n_neighbors': 40, 'kneighborsregressor__p': 4},\n",
       "  {'kneighborsregressor__n_neighbors': 45, 'kneighborsregressor__p': 1},\n",
       "  {'kneighborsregressor__n_neighbors': 45, 'kneighborsregressor__p': 2},\n",
       "  {'kneighborsregressor__n_neighbors': 45, 'kneighborsregressor__p': 3},\n",
       "  {'kneighborsregressor__n_neighbors': 45, 'kneighborsregressor__p': 4},\n",
       "  {'kneighborsregressor__n_neighbors': 50, 'kneighborsregressor__p': 1},\n",
       "  {'kneighborsregressor__n_neighbors': 50, 'kneighborsregressor__p': 2},\n",
       "  {'kneighborsregressor__n_neighbors': 50, 'kneighborsregressor__p': 3},\n",
       "  {'kneighborsregressor__n_neighbors': 50, 'kneighborsregressor__p': 4},\n",
       "  {'kneighborsregressor__n_neighbors': 60, 'kneighborsregressor__p': 1},\n",
       "  {'kneighborsregressor__n_neighbors': 60, 'kneighborsregressor__p': 2},\n",
       "  {'kneighborsregressor__n_neighbors': 60, 'kneighborsregressor__p': 3},\n",
       "  {'kneighborsregressor__n_neighbors': 60, 'kneighborsregressor__p': 4},\n",
       "  {'kneighborsregressor__n_neighbors': 70, 'kneighborsregressor__p': 1},\n",
       "  {'kneighborsregressor__n_neighbors': 70, 'kneighborsregressor__p': 2},\n",
       "  {'kneighborsregressor__n_neighbors': 70, 'kneighborsregressor__p': 3},\n",
       "  {'kneighborsregressor__n_neighbors': 70, 'kneighborsregressor__p': 4}],\n",
       " 'split0_test_score': array([-0.05467822, -0.0637801 , -0.06825875, -0.06933393, -0.05331125,\n",
       "        -0.05997112, -0.06134893, -0.06292329, -0.05291152, -0.05917933,\n",
       "        -0.05966062, -0.05976826, -0.05360317, -0.05912602, -0.05948665,\n",
       "        -0.05994031, -0.05504626, -0.05891318, -0.06012853, -0.06044371,\n",
       "        -0.05522273, -0.05844491, -0.06020097, -0.06093905, -0.05605212,\n",
       "        -0.05838408, -0.06014015, -0.06132475, -0.05647554, -0.05923148,\n",
       "        -0.0609742 , -0.06218933, -0.05674372, -0.06023696, -0.06168455,\n",
       "        -0.06304989, -0.05798427, -0.06137057, -0.06282779, -0.06433078,\n",
       "        -0.05962326, -0.06351157, -0.06529619, -0.06660095, -0.06135217,\n",
       "        -0.06537456, -0.06716836, -0.06816635]),\n",
       " 'split1_test_score': array([-0.06725876, -0.0653862 , -0.06674631, -0.06775825, -0.06091538,\n",
       "        -0.05992086, -0.05983726, -0.06024819, -0.05879414, -0.05799936,\n",
       "        -0.05763279, -0.05835947, -0.05808865, -0.05728482, -0.05699311,\n",
       "        -0.05746171, -0.05749909, -0.05698759, -0.05678411, -0.05726741,\n",
       "        -0.05794548, -0.0567669 , -0.05644766, -0.05685093, -0.05868509,\n",
       "        -0.05689098, -0.05638615, -0.05620017, -0.05840392, -0.05736095,\n",
       "        -0.0557854 , -0.05582866, -0.05843773, -0.05739227, -0.05621114,\n",
       "        -0.05582948, -0.05818736, -0.05750452, -0.05636685, -0.05579023,\n",
       "        -0.05758785, -0.05800689, -0.05675214, -0.05649586, -0.05704762,\n",
       "        -0.0579591 , -0.05710951, -0.0570657 ]),\n",
       " 'split2_test_score': array([-0.0438672 , -0.0457321 , -0.04718865, -0.04847296, -0.04049236,\n",
       "        -0.04000887, -0.04098677, -0.04197235, -0.03873849, -0.03824671,\n",
       "        -0.03898532, -0.03993003, -0.03764749, -0.03731165, -0.0383598 ,\n",
       "        -0.0388325 , -0.03704231, -0.0374074 , -0.03895215, -0.03964976,\n",
       "        -0.03649744, -0.03794953, -0.03992675, -0.04061085, -0.03655709,\n",
       "        -0.03841574, -0.04043068, -0.04144444, -0.0371075 , -0.03895379,\n",
       "        -0.04052051, -0.04180147, -0.03769035, -0.03932441, -0.04052706,\n",
       "        -0.04181733, -0.03801203, -0.0397065 , -0.04074808, -0.04211909,\n",
       "        -0.03834536, -0.04040783, -0.04112559, -0.04231383, -0.03857527,\n",
       "        -0.04060475, -0.0417124 , -0.04256804]),\n",
       " 'split3_test_score': array([-0.04587022, -0.04736242, -0.04871818, -0.04962141, -0.03992523,\n",
       "        -0.03965016, -0.04101863, -0.04169529, -0.03873349, -0.03818238,\n",
       "        -0.03965832, -0.04027761, -0.0378052 , -0.03877524, -0.03939446,\n",
       "        -0.04082726, -0.03707828, -0.03880411, -0.04044477, -0.04116256,\n",
       "        -0.03679981, -0.03951751, -0.04056129, -0.04187906, -0.03704116,\n",
       "        -0.04005122, -0.041003  , -0.04220359, -0.0374917 , -0.04008855,\n",
       "        -0.04125804, -0.0422177 , -0.03811308, -0.0406325 , -0.04154282,\n",
       "        -0.04263   , -0.03872683, -0.04100506, -0.04177094, -0.04296056,\n",
       "        -0.04005421, -0.04159729, -0.04264827, -0.04358248, -0.04081356,\n",
       "        -0.04213175, -0.04350214, -0.04412925]),\n",
       " 'split4_test_score': array([-0.04834032, -0.05591609, -0.05697629, -0.05760972, -0.04384183,\n",
       "        -0.04752746, -0.04890493, -0.04973275, -0.04109081, -0.04413509,\n",
       "        -0.04483388, -0.0464661 , -0.04009692, -0.04309969, -0.04494809,\n",
       "        -0.04535812, -0.04011647, -0.04272674, -0.04470121, -0.04531192,\n",
       "        -0.04030899, -0.04200912, -0.04424867, -0.04491153, -0.0400677 ,\n",
       "        -0.04195975, -0.04400732, -0.04479032, -0.04011514, -0.04170215,\n",
       "        -0.04316981, -0.04434483, -0.04007825, -0.04158863, -0.04244184,\n",
       "        -0.0435695 , -0.04019763, -0.04101154, -0.04192919, -0.04321959,\n",
       "        -0.04022639, -0.04063211, -0.04150403, -0.042689  , -0.04056454,\n",
       "        -0.04055078, -0.0417912 , -0.04275785]),\n",
       " 'split5_test_score': array([-0.07689854, -0.07759169, -0.08103278, -0.08232403, -0.07034476,\n",
       "        -0.07206521, -0.07540715, -0.07600427, -0.06422257, -0.06639428,\n",
       "        -0.06851894, -0.07020608, -0.06143789, -0.06331332, -0.06448966,\n",
       "        -0.06652228, -0.05975157, -0.06267189, -0.06343652, -0.06491861,\n",
       "        -0.05868751, -0.0620057 , -0.06277059, -0.06362026, -0.05774374,\n",
       "        -0.06156325, -0.06278769, -0.06361606, -0.05728423, -0.06147535,\n",
       "        -0.06306224, -0.06360111, -0.0563737 , -0.06130551, -0.06314455,\n",
       "        -0.06422628, -0.05585937, -0.06133151, -0.0637368 , -0.06470297,\n",
       "        -0.05573201, -0.06152157, -0.064018  , -0.06476486, -0.05558175,\n",
       "        -0.06163415, -0.06395085, -0.06488342]),\n",
       " 'split6_test_score': array([-0.04229171, -0.04903438, -0.05523926, -0.0562367 , -0.04315978,\n",
       "        -0.04481262, -0.04822679, -0.04967975, -0.04269554, -0.04414374,\n",
       "        -0.04586007, -0.04820999, -0.04303656, -0.04396765, -0.04669536,\n",
       "        -0.04839279, -0.04339166, -0.04526401, -0.04685512, -0.04834184,\n",
       "        -0.04392568, -0.04613906, -0.0478114 , -0.04881945, -0.04411812,\n",
       "        -0.04706446, -0.04872419, -0.04987234, -0.04405702, -0.04700545,\n",
       "        -0.04906152, -0.05035802, -0.04438537, -0.04744059, -0.04940827,\n",
       "        -0.05082341, -0.04472573, -0.0480766 , -0.04949428, -0.05099606,\n",
       "        -0.04537133, -0.04850795, -0.05000931, -0.0514154 , -0.04618852,\n",
       "        -0.0488985 , -0.05066803, -0.05181372]),\n",
       " 'split7_test_score': array([-0.06753457, -0.07184859, -0.07452561, -0.07603027, -0.06115454,\n",
       "        -0.06316706, -0.06602262, -0.06776654, -0.05831137, -0.06170627,\n",
       "        -0.06206289, -0.06395369, -0.05641971, -0.0585855 , -0.05975352,\n",
       "        -0.06131945, -0.05546264, -0.05790738, -0.05905746, -0.06023008,\n",
       "        -0.05580375, -0.05739406, -0.05830485, -0.05925942, -0.05564417,\n",
       "        -0.05698218, -0.05816225, -0.05932222, -0.05567181, -0.05699422,\n",
       "        -0.05792187, -0.05940393, -0.05613173, -0.05697125, -0.05825423,\n",
       "        -0.0598908 , -0.05611932, -0.05683422, -0.05829802, -0.06011191,\n",
       "        -0.05627095, -0.05745201, -0.05891379, -0.06147271, -0.0560608 ,\n",
       "        -0.05805046, -0.06041175, -0.06279312]),\n",
       " 'split8_test_score': array([-0.05937487, -0.06742377, -0.06789444, -0.06751539, -0.05004709,\n",
       "        -0.05438049, -0.05603488, -0.05727598, -0.04461056, -0.04744895,\n",
       "        -0.05037149, -0.05124158, -0.04318187, -0.04334672, -0.04612823,\n",
       "        -0.04742348, -0.04243415, -0.04201614, -0.04408095, -0.04540236,\n",
       "        -0.04223699, -0.04154282, -0.04287178, -0.04473395, -0.04172215,\n",
       "        -0.04187225, -0.04253511, -0.04427514, -0.04154656, -0.04153166,\n",
       "        -0.04282562, -0.04407292, -0.04105568, -0.04156354, -0.04268156,\n",
       "        -0.04438088, -0.0408912 , -0.04144419, -0.04226477, -0.0440158 ,\n",
       "        -0.04037361, -0.04089952, -0.04219082, -0.04307962, -0.04005067,\n",
       "        -0.04108444, -0.04256745, -0.04361427]),\n",
       " 'split9_test_score': array([-0.03629748, -0.04209335, -0.04519273, -0.04619561, -0.0294704 ,\n",
       "        -0.03217666, -0.03470507, -0.03594753, -0.02682244, -0.0295096 ,\n",
       "        -0.03118318, -0.03294744, -0.02569726, -0.02746868, -0.029747  ,\n",
       "        -0.03184681, -0.02506286, -0.0259107 , -0.02823474, -0.03034294,\n",
       "        -0.02466804, -0.02545894, -0.02716604, -0.02897557, -0.02398402,\n",
       "        -0.02500071, -0.02684067, -0.02844027, -0.02365858, -0.02445869,\n",
       "        -0.02610278, -0.02736602, -0.0234257 , -0.0241713 , -0.02561277,\n",
       "        -0.02703171, -0.02313241, -0.0242633 , -0.02529937, -0.02651115,\n",
       "        -0.02326325, -0.023742  , -0.02505877, -0.02616678, -0.02315069,\n",
       "        -0.02409013, -0.02530291, -0.02616187]),\n",
       " 'split10_test_score': array([-0.04970482, -0.0524883 , -0.05742332, -0.05946807, -0.04524856,\n",
       "        -0.04647374, -0.04858984, -0.04974984, -0.04250479, -0.04462301,\n",
       "        -0.04585927, -0.04719089, -0.04119547, -0.04373048, -0.04512765,\n",
       "        -0.04547963, -0.04054263, -0.04308246, -0.04419205, -0.04552049,\n",
       "        -0.03929272, -0.04211062, -0.04408782, -0.04566286, -0.03873864,\n",
       "        -0.04158689, -0.0438435 , -0.04481977, -0.03833489, -0.04106156,\n",
       "        -0.04347854, -0.04485947, -0.03801787, -0.0410336 , -0.04359026,\n",
       "        -0.04513339, -0.0380444 , -0.04067086, -0.04341928, -0.04520688,\n",
       "        -0.03791371, -0.0403307 , -0.04300128, -0.04500248, -0.03808513,\n",
       "        -0.04059037, -0.04332301, -0.04504871]),\n",
       " 'split11_test_score': array([-0.04926946, -0.05199697, -0.05278454, -0.05345127, -0.04389814,\n",
       "        -0.04629388, -0.04620458, -0.04650198, -0.04259141, -0.0456007 ,\n",
       "        -0.04546113, -0.04498223, -0.04290865, -0.04599076, -0.04560264,\n",
       "        -0.04535327, -0.04371118, -0.04559534, -0.04599155, -0.04537652,\n",
       "        -0.04453932, -0.04611314, -0.04669014, -0.04567877, -0.04479076,\n",
       "        -0.04683419, -0.04735074, -0.04676461, -0.04554685, -0.04753754,\n",
       "        -0.04790909, -0.04736963, -0.04646038, -0.0477835 , -0.04880024,\n",
       "        -0.04852059, -0.04690243, -0.0485121 , -0.0491908 , -0.04916477,\n",
       "        -0.04764972, -0.0491657 , -0.04992124, -0.05019231, -0.0482562 ,\n",
       "        -0.04981999, -0.05044469, -0.05087826]),\n",
       " 'mean_test_score': array([-0.0534486 , -0.05755356, -0.06016393, -0.06116702, -0.04848419,\n",
       "        -0.05053704, -0.05227326, -0.05329074, -0.04600287, -0.04809759,\n",
       "        -0.0491739 , -0.05029411, -0.04509403, -0.04683398, -0.04806075,\n",
       "        -0.04906323, -0.04476248, -0.04644132, -0.04773889, -0.04866447,\n",
       "        -0.04466162, -0.04628858, -0.04759146, -0.04849588, -0.04459656,\n",
       "        -0.04638477, -0.04768513, -0.04859027, -0.04464243, -0.04645127,\n",
       "        -0.04767339, -0.04861865, -0.04474421, -0.04662164, -0.04782596,\n",
       "        -0.04890951, -0.04490014, -0.04681236, -0.04794668, -0.04909519,\n",
       "        -0.04520271, -0.04714968, -0.0483714 , -0.04948266, -0.0454791 ,\n",
       "        -0.0475676 , -0.04899761, -0.04999145]),\n",
       " 'std_test_score': array([0.01155005, 0.0108691 , 0.01091698, 0.01094242, 0.01079559,\n",
       "        0.01102085, 0.01124946, 0.01129177, 0.01012034, 0.01053448,\n",
       "        0.01039168, 0.01042501, 0.00989212, 0.01018692, 0.00979584,\n",
       "        0.00981589, 0.00983897, 0.01028696, 0.00983048, 0.00968929,\n",
       "        0.00996372, 0.01014676, 0.00980865, 0.00957103, 0.01014322,\n",
       "        0.01008923, 0.00981657, 0.00962234, 0.01012488, 0.01031515,\n",
       "        0.01002266, 0.00988945, 0.01011742, 0.01041374, 0.01028231,\n",
       "        0.0101587 , 0.01017498, 0.01054676, 0.01058508, 0.010477  ,\n",
       "        0.01023409, 0.01101665, 0.01103252, 0.01103307, 0.01034551,\n",
       "        0.01121325, 0.01127275, 0.01134612]),\n",
       " 'rank_test_score': array([45, 46, 47, 48, 29, 42, 43, 44, 10, 27, 38, 41,  7, 17, 26, 36,  5,\n",
       "        13, 23, 33,  3, 11, 20, 30,  1, 12, 22, 31,  2, 14, 21, 32,  4, 15,\n",
       "        24, 34,  6, 16, 25, 37,  8, 18, 28, 39,  9, 19, 35, 40],\n",
       "       dtype=int32)}"
      ]
     },
     "execution_count": 67,
     "metadata": {},
     "output_type": "execute_result"
    }
   ],
   "source": [
    "knn_CV.cv_results_"
   ]
  },
  {
   "cell_type": "code",
   "execution_count": 69,
   "metadata": {},
   "outputs": [
    {
     "name": "stdout",
     "output_type": "stream",
     "text": [
      "best_params : {'kneighborsregressor__n_neighbors': 35, 'kneighborsregressor__p': 1}\n",
      "best_score : -0.044596564299075415\n"
     ]
    }
   ],
   "source": [
    "print('best_params : {}'.format(knn_CV.best_params_))\n",
    "print('best_score : {}'.format(knn_CV.best_score_))"
   ]
  },
  {
   "cell_type": "code",
   "execution_count": null,
   "metadata": {},
   "outputs": [],
   "source": []
  },
  {
   "cell_type": "code",
   "execution_count": null,
   "metadata": {},
   "outputs": [],
   "source": []
  },
  {
   "cell_type": "code",
   "execution_count": null,
   "metadata": {},
   "outputs": [],
   "source": []
  },
  {
   "cell_type": "code",
   "execution_count": null,
   "metadata": {},
   "outputs": [],
   "source": []
  },
  {
   "cell_type": "code",
   "execution_count": null,
   "metadata": {},
   "outputs": [],
   "source": []
  },
  {
   "cell_type": "code",
   "execution_count": null,
   "metadata": {},
   "outputs": [],
   "source": []
  },
  {
   "cell_type": "code",
   "execution_count": null,
   "metadata": {},
   "outputs": [],
   "source": []
  },
  {
   "cell_type": "code",
   "execution_count": null,
   "metadata": {},
   "outputs": [],
   "source": [
    "pipe_MLPRegressor = Pipeline([('scaler',  StandardScaler()),\n",
    "            ('MLPRegressor', MLPRegressor(random_state = 42))])\n",
    "\n",
    "\n",
    "grid_params_MLPRegressor = [{\n",
    "    'MLPRegressor__solver': ['lbfgs'],\n",
    "    'MLPRegressor__max_iter': [100,200,300,500],\n",
    "    'MLPRegressor__activation' : ['relu','logistic','tanh'],\n",
    "    'MLPRegressor__hidden_layer_sizes':[(2,), (4,),(2,2),(4,4),(4,2),(10,10),(2,2,2)],\n",
    "}]\n",
    "\n",
    "\n",
    "CV_mlpregressor = GridSearchCV (estimator = pipe_MLPRegressor,\n",
    "                               param_grid = grid_params_MLPRegressor,\n",
    "                               cv = 5,return_train_score=True, verbose=0)\n",
    "\n",
    "CV_mlpregressor.fit(x_train, y_train)\n",
    "\n",
    "CV_mlpregressor.predict(x_test)"
   ]
  },
  {
   "cell_type": "code",
   "execution_count": null,
   "metadata": {},
   "outputs": [],
   "source": []
  },
  {
   "cell_type": "code",
   "execution_count": null,
   "metadata": {},
   "outputs": [],
   "source": []
  },
  {
   "cell_type": "code",
   "execution_count": null,
   "metadata": {},
   "outputs": [],
   "source": []
  },
  {
   "cell_type": "code",
   "execution_count": null,
   "metadata": {},
   "outputs": [],
   "source": []
  },
  {
   "cell_type": "code",
   "execution_count": null,
   "metadata": {},
   "outputs": [],
   "source": []
  },
  {
   "cell_type": "code",
   "execution_count": null,
   "metadata": {},
   "outputs": [],
   "source": []
  }
 ],
 "metadata": {
  "kernelspec": {
   "display_name": "Python 3",
   "language": "python",
   "name": "python3"
  },
  "language_info": {
   "codemirror_mode": {
    "name": "ipython",
    "version": 3
   },
   "file_extension": ".py",
   "mimetype": "text/x-python",
   "name": "python",
   "nbconvert_exporter": "python",
   "pygments_lexer": "ipython3",
   "version": "3.7.3"
  }
 },
 "nbformat": 4,
 "nbformat_minor": 2
}
