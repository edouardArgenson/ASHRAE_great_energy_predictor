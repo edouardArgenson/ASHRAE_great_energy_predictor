{
 "cells": [
  {
   "cell_type": "markdown",
   "metadata": {},
   "source": [
    "Some TODOs\n",
    "\n",
    "- Faire quelques études de bâtiments au hasard : piocher un batiment, regarder ses caractéristiques (type de batiment, nb étages, ...), celles de son site (chaud/froid, sec/humide, précipitations, vent), les courbes de conso, essayer un petit scatter plot vs la température\n",
    "\n",
    "- Utiliser la tendance calculée avec statsmodels plutôt que la moving average : http://www.xavierdupre.fr/app/ensae_teaching_cs/helpsphinx/notebooks/td2a_timeseries_correction.html trend + seasonal decompose)\n",
    "\n",
    "- https://machinelearningmastery.com/decompose-time-series-data-trend-seasonality/\n",
    "\n",
    "- L’auto corrélation permet d’avoir une idée de la saisonnalité\n",
    "\n",
    "- Penser au clustering de timeseries, pour chaque site\n",
    "\n",
    "- Polar plot pour visualisation du wind force et direction"
   ]
  },
  {
   "cell_type": "code",
   "execution_count": 2,
   "metadata": {},
   "outputs": [],
   "source": [
    "# -----------------"
   ]
  },
  {
   "cell_type": "markdown",
   "metadata": {},
   "source": [
    "A few nice links\n",
    "\n",
    "- Autocorrelation : https://www.epfl.ch/labs/aprl/wp-content/uploads/2018/08/06_signal.html\n",
    "- Time Series et Machine Learning : http://www.xavierdupre.fr/app/ensae_teaching_cs/helpsphinx/notebooks/ml_timeseries_base.html#auto-correlation\n",
    "- seaborn pair plot : https://seaborn.pydata.org/generated/seaborn.pairplot.html\n",
    "- heatmaps NaNs : https://github.com/mwaskom/seaborn/issues/375\n",
    "- heatmap NaNs : https://stackoverflow.com/questions/52399990/change-color-of-missing-values-in-seaborn-heatmap/52400803\n",
    "- feat select with nice correlation heatmap : https://towardsdatascience.com/feature-selection-techniques-in-machine-learning-with-python-f24e7da3f36e"
   ]
  },
  {
   "cell_type": "markdown",
   "metadata": {},
   "source": [
    "Books\n",
    "- Forecasting Principles and Practices https://otexts.com/fpp2/"
   ]
  },
  {
   "cell_type": "markdown",
   "metadata": {},
   "source": [
    "Articles\n",
    "- Cross validation methods for time series : https://pdfs.semanticscholar.org/e287/cbc1c6d59abdc7d971f3ba98821273b5d334.pdf?_ga=2.205495440.163463786.1577998723-596753883.1577998723\n",
    "(Doctor, Grado DE et al. “New approaches in time series forecasting: methods, software, and evaluation procedures.” (2013).)"
   ]
  },
  {
   "cell_type": "markdown",
   "metadata": {},
   "source": [
    "About seasonaldecomposition transformations :\n",
    "\n",
    "- https://stats.stackexchange.com/questions/105432/additive-vs-multiplicative-decomposition\n",
    "- https://stats.stackexchange.com/questions/74537/log-or-square-root-transformation-for-arima\n",
    "- https://ec.europa.eu/eurostat/documents/3888793/5840789/KS-DT-06-002-EN.PDF/a523b918-ca0c-4d35-8610-d4193e60f80c\n",
    "- https://www.abs.gov.au/websitedbs/D3310114.nsf/home/Time+Series+Analysis:+The+Basics\n",
    "- https://www.researchgate.net/profile/Junghoon_Chae/publication/260864149_Spatiotemporal_social_media_analytics_for_abnormal_event_detection_and_examination_using_seasonal-trend_decomposition/links/577d186508aeaa6988aba1dd.pdf\n",
    "- http://www.oecd.org/iaos2018/programme/IAOS-OECD2018_Item_1-A-1-Ladiray_et_al.pdf\n",
    "- https://www.ncbi.nlm.nih.gov/pmc/articles/PMC419979/\n",
    "- https://isidl.com/wp-content/uploads/2017/06/E4026-ISIDL.pdf\n",
    "\n",
    "Nice paper to understand Box-Cox transformation\n",
    "- http://riani.it/pub/PR09-JTSA.pdf"
   ]
  },
  {
   "cell_type": "code",
   "execution_count": null,
   "metadata": {},
   "outputs": [],
   "source": []
  }
 ],
 "metadata": {
  "kernelspec": {
   "display_name": "Python 3",
   "language": "python",
   "name": "python3"
  },
  "language_info": {
   "codemirror_mode": {
    "name": "ipython",
    "version": 3
   },
   "file_extension": ".py",
   "mimetype": "text/x-python",
   "name": "python",
   "nbconvert_exporter": "python",
   "pygments_lexer": "ipython3",
   "version": "3.7.3"
  }
 },
 "nbformat": 4,
 "nbformat_minor": 2
}
