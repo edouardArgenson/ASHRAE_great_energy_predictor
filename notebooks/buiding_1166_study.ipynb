{
 "cells": [
  {
   "cell_type": "code",
   "execution_count": 1,
   "metadata": {},
   "outputs": [],
   "source": [
    "import numpy as np\n",
    "import math\n",
    "import pandas as pd\n",
    "\n",
    "import matplotlib.pyplot as plt\n",
    "import matplotlib.ticker as ticker\n",
    "import matplotlib.pyplot as plt\n",
    "import matplotlib.dates as mdates\n",
    "import seaborn as sns\n",
    "\n",
    "from pandas.plotting import register_matplotlib_converters\n",
    "register_matplotlib_converters()\n",
    "\n",
    "%matplotlib inline"
   ]
  },
  {
   "cell_type": "code",
   "execution_count": 19,
   "metadata": {},
   "outputs": [
    {
     "name": "stdout",
     "output_type": "stream",
     "text": [
      "<class 'pandas.core.frame.DataFrame'>\n",
      "DatetimeIndex: 8784 entries, 2016-01-01 00:00:00 to 2016-12-31 23:00:00\n",
      "Data columns (total 8 columns):\n",
      "building_id      8784 non-null int64\n",
      "meter            8784 non-null int64\n",
      "meter_reading    8784 non-null float64\n",
      "site_id          8784 non-null int64\n",
      "primary_use      8784 non-null object\n",
      "square_feet      8784 non-null int64\n",
      "year_built       0 non-null float64\n",
      "floor_count      0 non-null float64\n",
      "dtypes: float64(3), int64(4), object(1)\n",
      "memory usage: 617.6+ KB\n"
     ]
    }
   ],
   "source": [
    "df1 = pd.read_csv('../data/intermediate/building_1166/train_and_building_meta_1166.csv', parse_dates=['timestamp'], \n",
    "                  index_col=['timestamp'])\n",
    "df1.info()"
   ]
  },
  {
   "cell_type": "code",
   "execution_count": 25,
   "metadata": {},
   "outputs": [
    {
     "name": "stdout",
     "output_type": "stream",
     "text": [
      "building_id values : [1166]\n"
     ]
    },
    {
     "data": {
      "text/html": [
       "<div>\n",
       "<style scoped>\n",
       "    .dataframe tbody tr th:only-of-type {\n",
       "        vertical-align: middle;\n",
       "    }\n",
       "\n",
       "    .dataframe tbody tr th {\n",
       "        vertical-align: top;\n",
       "    }\n",
       "\n",
       "    .dataframe thead th {\n",
       "        text-align: right;\n",
       "    }\n",
       "</style>\n",
       "<table border=\"1\" class=\"dataframe\">\n",
       "  <thead>\n",
       "    <tr style=\"text-align: right;\">\n",
       "      <th></th>\n",
       "      <th>meter</th>\n",
       "      <th>meter_reading</th>\n",
       "      <th>site_id</th>\n",
       "      <th>primary_use</th>\n",
       "      <th>square_feet</th>\n",
       "      <th>year_built</th>\n",
       "      <th>floor_count</th>\n",
       "    </tr>\n",
       "    <tr>\n",
       "      <th>timestamp</th>\n",
       "      <th></th>\n",
       "      <th></th>\n",
       "      <th></th>\n",
       "      <th></th>\n",
       "      <th></th>\n",
       "      <th></th>\n",
       "      <th></th>\n",
       "    </tr>\n",
       "  </thead>\n",
       "  <tbody>\n",
       "    <tr>\n",
       "      <th>2016-01-01 00:00:00</th>\n",
       "      <td>0</td>\n",
       "      <td>50.102</td>\n",
       "      <td>13</td>\n",
       "      <td>Office</td>\n",
       "      <td>63771</td>\n",
       "      <td>NaN</td>\n",
       "      <td>NaN</td>\n",
       "    </tr>\n",
       "    <tr>\n",
       "      <th>2016-01-01 01:00:00</th>\n",
       "      <td>0</td>\n",
       "      <td>50.102</td>\n",
       "      <td>13</td>\n",
       "      <td>Office</td>\n",
       "      <td>63771</td>\n",
       "      <td>NaN</td>\n",
       "      <td>NaN</td>\n",
       "    </tr>\n",
       "    <tr>\n",
       "      <th>2016-01-01 02:00:00</th>\n",
       "      <td>0</td>\n",
       "      <td>50.114</td>\n",
       "      <td>13</td>\n",
       "      <td>Office</td>\n",
       "      <td>63771</td>\n",
       "      <td>NaN</td>\n",
       "      <td>NaN</td>\n",
       "    </tr>\n",
       "    <tr>\n",
       "      <th>2016-01-01 03:00:00</th>\n",
       "      <td>0</td>\n",
       "      <td>49.894</td>\n",
       "      <td>13</td>\n",
       "      <td>Office</td>\n",
       "      <td>63771</td>\n",
       "      <td>NaN</td>\n",
       "      <td>NaN</td>\n",
       "    </tr>\n",
       "    <tr>\n",
       "      <th>2016-01-01 04:00:00</th>\n",
       "      <td>0</td>\n",
       "      <td>49.601</td>\n",
       "      <td>13</td>\n",
       "      <td>Office</td>\n",
       "      <td>63771</td>\n",
       "      <td>NaN</td>\n",
       "      <td>NaN</td>\n",
       "    </tr>\n",
       "  </tbody>\n",
       "</table>\n",
       "</div>"
      ],
      "text/plain": [
       "                     meter  meter_reading  site_id primary_use  square_feet  \\\n",
       "timestamp                                                                     \n",
       "2016-01-01 00:00:00      0         50.102       13      Office        63771   \n",
       "2016-01-01 01:00:00      0         50.102       13      Office        63771   \n",
       "2016-01-01 02:00:00      0         50.114       13      Office        63771   \n",
       "2016-01-01 03:00:00      0         49.894       13      Office        63771   \n",
       "2016-01-01 04:00:00      0         49.601       13      Office        63771   \n",
       "\n",
       "                     year_built  floor_count  \n",
       "timestamp                                     \n",
       "2016-01-01 00:00:00         NaN          NaN  \n",
       "2016-01-01 01:00:00         NaN          NaN  \n",
       "2016-01-01 02:00:00         NaN          NaN  \n",
       "2016-01-01 03:00:00         NaN          NaN  \n",
       "2016-01-01 04:00:00         NaN          NaN  "
      ]
     },
     "execution_count": 25,
     "metadata": {},
     "output_type": "execute_result"
    }
   ],
   "source": [
    "# Check all building ids are 1166 then drop column 'building_id'\n",
    "print('building_id values : {}'.format(df1.building_id.unique()))\n",
    "df1.drop('building_id', axis=1, inplace=True)\n",
    "df1.head()"
   ]
  },
  {
   "cell_type": "code",
   "execution_count": 26,
   "metadata": {},
   "outputs": [],
   "source": [
    "# TODO is 63771 big (among buidings and among Offices buidings) ?"
   ]
  },
  {
   "cell_type": "code",
   "execution_count": 30,
   "metadata": {},
   "outputs": [],
   "source": [
    "# mean square_feet for Offices : 87066 (cf explore_building meta)"
   ]
  },
  {
   "cell_type": "code",
   "execution_count": 28,
   "metadata": {},
   "outputs": [],
   "source": [
    "# We've seen that we have a an 'Office' building, on site 13, 63771 square feets, no year_built, no floor count.\n",
    "# Lets drop all that.\n",
    "df1.drop(['site_id', 'primary_use', 'square_feet', 'year_built', 'floor_count'], axis=1, inplace=True)"
   ]
  },
  {
   "cell_type": "code",
   "execution_count": 29,
   "metadata": {},
   "outputs": [
    {
     "data": {
      "text/html": [
       "<div>\n",
       "<style scoped>\n",
       "    .dataframe tbody tr th:only-of-type {\n",
       "        vertical-align: middle;\n",
       "    }\n",
       "\n",
       "    .dataframe tbody tr th {\n",
       "        vertical-align: top;\n",
       "    }\n",
       "\n",
       "    .dataframe thead th {\n",
       "        text-align: right;\n",
       "    }\n",
       "</style>\n",
       "<table border=\"1\" class=\"dataframe\">\n",
       "  <thead>\n",
       "    <tr style=\"text-align: right;\">\n",
       "      <th></th>\n",
       "      <th>meter</th>\n",
       "      <th>meter_reading</th>\n",
       "    </tr>\n",
       "    <tr>\n",
       "      <th>timestamp</th>\n",
       "      <th></th>\n",
       "      <th></th>\n",
       "    </tr>\n",
       "  </thead>\n",
       "  <tbody>\n",
       "    <tr>\n",
       "      <th>2016-01-01 00:00:00</th>\n",
       "      <td>0</td>\n",
       "      <td>50.102</td>\n",
       "    </tr>\n",
       "    <tr>\n",
       "      <th>2016-01-01 01:00:00</th>\n",
       "      <td>0</td>\n",
       "      <td>50.102</td>\n",
       "    </tr>\n",
       "    <tr>\n",
       "      <th>2016-01-01 02:00:00</th>\n",
       "      <td>0</td>\n",
       "      <td>50.114</td>\n",
       "    </tr>\n",
       "    <tr>\n",
       "      <th>2016-01-01 03:00:00</th>\n",
       "      <td>0</td>\n",
       "      <td>49.894</td>\n",
       "    </tr>\n",
       "    <tr>\n",
       "      <th>2016-01-01 04:00:00</th>\n",
       "      <td>0</td>\n",
       "      <td>49.601</td>\n",
       "    </tr>\n",
       "  </tbody>\n",
       "</table>\n",
       "</div>"
      ],
      "text/plain": [
       "                     meter  meter_reading\n",
       "timestamp                                \n",
       "2016-01-01 00:00:00      0         50.102\n",
       "2016-01-01 01:00:00      0         50.102\n",
       "2016-01-01 02:00:00      0         50.114\n",
       "2016-01-01 03:00:00      0         49.894\n",
       "2016-01-01 04:00:00      0         49.601"
      ]
     },
     "execution_count": 29,
     "metadata": {},
     "output_type": "execute_result"
    }
   ],
   "source": [
    "df1.head()"
   ]
  },
  {
   "cell_type": "code",
   "execution_count": 41,
   "metadata": {},
   "outputs": [
    {
     "name": "stdout",
     "output_type": "stream",
     "text": [
      "<class 'pandas.core.frame.DataFrame'>\n",
      "DatetimeIndex: 8783 entries, 2016-01-01 00:00:00 to 2016-12-31 23:00:00\n",
      "Data columns (total 7 columns):\n",
      "air_temperature       8782 non-null float64\n",
      "cloud_coverage        4485 non-null float64\n",
      "dew_temperature       8782 non-null float64\n",
      "precip_depth_1_hr     8771 non-null float64\n",
      "sea_level_pressure    8663 non-null float64\n",
      "wind_direction        8566 non-null float64\n",
      "wind_speed            8782 non-null float64\n",
      "dtypes: float64(7)\n",
      "memory usage: 548.9 KB\n"
     ]
    }
   ],
   "source": [
    "df2 = pd.read_csv('../data/intermediate/building_1166/weather_site_13.csv', parse_dates=['timestamp'], \n",
    "                  index_col=['timestamp'])\n",
    "df2.info()"
   ]
  },
  {
   "cell_type": "code",
   "execution_count": 34,
   "metadata": {},
   "outputs": [
    {
     "data": {
      "text/html": [
       "<div>\n",
       "<style scoped>\n",
       "    .dataframe tbody tr th:only-of-type {\n",
       "        vertical-align: middle;\n",
       "    }\n",
       "\n",
       "    .dataframe tbody tr th {\n",
       "        vertical-align: top;\n",
       "    }\n",
       "\n",
       "    .dataframe thead th {\n",
       "        text-align: right;\n",
       "    }\n",
       "</style>\n",
       "<table border=\"1\" class=\"dataframe\">\n",
       "  <thead>\n",
       "    <tr style=\"text-align: right;\">\n",
       "      <th></th>\n",
       "      <th>air_temperature</th>\n",
       "      <th>cloud_coverage</th>\n",
       "      <th>dew_temperature</th>\n",
       "      <th>precip_depth_1_hr</th>\n",
       "      <th>sea_level_pressure</th>\n",
       "      <th>wind_direction</th>\n",
       "      <th>wind_speed</th>\n",
       "    </tr>\n",
       "    <tr>\n",
       "      <th>timestamp</th>\n",
       "      <th></th>\n",
       "      <th></th>\n",
       "      <th></th>\n",
       "      <th></th>\n",
       "      <th></th>\n",
       "      <th></th>\n",
       "      <th></th>\n",
       "    </tr>\n",
       "  </thead>\n",
       "  <tbody>\n",
       "    <tr>\n",
       "      <th>2016-01-01 00:00:00</th>\n",
       "      <td>-8.3</td>\n",
       "      <td>8.0</td>\n",
       "      <td>-12.2</td>\n",
       "      <td>NaN</td>\n",
       "      <td>1023.3</td>\n",
       "      <td>250.0</td>\n",
       "      <td>4.1</td>\n",
       "    </tr>\n",
       "    <tr>\n",
       "      <th>2016-01-01 01:00:00</th>\n",
       "      <td>-8.3</td>\n",
       "      <td>NaN</td>\n",
       "      <td>-11.7</td>\n",
       "      <td>-1.0</td>\n",
       "      <td>1023.3</td>\n",
       "      <td>240.0</td>\n",
       "      <td>4.1</td>\n",
       "    </tr>\n",
       "    <tr>\n",
       "      <th>2016-01-01 02:00:00</th>\n",
       "      <td>-7.8</td>\n",
       "      <td>NaN</td>\n",
       "      <td>-11.1</td>\n",
       "      <td>-1.0</td>\n",
       "      <td>1022.9</td>\n",
       "      <td>240.0</td>\n",
       "      <td>3.1</td>\n",
       "    </tr>\n",
       "    <tr>\n",
       "      <th>2016-01-01 03:00:00</th>\n",
       "      <td>-7.8</td>\n",
       "      <td>NaN</td>\n",
       "      <td>-11.1</td>\n",
       "      <td>-1.0</td>\n",
       "      <td>1022.7</td>\n",
       "      <td>250.0</td>\n",
       "      <td>4.1</td>\n",
       "    </tr>\n",
       "    <tr>\n",
       "      <th>2016-01-01 04:00:00</th>\n",
       "      <td>-7.2</td>\n",
       "      <td>NaN</td>\n",
       "      <td>-10.6</td>\n",
       "      <td>0.0</td>\n",
       "      <td>1022.8</td>\n",
       "      <td>270.0</td>\n",
       "      <td>4.1</td>\n",
       "    </tr>\n",
       "  </tbody>\n",
       "</table>\n",
       "</div>"
      ],
      "text/plain": [
       "                     air_temperature  cloud_coverage  dew_temperature  \\\n",
       "timestamp                                                               \n",
       "2016-01-01 00:00:00             -8.3             8.0            -12.2   \n",
       "2016-01-01 01:00:00             -8.3             NaN            -11.7   \n",
       "2016-01-01 02:00:00             -7.8             NaN            -11.1   \n",
       "2016-01-01 03:00:00             -7.8             NaN            -11.1   \n",
       "2016-01-01 04:00:00             -7.2             NaN            -10.6   \n",
       "\n",
       "                     precip_depth_1_hr  sea_level_pressure  wind_direction  \\\n",
       "timestamp                                                                    \n",
       "2016-01-01 00:00:00                NaN              1023.3           250.0   \n",
       "2016-01-01 01:00:00               -1.0              1023.3           240.0   \n",
       "2016-01-01 02:00:00               -1.0              1022.9           240.0   \n",
       "2016-01-01 03:00:00               -1.0              1022.7           250.0   \n",
       "2016-01-01 04:00:00                0.0              1022.8           270.0   \n",
       "\n",
       "                     wind_speed  \n",
       "timestamp                        \n",
       "2016-01-01 00:00:00         4.1  \n",
       "2016-01-01 01:00:00         4.1  \n",
       "2016-01-01 02:00:00         3.1  \n",
       "2016-01-01 03:00:00         4.1  \n",
       "2016-01-01 04:00:00         4.1  "
      ]
     },
     "execution_count": 34,
     "metadata": {},
     "output_type": "execute_result"
    }
   ],
   "source": [
    "df2.head()"
   ]
  },
  {
   "cell_type": "code",
   "execution_count": 35,
   "metadata": {},
   "outputs": [
    {
     "data": {
      "text/plain": [
       "(8784, 2)"
      ]
     },
     "execution_count": 35,
     "metadata": {},
     "output_type": "execute_result"
    }
   ],
   "source": [
    "df1.shape"
   ]
  },
  {
   "cell_type": "code",
   "execution_count": 36,
   "metadata": {},
   "outputs": [
    {
     "data": {
      "text/plain": [
       "(8783, 7)"
      ]
     },
     "execution_count": 36,
     "metadata": {},
     "output_type": "execute_result"
    }
   ],
   "source": [
    "df2.shape"
   ]
  },
  {
   "cell_type": "code",
   "execution_count": 38,
   "metadata": {},
   "outputs": [],
   "source": [
    "# Join by timestamp\n",
    "df = df1.join(df2, on='timestamp', how='left')\n",
    "#print('non-found site_ids : {}'.format(dfs['site_id'].isna().sum()))\n",
    "#dfs.head()"
   ]
  },
  {
   "cell_type": "code",
   "execution_count": 39,
   "metadata": {},
   "outputs": [
    {
     "data": {
      "text/plain": [
       "(8784, 9)"
      ]
     },
     "execution_count": 39,
     "metadata": {},
     "output_type": "execute_result"
    }
   ],
   "source": [
    "df.shape"
   ]
  },
  {
   "cell_type": "code",
   "execution_count": 40,
   "metadata": {},
   "outputs": [
    {
     "data": {
      "text/html": [
       "<div>\n",
       "<style scoped>\n",
       "    .dataframe tbody tr th:only-of-type {\n",
       "        vertical-align: middle;\n",
       "    }\n",
       "\n",
       "    .dataframe tbody tr th {\n",
       "        vertical-align: top;\n",
       "    }\n",
       "\n",
       "    .dataframe thead th {\n",
       "        text-align: right;\n",
       "    }\n",
       "</style>\n",
       "<table border=\"1\" class=\"dataframe\">\n",
       "  <thead>\n",
       "    <tr style=\"text-align: right;\">\n",
       "      <th></th>\n",
       "      <th>meter</th>\n",
       "      <th>meter_reading</th>\n",
       "      <th>air_temperature</th>\n",
       "      <th>cloud_coverage</th>\n",
       "      <th>dew_temperature</th>\n",
       "      <th>precip_depth_1_hr</th>\n",
       "      <th>sea_level_pressure</th>\n",
       "      <th>wind_direction</th>\n",
       "      <th>wind_speed</th>\n",
       "    </tr>\n",
       "    <tr>\n",
       "      <th>timestamp</th>\n",
       "      <th></th>\n",
       "      <th></th>\n",
       "      <th></th>\n",
       "      <th></th>\n",
       "      <th></th>\n",
       "      <th></th>\n",
       "      <th></th>\n",
       "      <th></th>\n",
       "      <th></th>\n",
       "    </tr>\n",
       "  </thead>\n",
       "  <tbody>\n",
       "    <tr>\n",
       "      <th>2016-01-01 00:00:00</th>\n",
       "      <td>0</td>\n",
       "      <td>50.102</td>\n",
       "      <td>-8.3</td>\n",
       "      <td>8.0</td>\n",
       "      <td>-12.2</td>\n",
       "      <td>NaN</td>\n",
       "      <td>1023.3</td>\n",
       "      <td>250.0</td>\n",
       "      <td>4.1</td>\n",
       "    </tr>\n",
       "    <tr>\n",
       "      <th>2016-01-01 01:00:00</th>\n",
       "      <td>0</td>\n",
       "      <td>50.102</td>\n",
       "      <td>-8.3</td>\n",
       "      <td>NaN</td>\n",
       "      <td>-11.7</td>\n",
       "      <td>-1.0</td>\n",
       "      <td>1023.3</td>\n",
       "      <td>240.0</td>\n",
       "      <td>4.1</td>\n",
       "    </tr>\n",
       "    <tr>\n",
       "      <th>2016-01-01 02:00:00</th>\n",
       "      <td>0</td>\n",
       "      <td>50.114</td>\n",
       "      <td>-7.8</td>\n",
       "      <td>NaN</td>\n",
       "      <td>-11.1</td>\n",
       "      <td>-1.0</td>\n",
       "      <td>1022.9</td>\n",
       "      <td>240.0</td>\n",
       "      <td>3.1</td>\n",
       "    </tr>\n",
       "    <tr>\n",
       "      <th>2016-01-01 03:00:00</th>\n",
       "      <td>0</td>\n",
       "      <td>49.894</td>\n",
       "      <td>-7.8</td>\n",
       "      <td>NaN</td>\n",
       "      <td>-11.1</td>\n",
       "      <td>-1.0</td>\n",
       "      <td>1022.7</td>\n",
       "      <td>250.0</td>\n",
       "      <td>4.1</td>\n",
       "    </tr>\n",
       "    <tr>\n",
       "      <th>2016-01-01 04:00:00</th>\n",
       "      <td>0</td>\n",
       "      <td>49.601</td>\n",
       "      <td>-7.2</td>\n",
       "      <td>NaN</td>\n",
       "      <td>-10.6</td>\n",
       "      <td>0.0</td>\n",
       "      <td>1022.8</td>\n",
       "      <td>270.0</td>\n",
       "      <td>4.1</td>\n",
       "    </tr>\n",
       "  </tbody>\n",
       "</table>\n",
       "</div>"
      ],
      "text/plain": [
       "                     meter  meter_reading  air_temperature  cloud_coverage  \\\n",
       "timestamp                                                                    \n",
       "2016-01-01 00:00:00      0         50.102             -8.3             8.0   \n",
       "2016-01-01 01:00:00      0         50.102             -8.3             NaN   \n",
       "2016-01-01 02:00:00      0         50.114             -7.8             NaN   \n",
       "2016-01-01 03:00:00      0         49.894             -7.8             NaN   \n",
       "2016-01-01 04:00:00      0         49.601             -7.2             NaN   \n",
       "\n",
       "                     dew_temperature  precip_depth_1_hr  sea_level_pressure  \\\n",
       "timestamp                                                                     \n",
       "2016-01-01 00:00:00            -12.2                NaN              1023.3   \n",
       "2016-01-01 01:00:00            -11.7               -1.0              1023.3   \n",
       "2016-01-01 02:00:00            -11.1               -1.0              1022.9   \n",
       "2016-01-01 03:00:00            -11.1               -1.0              1022.7   \n",
       "2016-01-01 04:00:00            -10.6                0.0              1022.8   \n",
       "\n",
       "                     wind_direction  wind_speed  \n",
       "timestamp                                        \n",
       "2016-01-01 00:00:00           250.0         4.1  \n",
       "2016-01-01 01:00:00           240.0         4.1  \n",
       "2016-01-01 02:00:00           240.0         3.1  \n",
       "2016-01-01 03:00:00           250.0         4.1  \n",
       "2016-01-01 04:00:00           270.0         4.1  "
      ]
     },
     "execution_count": 40,
     "metadata": {},
     "output_type": "execute_result"
    }
   ],
   "source": [
    "df.head()"
   ]
  },
  {
   "cell_type": "code",
   "execution_count": 42,
   "metadata": {},
   "outputs": [
    {
     "name": "stdout",
     "output_type": "stream",
     "text": [
      "<class 'pandas.core.frame.DataFrame'>\n",
      "DatetimeIndex: 8784 entries, 2016-01-01 00:00:00 to 2016-12-31 23:00:00\n",
      "Data columns (total 9 columns):\n",
      "meter                 8784 non-null int64\n",
      "meter_reading         8784 non-null float64\n",
      "air_temperature       8782 non-null float64\n",
      "cloud_coverage        4485 non-null float64\n",
      "dew_temperature       8782 non-null float64\n",
      "precip_depth_1_hr     8771 non-null float64\n",
      "sea_level_pressure    8663 non-null float64\n",
      "wind_direction        8566 non-null float64\n",
      "wind_speed            8782 non-null float64\n",
      "dtypes: float64(8), int64(1)\n",
      "memory usage: 1006.2 KB\n"
     ]
    }
   ],
   "source": [
    "df.info()"
   ]
  },
  {
   "cell_type": "code",
   "execution_count": 43,
   "metadata": {},
   "outputs": [
    {
     "data": {
      "text/plain": [
       "array([0])"
      ]
     },
     "execution_count": 43,
     "metadata": {},
     "output_type": "execute_result"
    }
   ],
   "source": [
    "# Which meters ?\n",
    "df['meter'].unique()"
   ]
  },
  {
   "cell_type": "code",
   "execution_count": null,
   "metadata": {},
   "outputs": [],
   "source": []
  }
 ],
 "metadata": {
  "kernelspec": {
   "display_name": "Python 3",
   "language": "python",
   "name": "python3"
  },
  "language_info": {
   "codemirror_mode": {
    "name": "ipython",
    "version": 3
   },
   "file_extension": ".py",
   "mimetype": "text/x-python",
   "name": "python",
   "nbconvert_exporter": "python",
   "pygments_lexer": "ipython3",
   "version": "3.7.3"
  }
 },
 "nbformat": 4,
 "nbformat_minor": 2
}
