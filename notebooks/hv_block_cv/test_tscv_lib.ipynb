{
 "cells": [
  {
   "cell_type": "code",
   "execution_count": 9,
   "metadata": {},
   "outputs": [],
   "source": [
    "import numpy as np\n",
    "import math\n",
    "import pandas as pd\n",
    "\n",
    "from sklearn.model_selection import KFold\n",
    "from tscv import GapKFold\n",
    "\n",
    "import matplotlib.pyplot as plt\n",
    "import matplotlib.ticker as ticker\n",
    "import matplotlib.pyplot as plt\n",
    "import matplotlib.dates as mdates\n",
    "import seaborn as sns\n",
    "\n",
    "from pandas.plotting import register_matplotlib_converters\n",
    "register_matplotlib_converters()\n",
    "\n",
    "%matplotlib inline"
   ]
  },
  {
   "cell_type": "markdown",
   "metadata": {},
   "source": [
    "Test the TSCV GapKFold : a splitting technique for train/test splits from TSCV library.<br>\n",
    "TSCV is an open-source library derived from scikit-learn.<br>\n",
    "http://www.zhengwenjie.net/tscv/"
   ]
  },
  {
   "cell_type": "code",
   "execution_count": 10,
   "metadata": {},
   "outputs": [
    {
     "name": "stdout",
     "output_type": "stream",
     "text": [
      "<class 'pandas.core.frame.DataFrame'>\n",
      "DatetimeIndex: 7751 entries, 2016-01-04 02:00:00 to 2016-12-31 11:00:00\n",
      "Data columns (total 7 columns):\n",
      "day_of_week                     7751 non-null int64\n",
      "dew_temperature_ma_24H          7751 non-null float64\n",
      "air_temperature                 7751 non-null float64\n",
      "wind_speed_ma_24H               7751 non-null float64\n",
      "precip_depth_1_hr_ma_24H        7751 non-null float64\n",
      "sea_level_pressure_shift_10H    7751 non-null float64\n",
      "meter_reading_trend             7751 non-null float64\n",
      "dtypes: float64(6), int64(1)\n",
      "memory usage: 484.4 KB\n"
     ]
    }
   ],
   "source": [
    "df_features = pd.read_csv('../../data/intermediate/building_1176/features_clean_1176.csv',\n",
    "                        parse_dates=['timestamp'], index_col=['timestamp'])\n",
    "df_features.info()"
   ]
  },
  {
   "cell_type": "code",
   "execution_count": 11,
   "metadata": {},
   "outputs": [
    {
     "data": {
      "text/html": [
       "<div>\n",
       "<style scoped>\n",
       "    .dataframe tbody tr th:only-of-type {\n",
       "        vertical-align: middle;\n",
       "    }\n",
       "\n",
       "    .dataframe tbody tr th {\n",
       "        vertical-align: top;\n",
       "    }\n",
       "\n",
       "    .dataframe thead th {\n",
       "        text-align: right;\n",
       "    }\n",
       "</style>\n",
       "<table border=\"1\" class=\"dataframe\">\n",
       "  <thead>\n",
       "    <tr style=\"text-align: right;\">\n",
       "      <th></th>\n",
       "      <th>day_of_week</th>\n",
       "      <th>dew_temperature_ma_24H</th>\n",
       "      <th>air_temperature</th>\n",
       "      <th>wind_speed_ma_24H</th>\n",
       "      <th>precip_depth_1_hr_ma_24H</th>\n",
       "      <th>sea_level_pressure_shift_10H</th>\n",
       "      <th>meter_reading_trend</th>\n",
       "    </tr>\n",
       "    <tr>\n",
       "      <th>timestamp</th>\n",
       "      <th></th>\n",
       "      <th></th>\n",
       "      <th></th>\n",
       "      <th></th>\n",
       "      <th></th>\n",
       "      <th></th>\n",
       "      <th></th>\n",
       "    </tr>\n",
       "  </thead>\n",
       "  <tbody>\n",
       "    <tr>\n",
       "      <th>2016-01-04 02:00:00</th>\n",
       "      <td>0</td>\n",
       "      <td>-7.483333</td>\n",
       "      <td>-5.0</td>\n",
       "      <td>5.166667</td>\n",
       "      <td>0.0</td>\n",
       "      <td>1027.2</td>\n",
       "      <td>89.470750</td>\n",
       "    </tr>\n",
       "    <tr>\n",
       "      <th>2016-01-04 03:00:00</th>\n",
       "      <td>0</td>\n",
       "      <td>-7.462500</td>\n",
       "      <td>-5.0</td>\n",
       "      <td>5.058333</td>\n",
       "      <td>0.0</td>\n",
       "      <td>1027.8</td>\n",
       "      <td>92.008917</td>\n",
       "    </tr>\n",
       "    <tr>\n",
       "      <th>2016-01-04 05:00:00</th>\n",
       "      <td>0</td>\n",
       "      <td>-7.512500</td>\n",
       "      <td>-6.1</td>\n",
       "      <td>4.800000</td>\n",
       "      <td>0.0</td>\n",
       "      <td>1027.1</td>\n",
       "      <td>97.074187</td>\n",
       "    </tr>\n",
       "    <tr>\n",
       "      <th>2016-01-04 06:00:00</th>\n",
       "      <td>0</td>\n",
       "      <td>-7.579167</td>\n",
       "      <td>-6.7</td>\n",
       "      <td>4.712500</td>\n",
       "      <td>0.0</td>\n",
       "      <td>1027.3</td>\n",
       "      <td>99.024417</td>\n",
       "    </tr>\n",
       "    <tr>\n",
       "      <th>2016-01-04 07:00:00</th>\n",
       "      <td>0</td>\n",
       "      <td>-7.670833</td>\n",
       "      <td>-7.2</td>\n",
       "      <td>4.541667</td>\n",
       "      <td>0.0</td>\n",
       "      <td>1027.5</td>\n",
       "      <td>100.466500</td>\n",
       "    </tr>\n",
       "  </tbody>\n",
       "</table>\n",
       "</div>"
      ],
      "text/plain": [
       "                     day_of_week  dew_temperature_ma_24H  air_temperature  \\\n",
       "timestamp                                                                   \n",
       "2016-01-04 02:00:00            0               -7.483333             -5.0   \n",
       "2016-01-04 03:00:00            0               -7.462500             -5.0   \n",
       "2016-01-04 05:00:00            0               -7.512500             -6.1   \n",
       "2016-01-04 06:00:00            0               -7.579167             -6.7   \n",
       "2016-01-04 07:00:00            0               -7.670833             -7.2   \n",
       "\n",
       "                     wind_speed_ma_24H  precip_depth_1_hr_ma_24H  \\\n",
       "timestamp                                                          \n",
       "2016-01-04 02:00:00           5.166667                       0.0   \n",
       "2016-01-04 03:00:00           5.058333                       0.0   \n",
       "2016-01-04 05:00:00           4.800000                       0.0   \n",
       "2016-01-04 06:00:00           4.712500                       0.0   \n",
       "2016-01-04 07:00:00           4.541667                       0.0   \n",
       "\n",
       "                     sea_level_pressure_shift_10H  meter_reading_trend  \n",
       "timestamp                                                               \n",
       "2016-01-04 02:00:00                        1027.2            89.470750  \n",
       "2016-01-04 03:00:00                        1027.8            92.008917  \n",
       "2016-01-04 05:00:00                        1027.1            97.074187  \n",
       "2016-01-04 06:00:00                        1027.3            99.024417  \n",
       "2016-01-04 07:00:00                        1027.5           100.466500  "
      ]
     },
     "execution_count": 11,
     "metadata": {},
     "output_type": "execute_result"
    }
   ],
   "source": [
    "df_features.head()"
   ]
  },
  {
   "cell_type": "code",
   "execution_count": 125,
   "metadata": {},
   "outputs": [],
   "source": [
    "kf = KFold(n_splits=5)\n",
    "kf_sets = []\n",
    "for train_test_indexes in kf.split(df_features):\n",
    "    kf_sets.append(train_test_indexes)"
   ]
  },
  {
   "cell_type": "code",
   "execution_count": 126,
   "metadata": {},
   "outputs": [
    {
     "data": {
      "text/plain": [
       "[(array([1551, 1552, 1553, ..., 7748, 7749, 7750]),\n",
       "  array([   0,    1,    2, ..., 1548, 1549, 1550])),\n",
       " (array([   0,    1,    2, ..., 7748, 7749, 7750]),\n",
       "  array([1551, 1552, 1553, ..., 3098, 3099, 3100])),\n",
       " (array([   0,    1,    2, ..., 7748, 7749, 7750]),\n",
       "  array([3101, 3102, 3103, ..., 4648, 4649, 4650])),\n",
       " (array([   0,    1,    2, ..., 7748, 7749, 7750]),\n",
       "  array([4651, 4652, 4653, ..., 6198, 6199, 6200])),\n",
       " (array([   0,    1,    2, ..., 6198, 6199, 6200]),\n",
       "  array([6201, 6202, 6203, ..., 7748, 7749, 7750]))]"
      ]
     },
     "execution_count": 126,
     "metadata": {},
     "output_type": "execute_result"
    }
   ],
   "source": [
    "kf_sets"
   ]
  },
  {
   "cell_type": "code",
   "execution_count": 75,
   "metadata": {},
   "outputs": [],
   "source": []
  },
  {
   "cell_type": "code",
   "execution_count": null,
   "metadata": {},
   "outputs": [],
   "source": []
  },
  {
   "cell_type": "code",
   "execution_count": 128,
   "metadata": {},
   "outputs": [
    {
     "data": {
      "text/html": [
       "<div>\n",
       "<style scoped>\n",
       "    .dataframe tbody tr th:only-of-type {\n",
       "        vertical-align: middle;\n",
       "    }\n",
       "\n",
       "    .dataframe tbody tr th {\n",
       "        vertical-align: top;\n",
       "    }\n",
       "\n",
       "    .dataframe thead th {\n",
       "        text-align: right;\n",
       "    }\n",
       "</style>\n",
       "<table border=\"1\" class=\"dataframe\">\n",
       "  <thead>\n",
       "    <tr style=\"text-align: right;\">\n",
       "      <th></th>\n",
       "      <th>val</th>\n",
       "      <th>which_set</th>\n",
       "    </tr>\n",
       "    <tr>\n",
       "      <th>timestamp</th>\n",
       "      <th></th>\n",
       "      <th></th>\n",
       "    </tr>\n",
       "  </thead>\n",
       "  <tbody>\n",
       "    <tr>\n",
       "      <th>2016-01-04 02:00:00</th>\n",
       "      <td>0</td>\n",
       "      <td>train</td>\n",
       "    </tr>\n",
       "    <tr>\n",
       "      <th>2016-01-04 03:00:00</th>\n",
       "      <td>0</td>\n",
       "      <td>train</td>\n",
       "    </tr>\n",
       "    <tr>\n",
       "      <th>2016-01-04 05:00:00</th>\n",
       "      <td>0</td>\n",
       "      <td>train</td>\n",
       "    </tr>\n",
       "    <tr>\n",
       "      <th>2016-01-04 06:00:00</th>\n",
       "      <td>0</td>\n",
       "      <td>train</td>\n",
       "    </tr>\n",
       "    <tr>\n",
       "      <th>2016-01-04 07:00:00</th>\n",
       "      <td>0</td>\n",
       "      <td>train</td>\n",
       "    </tr>\n",
       "  </tbody>\n",
       "</table>\n",
       "</div>"
      ],
      "text/plain": [
       "                     val which_set\n",
       "timestamp                         \n",
       "2016-01-04 02:00:00    0     train\n",
       "2016-01-04 03:00:00    0     train\n",
       "2016-01-04 05:00:00    0     train\n",
       "2016-01-04 06:00:00    0     train\n",
       "2016-01-04 07:00:00    0     train"
      ]
     },
     "execution_count": 128,
     "metadata": {},
     "output_type": "execute_result"
    }
   ],
   "source": [
    "df_fold_1 = pd.DataFrame(index=df_features.index)\n",
    "df_fold_1['val']=0\n",
    "df_fold_1['which_set'] = 'none'\n",
    "train_index, test_index = kf_sets[1]\n",
    "df_fold_1.loc[df_features.index[train_sets[1]], 'which_set'] = 'train'\n",
    "df_fold_1.loc[df_features.index[test_index[1]], 'which_set'] = 'train'\n",
    "df_fold_1.head()"
   ]
  },
  {
   "cell_type": "code",
   "execution_count": null,
   "metadata": {},
   "outputs": [],
   "source": []
  },
  {
   "cell_type": "code",
   "execution_count": null,
   "metadata": {},
   "outputs": [],
   "source": []
  },
  {
   "cell_type": "code",
   "execution_count": null,
   "metadata": {},
   "outputs": [],
   "source": []
  },
  {
   "cell_type": "code",
   "execution_count": 131,
   "metadata": {},
   "outputs": [],
   "source": [
    "# TODO fonction plot_fold, function plot_split = for fold in folds plot_fold(fold)\n",
    "# TODO refactor duplicate code\n",
    "# TODO add colorMap for hue"
   ]
  },
  {
   "cell_type": "code",
   "execution_count": 130,
   "metadata": {},
   "outputs": [
    {
     "data": {
      "image/png": "[encoded data removed]",
      "text/plain": [
       "<Figure size 1152x144 with 1 Axes>"
      ]
     },
     "metadata": {
      "needs_background": "light"
     },
     "output_type": "display_data"
    }
   ],
   "source": [
    "fig = plt.figure(figsize=(16, 2))\n",
    "with sns.axes_style(\"whitegrid\"):\n",
    "    ax = sns.scatterplot(\n",
    "        x='timestamp', \n",
    "        y='val',\n",
    "        hue='which_set', \n",
    "        data=df_fold_1.reset_index(inplace=False),\n",
    "        edgecolor=None,\n",
    "        marker=',',\n",
    "        s=500\n",
    "    )\n",
    "    ax.set_ylim(-0.5,1.5) # TODO max min\n",
    "    ax.set_xlim(df_fold_1.index.min(), df_fold_1.index.max())\n",
    "    ax.xaxis.set_major_locator(mdates.MonthLocator())\n",
    "    ax.set_yticks([])\n",
    "    ax.set_ylabel('')\n",
    "    ax.set_title('train-test repartition', fontweight=\"bold\")\n",
    "    plt.xticks(rotation=50, horizontalalignment='right')"
   ]
  },
  {
   "cell_type": "code",
   "execution_count": null,
   "metadata": {},
   "outputs": [],
   "source": []
  },
  {
   "cell_type": "code",
   "execution_count": null,
   "metadata": {},
   "outputs": [],
   "source": []
  },
  {
   "cell_type": "code",
   "execution_count": null,
   "metadata": {},
   "outputs": [],
   "source": []
  },
  {
   "cell_type": "code",
   "execution_count": null,
   "metadata": {},
   "outputs": [],
   "source": []
  },
  {
   "cell_type": "code",
   "execution_count": 120,
   "metadata": {},
   "outputs": [],
   "source": [
    "# gap ~ two weeks.\n",
    "gap = 24*7*2\n",
    "\n",
    "kf = GapKFold(n_splits=5, gap_before=gap, gap_after=gap)\n",
    "gap_sets = []\n",
    "for train_test_indexes in kf.split(df_features):\n",
    "    gap_sets.append(train_test_indexes)"
   ]
  },
  {
   "cell_type": "code",
   "execution_count": 121,
   "metadata": {},
   "outputs": [
    {
     "data": {
      "text/plain": [
       "[(array([1887, 1888, 1889, ..., 7748, 7749, 7750]),\n",
       "  array([   0,    1,    2, ..., 1548, 1549, 1550])),\n",
       " (array([   0,    1,    2, ..., 7748, 7749, 7750]),\n",
       "  array([1551, 1552, 1553, ..., 3098, 3099, 3100])),\n",
       " (array([   0,    1,    2, ..., 7748, 7749, 7750]),\n",
       "  array([3101, 3102, 3103, ..., 4648, 4649, 4650])),\n",
       " (array([   0,    1,    2, ..., 7748, 7749, 7750]),\n",
       "  array([4651, 4652, 4653, ..., 6198, 6199, 6200])),\n",
       " (array([   0,    1,    2, ..., 5862, 5863, 5864]),\n",
       "  array([6201, 6202, 6203, ..., 7748, 7749, 7750]))]"
      ]
     },
     "execution_count": 121,
     "metadata": {},
     "output_type": "execute_result"
    }
   ],
   "source": [
    "gap_sets"
   ]
  },
  {
   "cell_type": "code",
   "execution_count": 122,
   "metadata": {},
   "outputs": [
    {
     "data": {
      "text/html": [
       "<div>\n",
       "<style scoped>\n",
       "    .dataframe tbody tr th:only-of-type {\n",
       "        vertical-align: middle;\n",
       "    }\n",
       "\n",
       "    .dataframe tbody tr th {\n",
       "        vertical-align: top;\n",
       "    }\n",
       "\n",
       "    .dataframe thead th {\n",
       "        text-align: right;\n",
       "    }\n",
       "</style>\n",
       "<table border=\"1\" class=\"dataframe\">\n",
       "  <thead>\n",
       "    <tr style=\"text-align: right;\">\n",
       "      <th></th>\n",
       "      <th>val</th>\n",
       "      <th>which_set</th>\n",
       "    </tr>\n",
       "    <tr>\n",
       "      <th>timestamp</th>\n",
       "      <th></th>\n",
       "      <th></th>\n",
       "    </tr>\n",
       "  </thead>\n",
       "  <tbody>\n",
       "    <tr>\n",
       "      <th>2016-01-04 02:00:00</th>\n",
       "      <td>0</td>\n",
       "      <td>train</td>\n",
       "    </tr>\n",
       "    <tr>\n",
       "      <th>2016-01-04 03:00:00</th>\n",
       "      <td>0</td>\n",
       "      <td>train</td>\n",
       "    </tr>\n",
       "    <tr>\n",
       "      <th>2016-01-04 05:00:00</th>\n",
       "      <td>0</td>\n",
       "      <td>train</td>\n",
       "    </tr>\n",
       "    <tr>\n",
       "      <th>2016-01-04 06:00:00</th>\n",
       "      <td>0</td>\n",
       "      <td>train</td>\n",
       "    </tr>\n",
       "    <tr>\n",
       "      <th>2016-01-04 07:00:00</th>\n",
       "      <td>0</td>\n",
       "      <td>train</td>\n",
       "    </tr>\n",
       "  </tbody>\n",
       "</table>\n",
       "</div>"
      ],
      "text/plain": [
       "                     val which_set\n",
       "timestamp                         \n",
       "2016-01-04 02:00:00    0     train\n",
       "2016-01-04 03:00:00    0     train\n",
       "2016-01-04 05:00:00    0     train\n",
       "2016-01-04 06:00:00    0     train\n",
       "2016-01-04 07:00:00    0     train"
      ]
     },
     "execution_count": 122,
     "metadata": {},
     "output_type": "execute_result"
    }
   ],
   "source": [
    "df_fold_1 = pd.DataFrame(index=df_features.index)\n",
    "df_fold_1['val']=0\n",
    "df_fold_1['which_set'] = 'none'\n",
    "train_index, test_index = gap_sets[1]\n",
    "df_fold_1.loc[df_features.index[train_index], 'which_set'] = 'train'\n",
    "df_fold_1.loc[df_features.index[test_index], 'which_set'] = 'test'\n",
    "df_fold_1.head()"
   ]
  },
  {
   "cell_type": "code",
   "execution_count": 123,
   "metadata": {},
   "outputs": [
    {
     "data": {
      "image/png": "[encoded data removed]",
      "text/plain": [
       "<Figure size 1152x144 with 1 Axes>"
      ]
     },
     "metadata": {
      "needs_background": "light"
     },
     "output_type": "display_data"
    }
   ],
   "source": [
    "fig = plt.figure(figsize=(16, 2))\n",
    "with sns.axes_style(\"whitegrid\"):\n",
    "    ax = sns.scatterplot(\n",
    "        x='timestamp', \n",
    "        y='val',\n",
    "        hue='which_set', \n",
    "        data=df_fold_1.reset_index(inplace=False),\n",
    "        edgecolor=None,\n",
    "        marker=',',\n",
    "        s=500\n",
    "    )\n",
    "    ax.set_ylim(-0.5,1.5) # TODO max min\n",
    "    ax.set_xlim(df_fold_1.index.min(), df_fold_1.index.max())\n",
    "    ax.xaxis.set_major_locator(mdates.MonthLocator())\n",
    "    ax.set_yticks([])\n",
    "    ax.set_ylabel('')\n",
    "    ax.set_title('train-test repartition', fontweight=\"bold\")\n",
    "    plt.xticks(rotation=50, horizontalalignment='right')"
   ]
  },
  {
   "cell_type": "code",
   "execution_count": null,
   "metadata": {},
   "outputs": [],
   "source": []
  },
  {
   "cell_type": "code",
   "execution_count": null,
   "metadata": {},
   "outputs": [],
   "source": []
  },
  {
   "cell_type": "code",
   "execution_count": null,
   "metadata": {},
   "outputs": [],
   "source": []
  },
  {
   "cell_type": "code",
   "execution_count": null,
   "metadata": {},
   "outputs": [],
   "source": []
  },
  {
   "cell_type": "code",
   "execution_count": null,
   "metadata": {},
   "outputs": [],
   "source": []
  },
  {
   "cell_type": "code",
   "execution_count": null,
   "metadata": {},
   "outputs": [],
   "source": []
  },
  {
   "cell_type": "code",
   "execution_count": null,
   "metadata": {},
   "outputs": [],
   "source": []
  },
  {
   "cell_type": "code",
   "execution_count": null,
   "metadata": {},
   "outputs": [],
   "source": []
  },
  {
   "cell_type": "code",
   "execution_count": null,
   "metadata": {},
   "outputs": [],
   "source": []
  },
  {
   "cell_type": "code",
   "execution_count": null,
   "metadata": {},
   "outputs": [],
   "source": []
  }
 ],
 "metadata": {
  "kernelspec": {
   "display_name": "Python 3",
   "language": "python",
   "name": "python3"
  },
  "language_info": {
   "codemirror_mode": {
    "name": "ipython",
    "version": 3
   },
   "file_extension": ".py",
   "mimetype": "text/x-python",
   "name": "python",
   "nbconvert_exporter": "python",
   "pygments_lexer": "ipython3",
   "version": "3.7.3"
  }
 },
 "nbformat": 4,
 "nbformat_minor": 2
}
