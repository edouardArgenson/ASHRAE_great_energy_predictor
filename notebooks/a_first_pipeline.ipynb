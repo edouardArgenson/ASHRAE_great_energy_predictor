{
 "cells": [
  {
   "cell_type": "code",
   "execution_count": 1,
   "metadata": {},
   "outputs": [],
   "source": [
    "import numpy as np\n",
    "import math\n",
    "import pandas as pd\n",
    "from statsmodels.tsa.seasonal import seasonal_decompose\n",
    "\n",
    "from time import localtime, strftime\n",
    "\n",
    "%matplotlib inline"
   ]
  },
  {
   "cell_type": "markdown",
   "metadata": {},
   "source": [
    "some links :<br>\n",
    "- https://cloud.google.com/ml-engine/docs/scikit/custom-pipeline?hl=fr<br>\n",
    "- https://towardsdatascience.com/custom-transformers-and-ml-data-pipelines-with-python-20ea2a7adb65<br>\n",
    "- https://www.kdnuggets.com/2019/10/extend-scikit-learn-bring-sanity-machine-learning-workflow.html"
   ]
  },
  {
   "cell_type": "code",
   "execution_count": 3,
   "metadata": {},
   "outputs": [],
   "source": [
    "this_building = 493\n",
    "\n",
    "# {0: electricity, 1: chilledwater, 2: steam, 3: hotwater}\n",
    "this_meter = 0\n",
    "\n",
    "data_folder = '../data/raw/csvs/'\n",
    "\n"
   ]
  },
  {
   "cell_type": "code",
   "execution_count": 14,
   "metadata": {},
   "outputs": [],
   "source": [
    "def load_data(building_id, meter_id, data_folder_path):\n",
    "    \n",
    "    # Loads building_metadata to get site-building mapping\n",
    "    bdata = pd.read_csv(data_folder_path + 'building_metadata.csv', \n",
    "                        index_col='building_id', \n",
    "                        usecols=['building_id', 'site_id'])\n",
    "\n",
    "    this_site = bdata.loc[this_building, 'site_id']\n",
    "    print('building is on site {}'.format(this_site))\n",
    "    \n",
    "    \n",
    "    # Loads meter_reading data\n",
    "    raw_df_meters = pd.read_csv(data_folder_path + 'train.csv', parse_dates=['timestamp'])\n",
    "\n",
    "    to_keep = (raw_df_meters['building_id']==this_building) & (raw_df_meters['meter']==this_meter)\n",
    "    b_df_meters = raw_df_meters[to_keep].copy()\n",
    "\n",
    "    b_df_meters.drop('building_id', axis=1, inplace=True)\n",
    "    b_df_meters.drop('meter', axis=1, inplace=True)\n",
    "\n",
    "    b_df_meters.set_index('timestamp', inplace=True)\n",
    "    b_df_meters.sort_index(inplace=True)\n",
    "    \n",
    "    # Loads weather data\n",
    "    \n",
    "    weather_features_to_load = ['air_temperature', 'dew_temperature'] # TODO as funct arg ?\n",
    "    \n",
    "    raw_df_weather = pd.read_csv(\n",
    "        data_folder_path + 'weather_train.csv', \n",
    "        parse_dates=['timestamp'],\n",
    "        index_col=['site_id','timestamp'],\n",
    "        usecols=['site_id','timestamp'] + weather_features_to_load\n",
    "    )\n",
    "\n",
    "    b_df_weather = raw_df_weather.loc[(this_site,)]\n",
    "\n",
    "    \n",
    "    # Joins meter_reading and weather dfs.\n",
    "    #df_features = b_df_meters.join(b_df_weather, on='timestamp', how='left')\n",
    "    \n",
    "    return (b_df_meters, b_df_weather)\n",
    "    "
   ]
  },
  {
   "cell_type": "code",
   "execution_count": 15,
   "metadata": {},
   "outputs": [
    {
     "name": "stdout",
     "output_type": "stream",
     "text": [
      "building is on site 3\n"
     ]
    }
   ],
   "source": [
    "a, b = load_data(this_building, this_meter, data_folder)"
   ]
  },
  {
   "cell_type": "code",
   "execution_count": 16,
   "metadata": {},
   "outputs": [
    {
     "data": {
      "text/html": [
       "<div>\n",
       "<style scoped>\n",
       "    .dataframe tbody tr th:only-of-type {\n",
       "        vertical-align: middle;\n",
       "    }\n",
       "\n",
       "    .dataframe tbody tr th {\n",
       "        vertical-align: top;\n",
       "    }\n",
       "\n",
       "    .dataframe thead th {\n",
       "        text-align: right;\n",
       "    }\n",
       "</style>\n",
       "<table border=\"1\" class=\"dataframe\">\n",
       "  <thead>\n",
       "    <tr style=\"text-align: right;\">\n",
       "      <th></th>\n",
       "      <th>meter_reading</th>\n",
       "    </tr>\n",
       "    <tr>\n",
       "      <th>timestamp</th>\n",
       "      <th></th>\n",
       "    </tr>\n",
       "  </thead>\n",
       "  <tbody>\n",
       "    <tr>\n",
       "      <th>2016-01-01 00:00:00</th>\n",
       "      <td>284.52</td>\n",
       "    </tr>\n",
       "    <tr>\n",
       "      <th>2016-01-01 01:00:00</th>\n",
       "      <td>290.52</td>\n",
       "    </tr>\n",
       "    <tr>\n",
       "      <th>2016-01-01 02:00:00</th>\n",
       "      <td>292.80</td>\n",
       "    </tr>\n",
       "    <tr>\n",
       "      <th>2016-01-01 03:00:00</th>\n",
       "      <td>289.89</td>\n",
       "    </tr>\n",
       "    <tr>\n",
       "      <th>2016-01-01 04:00:00</th>\n",
       "      <td>290.01</td>\n",
       "    </tr>\n",
       "  </tbody>\n",
       "</table>\n",
       "</div>"
      ],
      "text/plain": [
       "                     meter_reading\n",
       "timestamp                         \n",
       "2016-01-01 00:00:00         284.52\n",
       "2016-01-01 01:00:00         290.52\n",
       "2016-01-01 02:00:00         292.80\n",
       "2016-01-01 03:00:00         289.89\n",
       "2016-01-01 04:00:00         290.01"
      ]
     },
     "execution_count": 16,
     "metadata": {},
     "output_type": "execute_result"
    }
   ],
   "source": [
    "a.head()"
   ]
  },
  {
   "cell_type": "code",
   "execution_count": 17,
   "metadata": {},
   "outputs": [
    {
     "data": {
      "text/html": [
       "<div>\n",
       "<style scoped>\n",
       "    .dataframe tbody tr th:only-of-type {\n",
       "        vertical-align: middle;\n",
       "    }\n",
       "\n",
       "    .dataframe tbody tr th {\n",
       "        vertical-align: top;\n",
       "    }\n",
       "\n",
       "    .dataframe thead th {\n",
       "        text-align: right;\n",
       "    }\n",
       "</style>\n",
       "<table border=\"1\" class=\"dataframe\">\n",
       "  <thead>\n",
       "    <tr style=\"text-align: right;\">\n",
       "      <th></th>\n",
       "      <th>air_temperature</th>\n",
       "      <th>dew_temperature</th>\n",
       "    </tr>\n",
       "    <tr>\n",
       "      <th>timestamp</th>\n",
       "      <th></th>\n",
       "      <th></th>\n",
       "    </tr>\n",
       "  </thead>\n",
       "  <tbody>\n",
       "    <tr>\n",
       "      <th>2016-01-01 00:00:00</th>\n",
       "      <td>10.0</td>\n",
       "      <td>2.2</td>\n",
       "    </tr>\n",
       "    <tr>\n",
       "      <th>2016-01-01 01:00:00</th>\n",
       "      <td>9.4</td>\n",
       "      <td>2.8</td>\n",
       "    </tr>\n",
       "    <tr>\n",
       "      <th>2016-01-01 02:00:00</th>\n",
       "      <td>8.9</td>\n",
       "      <td>2.2</td>\n",
       "    </tr>\n",
       "    <tr>\n",
       "      <th>2016-01-01 03:00:00</th>\n",
       "      <td>7.8</td>\n",
       "      <td>1.1</td>\n",
       "    </tr>\n",
       "    <tr>\n",
       "      <th>2016-01-01 04:00:00</th>\n",
       "      <td>7.8</td>\n",
       "      <td>0.6</td>\n",
       "    </tr>\n",
       "  </tbody>\n",
       "</table>\n",
       "</div>"
      ],
      "text/plain": [
       "                     air_temperature  dew_temperature\n",
       "timestamp                                            \n",
       "2016-01-01 00:00:00             10.0              2.2\n",
       "2016-01-01 01:00:00              9.4              2.8\n",
       "2016-01-01 02:00:00              8.9              2.2\n",
       "2016-01-01 03:00:00              7.8              1.1\n",
       "2016-01-01 04:00:00              7.8              0.6"
      ]
     },
     "execution_count": 17,
     "metadata": {},
     "output_type": "execute_result"
    }
   ],
   "source": [
    "b.head()"
   ]
  },
  {
   "cell_type": "code",
   "execution_count": null,
   "metadata": {},
   "outputs": [],
   "source": []
  },
  {
   "cell_type": "code",
   "execution_count": null,
   "metadata": {},
   "outputs": [],
   "source": []
  },
  {
   "cell_type": "code",
   "execution_count": null,
   "metadata": {},
   "outputs": [],
   "source": []
  },
  {
   "cell_type": "code",
   "execution_count": null,
   "metadata": {},
   "outputs": [],
   "source": []
  },
  {
   "cell_type": "code",
   "execution_count": null,
   "metadata": {},
   "outputs": [],
   "source": []
  },
  {
   "cell_type": "code",
   "execution_count": null,
   "metadata": {},
   "outputs": [],
   "source": []
  },
  {
   "cell_type": "code",
   "execution_count": null,
   "metadata": {},
   "outputs": [],
   "source": []
  }
 ],
 "metadata": {
  "kernelspec": {
   "display_name": "Python 3",
   "language": "python",
   "name": "python3"
  },
  "language_info": {
   "codemirror_mode": {
    "name": "ipython",
    "version": 3
   },
   "file_extension": ".py",
   "mimetype": "text/x-python",
   "name": "python",
   "nbconvert_exporter": "python",
   "pygments_lexer": "ipython3",
   "version": "3.7.3"
  }
 },
 "nbformat": 4,
 "nbformat_minor": 2
}
