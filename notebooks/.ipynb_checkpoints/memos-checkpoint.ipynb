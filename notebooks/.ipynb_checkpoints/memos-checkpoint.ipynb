{
 "cells": [
  {
   "cell_type": "markdown",
   "metadata": {},
   "source": [
    "Some TODOs\n",
    "\n",
    "- Faire quelques études de bâtiments au hasard : piocher un batiment, regarder ses caractéristiques (type de batiment, nb étages, ...), celles de son site (chaud/froid, sec/humide, précipitations, vent), les courbes de conso, essayer un petit scatter plot vs la température\n",
    "\n",
    "- Utiliser la tendance calculée avec statsmodels plutôt que la moving average : http://www.xavierdupre.fr/app/ensae_teaching_cs/helpsphinx/notebooks/td2a_timeseries_correction.html trend + seasonal decompose)\n",
    "\n",
    "- https://machinelearningmastery.com/decompose-time-series-data-trend-seasonality/\n",
    "\n",
    "- L’auto corrélation permet d’avoir une idée de la saisonnalité\n",
    "\n",
    "- Penser au clustering de timeseries, pour chaque site\n",
    "\n",
    "- Polar plot pour visualisation du wind force et direction"
   ]
  },
  {
   "cell_type": "code",
   "execution_count": 2,
   "metadata": {},
   "outputs": [],
   "source": [
    "# -----------------"
   ]
  },
  {
   "cell_type": "markdown",
   "metadata": {},
   "source": [
    "A few nice links\n",
    "\n",
    "- Autocorrelation : https://www.epfl.ch/labs/aprl/wp-content/uploads/2018/08/06_signal.html\n",
    "- Time Series et Machine Learning : http://www.xavierdupre.fr/app/ensae_teaching_cs/helpsphinx/notebooks/ml_timeseries_base.html#auto-correlation\n",
    "- seaborn pair plot : https://seaborn.pydata.org/generated/seaborn.pairplot.html\n",
    "- heatmaps NaNs : https://github.com/mwaskom/seaborn/issues/375\n",
    "- heatmap NaNs : https://stackoverflow.com/questions/52399990/change-color-of-missing-values-in-seaborn-heatmap/52400803\n",
    "- feat select with nice correlation heatmap : https://towardsdatascience.com/feature-selection-techniques-in-machine-learning-with-python-f24e7da3f36e"
   ]
  },
  {
   "cell_type": "code",
   "execution_count": null,
   "metadata": {},
   "outputs": [],
   "source": []
  }
 ],
 "metadata": {
  "kernelspec": {
   "display_name": "Python 3",
   "language": "python",
   "name": "python3"
  },
  "language_info": {
   "codemirror_mode": {
    "name": "ipython",
    "version": 3
   },
   "file_extension": ".py",
   "mimetype": "text/x-python",
   "name": "python",
   "nbconvert_exporter": "python",
   "pygments_lexer": "ipython3",
   "version": "3.7.3"
  }
 },
 "nbformat": 4,
 "nbformat_minor": 2
}
